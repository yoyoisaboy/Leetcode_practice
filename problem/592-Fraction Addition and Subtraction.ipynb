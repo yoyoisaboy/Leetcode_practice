{
 "cells": [
  {
   "cell_type": "markdown",
   "metadata": {},
   "source": [
    "# 592. Fraction Addition and Subtraction\n",
    "https://leetcode.com/problems/fraction-addition-and-subtraction/description/?envType=daily-question&envId=2024-08-23"
   ]
  },
  {
   "cell_type": "code",
   "execution_count": 52,
   "metadata": {},
   "outputs": [
    {
     "data": {
      "text/plain": [
       "'-191/20'"
      ]
     },
     "execution_count": 52,
     "metadata": {},
     "output_type": "execute_result"
    }
   ],
   "source": [
    "def fractionAddition(expression: str) -> str:\n",
    "    up_number = []\n",
    "    down_number = []\n",
    "    split_str = expression.split('/')\n",
    "    for sub in split_str[:-1]:\n",
    "        if len(sub)>2 and sub != \"-10\":\n",
    "            if '-' in sub:\n",
    "                sub_left,sub_right = sub.split('-')\n",
    "                sub_right = \"-\"+sub_right\n",
    "            else:\n",
    "                sub_left,sub_right = sub.split('+')\n",
    "\n",
    "            up_number.append(int(sub_right))\n",
    "            down_number.append(int(sub_left))\n",
    "        else:\n",
    "            up_number.append(int(sub))\n",
    "    down_number.append(int(split_str[-1]))\n",
    "    #print(up_number)\n",
    "    #print(down_number)\n",
    "\n",
    "    def LCM(nums):\n",
    "        nums.sort(reverse=True) \n",
    "        result = nums[0]              \n",
    "        while True:                   \n",
    "            a = 0                       \n",
    "            for i in nums:              \n",
    "                a = result%i             \n",
    "                if a != 0:                \n",
    "                    break\n",
    "            if a == 0:                  \n",
    "                break\n",
    "            else:\n",
    "                result = result + nums[0]\n",
    "        return result\n",
    "    def GCD(a,b):\n",
    "        if a%b == 0:\n",
    "            return b\n",
    "        else:\n",
    "            return GCD(b,a%b)\n",
    "\n",
    "    lcm = LCM(list(set(down_number)))\n",
    "    up_result = 0\n",
    "    for i in range(len(up_number)):\n",
    "        need_plus = lcm//down_number[i]\n",
    "        up_result += (up_number[i]*need_plus)\n",
    "    if up_result==0:\n",
    "        lcm = 1\n",
    "    else:\n",
    "        need_to_divided = GCD(up_result,lcm)\n",
    "        up_result = up_result//need_to_divided\n",
    "        lcm = lcm//need_to_divided\n",
    "\n",
    "    return str(up_result)+'/'+str(lcm)\n",
    "\n",
    "expression = \"-10/3-5/3-1/4-5/1+7/10\"\n",
    "fractionAddition(expression)"
   ]
  },
  {
   "cell_type": "code",
   "execution_count": 54,
   "metadata": {},
   "outputs": [
    {
     "name": "stdout",
     "output_type": "stream",
     "text": [
      "['-10/3', '-5/3', '-1/4', '-5/1', '+7/10']\n",
      "-191/20\n"
     ]
    }
   ],
   "source": [
    "# GCP\n",
    "from math import gcd\n",
    "from functools import reduce\n",
    "\n",
    "def fractionAddition(expression: str) -> str:\n",
    "    def lcm(x, y):\n",
    "        return x * y // gcd(x, y)\n",
    "    \n",
    "    # Step 1: Parse the input expression\n",
    "    fractions = []\n",
    "    i = 0\n",
    "    while i < len(expression):\n",
    "        j = i + 1\n",
    "        while j < len(expression) and expression[j] not in '+-':\n",
    "            j += 1\n",
    "        fractions.append(expression[i:j])\n",
    "        i = j\n",
    "    print(fractions)\n",
    "    # Step 2: Compute the result by adding/subtracting the fractions\n",
    "    numerator, denominator = 0, 1\n",
    "    for fraction in fractions:\n",
    "        num, den = map(int, fraction.split('/'))\n",
    "        denominator = lcm(denominator, den)\n",
    "    \n",
    "    for fraction in fractions:\n",
    "        num, den = map(int, fraction.split('/'))\n",
    "        numerator += num * (denominator // den)\n",
    "    \n",
    "    # Step 3: Simplify the result\n",
    "    common_divisor = gcd(abs(numerator), denominator)\n",
    "    numerator //= common_divisor\n",
    "    denominator //= common_divisor\n",
    "    \n",
    "    # Step 4: Format the result\n",
    "    return f\"{numerator}/{denominator}\"\n",
    "\n",
    "# Example usage:\n",
    "print(fractionAddition(\"-10/3-5/3-1/4-5/1+7/10\"))  # Output: \"0/1\""
   ]
  }
 ],
 "metadata": {
  "kernelspec": {
   "display_name": "Python 3",
   "language": "python",
   "name": "python3"
  },
  "language_info": {
   "codemirror_mode": {
    "name": "ipython",
    "version": 3
   },
   "file_extension": ".py",
   "mimetype": "text/x-python",
   "name": "python",
   "nbconvert_exporter": "python",
   "pygments_lexer": "ipython3",
   "version": "3.7.9"
  }
 },
 "nbformat": 4,
 "nbformat_minor": 2
}
