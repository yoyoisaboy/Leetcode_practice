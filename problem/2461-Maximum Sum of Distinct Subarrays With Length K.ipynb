{
 "cells": [
  {
   "cell_type": "markdown",
   "metadata": {},
   "source": [
    "# 2461. Maximum Sum of Distinct Subarrays With Length K\n",
    "https://leetcode.com/problems/maximum-sum-of-distinct-subarrays-with-length-k/description/?envType=daily-question&envId=2024-11-19"
   ]
  },
  {
   "cell_type": "code",
   "execution_count": null,
   "metadata": {},
   "outputs": [],
   "source": [
    "from typing import List\n",
    "\n",
    "nums = [1,5,4,2,9,9,9]\n",
    "k = 3\n",
    "\n",
    "def maximumSubarraySum(nums: List[int], k: int) -> int:\n",
    "    \n",
    "    n = len(nums)\n",
    "    max_sum = 0\n",
    "    current_sum = 0\n",
    "    unique_elements = set()\n",
    "    left = 0\n",
    "\n",
    "    for right in range(n):\n",
    "        #一直刪到沒有為止重複為止\n",
    "        while nums[right] in unique_elements:\n",
    "            unique_elements.remove(nums[left])\n",
    "            current_sum -= nums[left]\n",
    "            left += 1\n",
    "\n",
    "        unique_elements.add(nums[right])\n",
    "        current_sum += nums[right]\n",
    "        #長度一樣 比較最大值\n",
    "        if right - left + 1 == k:\n",
    "            max_sum = max(max_sum,current_sum)\n",
    "            unique_elements.remove(nums[left])\n",
    "            current_sum -= nums[left]\n",
    "            left += 1\n",
    "            \n",
    "    return max_sum\n",
    "\n",
    "maximumSubarraySum(nums,k)"
   ]
  }
 ],
 "metadata": {
  "kernelspec": {
   "display_name": "Python 3",
   "language": "python",
   "name": "python3"
  },
  "language_info": {
   "name": "python",
   "version": "3.7.9"
  }
 },
 "nbformat": 4,
 "nbformat_minor": 2
}
