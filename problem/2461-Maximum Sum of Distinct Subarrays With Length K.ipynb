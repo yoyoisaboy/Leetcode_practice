{
 "cells": [
  {
   "cell_type": "markdown",
   "metadata": {},
   "source": [
    "# 2461. Maximum Sum of Distinct Subarrays With Length K\n",
    "https://leetcode.com/problems/maximum-sum-of-distinct-subarrays-with-length-k/description/?envType=daily-question&envId=2024-11-19"
   ]
  },
  {
   "cell_type": "code",
   "execution_count": null,
   "metadata": {},
   "outputs": [
    {
     "data": {
      "text/plain": [
       "19"
      ]
     },
     "execution_count": 21,
     "metadata": {},
     "output_type": "execute_result"
    }
   ],
   "source": [
    "nums = [5,3,2,8,9,1]\n",
    "k = 3\n",
    "\n",
    "window_arr = nums[:k]\n",
    "max_ans = 0\n",
    "if len(window_arr)==len(set(window_arr)):\n",
    "        max_ans = max(sum(window_arr),max_ans) \n",
    "\n",
    "def check_reply(arr):\n",
    "    for e in set(arr):\n",
    "        if arr.count(e)>1:\n",
    "            return 0\n",
    "    return 1\n",
    "\n",
    "for i in range(k,len(nums)):\n",
    "    window_arr = window_arr[1:]\n",
    "    window_arr.append(nums[i])\n",
    "    max_ans = max(sum(window_arr)*check_reply(window_arr),max_ans) \n",
    "\n",
    "max_ans"
   ]
  },
  {
   "cell_type": "code",
   "execution_count": null,
   "metadata": {},
   "outputs": [
    {
     "data": {
      "text/plain": [
       "2"
      ]
     },
     "execution_count": 15,
     "metadata": {},
     "output_type": "execute_result"
    }
   ],
   "source": []
  },
  {
   "cell_type": "code",
   "execution_count": null,
   "metadata": {},
   "outputs": [],
   "source": []
  }
 ],
 "metadata": {
  "kernelspec": {
   "display_name": "Python 3",
   "language": "python",
   "name": "python3"
  },
  "language_info": {
   "codemirror_mode": {
    "name": "ipython",
    "version": 3
   },
   "file_extension": ".py",
   "mimetype": "text/x-python",
   "name": "python",
   "nbconvert_exporter": "python",
   "pygments_lexer": "ipython3",
   "version": "3.7.9"
  }
 },
 "nbformat": 4,
 "nbformat_minor": 2
}
