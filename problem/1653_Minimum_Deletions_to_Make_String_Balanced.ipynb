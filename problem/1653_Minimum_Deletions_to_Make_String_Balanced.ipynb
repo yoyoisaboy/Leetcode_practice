{
  "nbformat": 4,
  "nbformat_minor": 0,
  "metadata": {
    "colab": {
      "provenance": []
    },
    "kernelspec": {
      "name": "python3",
      "display_name": "Python 3"
    },
    "language_info": {
      "name": "python"
    }
  },
  "cells": [
    {
      "cell_type": "markdown",
      "source": [
        "# 1653. Minimum Deletions to Make String Balanced\n",
        "https://leetcode.com/problems/minimum-deletions-to-make-string-balanced/description/?envType=daily-question&envId=2024-07-30"
      ],
      "metadata": {
        "id": "3M44PkDpISpH"
      }
    },
    {
      "cell_type": "code",
      "execution_count": 7,
      "metadata": {
        "colab": {
          "base_uri": "https://localhost:8080/"
        },
        "id": "5g_8Kb6Fzawx",
        "outputId": "9e24e3db-0a04-4620-e813-c51dbcf66105"
      },
      "outputs": [
        {
          "output_type": "execute_result",
          "data": {
            "text/plain": [
              "53"
            ]
          },
          "metadata": {},
          "execution_count": 7
        }
      ],
      "source": [
        "from typing import List\n",
        "\n",
        "s = \"aabbbbaabababbbbaaaaaabbababaaabaabaabbbabbbbabbabbababaabaababbbbaaaaabbabbabaaaabbbabaaaabbaaabbbaabbaaaaabaa\"\n",
        "# output: 52\n",
        "ans_min = float('Inf')\n",
        "\n",
        "# 錯誤有例外\n",
        "def minimumDeletions( s: str) -> int:\n",
        "  check_left_all_b = s.count('b')\n",
        "  if s[:check_left_all_b].count('b')==check_left_all_b:\n",
        "    return min(s.count('a'),s.count('b'))\n",
        "\n",
        "  ans_min = float('Inf')\n",
        "  for loc in range(len(s)):\n",
        "    if loc !=0 and loc != len(s)-1 and s[loc]=='b':\n",
        "      left_b_count = s[:loc].count('b')\n",
        "      right_a_count = s[loc:].count('a')\n",
        "      ans_min = min(ans_min,left_b_count+right_a_count)\n",
        "\n",
        "  return ans_min\n",
        "minimumDeletions(s)"
      ]
    },
    {
      "cell_type": "code",
      "source": [
        "#換個思路，初始化違規\n",
        "from typing import List\n",
        "\n",
        "s = \"aabbbbaabababbbbaaaaaabbababaaabaabaabbbabbbbabbabbababaabaababbbbaaaaabbabbabaaaabbbabaaaabbaaabbbaabbaaaaabaa\"\n",
        "# output: 52\n",
        "\n",
        "def minimumDeletions( s: str) -> int:\n",
        "  ans_min = float('Inf')\n",
        "  left_b_count = 0\n",
        "  right_a_count = s.count('a')\n",
        "\n",
        "  for loc in range(len(s)):\n",
        "    ans_min = min(ans_min,left_b_count+right_a_count)\n",
        "\n",
        "    if s[loc]=='b':\n",
        "      left_b_count += 1\n",
        "    else: # s[loc]=='a'\n",
        "      right_a_count -= 1\n",
        "\n",
        "  ans_min = min(ans_min, left_b_count + right_a_count)\n",
        "\n",
        "  return ans_min\n",
        "minimumDeletions(s)"
      ],
      "metadata": {
        "colab": {
          "base_uri": "https://localhost:8080/"
        },
        "id": "uVEVKiJ7DemF",
        "outputId": "5e93b03d-25d8-4cd5-a2b2-70baaff83663"
      },
      "execution_count": 10,
      "outputs": [
        {
          "output_type": "execute_result",
          "data": {
            "text/plain": [
              "52"
            ]
          },
          "metadata": {},
          "execution_count": 10
        }
      ]
    },
    {
      "cell_type": "code",
      "source": [],
      "metadata": {
        "id": "TtoHHEsMLkdL"
      },
      "execution_count": null,
      "outputs": []
    }
  ]
}