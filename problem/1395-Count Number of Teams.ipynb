{
 "cells": [
  {
   "cell_type": "markdown",
   "metadata": {},
   "source": [
    "# 1395. Count Number of Teams\n",
    "https://leetcode.com/problems/count-number-of-teams/description/?envType=daily-question&envId=2024-07-29"
   ]
  },
  {
   "cell_type": "code",
   "execution_count": 33,
   "metadata": {},
   "outputs": [],
   "source": [
    "from typing import List\n"
   ]
  },
  {
   "cell_type": "code",
   "execution_count": 52,
   "metadata": {},
   "outputs": [],
   "source": [
    "# Time Limit Exceeded : 馬的提示騙我QAQ\n",
    "def numTeams(rating: List[int]) -> int:\n",
    "\n",
    "    for i in range(len(rating)-2):\n",
    "        for j in range(i+1,len(rating)-1):\n",
    "            for k in range(j+1,len(rating)):\n",
    "                if (rating[i] < rating[j]  < rating[k]) or (rating[i] > rating[j]  > rating[k]):\n",
    "                    #print(rating[i] , rating[j] , rating[k])\n",
    "                    ans +=1\n",
    "    return ans"
   ]
  },
  {
   "cell_type": "code",
   "execution_count": 55,
   "metadata": {},
   "outputs": [
    {
     "data": {
      "text/plain": [
       "3"
      ]
     },
     "execution_count": 55,
     "metadata": {},
     "output_type": "execute_result"
    }
   ],
   "source": [
    "rating = [2,5,3,4,1]\n",
    "#Output: 3\n",
    "\n",
    "numTeams(rating)"
   ]
  },
  {
   "cell_type": "code",
   "execution_count": 50,
   "metadata": {},
   "outputs": [
    {
     "data": {
      "text/plain": [
       "0"
      ]
     },
     "execution_count": 50,
     "metadata": {},
     "output_type": "execute_result"
    }
   ],
   "source": [
    "rating = [2,1,3]\n",
    "#Output: 0\n",
    "numTeams(rating)"
   ]
  },
  {
   "cell_type": "code",
   "execution_count": 51,
   "metadata": {},
   "outputs": [
    {
     "data": {
      "text/plain": [
       "4"
      ]
     },
     "execution_count": 51,
     "metadata": {},
     "output_type": "execute_result"
    }
   ],
   "source": [
    "rating = [1,2,3,4]\n",
    "#Output: 4\n",
    "numTeams(rating)"
   ]
  },
  {
   "cell_type": "code",
   "execution_count": 59,
   "metadata": {},
   "outputs": [
    {
     "data": {
      "text/plain": [
       "3"
      ]
     },
     "execution_count": 59,
     "metadata": {},
     "output_type": "execute_result"
    }
   ],
   "source": [
    "# 排列組合固定j，判斷左右邊符合條件的數量\n",
    "def numTeams(rating: List[int]) -> int:\n",
    "    ans = 0\n",
    "    n = len(rating)\n",
    "    for j in range(1,n-1):\n",
    "        left_better = 0\n",
    "        left_less = 0\n",
    "        right_better = 0\n",
    "        right_less = 0\n",
    "        #left\n",
    "        for i in range(j):\n",
    "            if rating[i] > rating[j]:\n",
    "                left_better +=1\n",
    "            elif rating[i] < rating[j]:\n",
    "                left_less +=1\n",
    "        #right\n",
    "        for k in range(j+1,n):\n",
    "            if rating[k] > rating[j]:\n",
    "                right_better +=1\n",
    "            elif rating[k] < rating[j]:\n",
    "                right_less +=1\n",
    "        ans += left_less * right_better + left_better * right_less  # 組合數量 : [i<j<k]Ci取1*Ck取1 + [i>j>k]Ci取1*Ck取1\n",
    "    return ans\n",
    "numTeams(rating)"
   ]
  }
 ],
 "metadata": {
  "kernelspec": {
   "display_name": "Python 3",
   "language": "python",
   "name": "python3"
  },
  "language_info": {
   "codemirror_mode": {
    "name": "ipython",
    "version": 3
   },
   "file_extension": ".py",
   "mimetype": "text/x-python",
   "name": "python",
   "nbconvert_exporter": "python",
   "pygments_lexer": "ipython3",
   "version": "3.7.9"
  }
 },
 "nbformat": 4,
 "nbformat_minor": 2
}
