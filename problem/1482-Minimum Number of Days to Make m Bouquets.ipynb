{
 "cells": [
  {
   "cell_type": "markdown",
   "metadata": {},
   "source": [
    "# 1482. Minimum Number of Days to Make m Bouquets\n",
    "https://leetcode.com/problems/minimum-number-of-days-to-make-m-bouquets/?envType=daily-question&envId=2024-06-19"
   ]
  },
  {
   "cell_type": "code",
   "execution_count": 4,
   "metadata": {},
   "outputs": [],
   "source": [
    "from typing import List,Counter\n",
    "\n",
    "bloomDay = [1,10,3,10,2]\n",
    "m = 3\n",
    "k = 1\n",
    "#Output: 3"
   ]
  },
  {
   "cell_type": "code",
   "execution_count": 5,
   "metadata": {},
   "outputs": [],
   "source": [
    "# Time Limit Exceeded 的問題\n",
    "def minDays(bloomDay: List[int], m: int, k: int) -> int:\n",
    "    #初始值\n",
    "    ans  = min(bloomDay)\n",
    "    count_m = 0\n",
    "    min_bloomDay = [ans] * len(bloomDay)\n",
    "    #先減掉出現0\n",
    "    bloomDay = list(map(lambda x, y:  x-y , bloomDay , min_bloomDay))\n",
    "    # 陣列都是一樣的東西\n",
    "    if sum(bloomDay)==0:\n",
    "        return ans\n",
    "    while max(bloomDay)!=0:\n",
    "        #找除了0，第二小的值\n",
    "        min_bloomDay = list(sorted(set(bloomDay)))[1]\n",
    "        ans += min_bloomDay\n",
    "        #減去最小比                                                                     [if做左else做右，根據for]\n",
    "        bloomDay = list(map(lambda b:  b-min_bloomDay if b !=0 else b-0, bloomDay)) #->[b-min_bloomDay if b !=0 else b-0 for b in bloomDay ]\n",
    "        #print(bloomDay)\n",
    "        #找鄰近\n",
    "        near_count = 0\n",
    "        count_m=0\n",
    "\n",
    "        for b in bloomDay:\n",
    "            if b == 0:\n",
    "                near_count +=1\n",
    "            else: # 出現非0重算\n",
    "                near_count = 0\n",
    "            if near_count == k: # 包成一束\n",
    "                count_m += 1\n",
    "                near_count=0\n",
    "            if count_m == m:\n",
    "                break\n",
    "        if count_m == m:\n",
    "            break\n",
    "\n",
    "    if count_m == m:\n",
    "        return ans\n",
    "    return -1"
   ]
  },
  {
   "cell_type": "code",
   "execution_count": 6,
   "metadata": {},
   "outputs": [
    {
     "data": {
      "text/plain": [
       "3"
      ]
     },
     "execution_count": 6,
     "metadata": {},
     "output_type": "execute_result"
    }
   ],
   "source": [
    "minDays(bloomDay,m,k)"
   ]
  },
  {
   "cell_type": "code",
   "execution_count": 7,
   "metadata": {},
   "outputs": [
    {
     "data": {
      "text/plain": [
       "1000000000"
      ]
     },
     "execution_count": 7,
     "metadata": {},
     "output_type": "execute_result"
    }
   ],
   "source": [
    "bloomDay = [1000000000,1000000000,1000000000,1000000000]\n",
    "m = 1\n",
    "k = 1\n",
    "minDays(bloomDay,m,k)"
   ]
  },
  {
   "cell_type": "code",
   "execution_count": 8,
   "metadata": {},
   "outputs": [
    {
     "data": {
      "text/plain": [
       "12"
      ]
     },
     "execution_count": 8,
     "metadata": {},
     "output_type": "execute_result"
    }
   ],
   "source": [
    "bloomDay = [7,7,7,7,12,7,7]\n",
    "m = 2\n",
    "k = 3\n",
    "minDays(bloomDay,m,k)"
   ]
  },
  {
   "cell_type": "markdown",
   "metadata": {},
   "source": [
    "## GPT\n",
    "要解決在花園中製作 m 束花且每束花需要 k 朵相鄰的花所需的最少天數的問題，我們可以使用二分搜尋法結合貪婪算法。這樣可以有效地確定所需的最少天數。\n",
    "\n",
    "以下是逐步說明和對應的 Python 代碼：\n",
    "\n",
    "說明：\n",
    "1. 二分搜尋設置：\n",
    "\n",
    "    * 我們將使用二分搜尋來找到所需的最少天數。\n",
    "    * 將下界 (low) 設為 bloomDay 陣列中的最小值。\n",
    "    * 將上界 (high) 設為 bloomDay 陣列中的最大值。\n",
    "2. 可行性檢查函數：\n",
    "\n",
    "    * 對於給定的天數，檢查是否可以製作 m 束花。\n",
    "    * 遍歷 bloomDay 陣列，並計算在那天之前綻放的相鄰花朵數量。\n",
    "    * 如果相鄰花朵數達到 k，就算作一束花，並重置計數。\n",
    "    * 如果製作的花束數達到 m ，返回 true；否則返回 false。\n",
    "3. 二分搜尋實現：\n",
    "\n",
    "    * 進行二分搜尋以找到可行的最少天數，使可行性檢查返回 true。\n",
    "Python 代碼："
   ]
  },
  {
   "cell_type": "code",
   "execution_count": 9,
   "metadata": {},
   "outputs": [
    {
     "name": "stdout",
     "output_type": "stream",
     "text": [
      "3\n",
      "-1\n",
      "12\n"
     ]
    }
   ],
   "source": [
    "def minDays(bloomDay, m, k):\n",
    "    if m * k > len(bloomDay):\n",
    "        return -1\n",
    "\n",
    "    def canMakeBouquets(day):\n",
    "        bouquets = 0\n",
    "        flowers = 0\n",
    "        for bloom in bloomDay:\n",
    "            if bloom <= day:\n",
    "                flowers += 1\n",
    "                if flowers == k:\n",
    "                    bouquets += 1\n",
    "                    flowers = 0\n",
    "            else:\n",
    "                flowers = 0\n",
    "            if bouquets == m:\n",
    "                return True\n",
    "        return False\n",
    "\n",
    "    low, high = min(bloomDay), max(bloomDay)\n",
    "    while low < high:\n",
    "        mid = (low + high) // 2\n",
    "        if canMakeBouquets(mid):\n",
    "            high = mid\n",
    "        else:\n",
    "            low = mid + 1\n",
    "\n",
    "    return low if canMakeBouquets(low) else -1\n",
    "\n",
    "# 範例使用：\n",
    "bloomDay1 = [1, 10, 3, 10, 2]\n",
    "m1, k1 = 3, 1\n",
    "print(minDays(bloomDay1, m1, k1))  # 輸出：3\n",
    "\n",
    "bloomDay2 = [1, 10, 3, 10, 2]\n",
    "m2, k2 = 3, 2\n",
    "print(minDays(bloomDay2, m2, k2))  # 輸出：-1\n",
    "\n",
    "bloomDay3 = [7, 7, 7, 7, 12, 7, 7]\n",
    "m3, k3 = 2, 3\n",
    "print(minDays(bloomDay3, m3, k3))  # 輸出：12\n"
   ]
  }
 ],
 "metadata": {
  "kernelspec": {
   "display_name": "Python 3",
   "language": "python",
   "name": "python3"
  },
  "language_info": {
   "codemirror_mode": {
    "name": "ipython",
    "version": 3
   },
   "file_extension": ".py",
   "mimetype": "text/x-python",
   "name": "python",
   "nbconvert_exporter": "python",
   "pygments_lexer": "ipython3",
   "version": "3.7.9"
  }
 },
 "nbformat": 4,
 "nbformat_minor": 2
}
