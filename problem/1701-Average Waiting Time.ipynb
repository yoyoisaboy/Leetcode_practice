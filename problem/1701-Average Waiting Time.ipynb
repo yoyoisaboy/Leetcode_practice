{
 "cells": [
  {
   "cell_type": "markdown",
   "metadata": {},
   "source": [
    "# 1701. Average Waiting Time\n",
    "https://leetcode.com/problems/average-waiting-time/description/?envType=daily-question&envId=2024-07-09"
   ]
  },
  {
   "cell_type": "code",
   "execution_count": 51,
   "metadata": {},
   "outputs": [],
   "source": [
    "from typing import List\n",
    "\n",
    "customers = [[2,3],[6,3],[7,5],[11,3],[15,2],[18,1]]"
   ]
  },
  {
   "cell_type": "code",
   "execution_count": 56,
   "metadata": {},
   "outputs": [],
   "source": [
    "def averageWaitingTime(customers: List[List[int]]) -> float:\n",
    "    temp_finishes = customers[0][0]+customers[0][1]\n",
    "    ans_list = [customers[0][1]]\n",
    "    for arrival,time in customers[1:]:\n",
    "        #print(temp_finishes)\n",
    "        if temp_finishes >= arrival:\n",
    "            temp_finishes += time\n",
    "            #print('1',temp_finishes)\n",
    "        else:\n",
    "            temp_finishes = time+arrival\n",
    "            #print('2',temp_finishes)\n",
    "        ans_list.append(temp_finishes-arrival)\n",
    "    #print(ans_list)\n",
    "    return sum(ans_list)/len(ans_list)    "
   ]
  },
  {
   "cell_type": "code",
   "execution_count": 57,
   "metadata": {},
   "outputs": [
    {
     "name": "stdout",
     "output_type": "stream",
     "text": [
      "2 9\n",
      "1 14\n",
      "1 17\n",
      "1 19\n",
      "1 20\n",
      "[3, 3, 7, 6, 4, 2]\n"
     ]
    },
    {
     "data": {
      "text/plain": [
       "4.166666666666667"
      ]
     },
     "execution_count": 57,
     "metadata": {},
     "output_type": "execute_result"
    }
   ],
   "source": [
    "averageWaitingTime(customers)"
   ]
  },
  {
   "cell_type": "markdown",
   "metadata": {},
   "source": [
    "# Approach: Simulation\n",
    "## Complexity Analysis\n",
    "Let n be the size of the customers array.\n",
    "\n",
    "* Time complexity: O(n)\n",
    "\n",
    "    The time complexity remains linear, as the loop traverses the array only once.\n",
    "\n",
    "* Space complexity: O(1)\n",
    "\n",
    "    We do not use any additional space, so the space complexity is constant."
   ]
  },
  {
   "cell_type": "code",
   "execution_count": null,
   "metadata": {},
   "outputs": [],
   "source": [
    "def averageWaitingTime(customers: List[List[int]]) -> float:\n",
    "    next_idle_time = 0\n",
    "    net_wait_time = 0\n",
    "\n",
    "    for customer in customers:\n",
    "        # The next idle time for the chef is given by the time of delivery\n",
    "        # of current customer's order.\n",
    "        next_idle_time = max(customer[0], next_idle_time) + customer[1]\n",
    "\n",
    "        # The wait time for the current customer is the difference between\n",
    "        # his delivery time and arrival time.\n",
    "        net_wait_time += next_idle_time - customer[0]\n",
    "\n",
    "    # Divide by total customers to get average.\n",
    "    average_wait_time = net_wait_time / len(customers)\n",
    "    return average_wait_time"
   ]
  },
  {
   "cell_type": "markdown",
   "metadata": {},
   "source": [
    "# GPT\n",
    "首先，我們需要一個函數來計算每個客戶的等待時間。\n",
    "\n",
    "這個函數會依據目前廚師完成的時間和當前客戶的到達時間來計算等待時間，並且遞迴地處理剩下的客戶。\n",
    "\n",
    "最終，我們將所有客戶的等待時間求和並取平均值。"
   ]
  },
  {
   "cell_type": "code",
   "execution_count": 58,
   "metadata": {},
   "outputs": [
    {
     "name": "stdout",
     "output_type": "stream",
     "text": [
      "5.0\n",
      "3.25\n"
     ]
    }
   ],
   "source": [
    "def averageWaitingTime(customers):\n",
    "    def calculateWaitTime(customers, current_time, total_wait_time, index):\n",
    "        if index == len(customers):\n",
    "            return total_wait_time\n",
    "        \n",
    "        arrival, cook_time = customers[index]\n",
    "        if current_time < arrival:\n",
    "            current_time = arrival\n",
    "        finish_time = current_time + cook_time\n",
    "        wait_time = finish_time - arrival\n",
    "        return calculateWaitTime(customers, finish_time, total_wait_time + wait_time, index + 1)\n",
    "    \n",
    "    total_wait_time = calculateWaitTime(customers, 0, 0, 0)\n",
    "    return total_wait_time / len(customers)\n",
    "\n",
    "# 示例 1\n",
    "customers = [[1, 2], [2, 5], [4, 3]]\n",
    "print(averageWaitingTime(customers))  # 輸出: 5.00000\n",
    "\n",
    "# 示例 2\n",
    "customers = [[5, 2], [5, 4], [10, 3], [20, 1]]\n",
    "print(averageWaitingTime(customers))  # 輸出: 3.25000\n"
   ]
  },
  {
   "cell_type": "markdown",
   "metadata": {},
   "source": [
    "## 解釋\n",
    "1. calculateWaitTime 函數：\n",
    "\n",
    "    * 這是一個遞迴函數，接受四個參數：customers（顧客列表），current_time（當前廚師的空閒時間），total_wait_time（總等待時間），和 index（當前處理的客戶索引）。\n",
    "    * 如果 index 等於 customers 的長度，表示所有客戶都處理完了，返回總等待時間。\n",
    "    * 否則，提取當前客戶的到達時間和烹飪時間。如果當前時間小於客戶的到達時間，更新當前時間為客戶的到達時間。\n",
    "    * 計算當前客戶的完成時間和等待時間，並將這些時間加到 total_wait_time 上，遞迴地處理下一個客戶。\n",
    "2. averageWaitingTime 函數：\n",
    "\n",
    "    * 調用 calculateWaitTime 函數來計算總等待時間，然後除以客戶的數量得到平均等待時間。"
   ]
  }
 ],
 "metadata": {
  "kernelspec": {
   "display_name": "Python 3",
   "language": "python",
   "name": "python3"
  },
  "language_info": {
   "codemirror_mode": {
    "name": "ipython",
    "version": 3
   },
   "file_extension": ".py",
   "mimetype": "text/x-python",
   "name": "python",
   "nbconvert_exporter": "python",
   "pygments_lexer": "ipython3",
   "version": "3.7.9"
  }
 },
 "nbformat": 4,
 "nbformat_minor": 2
}
