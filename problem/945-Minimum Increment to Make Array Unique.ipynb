{
 "cells": [
  {
   "cell_type": "markdown",
   "metadata": {},
   "source": [
    "# 945. Minimum Increment to Make Array Unique\n",
    "https://leetcode.com/problems/minimum-increment-to-make-array-unique/description/?envType=daily-question&envId=2024-06-14"
   ]
  },
  {
   "cell_type": "code",
   "execution_count": 276,
   "metadata": {},
   "outputs": [],
   "source": [
    "from typing import List\n",
    "\n",
    "nums = [3,2,1,2,1,7]"
   ]
  },
  {
   "cell_type": "code",
   "execution_count": 278,
   "metadata": {},
   "outputs": [],
   "source": [
    "def minIncrementForUnique(nums: List[int]) -> int:\n",
    "    s_nums = sorted(nums)\n",
    "    \n",
    "    loc = 0\n",
    "    count = 0\n",
    "    while(loc<len(s_nums)-1):\n",
    "\n",
    "        if s_nums[loc]>=s_nums[loc+1]:\n",
    "            count += (s_nums[loc]-s_nums[loc+1]+1)\n",
    "            s_nums[loc+1] += (s_nums[loc]-s_nums[loc+1]+1)\n",
    "            \n",
    "        else:\n",
    "            loc +=1\n",
    "    \n",
    "    return count"
   ]
  },
  {
   "cell_type": "code",
   "execution_count": 279,
   "metadata": {},
   "outputs": [
    {
     "data": {
      "text/plain": [
       "6"
      ]
     },
     "execution_count": 279,
     "metadata": {},
     "output_type": "execute_result"
    }
   ],
   "source": [
    "minIncrementForUnique(nums)"
   ]
  },
  {
   "cell_type": "code",
   "execution_count": 280,
   "metadata": {},
   "outputs": [
    {
     "data": {
      "text/plain": [
       "6"
      ]
     },
     "execution_count": 280,
     "metadata": {},
     "output_type": "execute_result"
    }
   ],
   "source": [
    "nums = [3,2,1,2,1,7]\n",
    "minIncrementForUnique(nums)"
   ]
  },
  {
   "cell_type": "code",
   "execution_count": null,
   "metadata": {},
   "outputs": [],
   "source": [
    "#Not mycode\n",
    "def minIncrementForUnique(nums: List[int]) -> int:\n",
    "    # nums = [3,2,1,2,1,7]\n",
    "    #        [1,1,2,2,3,7]\n",
    "\n",
    "    # mySet = set({ num for num in nums }), 2+4\n",
    "    nums.sort()\n",
    "    numTracker = 0\n",
    "    minIncreament = 0\n",
    "\n",
    "    for num in nums:\n",
    "        numTracker = max(numTracker, num)\n",
    "        minIncreament += numTracker - num\n",
    "        numTracker += 1\n",
    "    return minIncreament"
   ]
  }
 ],
 "metadata": {
  "kernelspec": {
   "display_name": "Python 3",
   "language": "python",
   "name": "python3"
  },
  "language_info": {
   "codemirror_mode": {
    "name": "ipython",
    "version": 3
   },
   "file_extension": ".py",
   "mimetype": "text/x-python",
   "name": "python",
   "nbconvert_exporter": "python",
   "pygments_lexer": "ipython3",
   "version": "3.7.9"
  }
 },
 "nbformat": 4,
 "nbformat_minor": 2
}
