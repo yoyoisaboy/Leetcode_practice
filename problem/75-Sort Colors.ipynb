{
 "cells": [
  {
   "cell_type": "markdown",
   "metadata": {},
   "source": [
    "# 75. Sort Colors\n",
    "https://leetcode.com/problems/sort-colors/description/?envType=daily-question&envId=2024-06-12"
   ]
  },
  {
   "cell_type": "code",
   "execution_count": 59,
   "metadata": {},
   "outputs": [],
   "source": [
    "from typing import List\n",
    "\n",
    "nums = [2,0,2,1,1,0]\n",
    "#Output: [0,0,1,1,2,2]"
   ]
  },
  {
   "cell_type": "code",
   "execution_count": 60,
   "metadata": {},
   "outputs": [],
   "source": [
    "def sortColors(nums: List[int]) -> None:\n",
    "    \"\"\"\n",
    "    Do not return anything, modify nums in-place instead.\n",
    "    \"\"\"\n",
    "    red_list = []\n",
    "    white_list = []\n",
    "    blue_list = []\n",
    "    for num in nums:\n",
    "        if num == 0:\n",
    "            red_list.append(num)\n",
    "        elif num == 1:\n",
    "            white_list.append(num)\n",
    "        else:\n",
    "            blue_list.append(num)\n",
    "    \n",
    "    red_list.extend(white_list)\n",
    "    red_list.extend(blue_list)\n",
    "    nums[:] = red_list\n"
   ]
  },
  {
   "cell_type": "code",
   "execution_count": 61,
   "metadata": {},
   "outputs": [],
   "source": [
    "sortColors(nums)"
   ]
  },
  {
   "cell_type": "code",
   "execution_count": 62,
   "metadata": {},
   "outputs": [
    {
     "data": {
      "text/plain": [
       "[0, 0, 1, 1, 2, 2]"
      ]
     },
     "execution_count": 62,
     "metadata": {},
     "output_type": "execute_result"
    }
   ],
   "source": [
    "nums"
   ]
  },
  {
   "cell_type": "code",
   "execution_count": 1,
   "metadata": {},
   "outputs": [
    {
     "data": {
      "text/plain": [
       "[0, 2, 3]"
      ]
     },
     "execution_count": 1,
     "metadata": {},
     "output_type": "execute_result"
    }
   ],
   "source": [
    "a = [1,2,3]\n",
    "def test(input_list):\n",
    "    input_list[0]=0\n",
    "\n",
    "test(a)\n",
    "a"
   ]
  },
  {
   "cell_type": "code",
   "execution_count": 2,
   "metadata": {},
   "outputs": [
    {
     "data": {
      "text/plain": [
       "[1, 2, 3]"
      ]
     },
     "execution_count": 2,
     "metadata": {},
     "output_type": "execute_result"
    }
   ],
   "source": [
    "a = [1,2,3]\n",
    "def test(input_list):\n",
    "    a = input_list.copy()\n",
    "    a[0]=0\n",
    "\n",
    "test(a)\n",
    "a"
   ]
  },
  {
   "cell_type": "code",
   "execution_count": 7,
   "metadata": {},
   "outputs": [
    {
     "data": {
      "text/plain": [
       "[1, 2, 3]"
      ]
     },
     "execution_count": 7,
     "metadata": {},
     "output_type": "execute_result"
    }
   ],
   "source": [
    "a = [1,2,3]\n",
    "def test():\n",
    "    a = [5,6,7]\n",
    "\n",
    "test()\n",
    "a"
   ]
  },
  {
   "cell_type": "code",
   "execution_count": 8,
   "metadata": {},
   "outputs": [
    {
     "data": {
      "text/plain": [
       "[5, 6, 7]"
      ]
     },
     "execution_count": 8,
     "metadata": {},
     "output_type": "execute_result"
    }
   ],
   "source": [
    "a = [1,2,3]\n",
    "def test():\n",
    "    a[:] = [5,6,7]\n",
    "\n",
    "test()\n",
    "a"
   ]
  },
  {
   "cell_type": "code",
   "execution_count": null,
   "metadata": {},
   "outputs": [],
   "source": [
    "# not mycode\n",
    "def sortColors(nums: List[int]) -> None:\n",
    "    \"\"\"\n",
    "    Do not return anything, modify nums in-place instead.\n",
    "    \"\"\"\n",
    "    start,mid,end=0,0,len(nums)-1\n",
    "\n",
    "    while mid<=end:\n",
    "        if nums[mid]==0:\n",
    "            nums[start],nums[mid]=nums[mid],nums[start]\n",
    "            mid+=1\n",
    "            start+=1\n",
    "        elif nums[mid]==1:\n",
    "            mid+=1\n",
    "        elif nums[mid]==2:\n",
    "            nums[mid],nums[end]=nums[end],nums[mid]\n",
    "            end-=1"
   ]
  }
 ],
 "metadata": {
  "kernelspec": {
   "display_name": "Python 3",
   "language": "python",
   "name": "python3"
  },
  "language_info": {
   "codemirror_mode": {
    "name": "ipython",
    "version": 3
   },
   "file_extension": ".py",
   "mimetype": "text/x-python",
   "name": "python",
   "nbconvert_exporter": "python",
   "pygments_lexer": "ipython3",
   "version": "3.7.9"
  }
 },
 "nbformat": 4,
 "nbformat_minor": 2
}
