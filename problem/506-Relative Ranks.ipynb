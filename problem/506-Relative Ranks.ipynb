{
 "cells": [
  {
   "cell_type": "markdown",
   "metadata": {},
   "source": [
    "# 506. Relative Ranks\n",
    "https://leetcode.com/problems/relative-ranks/description/"
   ]
  },
  {
   "cell_type": "code",
   "execution_count": 1,
   "metadata": {},
   "outputs": [],
   "source": [
    "from typing import List\n",
    "def findRelativeRanks(score: List[int]) -> List[str]:\n",
    "    scorce_map = [\"Gold Medal\",\"Silver Medal\",\"Bronze Medal\"]\n",
    "    count = 0\n",
    "    for i in range(len(score)-3):\n",
    "        scorce_map.append(str(i+4))\n",
    "    sort_map = sorted(score)[::-1]\n",
    "    result_map = score\n",
    "    for i in sort_map:\n",
    "        index_ = score.index(i)\n",
    "        result_map[index_] = scorce_map[count]\n",
    "        count+=1\n",
    "    return result_map"
   ]
  },
  {
   "cell_type": "code",
   "execution_count": 2,
   "metadata": {},
   "outputs": [
    {
     "data": {
      "text/plain": [
       "['Gold Medal', 'Silver Medal', 'Bronze Medal', '4', '5']"
      ]
     },
     "execution_count": 2,
     "metadata": {},
     "output_type": "execute_result"
    }
   ],
   "source": [
    "score = [5,4,3,2,1]\n",
    "findRelativeRanks(score)"
   ]
  },
  {
   "cell_type": "code",
   "execution_count": 3,
   "metadata": {},
   "outputs": [],
   "source": [
    "# solution2\n",
    "def findRelativeRanks(a: List[int]) -> List[str]:\n",
    "    return map(\n",
    "        {v:{\n",
    "            1:'Gold Medal',\n",
    "            2:'Silver Medal',\n",
    "            3:'Bronze Medal'}.get(i,str(i)) for i,v in enumerate(sorted(a)[::-1],1)\n",
    "            }.get,a)"
   ]
  },
  {
   "cell_type": "code",
   "execution_count": 5,
   "metadata": {},
   "outputs": [
    {
     "data": {
      "text/plain": [
       "['Gold Medal', 'Silver Medal', 'Bronze Medal', '4', '5']"
      ]
     },
     "execution_count": 5,
     "metadata": {},
     "output_type": "execute_result"
    }
   ],
   "source": [
    "score = [5,4,3,2,1]\n",
    "list(findRelativeRanks(score))"
   ]
  },
  {
   "cell_type": "code",
   "execution_count": null,
   "metadata": {},
   "outputs": [],
   "source": []
  }
 ],
 "metadata": {
  "kernelspec": {
   "display_name": "Python 3",
   "language": "python",
   "name": "python3"
  },
  "language_info": {
   "codemirror_mode": {
    "name": "ipython",
    "version": 3
   },
   "file_extension": ".py",
   "mimetype": "text/x-python",
   "name": "python",
   "nbconvert_exporter": "python",
   "pygments_lexer": "ipython3",
   "version": "3.7.9"
  }
 },
 "nbformat": 4,
 "nbformat_minor": 2
}
