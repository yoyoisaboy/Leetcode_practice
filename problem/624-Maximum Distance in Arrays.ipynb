{
 "cells": [
  {
   "cell_type": "markdown",
   "metadata": {},
   "source": [
    "# 624. Maximum Distance in Arrays\n",
    "https://leetcode.com/problems/maximum-distance-in-arrays/description/?envType=daily-question&envId=2024-08-16"
   ]
  },
  {
   "cell_type": "code",
   "execution_count": 36,
   "metadata": {},
   "outputs": [
    {
     "name": "stdout",
     "output_type": "stream",
     "text": [
      "4 -2\n",
      "4 -10\n",
      "4 2\n"
     ]
    },
    {
     "data": {
      "text/plain": [
       "14"
      ]
     },
     "execution_count": 36,
     "metadata": {},
     "output_type": "execute_result"
    }
   ],
   "source": [
    "from typing import List\n",
    "\n",
    "def maxDistance(arrays: List[List[int]]) -> int:\n",
    "    ans1 = 0\n",
    "    # if min in 1\n",
    "    loc = 1\n",
    "    temp_min = min(arrays[0])\n",
    "    while(loc!=len(arrays)):\n",
    "        arr = arrays[loc]\n",
    "        ans1 = max(ans1,abs(max(arr)-temp_min))\n",
    "        temp_min = min(temp_min,min(arrays[loc]))\n",
    "        loc += 1\n",
    "    # if max in 1\n",
    "    ans2 = 0\n",
    "    loc = 1\n",
    "    temp_max = max(arrays[0])\n",
    "    while(loc!=len(arrays)):\n",
    "        arr = arrays[loc]\n",
    "        ans2 = max(ans2,abs(temp_max-min(arr)))\n",
    "        temp_max = max(temp_max,max(arrays[loc]))\n",
    "        loc += 1              \n",
    "    return max(ans1,ans2)\n",
    "\n",
    "arrays = [[-8,-7,-7,-5,1,1,3,4],[-2],[-10,-10,-7,0,1,3],[2]]\n",
    "maxDistance(arrays)\n"
   ]
  },
  {
   "cell_type": "code",
   "execution_count": 30,
   "metadata": {},
   "outputs": [
    {
     "data": {
      "text/plain": [
       "4"
      ]
     },
     "execution_count": 30,
     "metadata": {},
     "output_type": "execute_result"
    }
   ],
   "source": [
    "arrays = [[1,2,3],[4,5],[1,2,3]]\n",
    "maxDistance(arrays)"
   ]
  },
  {
   "cell_type": "code",
   "execution_count": null,
   "metadata": {},
   "outputs": [],
   "source": [
    "\n",
    "arrays = [[1,4],[0,5]]\n",
    "maxDistance(arrays)\n"
   ]
  },
  {
   "cell_type": "code",
   "execution_count": null,
   "metadata": {},
   "outputs": [],
   "source": [
    "# GPT\n",
    "def maxDistance(arrays: List[List[int]]) -> int:\n",
    "    min_val = arrays[0][0]\n",
    "    max_val = arrays[0][-1]\n",
    "    max_distance = 0\n",
    "\n",
    "    for i in range(1, len(arrays)):\n",
    "        current_min = arrays[i][0]\n",
    "        current_max = arrays[i][-1]\n",
    "        \n",
    "        # 計算當前最大距離\n",
    "        max_distance = max(max_distance, abs(current_max - min_val), abs(max_val - current_min))\n",
    "        \n",
    "        # 更新全局最小值和最大值\n",
    "        min_val = min(min_val, current_min)\n",
    "        max_val = max(max_val, current_max)\n",
    "    \n",
    "    return max_distance\n"
   ]
  }
 ],
 "metadata": {
  "kernelspec": {
   "display_name": "Python 3",
   "language": "python",
   "name": "python3"
  },
  "language_info": {
   "codemirror_mode": {
    "name": "ipython",
    "version": 3
   },
   "file_extension": ".py",
   "mimetype": "text/x-python",
   "name": "python",
   "nbconvert_exporter": "python",
   "pygments_lexer": "ipython3",
   "version": "3.7.9"
  }
 },
 "nbformat": 4,
 "nbformat_minor": 2
}
