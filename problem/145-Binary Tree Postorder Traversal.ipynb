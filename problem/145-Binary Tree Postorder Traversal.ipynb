{
 "cells": [
  {
   "cell_type": "markdown",
   "metadata": {},
   "source": [
    "# 145. Binary Tree Postorder Traversal\n",
    "https://leetcode.com/problems/binary-tree-postorder-traversal/description/"
   ]
  },
  {
   "cell_type": "code",
   "execution_count": 1,
   "metadata": {},
   "outputs": [],
   "source": [
    "from typing import List,Optional"
   ]
  },
  {
   "cell_type": "code",
   "execution_count": 8,
   "metadata": {},
   "outputs": [],
   "source": [
    "\n",
    "# Definition for a binary tree node.\n",
    "class TreeNode:\n",
    "  def __init__(self, val=0, left=None, right=None):\n",
    "      self.val = val\n",
    "      self.left = left\n",
    "      self.right = right\n",
    "  def insert(self, ele,check_LR):\n",
    "    if self.val:\n",
    "      if check_LR==0: #left\n",
    "        if self.left is None:\n",
    "          self.left = TreeNode(ele)\n",
    "        else:\n",
    "          self.left.insert(ele,check_LR)\n",
    "      else : #right\n",
    "        if self.right is None:\n",
    "          self.right = TreeNode(ele)\n",
    "        else:\n",
    "          self.right.insert(ele)\n",
    "    else:\n",
    "        self.val = ele\n",
    "#solution1\n",
    "def postorderTraversal(root: Optional[TreeNode]) -> List[int]:\n",
    "    def Postorder(root):\n",
    "        res = []\n",
    "        if root:\n",
    "            res = Postorder(root.left)\n",
    "            res = res+Postorder(root.right)\n",
    "            res.append(root.val)\n",
    "        return res \n",
    "    return Postorder(root)\n",
    "\n"
   ]
  },
  {
   "cell_type": "code",
   "execution_count": 9,
   "metadata": {},
   "outputs": [
    {
     "data": {
      "text/plain": [
       "[3, 2, 1]"
      ]
     },
     "execution_count": 9,
     "metadata": {},
     "output_type": "execute_result"
    }
   ],
   "source": [
    "input = [1,None,2,3]\n",
    "\n",
    "tree = TreeNode()\n",
    "temp = 0\n",
    "for ele in input:\n",
    "  if ele != None:\n",
    "    tree.insert(ele,temp)\n",
    "    temp=0\n",
    "  else:\n",
    "    temp=1\n",
    "\n",
    "postorderTraversal(tree)"
   ]
  },
  {
   "cell_type": "code",
   "execution_count": 10,
   "metadata": {},
   "outputs": [],
   "source": [
    "#solution2\n",
    "# no recursion used \n",
    "#Iterative\n",
    "def postorderTraversal2(root: Optional[TreeNode]) -> List[int]:\n",
    "    if root is None:\n",
    "        return \n",
    "    ans=[]\n",
    "    s=[root]\n",
    "    while s:\n",
    "        node=s.pop()\n",
    "        ans.append(node.val)\n",
    "        if node.left:\n",
    "            s.append(node.left)\n",
    "        if node.right:\n",
    "            s.append(node.right)\n",
    "    return ans[::-1]"
   ]
  },
  {
   "cell_type": "code",
   "execution_count": 11,
   "metadata": {},
   "outputs": [
    {
     "data": {
      "text/plain": [
       "[3, 2, 1]"
      ]
     },
     "execution_count": 11,
     "metadata": {},
     "output_type": "execute_result"
    }
   ],
   "source": [
    "input = [1,None,2,3]\n",
    "\n",
    "tree = TreeNode()\n",
    "temp = 0\n",
    "for ele in input:\n",
    "  if ele != None:\n",
    "    tree.insert(ele,temp)\n",
    "    temp=0\n",
    "  else:\n",
    "    temp=1\n",
    "\n",
    "postorderTraversal2(tree)"
   ]
  },
  {
   "cell_type": "code",
   "execution_count": null,
   "metadata": {},
   "outputs": [],
   "source": []
  }
 ],
 "metadata": {
  "kernelspec": {
   "display_name": "Python 3",
   "language": "python",
   "name": "python3"
  },
  "language_info": {
   "codemirror_mode": {
    "name": "ipython",
    "version": 3
   },
   "file_extension": ".py",
   "mimetype": "text/x-python",
   "name": "python",
   "nbconvert_exporter": "python",
   "pygments_lexer": "ipython3",
   "version": "3.7.9"
  }
 },
 "nbformat": 4,
 "nbformat_minor": 2
}
