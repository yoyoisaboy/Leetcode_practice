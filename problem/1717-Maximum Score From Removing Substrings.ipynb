{
 "cells": [
  {
   "cell_type": "markdown",
   "metadata": {},
   "source": [
    "# 1717. Maximum Score From Removing Substrings\n",
    "https://leetcode.com/problems/maximum-score-from-removing-substrings/description/?envType=daily-question&envId=2024-07-12"
   ]
  },
  {
   "cell_type": "code",
   "execution_count": 10,
   "metadata": {},
   "outputs": [
    {
     "data": {
      "text/plain": [
       "19"
      ]
     },
     "execution_count": 10,
     "metadata": {},
     "output_type": "execute_result"
    }
   ],
   "source": [
    "# 可惡用遞迴出現Error!! Memory Limit Exceeded\n",
    "s = \"cdbcbbaaabab\"\n",
    "x = 4\n",
    "y = 5\n",
    "\n",
    "def maximumGain(s: str, x: int, y: int) -> int:\n",
    "    def substring_check(s,sub_str,xy_count,temp_ans):\n",
    "        index = s.find(sub_str)\n",
    "        if index>=0:\n",
    "            s = s[:index]+s[index+2:]\n",
    "            temp_ans += xy_count\n",
    "            return substring_check(s,sub_str,xy_count,temp_ans)\n",
    "        return s,temp_ans\n",
    "    if x > y:\n",
    "        s,ans = substring_check(s,'ab',x,0)\n",
    "        s,ans = substring_check(s,'ba',y,ans)\n",
    "    else:\n",
    "        s,ans = substring_check(s,'ba',y,0)\n",
    "        s,ans = substring_check(s,'ab',x,ans)\n",
    "    return ans\n",
    "\n",
    "maximumGain(s,x,y)"
   ]
  },
  {
   "cell_type": "code",
   "execution_count": 25,
   "metadata": {},
   "outputs": [
    {
     "data": {
      "text/plain": [
       "20"
      ]
     },
     "execution_count": 25,
     "metadata": {},
     "output_type": "execute_result"
    }
   ],
   "source": [
    "# 用刪除符合存在的概念\n",
    "def maximumGain(s: str, x: int, y: int) -> int:\n",
    "    if x > y: # ab\n",
    "        sub1, sub2, points1, points2 = 'a', 'b', x, y\n",
    "    else:     # ba\n",
    "        sub1, sub2, points1, points2 = 'b', 'a', y, x\n",
    "    stack = []\n",
    "    total_points = 0\n",
    "    # 先找最好的 ex: x>y 先ab開始找，保存沒配對到的\n",
    "    for char in s:\n",
    "        if stack and stack[-1] == sub1 and char == sub2: \n",
    "            stack.pop()\n",
    "            total_points += points1\n",
    "        else:\n",
    "            stack.append(char)\n",
    "    # 再找次好的\n",
    "    new_stack = []\n",
    "    for char in stack:\n",
    "        if new_stack and new_stack[-1] == sub2 and char == sub1:\n",
    "            new_stack.pop()\n",
    "            total_points += points2\n",
    "        else:\n",
    "            new_stack.append(char)\n",
    "    return total_points\n",
    "\n",
    "s = \"aabbaaxybbaabb\"\n",
    "x = 5\n",
    "y = 4\n",
    "maximumGain(s,x,y)"
   ]
  },
  {
   "cell_type": "code",
   "execution_count": 5,
   "metadata": {},
   "outputs": [
    {
     "data": {
      "text/plain": [
       "20"
      ]
     },
     "execution_count": 5,
     "metadata": {},
     "output_type": "execute_result"
    }
   ],
   "source": [
    "s = \"aabbaaxybbaabb\"\n",
    "x = 5\n",
    "y = 4\n",
    "maximumGain(s,x,y)"
   ]
  }
 ],
 "metadata": {
  "kernelspec": {
   "display_name": "Python 3",
   "language": "python",
   "name": "python3"
  },
  "language_info": {
   "codemirror_mode": {
    "name": "ipython",
    "version": 3
   },
   "file_extension": ".py",
   "mimetype": "text/x-python",
   "name": "python",
   "nbconvert_exporter": "python",
   "pygments_lexer": "ipython3",
   "version": "3.7.9"
  }
 },
 "nbformat": 4,
 "nbformat_minor": 2
}
