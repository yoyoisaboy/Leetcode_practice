{
 "cells": [
  {
   "cell_type": "markdown",
   "metadata": {},
   "source": [
    "# 2096. Step-By-Step Directions From a Binary Tree Node to Another\n",
    "https://leetcode.com/problems/step-by-step-directions-from-a-binary-tree-node-to-another/description/?envType=daily-question&envId=2024-07-16"
   ]
  },
  {
   "cell_type": "code",
   "execution_count": 36,
   "metadata": {},
   "outputs": [],
   "source": [
    "from typing import Optional\n",
    "\n",
    "class TreeNode:\n",
    "    def __init__(self, val=0, left=None, right=None):\n",
    "        self.val = val\n",
    "        self.left = left\n",
    "        self.right = right\n",
    "def level_order_traversal(root):\n",
    "    if not root:\n",
    "        return []\n",
    "    queue = [root]\n",
    "    result = []\n",
    "    while queue:\n",
    "        node = queue.pop(0)\n",
    "        if node:\n",
    "            result.append(node.val)\n",
    "            queue.append(node.left)\n",
    "            queue.append(node.right)\n",
    "        else:\n",
    "            result.append(None)\n",
    "    # To remove the trailing None values for cleaner output\n",
    "    while result and result[-1] is None:\n",
    "        result.pop()\n",
    "    return result\n",
    "\n",
    "def getDirections(root: Optional[TreeNode], startValue: int, destValue: int) -> str:\n",
    "    temp_ans_str = \"\" \n",
    "    \n",
    "    def find_Node(node,number)-> bool:\n",
    "        if node == None:\n",
    "            return False\n",
    "        if node.val == number:\n",
    "            return True\n",
    "        res1 = find_Node(node.left,number)\n",
    "        if res1:\n",
    "            return True\n",
    "        res2 = find_Node(node.right,number)\n",
    "        return res2\n",
    "    \n",
    "    def find_startValue(node,start,direction=\"\")-> str: #找\"U\"\n",
    "            if node == None:\n",
    "                return \"\"\n",
    "            if node.val == start:\n",
    "                return direction\n",
    "            return  find_startValue(node.left,start,direction+\"U\")+find_startValue(node.right,start,direction+\"U\")\n",
    "    #確定兩點位置是否同一邊\n",
    "    check_start_root_left = find_Node(root.left,startValue)\n",
    "    check_dest_root_right = find_Node(root.right,destValue)\n",
    "    \n",
    "    if (check_start_root_left ^ check_dest_root_right)==False: #start和dest各在兩邊\n",
    "        #從最初的root開始找\n",
    "        \n",
    "        def run_destValue(node,number,direction=\"\")-> str: #找\"L、R\"\n",
    "            if node == None:\n",
    "                return \"\"\n",
    "            if node.val == number:\n",
    "                return direction\n",
    "            return  run_destValue(node.left,number,direction+\"R\")+run_destValue(node.right,number,direction+\"L\")\n",
    "        \n",
    "        if check_start_root_left==True:\n",
    "            temp_ans_str = find_startValue(root.left,startValue,direction=\"U\")\n",
    "            temp_ans_str += run_destValue(root.right,destValue,direction=\"L\")[::-1] #右邊開始找，因上往下找，所以是L，推回來要順序相反[::-1]\n",
    "        else:\n",
    "            temp_ans_str = find_startValue(root.right,startValue,direction=\"U\")\n",
    "            temp_ans_str += run_destValue(root.left,destValue,direction=\"R\")[::-1]\n",
    "    else:     #start和dest同邊\n",
    "        def change_root(node,number)->TreeNode:\n",
    "            if node == None:\n",
    "                return \n",
    "            if node.val == number:\n",
    "                root = node\n",
    "                return root\n",
    "            change_root(node.left,number)\n",
    "            change_root(node.right,number)\n",
    "        def run_destValue(node,number,direction=\"\")-> str: #找\"L、R\"\n",
    "            if node == None:\n",
    "                return \"\"\n",
    "            if node.val == number:\n",
    "                return direction\n",
    "            return  run_destValue(node.left,number,direction+\"L\")+run_destValue(node.right,number,direction+\"R\")\n",
    "        # 確認誰上誰下\n",
    "        if check_start_root_left==True: #start 在root左邊\n",
    "            new_root = change_root(root.left,startValue)\n",
    "            if find_Node(new_root,destValue): # 假如start是new root，看他底下有沒有dest\n",
    "                temp_ans_str += run_destValue(new_root,destValue,direction=\"\") # start上dest下重製root，RL\n",
    "            else:\n",
    "                new_root = change_root(root.left,destValue)\n",
    "                temp_ans_str += find_startValue(new_root,startValue,direction=\"\")    \n",
    "        else:                           #start 在root右邊\n",
    "            new_root = change_root(root.right,startValue)\n",
    "            if find_Node(new_root,destValue): # 假如start是new root，看他底下有沒有dest\n",
    "                temp_ans_str += run_destValue(new_root,destValue,direction=\"\") # start上dest下重製root，RL\n",
    "            else:\n",
    "                new_root = change_root(root.left,destValue)\n",
    "                temp_ans_str += find_startValue(new_root,destValue,direction=\"\")    \n",
    "   \n",
    "    return temp_ans_str\n"
   ]
  },
  {
   "cell_type": "code",
   "execution_count": 29,
   "metadata": {},
   "outputs": [
    {
     "data": {
      "text/plain": [
       "'UURL'"
      ]
     },
     "execution_count": 29,
     "metadata": {},
     "output_type": "execute_result"
    }
   ],
   "source": [
    "#root = [5,1,2,3,null,6,4]\n",
    "startValue = 3\n",
    "destValue = 6\n",
    "root = TreeNode(5)\n",
    "root.left = TreeNode(1)\n",
    "root.right = TreeNode(2)\n",
    "root.left.left = TreeNode(3)\n",
    "root.right.left = TreeNode(6)\n",
    "root.right.right = TreeNode(4)\n",
    "#print(level_order_traversal(root))\n",
    "getDirections(root,startValue,destValue)"
   ]
  },
  {
   "cell_type": "code",
   "execution_count": 26,
   "metadata": {},
   "outputs": [
    {
     "name": "stdout",
     "output_type": "stream",
     "text": [
      "[2, 1]\n"
     ]
    },
    {
     "data": {
      "text/plain": [
       "'R'"
      ]
     },
     "execution_count": 26,
     "metadata": {},
     "output_type": "execute_result"
    }
   ],
   "source": [
    "#root = [2,1]\n",
    "startValue = 2\n",
    "destValue = 1\n",
    "root = TreeNode(2)\n",
    "root.left = TreeNode(1)\n",
    "\n",
    "print(level_order_traversal(root))\n",
    "getDirections(root,startValue,destValue)"
   ]
  },
  {
   "cell_type": "code",
   "execution_count": 34,
   "metadata": {},
   "outputs": [
    {
     "name": "stdout",
     "output_type": "stream",
     "text": [
      "[5, 1, 2, 3, None, 6, 4]\n"
     ]
    },
    {
     "data": {
      "text/plain": [
       "'L'"
      ]
     },
     "execution_count": 34,
     "metadata": {},
     "output_type": "execute_result"
    }
   ],
   "source": [
    "#root = [5,1,2,3,null,6,4] \n",
    "startValue = 2\n",
    "destValue = 6\n",
    "root = TreeNode(5)\n",
    "root.left = TreeNode(1)\n",
    "root.right = TreeNode(2)\n",
    "root.left.left = TreeNode(3)\n",
    "root.right.left = TreeNode(6)\n",
    "root.right.right = TreeNode(4)\n",
    "print(level_order_traversal(root))\n",
    "getDirections(root,startValue,destValue)"
   ]
  },
  {
   "cell_type": "code",
   "execution_count": 37,
   "metadata": {},
   "outputs": [
    {
     "name": "stdout",
     "output_type": "stream",
     "text": [
      "[5, 1, 2, 3, None, 6, 4]\n"
     ]
    },
    {
     "data": {
      "text/plain": [
       "'L'"
      ]
     },
     "execution_count": 37,
     "metadata": {},
     "output_type": "execute_result"
    }
   ],
   "source": [
    "#root = [5,1,2,3,null,6,4] \n",
    "startValue = 1\n",
    "destValue = 3\n",
    "root = TreeNode(5)\n",
    "root.left = TreeNode(1)\n",
    "root.right = TreeNode(2)\n",
    "root.left.left = TreeNode(3)\n",
    "root.right.left = TreeNode(6)\n",
    "root.right.right = TreeNode(4)\n",
    "print(level_order_traversal(root))\n",
    "getDirections(root,startValue,destValue)"
   ]
  },
  {
   "cell_type": "code",
   "execution_count": 9,
   "metadata": {},
   "outputs": [
    {
     "data": {
      "text/plain": [
       "False"
      ]
     },
     "execution_count": 9,
     "metadata": {},
     "output_type": "execute_result"
    }
   ],
   "source": [
    "False ^ False"
   ]
  },
  {
   "cell_type": "code",
   "execution_count": null,
   "metadata": {},
   "outputs": [],
   "source": [
    "False ^ True"
   ]
  },
  {
   "cell_type": "code",
   "execution_count": null,
   "metadata": {},
   "outputs": [],
   "source": []
  },
  {
   "cell_type": "code",
   "execution_count": null,
   "metadata": {},
   "outputs": [],
   "source": []
  },
  {
   "cell_type": "code",
   "execution_count": null,
   "metadata": {},
   "outputs": [],
   "source": [
    "\n",
    "def getDirections(root: Optional[TreeNode], startValue: int, destValue: int) -> str:\n",
    "    temp_ans_str = \"\" \n",
    "    #假設從最初的root開始找\n",
    "    def find_startValue(node,start,direction=\"\")-> str:\n",
    "        if node == None:\n",
    "            return \"\"\n",
    "        if node.val == start:\n",
    "            return direction\n",
    "        \n",
    "        return  find_startValue(node.left,start,direction+\"U\")\n",
    "    \n",
    "    temp_ans_str = find_startValue(root,startValue)\n",
    "    if temp_ans_str!=\"\":\n",
    "        # 如果start出現在左邊，\n",
    "        def find_destValue_forward(node,dest,direction=\"\")-> str:\n",
    "            if node == None:\n",
    "                return \"\"\n",
    "            if node.val == dest:\n",
    "                return direction\n",
    "            return  find_destValue_forward(node.left,dest,direction+\"R\")+find_destValue_forward(node.right,dest,direction+\"L\")\n",
    "        print(temp_ans_str,find_destValue_forward(root,destValue)[::-1])\n",
    "        temp_ans_str += find_destValue_forward(root,destValue)[::-1]\n",
    "\n",
    "    else: #代表start、dest同一邊，改變root\n",
    "        def find_root(node,start):\n",
    "            if node == None:\n",
    "                return \n",
    "            if node.val == start:\n",
    "                root = node\n",
    "                return root\n",
    "            find_root(node.left,start)\n",
    "            find_root(node.right,start)\n",
    "            \n",
    "        root = find_root(root.right,startValue)\n",
    "        temp_ans_str += find_startValue(root,startValue)\n",
    "\n",
    "        def find_destValue_reverse(node,dest,direction=\"\")-> str:\n",
    "            if node == None:\n",
    "                return \"\"\n",
    "            if node.val == dest:\n",
    "                return direction\n",
    "            return  find_destValue_reverse(node.left,dest,direction+\"L\")+find_destValue_reverse(node.right,dest,direction+\"R\")\n",
    "        temp_ans_str += find_destValue_reverse(root,destValue)\n",
    "\n",
    "    return temp_ans_str\n"
   ]
  }
 ],
 "metadata": {
  "kernelspec": {
   "display_name": "Python 3",
   "language": "python",
   "name": "python3"
  },
  "language_info": {
   "codemirror_mode": {
    "name": "ipython",
    "version": 3
   },
   "file_extension": ".py",
   "mimetype": "text/x-python",
   "name": "python",
   "nbconvert_exporter": "python",
   "pygments_lexer": "ipython3",
   "version": "3.7.9"
  }
 },
 "nbformat": 4,
 "nbformat_minor": 2
}
