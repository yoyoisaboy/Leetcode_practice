{
 "cells": [
  {
   "cell_type": "markdown",
   "metadata": {},
   "source": [
    "# 2096. Step-By-Step Directions From a Binary Tree Node to Another\n",
    "https://leetcode.com/problems/step-by-step-directions-from-a-binary-tree-node-to-another/?envType=daily-question&envId=2024-07-16"
   ]
  },
  {
   "cell_type": "code",
   "execution_count": 139,
   "metadata": {},
   "outputs": [],
   "source": [
    "from typing import Optional\n",
    "# Definition for a binary tree node.\n",
    "class TreeNode:\n",
    "    def __init__(self, val=0, left=None, right=None):\n",
    "        self.val = val\n",
    "        self.left = left\n",
    "        self.right = right\n",
    "def level_order_traversal(root):\n",
    "    if not root:\n",
    "        return []\n",
    "    queue = [root]\n",
    "    result = []\n",
    "    while queue:\n",
    "        node = queue.pop(0)\n",
    "        if node:\n",
    "            result.append(node.val)\n",
    "            queue.append(node.left)\n",
    "            queue.append(node.right)\n",
    "        else:\n",
    "            result.append(None)\n",
    "    # To remove the trailing None values for cleaner output\n",
    "    while result and result[-1] is None:\n",
    "        result.pop()\n",
    "    return result\n",
    "    \n",
    "def getDirections(root: Optional[TreeNode], startValue: int, destValue: int) -> str:\n",
    "        \n",
    "    def run_Node(node,number,direction):\n",
    "        if node is None:\n",
    "            return False\n",
    "        if node.val == number:\n",
    "            return True\n",
    "        direction.append(\"L\")\n",
    "        if run_Node(node.left,number,direction ):\n",
    "            return True\n",
    "        direction.pop() #把L弄掉\n",
    "        direction.append(\"R\")\n",
    "        if run_Node(node.right,number,direction):\n",
    "            return True\n",
    "        direction.pop() #把R弄掉\n",
    "        return False\n",
    "    \n",
    "    # 左右邊\n",
    "    steps_start = []\n",
    "    steps_dest = []\n",
    "    run_Node(root,startValue,steps_start)\n",
    "    run_Node(root,destValue,steps_dest)\n",
    "    directions = []\n",
    "    depth = 0\n",
    "    #同路徑累加紀錄\n",
    "    i = min(len(steps_start),len(steps_dest))\n",
    "    while(depth<i and steps_start[depth]==steps_dest[depth]): \n",
    "        depth+=1\n",
    "    #直接從不分支開始算\n",
    "    directions.extend( [\"U\"]* (len(steps_start) -depth) )\n",
    "    directions.extend( steps_dest[depth:] )\n",
    "    \n",
    "    return \"\".join(directions)"
   ]
  },
  {
   "cell_type": "code",
   "execution_count": 140,
   "metadata": {},
   "outputs": [
    {
     "name": "stdout",
     "output_type": "stream",
     "text": [
      "[5, 1, 2, 3, None, 6, 4]\n"
     ]
    },
    {
     "data": {
      "text/plain": [
       "'UURL'"
      ]
     },
     "execution_count": 140,
     "metadata": {},
     "output_type": "execute_result"
    }
   ],
   "source": [
    "#root = [5,1,2,3,null,6,4] \n",
    "startValue = 3\n",
    "destValue = 6\n",
    "root = TreeNode(5)\n",
    "root.left = TreeNode(1)\n",
    "root.right = TreeNode(2)\n",
    "root.left.left = TreeNode(3)\n",
    "root.right.left = TreeNode(6)\n",
    "root.right.right = TreeNode(4)\n",
    "print(level_order_traversal(root))\n",
    "getDirections(root,startValue,destValue)"
   ]
  },
  {
   "cell_type": "code",
   "execution_count": 141,
   "metadata": {},
   "outputs": [
    {
     "name": "stdout",
     "output_type": "stream",
     "text": [
      "[2, 1]\n"
     ]
    },
    {
     "data": {
      "text/plain": [
       "'L'"
      ]
     },
     "execution_count": 141,
     "metadata": {},
     "output_type": "execute_result"
    }
   ],
   "source": [
    "#root = [2,1]\n",
    "startValue = 2\n",
    "destValue = 1\n",
    "root = TreeNode(2)\n",
    "root.left = TreeNode(1)\n",
    "\n",
    "print(level_order_traversal(root))\n",
    "getDirections(root,startValue,destValue)"
   ]
  },
  {
   "cell_type": "code",
   "execution_count": null,
   "metadata": {},
   "outputs": [],
   "source": []
  },
  {
   "cell_type": "code",
   "execution_count": null,
   "metadata": {},
   "outputs": [],
   "source": [
    "#用字串鼠路邊\n",
    "# Definition for a binary tree node.\n",
    "# class TreeNode:\n",
    "#     def __init__(self, val=0, left=None, right=None):\n",
    "#         self.val = val\n",
    "#         self.left = left\n",
    "#         self.right = right\n",
    "\n",
    "def getDirections(root: Optional[TreeNode], startValue: int, destValue: int) -> str:\n",
    "    def run_destNode(node,dest,direction=\"\")-> str:\n",
    "        if node == None:\n",
    "            return \"\"\n",
    "        if node.val == dest:\n",
    "            return direction\n",
    "        return  run_destNode(node.left,dest,direction+\"L\")+run_destNode(node.right,dest,direction+\"R\")\n",
    "    # 左右邊\n",
    "    steps_start = run_destNode(root,startValue)\n",
    "    steps_dest = run_destNode(root,destValue)\n",
    "\n",
    "    depth = 0\n",
    "    i = min(len(steps_start),len(steps_dest))\n",
    "\n",
    "    while(depth<i and steps_start[depth]==steps_dest[depth]): #改變根節點\n",
    "        depth+=1\n",
    "\n",
    "    steps_up = [\"U\"]*len(steps_start)\n",
    "\n",
    "    return \"\".join(steps_up[depth:])+steps_dest[depth:]"
   ]
  },
  {
   "cell_type": "markdown",
   "metadata": {},
   "source": [
    "大神的方法 https://leetcode.com/problems/step-by-step-directions-from-a-binary-tree-node-to-another/solutions/5483297/ultimate-9ms-solution-beats-100-java-c-py-js-go-beginner-friendly-explanation"
   ]
  },
  {
   "cell_type": "code",
   "execution_count": null,
   "metadata": {},
   "outputs": [],
   "source": []
  }
 ],
 "metadata": {
  "kernelspec": {
   "display_name": "Python 3",
   "language": "python",
   "name": "python3"
  },
  "language_info": {
   "codemirror_mode": {
    "name": "ipython",
    "version": 3
   },
   "file_extension": ".py",
   "mimetype": "text/x-python",
   "name": "python",
   "nbconvert_exporter": "python",
   "pygments_lexer": "ipython3",
   "version": "3.7.9"
  }
 },
 "nbformat": 4,
 "nbformat_minor": 2
}
