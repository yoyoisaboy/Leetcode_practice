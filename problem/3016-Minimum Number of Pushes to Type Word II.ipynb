{
 "cells": [
  {
   "cell_type": "markdown",
   "metadata": {},
   "source": [
    "# 3016. Minimum Number of Pushes to Type Word II\n",
    "https://leetcode.com/problems/minimum-number-of-pushes-to-type-word-ii/description/?envType=daily-question&envId=2024-08-06"
   ]
  },
  {
   "cell_type": "code",
   "execution_count": 11,
   "metadata": {},
   "outputs": [
    {
     "data": {
      "text/plain": [
       "24"
      ]
     },
     "execution_count": 11,
     "metadata": {},
     "output_type": "execute_result"
    }
   ],
   "source": [
    "from typing import List\n",
    "\n",
    "def minimumPushes( word: str) -> int:\n",
    "    from collections import Counter\n",
    "    dict_count = Counter(word).most_common()\n",
    "    time = 1\n",
    "    ans = 0\n",
    "    for i in range(0,len(dict_count),8):\n",
    "        temp_dict = dict_count[i:i+8]\n",
    "        second_values = [item[1]*time for item in temp_dict]\n",
    "        ans += sum(second_values)\n",
    "        time +=1\n",
    "    return ans\n",
    "\n",
    "word = \"aabbccddeeffgghhiiiiii\"\n",
    "#Output: 24\n",
    "minimumPushes(word)"
   ]
  },
  {
   "cell_type": "code",
   "execution_count": 12,
   "metadata": {},
   "outputs": [
    {
     "data": {
      "text/plain": [
       "12"
      ]
     },
     "execution_count": 12,
     "metadata": {},
     "output_type": "execute_result"
    }
   ],
   "source": [
    "word = \"xyzxyzxyzxyz\"\n",
    "#Output: 12\n",
    "minimumPushes(word)"
   ]
  },
  {
   "cell_type": "code",
   "execution_count": 13,
   "metadata": {},
   "outputs": [
    {
     "data": {
      "text/plain": [
       "5"
      ]
     },
     "execution_count": 13,
     "metadata": {},
     "output_type": "execute_result"
    }
   ],
   "source": [
    "word = \"abcde\"\n",
    "#Output: 5\n",
    "minimumPushes(word)"
   ]
  }
 ],
 "metadata": {
  "kernelspec": {
   "display_name": "Python 3",
   "language": "python",
   "name": "python3"
  },
  "language_info": {
   "codemirror_mode": {
    "name": "ipython",
    "version": 3
   },
   "file_extension": ".py",
   "mimetype": "text/x-python",
   "name": "python",
   "nbconvert_exporter": "python",
   "pygments_lexer": "ipython3",
   "version": "3.7.9"
  }
 },
 "nbformat": 4,
 "nbformat_minor": 2
}
