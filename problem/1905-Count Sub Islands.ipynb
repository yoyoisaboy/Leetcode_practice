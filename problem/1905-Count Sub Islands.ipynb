{
 "cells": [
  {
   "cell_type": "markdown",
   "metadata": {},
   "source": [
    "# 1905. Count Sub Islands\n",
    "https://leetcode.com/problems/count-sub-islands/description/?envType=daily-question&envId=2024-08-28"
   ]
  },
  {
   "cell_type": "code",
   "execution_count": 6,
   "metadata": {},
   "outputs": [
    {
     "name": "stdout",
     "output_type": "stream",
     "text": [
      "[0, 0, 0, 0, 0]\n",
      "[0, 0, 0, 0, 0]\n",
      "[0, 1, 0, 0, 0]\n",
      "[1, 0, 1, 1, 0]\n",
      "[0, 1, 0, 1, 0]\n",
      "\n",
      "[0, 0, 0, 0, 0]\n",
      "[0, 0, 0, 0, 0]\n",
      "[0, 0, 0, 0, 0]\n",
      "[0, 0, 1, 1, 0]\n",
      "[0, 1, 0, 1, 0]\n",
      "\n",
      "[0, 0, 0, 0, 0]\n",
      "[0, 0, 0, 0, 0]\n",
      "[0, 0, 0, 0, 0]\n",
      "[0, 0, 0, 0, 0]\n",
      "[0, 0, 0, 0, 0]\n",
      "\n",
      "3\n"
     ]
    }
   ],
   "source": [
    "from typing import List\n",
    "\n",
    "def countSubIslands(grid1: List[List[int]], grid2: List[List[int]]) -> int: \n",
    "\n",
    "    def DFS(i,j):\n",
    "        if i < 0 or j < 0 or i >=len(grid2) or j >= len(grid2[0]) or grid2[i][j]==0:\n",
    "            return True\n",
    "        \n",
    "        #visited\n",
    "        grid2[i][j] = 0\n",
    "\n",
    "        #check grid1 is 1 too\n",
    "        is_sub_island = grid1[i][j] == 1\n",
    "\n",
    "        #four direction\n",
    "        is_sub_island &= DFS(i+1,j)\n",
    "        is_sub_island &= DFS(i-1,j)\n",
    "        is_sub_island &= DFS(i,j+1)\n",
    "        is_sub_island &= DFS(i,j-1)\n",
    "        \n",
    "        return is_sub_island\n",
    "    count = 0\n",
    "    for i in range(len(grid2)):\n",
    "        for j in range(len(grid2[0])):\n",
    "            if grid2[i][j]==1:\n",
    "                \n",
    "                if DFS(i,j):\n",
    "                    #for a in range(len(grid2)):\n",
    "                            #print(grid2[a])\n",
    "                    print()\n",
    "                    count += 1\n",
    "    return count\n",
    "\n",
    "\n",
    "grid1 = [\n",
    "    [1,1,1,0,0],\n",
    "    [0,1,1,1,1],\n",
    "    [0,0,0,0,0],\n",
    "    [1,0,0,0,0],\n",
    "    [1,1,0,1,1]\n",
    "]\n",
    "grid2 = [\n",
    "    [1,1,1,0,0],\n",
    "    [0,0,1,1,1],\n",
    "    [0,1,0,0,0],\n",
    "    [1,0,1,1,0],\n",
    "    [0,1,0,1,0]\n",
    "]\n",
    "\n",
    "print(countSubIslands(grid1, grid2))  # 输出应该是3"
   ]
  },
  {
   "cell_type": "code",
   "execution_count": 12,
   "metadata": {},
   "outputs": [
    {
     "data": {
      "text/plain": [
       "False"
      ]
     },
     "execution_count": 12,
     "metadata": {},
     "output_type": "execute_result"
    }
   ],
   "source": [
    "is_sub_island = True\n",
    "is_sub_island &= False\n",
    "is_sub_island &= True\n",
    "is_sub_island"
   ]
  },
  {
   "cell_type": "code",
   "execution_count": null,
   "metadata": {},
   "outputs": [],
   "source": [
    "#GDP\n",
    "from collections import deque\n",
    "\n",
    "def BFS(grid1, grid2, i, j, m, n):\n",
    "    queue = deque([(i, j)])\n",
    "    directions = [(-1, 0), (1, 0), (0, -1), (0, 1)]\n",
    "    is_sub_island = True\n",
    "\n",
    "    while queue:\n",
    "        x, y = queue.popleft()\n",
    "\n",
    "        # 如果grid1对应的格子是水，当前的岛屿就不能是子岛屿\n",
    "        if grid1[x][y] == 0:\n",
    "            is_sub_island = False\n",
    "\n",
    "        # 将当前格子标记为已访问\n",
    "        grid2[x][y] = 0\n",
    "\n",
    "        # 扩展到相邻的陆地\n",
    "        for dx, dy in directions:\n",
    "            nx, ny = x + dx, y + dy\n",
    "\n",
    "            if 0 <= nx < m and 0 <= ny < n and grid2[nx][ny] == 1:\n",
    "                queue.append((nx, ny))\n",
    "    \n",
    "    return is_sub_island\n",
    "\n",
    "def countSubIslands(grid1, grid2):\n",
    "    m, n = len(grid2), len(grid2[0])\n",
    "    sub_islands_count = 0\n",
    "\n",
    "    for i in range(m):\n",
    "        for j in range(n):\n",
    "            if grid2[i][j] == 1:  # 找到新的岛屿\n",
    "                if BFS(grid1, grid2, i, j, m, n):\n",
    "                    sub_islands_count += 1\n",
    "\n",
    "    return sub_islands_count\n",
    "\n",
    "# 示例输入\n",
    "grid1 = [\n",
    "    [1, 0, 1, 0, 1],\n",
    "    [1, 1, 1, 1, 1],\n",
    "    [0, 0, 0, 0, 0],\n",
    "    [1, 1, 1, 1, 1],\n",
    "    [1, 0, 1, 0, 1]\n",
    "]\n",
    "grid2 = [\n",
    "    [0, 0, 0, 0, 0],\n",
    "    [1, 1, 1, 1, 1],\n",
    "    [0, 1, 0, 1, 0],\n",
    "    [0, 1, 0, 1, 0],\n",
    "    [1, 0, 0, 0, 1]\n",
    "]\n",
    "\n",
    "print(countSubIslands(grid1, grid2))  # 输出：2\n"
   ]
  }
 ],
 "metadata": {
  "kernelspec": {
   "display_name": "Python 3",
   "language": "python",
   "name": "python3"
  },
  "language_info": {
   "codemirror_mode": {
    "name": "ipython",
    "version": 3
   },
   "file_extension": ".py",
   "mimetype": "text/x-python",
   "name": "python",
   "nbconvert_exporter": "python",
   "pygments_lexer": "ipython3",
   "version": "3.7.9"
  }
 },
 "nbformat": 4,
 "nbformat_minor": 2
}
