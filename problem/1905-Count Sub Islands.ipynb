{
 "cells": [
  {
   "cell_type": "markdown",
   "metadata": {},
   "source": [
    "# 1905. Count Sub Islands\n",
    "https://leetcode.com/problems/count-sub-islands/description/?envType=daily-question&envId=2024-08-28"
   ]
  },
  {
   "cell_type": "code",
   "execution_count": 6,
   "metadata": {},
   "outputs": [
    {
     "name": "stdout",
     "output_type": "stream",
     "text": [
      "[0, 0, 0, 0, 0]\n",
      "[0, 0, 0, 0, 0]\n",
      "[0, 1, 0, 0, 0]\n",
      "[1, 0, 1, 1, 0]\n",
      "[0, 1, 0, 1, 0]\n",
      "\n",
      "[0, 0, 0, 0, 0]\n",
      "[0, 0, 0, 0, 0]\n",
      "[0, 0, 0, 0, 0]\n",
      "[0, 0, 1, 1, 0]\n",
      "[0, 1, 0, 1, 0]\n",
      "\n",
      "[0, 0, 0, 0, 0]\n",
      "[0, 0, 0, 0, 0]\n",
      "[0, 0, 0, 0, 0]\n",
      "[0, 0, 0, 0, 0]\n",
      "[0, 0, 0, 0, 0]\n",
      "\n",
      "3\n"
     ]
    }
   ],
   "source": [
    "from typing import List\n",
    "\n",
    "def countSubIslands(grid1: List[List[int]], grid2: List[List[int]]) -> int: \n",
    "\n",
    "    def DFS(i,j):\n",
    "        if i < 0 or j < 0 or i >=len(grid2) or j >= len(grid2[0]) or grid2[i][j]==0:\n",
    "            return True\n",
    "        \n",
    "        #visited\n",
    "        grid2[i][j] = 0\n",
    "\n",
    "        #check grid1 is 1 too\n",
    "        is_sub_island = grid1[i][j] == 1\n",
    "\n",
    "        #four direction\n",
    "        is_sub_island &= DFS(i+1,j)\n",
    "        is_sub_island &= DFS(i-1,j)\n",
    "        is_sub_island &= DFS(i,j+1)\n",
    "        is_sub_island &= DFS(i,j-1)\n",
    "        \n",
    "        return is_sub_island\n",
    "    count = 0\n",
    "    for i in range(len(grid2)):\n",
    "        for j in range(len(grid2[0])):\n",
    "            if grid2[i][j]==1:\n",
    "                \n",
    "                if DFS(i,j):\n",
    "                    #for a in range(len(grid2)):\n",
    "                            #print(grid2[a])\n",
    "                    print()\n",
    "                    count += 1\n",
    "    return count\n",
    "\n",
    "\n",
    "grid1 = [\n",
    "    [1,1,1,0,0],\n",
    "    [0,1,1,1,1],\n",
    "    [0,0,0,0,0],\n",
    "    [1,0,0,0,0],\n",
    "    [1,1,0,1,1]\n",
    "]\n",
    "grid2 = [\n",
    "    [1,1,1,0,0],\n",
    "    [0,0,1,1,1],\n",
    "    [0,1,0,0,0],\n",
    "    [1,0,1,1,0],\n",
    "    [0,1,0,1,0]\n",
    "]\n",
    "\n",
    "print(countSubIslands(grid1, grid2))  # 输出应该是3"
   ]
  },
  {
   "cell_type": "code",
   "execution_count": 12,
   "metadata": {},
   "outputs": [
    {
     "data": {
      "text/plain": [
       "False"
      ]
     },
     "execution_count": 12,
     "metadata": {},
     "output_type": "execute_result"
    }
   ],
   "source": [
    "is_sub_island = True\n",
    "is_sub_island &= False\n",
    "is_sub_island &= True\n",
    "is_sub_island"
   ]
  },
  {
   "cell_type": "code",
   "execution_count": null,
   "metadata": {},
   "outputs": [],
   "source": []
  }
 ],
 "metadata": {
  "kernelspec": {
   "display_name": "Python 3",
   "language": "python",
   "name": "python3"
  },
  "language_info": {
   "codemirror_mode": {
    "name": "ipython",
    "version": 3
   },
   "file_extension": ".py",
   "mimetype": "text/x-python",
   "name": "python",
   "nbconvert_exporter": "python",
   "pygments_lexer": "ipython3",
   "version": "3.7.9"
  }
 },
 "nbformat": 4,
 "nbformat_minor": 2
}
