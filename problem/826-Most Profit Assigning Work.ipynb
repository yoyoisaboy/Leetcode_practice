{
 "cells": [
  {
   "cell_type": "markdown",
   "metadata": {},
   "source": [
    "# 826. Most Profit Assigning Work\n",
    "https://leetcode.com/problems/most-profit-assigning-work/description/?envType=daily-question&envId=2024-06-18"
   ]
  },
  {
   "cell_type": "code",
   "execution_count": 22,
   "metadata": {},
   "outputs": [],
   "source": [
    "from typing import List,Tuple\n",
    "\n",
    "difficulty = [66,1,28,73,53,35,45,60,100,44,59,94,27,88,7,18,83,18,72,63]\n",
    "profit = [66,20,84,81,56,40,37,82,53,45,43,96,67,27,12,54,98,19,47,77]\n",
    "worker = [61,33,68,38,63,45,1,10,53,23,66,70,14,51,94,18,28,78,100,16]\n",
    "#1392"
   ]
  },
  {
   "cell_type": "code",
   "execution_count": 20,
   "metadata": {},
   "outputs": [],
   "source": [
    "# greedy、two points\n",
    "def maxProfitAssignment(difficulty: List[int], profit: List[int], worker: List[int]) -> int:\n",
    "    s_d_mix_p = sorted(zip(difficulty,profit)) #小到大\n",
    "    s_worker = sorted(worker)\n",
    "    ans = 0\n",
    "    max_p = 0\n",
    "    loc = 0\n",
    "    for w in s_worker: \n",
    "        while loc<len(s_d_mix_p) and w >= s_d_mix_p[loc][0]:\n",
    "            max_p = max(max_p,s_d_mix_p[loc][1])\n",
    "            loc+=1\n",
    "        ans += max_p\n",
    "    return ans"
   ]
  },
  {
   "cell_type": "code",
   "execution_count": 21,
   "metadata": {},
   "outputs": [
    {
     "data": {
      "text/plain": [
       "1392"
      ]
     },
     "execution_count": 21,
     "metadata": {},
     "output_type": "execute_result"
    }
   ],
   "source": [
    "maxProfitAssignment(difficulty, profit, worker)"
   ]
  },
  {
   "cell_type": "code",
   "execution_count": null,
   "metadata": {},
   "outputs": [],
   "source": [
    "# not mycode binary tree\n",
    "\n",
    "def maxProfitAssignment(difficulty: List[int], profit: List[int], worker: List[int]) -> int:\n",
    "    infos = sorted(zip(difficulty, profit))\n",
    "    max_profit_for_difficulty = []\n",
    "    max_profit = 0\n",
    "    #難度與利潤要成正比，把例外拿掉\n",
    "    for d, p in infos:\n",
    "        max_profit = max(max_profit, p)\n",
    "        max_profit_for_difficulty.append((d, max_profit))\n",
    "    \n",
    "    total_profit = 0\n",
    "    for w in worker:\n",
    "        # 找w與d最接近的位置\n",
    "        index = binary_search(max_profit_for_difficulty, w)\n",
    "        # 確認這位置 and 確認位置的d是w可以做的\n",
    "        if index >= 0 and w >= max_profit_for_difficulty[index][0]:\n",
    "            total_profit += max_profit_for_difficulty[index][1]\n",
    "    return total_profit\n",
    "\n",
    "def binary_search(max_profit_for_difficulty: List[Tuple[int, int]], target: int) -> int:\n",
    "    left, right = 0, len(max_profit_for_difficulty) - 1\n",
    "    while left <= right:\n",
    "        mid = (left + right) // 2\n",
    "        if max_profit_for_difficulty[mid][0] <= target:\n",
    "            left = mid + 1\n",
    "        else:\n",
    "            right = mid - 1\n",
    "    return right"
   ]
  }
 ],
 "metadata": {
  "kernelspec": {
   "display_name": "Python 3",
   "language": "python",
   "name": "python3"
  },
  "language_info": {
   "codemirror_mode": {
    "name": "ipython",
    "version": 3
   },
   "file_extension": ".py",
   "mimetype": "text/x-python",
   "name": "python",
   "nbconvert_exporter": "python",
   "pygments_lexer": "ipython3",
   "version": "3.7.9"
  }
 },
 "nbformat": 4,
 "nbformat_minor": 2
}
