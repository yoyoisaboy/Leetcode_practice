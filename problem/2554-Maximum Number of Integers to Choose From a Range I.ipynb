{
 "cells": [
  {
   "cell_type": "markdown",
   "metadata": {},
   "source": [
    "# 2554. Maximum Number of Integers to Choose From a Range I\n",
    "https://leetcode.com/problems/maximum-number-of-integers-to-choose-from-a-range-i/description/?envType=daily-question&envId=2024-12-06"
   ]
  },
  {
   "cell_type": "code",
   "execution_count": 1,
   "metadata": {},
   "outputs": [
    {
     "data": {
      "text/plain": [
       "2"
      ]
     },
     "execution_count": 1,
     "metadata": {},
     "output_type": "execute_result"
    }
   ],
   "source": [
    "from typing import List\n",
    "\n",
    "\n",
    "banned = [1,6,5]\n",
    "n = 5\n",
    "maxSum = 6\n",
    "\n",
    "def maxCount(banned: List[int], n: int, maxSum: int) -> int:\n",
    "    set_banned = set(banned)\n",
    "    total_sum = 0\n",
    "    count = 0\n",
    "\n",
    "    for i in range(1,n+1):\n",
    "        if i in set_banned:\n",
    "            continue\n",
    "        total_sum += i\n",
    "        if total_sum > maxSum:\n",
    "            break\n",
    "        count += 1\n",
    "    return count\n",
    "\n",
    "maxCount(banned,n,maxSum)\n",
    "\n"
   ]
  },
  {
   "cell_type": "code",
   "execution_count": null,
   "metadata": {},
   "outputs": [],
   "source": []
  }
 ],
 "metadata": {
  "kernelspec": {
   "display_name": "Python 3",
   "language": "python",
   "name": "python3"
  },
  "language_info": {
   "codemirror_mode": {
    "name": "ipython",
    "version": 3
   },
   "file_extension": ".py",
   "mimetype": "text/x-python",
   "name": "python",
   "nbconvert_exporter": "python",
   "pygments_lexer": "ipython3",
   "version": "3.7.9"
  }
 },
 "nbformat": 4,
 "nbformat_minor": 2
}
