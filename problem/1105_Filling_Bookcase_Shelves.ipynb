{
  "nbformat": 4,
  "nbformat_minor": 0,
  "metadata": {
    "colab": {
      "provenance": []
    },
    "kernelspec": {
      "name": "python3",
      "display_name": "Python 3"
    },
    "language_info": {
      "name": "python"
    }
  },
  "cells": [
    {
      "cell_type": "markdown",
      "source": [
        "# 1105. Filling Bookcase Shelves\n",
        "https://leetcode.com/problems/filling-bookcase-shelves/description/?envType=daily-question&envId=2024-07-30"
      ],
      "metadata": {
        "id": "3M44PkDpISpH"
      }
    },
    {
      "cell_type": "code",
      "source": [
        "# Error : 會有例外\n",
        "from typing import List\n",
        "\n",
        "def minHeightShelves(books: List[List[int]], shelfWidth: int) -> int:\n",
        "  # 依書本面積由大到小排序\n",
        "  books.sort(key=lambda x: x[0] * x[1], reverse=True)\n",
        "\n",
        "  # 初始化總高度和目前層的寬度和高度\n",
        "  totalHeight = 0\n",
        "  currentWidth = 0\n",
        "  currentHeight = 0\n",
        "\n",
        "  for thickness, height in books:\n",
        "      # 如果目前層放不下這本書，則開始新的一層\n",
        "      if currentWidth + thickness > shelfWidth:\n",
        "          totalHeight += currentHeight\n",
        "          currentWidth = thickness\n",
        "          currentHeight = height\n",
        "      else:\n",
        "          # 否則，繼續放在當前層\n",
        "          currentWidth += thickness\n",
        "          currentHeight = max(currentHeight, height)\n",
        "\n",
        "  # 不要忘記添加最後一層的高度\n",
        "  totalHeight += currentHeight\n",
        "\n",
        "  return totalHeight\n",
        "\n",
        "shelfWidth  = 4\n",
        "books = [[1,1],[2,3],[2,3],[1,1],[1,1],[1,1],[1,2]]\n",
        "# books = [[7,3],[8,7],[2,7],[2,5]]\n",
        "minHeightShelves(books,shelfWidth)"
      ],
      "metadata": {
        "colab": {
          "base_uri": "https://localhost:8080/"
        },
        "id": "UCQxfcyqMVol",
        "outputId": "06963cab-4535-42bb-db40-0dc875ce3319"
      },
      "execution_count": 17,
      "outputs": [
        {
          "output_type": "execute_result",
          "data": {
            "text/plain": [
              "6"
            ]
          },
          "metadata": {},
          "execution_count": 17
        }
      ]
    },
    {
      "cell_type": "code",
      "execution_count": 13,
      "metadata": {
        "id": "5g_8Kb6Fzawx"
      },
      "outputs": [],
      "source": [
        "#GPT\n",
        "def minHeightShelves(books: List[List[int]], shelfWidth: int) -> int:\n",
        "  n = len(books)\n",
        "  dp = [float('Inf')]*(n+1)\n",
        "  dp[0] = 0 #第一層沒放書，記錄每一本書慢慢放到書架的最小高度\n",
        "\n",
        "  for i in range(1,n+1):\n",
        "    total_width = 0\n",
        "    max_height = 0\n",
        "    j = i\n",
        "    while j > 0: #往回推之前的書\n",
        "      total_width += books[j-1][0]\n",
        "      if total_width > shelfWidth:\n",
        "        break\n",
        "      max_height = max(max_height,books[j-1][1]) #\n",
        "      dp[i] = min(dp[i],dp[j-1]+max_height) #放新的一層 / 放同一曾\n",
        "      j -= 1\n",
        "  return dp[n]\n"
      ]
    },
    {
      "cell_type": "code",
      "source": [
        "shelfWidth  = 4\n",
        "books = [[1,1],[2,3],[2,3],[1,1],[1,1],[1,1],[1,2]]\n",
        "\n",
        "minHeightShelves(books,shelfWidth)"
      ],
      "metadata": {
        "id": "TtoHHEsMLkdL",
        "colab": {
          "base_uri": "https://localhost:8080/"
        },
        "outputId": "d608845e-7c09-4d5b-f536-5d83431bf399"
      },
      "execution_count": 15,
      "outputs": [
        {
          "output_type": "execute_result",
          "data": {
            "text/plain": [
              "6"
            ]
          },
          "metadata": {},
          "execution_count": 15
        }
      ]
    },
    {
      "cell_type": "markdown",
      "source": [
        "* 初始化\n",
        "  書的數量n = 7。\n",
        "  \n",
        "  初始化dp數組：dp = [0, inf, inf, inf, inf, inf, inf, inf]。\n",
        "\n",
        "  計算dp\n",
        "\n",
        "  我們需要計算從dp[1]到dp[7]的值。\n",
        "\n",
        "* 計算dp[1]\n",
        "\n",
        "  目前書本：books[0] = [1, 1]。\n",
        "\n",
        "  total_width = 1，max_height = 1。\n",
        "\n",
        "  更新dp[1]：dp[1] = min(dp[1], dp[0] + max_height) = min(inf, 0 + 1) = 1。\n",
        "\n",
        "  結果：dp = [0, 1, inf, inf, inf, inf, inf, inf]。\n",
        "\n",
        "* 計算dp[2]\n",
        "\n",
        "  目前書本：books[1] = [2, 3]。\n",
        "\n",
        "  嘗試將其放在同一層或新的一層：\n",
        "\n",
        "  放在同一層：\n",
        "\n",
        "  total_width = 2，max_height = 3。\n",
        "\n",
        "  dp[2] = min(dp[2], dp[1] + max_height) = min(inf, 1 + 3) = 4。\n",
        "\n",
        "  放在新的一層：\n",
        "\n",
        "  total_width = 3，max_height = 3。\n",
        "\n",
        "  dp[2] = min(dp[2], dp[0] + max_height) = min(4, 0 + 3) = 3。\n",
        "\n",
        "  結果：dp = [0, 1, 3, inf, inf, inf, inf, inf]。\n",
        "\n",
        "* 計算dp[3]\n",
        "\n",
        "  目前書本：books[2] = [2, 3]。\n",
        "\n",
        "  嘗試將其放在同一層或新的一層：\n",
        "\n",
        "  放在同一層：\n",
        "\n",
        "  total_width = 2，max_height = 3。\n",
        "\n",
        "  dp[3] = min(dp[3], dp[2] + max_height) = min(inf, 3 + 3) = 6。\n",
        "\n",
        "  放在新的一層：\n",
        "\n",
        "  total_width = 3，max_height = 3。\n",
        "\n",
        "  dp[3] = min(dp[3], dp[1] + max_height) = min(6, 1 + 3) = 4。\n",
        "\n",
        "  結果：dp = [0, 1, 3, 4, inf, inf, inf, inf]。\n",
        "\n",
        "\n",
        "* 計算dp[4]\n",
        "\n",
        "  目前書本：books[3] = [1, 1]。\n",
        "\n",
        "  嘗試將其放在同一層或新的一層：\n",
        "\n",
        "  放在同一層：\n",
        "\n",
        "  total_width = 1，max_height = 1。\n",
        "\n",
        "  dp[4] = min(dp[4], dp[3] + max_height) = min(inf, 4 + 1) = 5。\n",
        "\n",
        "  放在新的一層：\n",
        "\n",
        "  total_width = 3，max_height = 3。\n",
        "\n",
        "  dp[4] = min(dp[4], dp[2] + max_height) = min(5, 3 + 3) = 5。\n",
        "\n",
        "  結果：dp = [0, 1, 3, 4, 5, inf, inf, inf]。\n",
        "\n",
        "* 計算dp[5]\n",
        "\n",
        "  目前書本：books[4] = [1, 1]。\n",
        "\n",
        "  嘗試將其放在同一層或新的一層：\n",
        "\n",
        "  放在同一層：\n",
        "\n",
        "  total_width = 1，max_height = 1。\n",
        "\n",
        "  dp[5] = min(dp[5], dp[4] + max_height) = min(inf, 5 + 1) = 6。\n",
        "\n",
        "  放在新的一層：\n",
        "\n",
        "  total_width = 3，max_height = 3。\n",
        "\n",
        "  dp[5] = min(dp[5], dp[2] + max_height) = min(6, 3 + 3) = 6。\n",
        "\n",
        "  結果：dp = [0, 1, 3, 4, 5, 6, inf, inf]。\n",
        "\n",
        "* 計算dp[6]\n",
        "\n",
        "  目前書本：books[5] = [1, 1]。\n",
        "\n",
        "  嘗試將其放在同一層或新的一層：\n",
        "\n",
        "  放在同一層：\n",
        "\n",
        "  total_width = 1，max_height = 1。\n",
        "\n",
        "  dp[6] = min(dp[6], dp[5] + max_height) = min(inf, 6 + 1) = 7。\n",
        "\n",
        "  放在新的一層：\n",
        "\n",
        "  total_width = 3，max_height = 3。\n",
        "\n",
        "  dp[6] = min(dp[6], dp[2] + max_height) = min(7, 3 + 3) = 6。\n",
        "\n",
        "  結果：dp = [0, 1, 3, 4, 5, 6, 6, inf]。\n",
        "\n",
        "\n",
        "* 計算dp[7]\n",
        "\n",
        "  目前書本：books[6] = [1, 2]。\n",
        "\n",
        "  嘗試將其放在同一層或新的一層：\n",
        "\n",
        "  放在同一層：\n",
        "\n",
        "  total_width = 1，max_height = 2。\n",
        "\n",
        "  dp[7] = min(dp[7], dp[6] + max_height) = min(inf, 6 + 2) = 8。\n",
        "\n",
        "  放在新的一層：\n",
        "\n",
        "  total_width = 3，max_height = 3。\n",
        "\n",
        "  dp[7] = min(dp[7], dp[2] + max_height) = min(8, 3 + 3) = 6。\n",
        "  \n",
        "  結果：dp = [0, 1, 3, 4, 5, 6, 6, 8]。"
      ],
      "metadata": {
        "id": "IA9YaHuQLAi3"
      }
    }
  ]
}