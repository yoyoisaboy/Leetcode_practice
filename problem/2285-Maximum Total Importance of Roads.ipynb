{
 "cells": [
  {
   "cell_type": "markdown",
   "metadata": {},
   "source": [
    "# 2285. Maximum Total Importance of Roads\n",
    "https://leetcode.com/problems/maximum-total-importance-of-roads/description/?envType=daily-question&envId=2024-06-28"
   ]
  },
  {
   "cell_type": "code",
   "execution_count": 93,
   "metadata": {},
   "outputs": [],
   "source": [
    "from typing import List\n",
    "\n",
    "n = 5\n",
    "roads = [[0,1],[1,2],[2,3],[0,2],[1,3],[2,4]]\n",
    "#Output: 43"
   ]
  },
  {
   "cell_type": "code",
   "execution_count": 94,
   "metadata": {},
   "outputs": [],
   "source": [
    "# 時間複雜度為 𝑂 ( 𝑛 log ⁡ 𝑛 + 𝑚 )，其中 𝑛 是城市數量， 𝑚 是道路數量。\n",
    "def maximumImportance(n: int, roads: List[List[int]]) -> int:\n",
    "    road_connect_count = [0]*n\n",
    "    \n",
    "    for country1,country2 in roads:\n",
    "        road_connect_count[country1] += 1\n",
    "        road_connect_count[country2] += 1\n",
    "    # 根據道路數量(road_connect_count)排序後找城市的名稱range(n)\n",
    "    sorted_cities = sorted(range(n),key=lambda r: road_connect_count[r],reverse=True)\n",
    "    #依照排序從n-(0~i)分配城市值\n",
    "    value = [0]*n\n",
    "    for i in range(n):\n",
    "        value[sorted_cities[i]] = n - i\n",
    "    \n",
    "    total = 0\n",
    "    for r1,r2 in roads:\n",
    "        total += (value[r1]+value[r2])\n",
    "    return total"
   ]
  },
  {
   "cell_type": "code",
   "execution_count": 95,
   "metadata": {},
   "outputs": [
    {
     "data": {
      "text/plain": [
       "43"
      ]
     },
     "execution_count": 95,
     "metadata": {},
     "output_type": "execute_result"
    }
   ],
   "source": [
    "maximumImportance(n,roads)"
   ]
  },
  {
   "cell_type": "code",
   "execution_count": 96,
   "metadata": {},
   "outputs": [
    {
     "data": {
      "text/plain": [
       "20"
      ]
     },
     "execution_count": 96,
     "metadata": {},
     "output_type": "execute_result"
    }
   ],
   "source": [
    "n = 5\n",
    "roads = [[0,3],[2,4],[1,3]]\n",
    "maximumImportance(n,roads)"
   ]
  },
  {
   "cell_type": "markdown",
   "metadata": {},
   "source": [
    "# GPT\n",
    "## Heap\n",
    "如果使用堆（Heap）的方法來解決這個問題，我們可以利用最大堆來存儲城市的度數，這樣我們可以高效地取出度數最大的城市並給它分配最大的值。具體步驟如下：\n",
    "\n",
    "1. 計算每個城市的度數。\n",
    "2. 使用最大堆將城市按度數存儲。\n",
    "3. 按度數從大到小的順序，將值從最大分配到最小。\n",
    "4. 計算總重要性。\n",
    "## 實現\n",
    "以下是使用最大堆的 Python 代碼實現："
   ]
  },
  {
   "cell_type": "code",
   "execution_count": 100,
   "metadata": {},
   "outputs": [
    {
     "name": "stdout",
     "output_type": "stream",
     "text": [
      "[2, 3, 4, 2, 1]\n",
      "[(-4, 2), (-2, 0), (-3, 1), (-2, 3), (-1, 4)]\n",
      "43\n",
      "[1, 1, 1, 2, 1]\n",
      "[(-2, 3), (-1, 0), (-1, 2), (-1, 1), (-1, 4)]\n",
      "20\n"
     ]
    }
   ],
   "source": [
    "import heapq\n",
    "\n",
    "def maximumImportance(n, roads):\n",
    "    # 計算每個城市的度數\n",
    "    degree = [0] * n\n",
    "    for a, b in roads:\n",
    "        degree[a] += 1\n",
    "        degree[b] += 1\n",
    "    print(degree)\n",
    "    # 使用最大堆存儲城市和度數(父(母)節點的值永遠大於等於子節點的值，所以*-1)\n",
    "    max_heap = []\n",
    "    for i in range(n):\n",
    "        heapq.heappush(max_heap, (-degree[i], i))\n",
    "    print(max_heap)\n",
    "    # 分配城市值，度數最高的城市分配最大值\n",
    "    value = [0] * n\n",
    "    current_value = n\n",
    "    while max_heap:\n",
    "        _, city = heapq.heappop(max_heap)\n",
    "        value[city] = current_value\n",
    "        current_value -= 1\n",
    "    \n",
    "    # 計算總重要性\n",
    "    total_importance = 0\n",
    "    for a, b in roads:\n",
    "        total_importance += value[a] + value[b]\n",
    "    \n",
    "    return total_importance\n",
    "\n",
    "# 範例使用\n",
    "n1 = 5\n",
    "roads1 = [[0,1],[1,2],[2,3],[0,2],[1,3],[2,4]]\n",
    "print(maximumImportance(n1, roads1))  # 預期輸出: 43\n",
    "\n",
    "n2 = 5\n",
    "roads2 = [[0,3],[2,4],[1,3]]\n",
    "print(maximumImportance(n2, roads2))  # 預期輸出: 20\n"
   ]
  },
  {
   "cell_type": "markdown",
   "metadata": {},
   "source": [
    "代碼解釋\n",
    "1. 計算度數：\n",
    "\n",
    "    * 使用一個數組 degree 來存儲每個城市的度數。\n",
    "    * 遍歷每條道路，更新 degree 中相應城市的值。\n",
    "2. 使用最大堆：\n",
    "\n",
    "    * 我們將每個城市及其度數的負值存入最大堆中（因為 Python 的 heapq 是最小堆，我們使用負值來模擬最大堆）。\n",
    "3. 分配值：\n",
    "\n",
    "    * 使用最大堆按度數從大到小順序取出城市並分配值，度數最大的城市分配最大值 n，依次遞減。\n",
    "4. 計算總重要性：\n",
    "\n",
    "    * 遍歷每條道路，計算所有道路的重要性總和。\n",
    "\n",
    "這種方法的時間複雜度也是 \n",
    "是道路數量，但使用堆的方法可以更高效地處理度數的排序問題。\n",
    "這種方法的時間複雜度也是 𝑂 ( 𝑛 log ⁡ 𝑛 + 𝑚 )，其中 𝑛  是城市數量， 𝑚  是道路數量，但使用堆的方法可以更高效地處理度數的排序問題。"
   ]
  },
  {
   "cell_type": "markdown",
   "metadata": {},
   "source": [
    "## Graph\n",
    "使用圖的方法來解決這個問題可以將城市和道路視為圖中的節點和邊。我們可以建立一個鄰接表來表示圖，然後計算每個城市的度數，接著根據度數分配值，並計算所有道路的重要性。具體步驟如下： \n",
    "1. 建立鄰接表來表示圖。 \n",
    "2. 計算每個城市的度數。 \n",
    "3. 根據度數從高到低分配值。 \n",
    "4. 計算總重要性。 \n",
    "## 實現 \n",
    "以下是使用圖的方法的 Python 程式碼實作："
   ]
  },
  {
   "cell_type": "code",
   "execution_count": 101,
   "metadata": {},
   "outputs": [
    {
     "name": "stdout",
     "output_type": "stream",
     "text": [
      "defaultdict(<class 'list'>, {0: [1, 2], 1: [0, 2, 3], 2: [1, 3, 0, 4], 3: [2, 1], 4: [2]})\n",
      "43\n",
      "defaultdict(<class 'list'>, {0: [3], 3: [0, 1], 2: [4], 4: [2], 1: [3]})\n",
      "20\n"
     ]
    }
   ],
   "source": [
    "def maximumImportance(n, roads):\n",
    "    from collections import defaultdict\n",
    "    \n",
    "    # 构建邻接表\n",
    "    graph = defaultdict(list)\n",
    "    for a, b in roads:\n",
    "        graph[a].append(b)\n",
    "        graph[b].append(a)\n",
    "    print(graph)\n",
    "    # 计算每个城市的度数\n",
    "    degree = [0] * n\n",
    "    for node in graph:\n",
    "        degree[node] = len(graph[node])\n",
    "    \n",
    "    # 将城市按度数从大到小排序\n",
    "    sorted_cities = sorted(range(n), key=lambda x: degree[x], reverse=True)\n",
    "    \n",
    "    # 分配城市值，度数最高的城市分配最大值\n",
    "    value = [0] * n\n",
    "    current_value = n\n",
    "    for city in sorted_cities:\n",
    "        value[city] = current_value\n",
    "        current_value -= 1\n",
    "    \n",
    "    # 计算总重要性\n",
    "    total_importance = 0\n",
    "    for a, b in roads:\n",
    "        total_importance += value[a] + value[b]\n",
    "    \n",
    "    return total_importance\n",
    "\n",
    "# 示例使用\n",
    "n1 = 5\n",
    "roads1 = [[0, 1], [1, 2], [2, 3], [0, 2], [1, 3], [2, 4]]\n",
    "print(maximumImportance(n1, roads1))  # 预期输出: 43\n",
    "\n",
    "n2 = 5\n",
    "roads2 = [[0, 3], [2, 4], [1, 3]]\n",
    "print(maximumImportance(n2, roads2))  # 预期输出: 20\n"
   ]
  },
  {
   "cell_type": "markdown",
   "metadata": {},
   "source": [
    "## 程式碼解釋 \n",
    "1. 建構鄰接表： \n",
    "    * 使用 defaultdict 建立一個鄰接表 graph 來儲存每個城市的鄰居城市。 \n",
    "    * 遍歷每條道路，將每個城市的鄰居城市加入鄰接表。 \n",
    "2. 計算度數： \n",
    "    * 建立一個陣列 degree 來儲存每個城市的度數。 \n",
    "    * 遍歷鄰接表，計算每個城市的度數並儲存在 degree 陣列中。 \n",
    "3. 排序城市： \n",
    "    * 使用 sorted 函數對城市進行排序，依據每個城市的度數由大到小排序。 \n",
    "    * 得到排序後的城市列表 sorted_cities。 \n",
    "4. 分配值： \n",
    "    * 根據排序結果，給每個城市分配值，度數最大的城市分配最大值 n，依序遞減。 \n",
    "5. 計算總重要性： \n",
    "    * 遍歷每條道路，計算所有道路的重要性總和。\n",
    "\n",
    "這種方法的時間複雜度為 𝑂 ( 𝑛 log ⁡ 𝑛 + 𝑚 )，其中 𝑛  是城市數量， 𝑚 是道路數量。透過使用鄰接表來表示圖和計算度數，我們可以有效率地實現這個問題的解決方案。"
   ]
  }
 ],
 "metadata": {
  "kernelspec": {
   "display_name": "Python 3",
   "language": "python",
   "name": "python3"
  },
  "language_info": {
   "codemirror_mode": {
    "name": "ipython",
    "version": 3
   },
   "file_extension": ".py",
   "mimetype": "text/x-python",
   "name": "python",
   "nbconvert_exporter": "python",
   "pygments_lexer": "ipython3",
   "version": "3.7.9"
  }
 },
 "nbformat": 4,
 "nbformat_minor": 2
}
