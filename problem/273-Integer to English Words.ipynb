{
 "cells": [
  {
   "cell_type": "markdown",
   "metadata": {},
   "source": [
    "# 273. Integer to English Words\n",
    "https://leetcode.com/problems/integer-to-english-words/description/?envType=daily-question&envId=2024-08-07"
   ]
  },
  {
   "cell_type": "code",
   "execution_count": 31,
   "metadata": {},
   "outputs": [],
   "source": [
    "from typing import List\n",
    "\n",
    "\n",
    "def numberToWords(num: int) -> str:\n",
    "     \n",
    "    d = {0: \"Zero\",\n",
    "        1: \"One\",\n",
    "        2: \"Two\",\n",
    "        3: \"Three\",\n",
    "        4: \"Four\",\n",
    "        5: \"Five\",\n",
    "        6: \"Six\",\n",
    "        7: \"Seven\",\n",
    "        8: \"Eight\",\n",
    "        9: \"Nine\",\n",
    "        10: \"Ten\",\n",
    "        11: \"Eleven\",\n",
    "        12: \"Twelve\",\n",
    "        13: \"Thirteen\",\n",
    "        14: \"Fourteen\",\n",
    "        15: \"Fifteen\",\n",
    "        16: \"Sixteen\",\n",
    "        17: \"Seventeen\",\n",
    "        18: \"Eighteen\",\n",
    "        19: \"Nineteen\",\n",
    "        20: \"Twenty\",\n",
    "        30: \"Thirty\",\n",
    "        40: \"Forty\",\n",
    "        50: \"Fifty\",\n",
    "        60: \"Sixty\",\n",
    "        70: \"Seventy\",\n",
    "        80: \"Eighty\",\n",
    "        90: \"Ninety\",\n",
    "        100: \"Hundred\",\n",
    "        1000: \"Thousand\",\n",
    "        1000000: \"Million\",\n",
    "        1000000000: \"Billion\"\n",
    "        }\n",
    "    if num == 0:\n",
    "        return d[num]\n",
    "    def hundred_check(number):\n",
    "        words = \"\"\n",
    "        temp = number//100\n",
    "        if temp!=0:\n",
    "            words = words+ \" \" + d[temp]+ \" \"+d[100]\n",
    "        temp = number//10\n",
    "        if temp!=0:\n",
    "            ten_digits = temp % 10\n",
    "            remainder = number % 10\n",
    "            if ten_digits > 1:\n",
    "                if remainder !=0:\n",
    "                    words = words + \" \" + d[ten_digits*10] + \" \" + d[remainder]\n",
    "                else:\n",
    "                    words = words + \" \" + d[ten_digits*10]\n",
    "            else:\n",
    "                if ten_digits*10+remainder > 0:\n",
    "                    words = words+ \" \" + d[ten_digits*10+remainder]\n",
    "        \n",
    "        if len(words)==0:\n",
    "            words = \" \" + d[number]\n",
    "        return words\n",
    "\n",
    "    temp_num = num\n",
    "    ans = \"\"\n",
    "\n",
    "    #Billion\n",
    "    number = temp_num // 1000000000\n",
    "    if number != 0 :\n",
    "        temp_str = hundred_check(number)\n",
    "        ans += temp_str+\" \"+d[1000000000]\n",
    "    #Million\n",
    "    number = temp_num // 1000000\n",
    "    if number != 0 :\n",
    "        number = number%1000\n",
    "        temp_str = hundred_check(number)\n",
    "        if temp_str != \" Zero\":\n",
    "            ans += temp_str+\" \"+d[1000000]\n",
    "    #Thousand\n",
    "    number = temp_num // 1000\n",
    "    if number != 0 :\n",
    "        number = number%1000\n",
    "        temp_str = hundred_check(number)\n",
    "        if temp_str != \" Zero\":\n",
    "            ans += temp_str+\" \"+d[1000]\n",
    "    #else\n",
    "    number = temp_num % 1000\n",
    "    if number != 0 :\n",
    "        number = number%1000\n",
    "        temp_str = hundred_check(number)\n",
    "        if temp_str != \" Zero\":\n",
    "            ans += temp_str\n",
    "    \n",
    "    return ans.strip(' ')\n",
    "\n"
   ]
  },
  {
   "cell_type": "code",
   "execution_count": 32,
   "metadata": {},
   "outputs": [
    {
     "name": "stdout",
     "output_type": "stream",
     "text": [
      "\n"
     ]
    },
    {
     "data": {
      "text/plain": [
       "'One Hundred Twenty Three'"
      ]
     },
     "execution_count": 32,
     "metadata": {},
     "output_type": "execute_result"
    }
   ],
   "source": [
    "num = 123\n",
    "#Output: \"One Hundred Twenty Three One Hundred Twenty Three\"\n",
    "\n",
    "numberToWords(num)"
   ]
  },
  {
   "cell_type": "code",
   "execution_count": 29,
   "metadata": {},
   "outputs": [
    {
     "name": "stdout",
     "output_type": "stream",
     "text": [
      " One Billion Two Hundred Thirty Four Million Five Hundred Sixty Seven Thousand\n"
     ]
    },
    {
     "data": {
      "text/plain": [
       "'One Billion Two Hundred Thirty Four Million Five Hundred Sixty Seven Thousand Eight Hundred Ninety One Eight Hundred Ninety One'"
      ]
     },
     "execution_count": 29,
     "metadata": {},
     "output_type": "execute_result"
    }
   ],
   "source": [
    "\n",
    "num = 1234567891\n",
    "#Output: \"One Billion Two Hundred Thirty Four Million Five Hundred Sixty Seven Thousand Eight Hundred Ninety One\"\n",
    "\n",
    "numberToWords(num)\n"
   ]
  },
  {
   "cell_type": "code",
   "execution_count": 17,
   "metadata": {},
   "outputs": [
    {
     "data": {
      "text/plain": [
       "'Twelve Thousand Three Hundred Forty Five Three Hundred Forty Five'"
      ]
     },
     "execution_count": 17,
     "metadata": {},
     "output_type": "execute_result"
    }
   ],
   "source": [
    "num = 12345\n",
    "#Output: \"Twelve Thousand Three Hundred Forty Five\"\n",
    "\n",
    "numberToWords(num)"
   ]
  },
  {
   "cell_type": "code",
   "execution_count": 18,
   "metadata": {},
   "outputs": [
    {
     "data": {
      "text/plain": [
       "'Two Hundred Two Hundred'"
      ]
     },
     "execution_count": 18,
     "metadata": {},
     "output_type": "execute_result"
    }
   ],
   "source": [
    "num = 200\n",
    "\n",
    "numberToWords(num)"
   ]
  },
  {
   "cell_type": "code",
   "execution_count": 19,
   "metadata": {},
   "outputs": [
    {
     "data": {
      "text/plain": [
       "'One Thousand One One'"
      ]
     },
     "execution_count": 19,
     "metadata": {},
     "output_type": "execute_result"
    }
   ],
   "source": [
    "num = 1001\n",
    "\n",
    "numberToWords(num)"
   ]
  },
  {
   "cell_type": "code",
   "execution_count": 20,
   "metadata": {},
   "outputs": [
    {
     "data": {
      "text/plain": [
       "'One Billion'"
      ]
     },
     "execution_count": 20,
     "metadata": {},
     "output_type": "execute_result"
    }
   ],
   "source": [
    "num = 1000000000\n",
    "\n",
    "numberToWords(num)"
   ]
  },
  {
   "cell_type": "code",
   "execution_count": 21,
   "metadata": {},
   "outputs": [
    {
     "data": {
      "text/plain": [
       "'Ten Thousand'"
      ]
     },
     "execution_count": 21,
     "metadata": {},
     "output_type": "execute_result"
    }
   ],
   "source": [
    "num = 10000\n",
    "\n",
    "numberToWords(num)"
   ]
  },
  {
   "cell_type": "code",
   "execution_count": null,
   "metadata": {},
   "outputs": [],
   "source": []
  },
  {
   "cell_type": "code",
   "execution_count": null,
   "metadata": {},
   "outputs": [],
   "source": [
    "# GPT\n",
    "def numberToWords(num):\n",
    "    if num == 0:\n",
    "        return \"Zero\"\n",
    "\n",
    "    below_20 = [\"\", \"One\", \"Two\", \"Three\", \"Four\", \"Five\", \"Six\", \"Seven\", \"Eight\", \"Nine\", \"Ten\", \n",
    "                \"Eleven\", \"Twelve\", \"Thirteen\", \"Fourteen\", \"Fifteen\", \"Sixteen\", \"Seventeen\", \n",
    "                \"Eighteen\", \"Nineteen\"]\n",
    "    \n",
    "    tens = [\"\", \"\", \"Twenty\", \"Thirty\", \"Forty\", \"Fifty\", \"Sixty\", \"Seventy\", \"Eighty\", \"Ninety\"]\n",
    "    \n",
    "    thousands = [\"\", \"Thousand\", \"Million\", \"Billion\"]\n",
    "\n",
    "    def helper(n):\n",
    "        if n == 0:\n",
    "            return \"\"\n",
    "        elif n < 20:\n",
    "            return below_20[n] + \" \"\n",
    "        elif n < 100:\n",
    "            return tens[n // 10] + \" \" + helper(n % 10)\n",
    "        else:\n",
    "            return below_20[n // 100] + \" Hundred \" + helper(n % 100)\n",
    "\n",
    "    res = \"\"\n",
    "    for i, unit in enumerate(thousands):\n",
    "        if num % 1000 != 0:\n",
    "            res = helper(num % 1000) + unit + \" \" + res\n",
    "        num //= 1000\n",
    "\n",
    "    return res.strip()\n",
    "\n",
    "# Examples\n",
    "print(numberToWords(123))          # Output: \"One Hundred Twenty Three\"\n",
    "print(numberToWords(12345))        # Output: \"Twelve Thousand Three Hundred Forty Five\"\n",
    "print(numberToWords(1234567))      # Output: \"One Million Two Hundred Thirty Four Thousand Five Hundred Sixty Seven\"\n"
   ]
  }
 ],
 "metadata": {
  "kernelspec": {
   "display_name": "Python 3",
   "language": "python",
   "name": "python3"
  },
  "language_info": {
   "codemirror_mode": {
    "name": "ipython",
    "version": 3
   },
   "file_extension": ".py",
   "mimetype": "text/x-python",
   "name": "python",
   "nbconvert_exporter": "python",
   "pygments_lexer": "ipython3",
   "version": "3.7.9"
  }
 },
 "nbformat": 4,
 "nbformat_minor": 2
}
