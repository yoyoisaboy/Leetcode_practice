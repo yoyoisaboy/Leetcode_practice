{
 "cells": [
  {
   "cell_type": "markdown",
   "metadata": {},
   "source": [
    "# 1310. XOR Queries of a Subarray\n",
    "https://leetcode.com/problems/xor-queries-of-a-subarray/description/?envType=daily-question&envId=2024-09-13"
   ]
  },
  {
   "cell_type": "code",
   "execution_count": 1,
   "metadata": {},
   "outputs": [
    {
     "name": "stdout",
     "output_type": "stream",
     "text": [
      "[0, 1, 2, 6, 14]\n"
     ]
    },
    {
     "data": {
      "text/plain": [
       "[2, 7, 14, 8]"
      ]
     },
     "execution_count": 1,
     "metadata": {},
     "output_type": "execute_result"
    }
   ],
   "source": [
    "from typing import List\n",
    "\n",
    "arr = [1,3,4,8]\n",
    "queries = [[0,1],[1,2],[0,3],[3,3]]\n",
    "\n",
    "def xorQueries(arr: List[int], queries: List[List[int]]) -> List[int]:\n",
    "    n = len(arr)\n",
    "    pre_xor = [0] * (n+1)\n",
    "\n",
    "    for i in range(n):\n",
    "        pre_xor[i+1] = pre_xor[i] ^ arr[i]\n",
    "    #print(pre_xor)\n",
    "    ans = []\n",
    "    for i,j in queries:\n",
    "        ans.append(pre_xor[j+1] ^ pre_xor[i])\n",
    "    return ans\n",
    "\n",
    "xorQueries(arr,queries)"
   ]
  }
 ],
 "metadata": {
  "kernelspec": {
   "display_name": "Python 3",
   "language": "python",
   "name": "python3"
  },
  "language_info": {
   "codemirror_mode": {
    "name": "ipython",
    "version": 3
   },
   "file_extension": ".py",
   "mimetype": "text/x-python",
   "name": "python",
   "nbconvert_exporter": "python",
   "pygments_lexer": "ipython3",
   "version": "3.7.9"
  }
 },
 "nbformat": 4,
 "nbformat_minor": 2
}
