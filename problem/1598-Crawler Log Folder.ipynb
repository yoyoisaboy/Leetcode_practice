{
 "cells": [
  {
   "cell_type": "markdown",
   "metadata": {},
   "source": [
    "# 1598. Crawler Log Folder\n",
    "https://leetcode.com/problems/crawler-log-folder/description/?envType=daily-question&envId=2024-07-10"
   ]
  },
  {
   "cell_type": "code",
   "execution_count": 2,
   "metadata": {},
   "outputs": [],
   "source": [
    "from typing import List\n",
    "logs = [\"d1/\",\"d2/\",\"../\",\"d21/\",\"./\"]\n"
   ]
  },
  {
   "cell_type": "code",
   "execution_count": 51,
   "metadata": {},
   "outputs": [],
   "source": [
    "def minOperations(logs: List[str]) -> int:\n",
    "\n",
    "    def move_folder(depth,loc)-> int:\n",
    "        if loc==len(logs):\n",
    "            #print(depth,loc)\n",
    "            return depth\n",
    "        if logs[loc]==\"../\":\n",
    "            if depth > 0:\n",
    "                depth-=1\n",
    "        elif logs[loc]==\"./\":\n",
    "            depth*=1\n",
    "        else:\n",
    "            depth +=1\n",
    "        return move_folder(depth,loc+1)\n",
    "\n",
    "    return move_folder(0,0)"
   ]
  },
  {
   "cell_type": "code",
   "execution_count": 52,
   "metadata": {},
   "outputs": [
    {
     "data": {
      "text/plain": [
       "2"
      ]
     },
     "execution_count": 52,
     "metadata": {},
     "output_type": "execute_result"
    }
   ],
   "source": [
    "minOperations(logs)"
   ]
  },
  {
   "cell_type": "code",
   "execution_count": null,
   "metadata": {},
   "outputs": [],
   "source": []
  }
 ],
 "metadata": {
  "kernelspec": {
   "display_name": "Python 3",
   "language": "python",
   "name": "python3"
  },
  "language_info": {
   "codemirror_mode": {
    "name": "ipython",
    "version": 3
   },
   "file_extension": ".py",
   "mimetype": "text/x-python",
   "name": "python",
   "nbconvert_exporter": "python",
   "pygments_lexer": "ipython3",
   "version": "3.7.9"
  }
 },
 "nbformat": 4,
 "nbformat_minor": 2
}
