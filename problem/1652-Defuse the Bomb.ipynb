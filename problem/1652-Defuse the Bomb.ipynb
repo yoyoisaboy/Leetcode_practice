{
 "cells": [
  {
   "cell_type": "markdown",
   "metadata": {},
   "source": [
    "# 1652. Defuse the Bomb\n",
    "https://leetcode.com/problems/defuse-the-bomb/description/?envType=daily-question&envId=2024-11-18"
   ]
  },
  {
   "cell_type": "code",
   "execution_count": 4,
   "metadata": {},
   "outputs": [
    {
     "data": {
      "text/plain": [
       "[12, 5, 6, 13]"
      ]
     },
     "execution_count": 4,
     "metadata": {},
     "output_type": "execute_result"
    }
   ],
   "source": [
    "from typing import List\n",
    "def decrypt(code: List[int], k: int) -> List[int]:\n",
    "    ans = []\n",
    "            \n",
    "    for i in range(len(code)):\n",
    "        number = code[i]\n",
    "        ans_sub = 0\n",
    "        count = k\n",
    "        j = i\n",
    "        if count >=0:\n",
    "            while(count>0):\n",
    "                j += 1\n",
    "                if j >= len(code):\n",
    "                    j = 0\n",
    "                ans_sub += code[j]\n",
    "                count-=1\n",
    "        else:\n",
    "            while(count<0):\n",
    "                j -= 1\n",
    "                ans_sub += code[j]\n",
    "                count+=1\n",
    "\n",
    "        ans.append(ans_sub)\n",
    "\n",
    "    return ans\n",
    "\n",
    "\n",
    "#code = [5,7,1,4]\n",
    "#k = 3\n",
    "code = [2,4,9,3]\n",
    "k = -2\n",
    "decrypt(code,k)"
   ]
  },
  {
   "cell_type": "code",
   "execution_count": null,
   "metadata": {},
   "outputs": [],
   "source": [
    "# GPT\n",
    "\n",
    "from typing import List\n",
    "\n",
    "def decrypt(code: List[int], k: int) -> List[int]:\n",
    "    n = len(code)\n",
    "    \n",
    "    # k == 0\n",
    "    if k == 0:\n",
    "        return [0] * n\n",
    "    \n",
    "    # 加長\n",
    "    extended_code = code * 2\n",
    "    \n",
    "    # 建立基礎窗\n",
    "    result = [0] * n\n",
    "    start, end = (1, k) if k > 0 else (n + k, n - 1)\n",
    "    window_sum = sum(extended_code[start:end+1])\n",
    "    \n",
    "    for i in range(n):\n",
    "        result[i] = window_sum\n",
    "        # 更新窗口\n",
    "        window_sum -= extended_code[start]\n",
    "        window_sum += extended_code[end + 1]\n",
    "        start += 1\n",
    "        end += 1\n",
    "    \n",
    "    return result\n",
    "\n",
    "\n",
    "print(decrypt([5, 7, 1, 4], 3))  # 輸出: [12, 10, 16, 13]\n",
    "print(decrypt([1, 2, 3, 4], 0))  # 輸出: [0, 0, 0, 0]\n",
    "print(decrypt([2, 4, 9, 3], -2)) # 輸出: [12, 5, 6, 13]"
   ]
  },
  {
   "cell_type": "code",
   "execution_count": null,
   "metadata": {},
   "outputs": [],
   "source": []
  }
 ],
 "metadata": {
  "kernelspec": {
   "display_name": "Python 3",
   "language": "python",
   "name": "python3"
  },
  "language_info": {
   "codemirror_mode": {
    "name": "ipython",
    "version": 3
   },
   "file_extension": ".py",
   "mimetype": "text/x-python",
   "name": "python",
   "nbconvert_exporter": "python",
   "pygments_lexer": "ipython3",
   "version": "3.7.9"
  }
 },
 "nbformat": 4,
 "nbformat_minor": 2
}
