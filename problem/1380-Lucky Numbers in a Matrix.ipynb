{
 "cells": [
  {
   "cell_type": "markdown",
   "metadata": {},
   "source": [
    "# 1380. Lucky Numbers in a Matrix\n",
    "https://leetcode.com/problems/lucky-numbers-in-a-matrix/description/?envType=daily-question&envId=2024-07-19"
   ]
  },
  {
   "cell_type": "code",
   "execution_count": 16,
   "metadata": {},
   "outputs": [
    {
     "data": {
      "text/plain": [
       "[15]"
      ]
     },
     "execution_count": 16,
     "metadata": {},
     "output_type": "execute_result"
    }
   ],
   "source": [
    "from typing import List\n",
    "\n",
    "def luckyNumbers(matrix: List[List[int]]) -> List[int]:\n",
    "    localmin_globalmax_ans = -float('Inf')\n",
    "    check_row_loc,check_column_loc = 0,0\n",
    "    for m in matrix:\n",
    "        localmin = min(m)\n",
    "        if localmin > localmin_globalmax_ans:\n",
    "            check_column_loc = m.index(localmin)\n",
    "            check_row_loc = matrix.index(m)\n",
    "            localmin_globalmax_ans = localmin\n",
    "    #check lucky\n",
    "    matrix.remove( matrix[check_row_loc])\n",
    "    for m in matrix:\n",
    "        if localmin_globalmax_ans < m[check_column_loc]:\n",
    "            return []\n",
    "    return [localmin_globalmax_ans]\n",
    "\n",
    "matrix = [[3,7,8],[9,11,13],[15,16,17]]\n",
    "luckyNumbers(matrix)"
   ]
  },
  {
   "cell_type": "code",
   "execution_count": 17,
   "metadata": {},
   "outputs": [
    {
     "data": {
      "text/plain": [
       "[12]"
      ]
     },
     "execution_count": 17,
     "metadata": {},
     "output_type": "execute_result"
    }
   ],
   "source": [
    "matrix = [[1,10,4,2],[9,3,8,7],[15,16,17,12]]\n",
    "luckyNumbers(matrix)"
   ]
  },
  {
   "cell_type": "code",
   "execution_count": 18,
   "metadata": {},
   "outputs": [
    {
     "data": {
      "text/plain": [
       "[]"
      ]
     },
     "execution_count": 18,
     "metadata": {},
     "output_type": "execute_result"
    }
   ],
   "source": [
    "matrix =  [[3,6],[7,1],[5,2],[4,8]]\n",
    "luckyNumbers(matrix)"
   ]
  },
  {
   "cell_type": "code",
   "execution_count": null,
   "metadata": {},
   "outputs": [],
   "source": []
  }
 ],
 "metadata": {
  "kernelspec": {
   "display_name": "Python 3",
   "language": "python",
   "name": "python3"
  },
  "language_info": {
   "codemirror_mode": {
    "name": "ipython",
    "version": 3
   },
   "file_extension": ".py",
   "mimetype": "text/x-python",
   "name": "python",
   "nbconvert_exporter": "python",
   "pygments_lexer": "ipython3",
   "version": "3.7.9"
  }
 },
 "nbformat": 4,
 "nbformat_minor": 2
}
