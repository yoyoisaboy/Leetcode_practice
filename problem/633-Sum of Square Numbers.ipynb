{
 "cells": [
  {
   "cell_type": "markdown",
   "metadata": {},
   "source": [
    "# 633. Sum of Square Numbers\n",
    "https://leetcode.com/problems/sum-of-square-numbers/description/?envType=daily-question&envId=2024-06-17"
   ]
  },
  {
   "cell_type": "code",
   "execution_count": 46,
   "metadata": {},
   "outputs": [],
   "source": [
    "from typing import List\n",
    "\n",
    "c = 540"
   ]
  },
  {
   "cell_type": "code",
   "execution_count": 47,
   "metadata": {},
   "outputs": [
    {
     "name": "stdout",
     "output_type": "stream",
     "text": [
      "540 0 2163735324878 2379000772445 False False\n"
     ]
    },
    {
     "data": {
      "text/plain": [
       "False"
      ]
     },
     "execution_count": 47,
     "metadata": {},
     "output_type": "execute_result"
    }
   ],
   "source": [
    "def judgeSquareSum(c: int) -> bool:\n",
    "\n",
    "    print(c,c%10,str((c-1)**0.5).split('.')[1],str((c)**0.5).split('.')[1],(str((c-1)**0.5).split('.')[1]=='0' and len(str((c-1)**0.5).split('.')[1])==1),(str((c)**0.5).split('.')[1]=='0' and len(str((c)**0.5).split('.')[1])==1))\n",
    "    # c = 0 、 c-1、c可以開根號\n",
    "    if c == 0 or (str((c-1)**0.5).split('.')[1]=='0' and len(str((c-1)**0.5).split('.')[1])==1) or (str((c)**0.5).split('.')[1]=='0' and len(str((c)**0.5).split('.')[1])==1):\n",
    "        return True\n",
    "    \n",
    "    # c : even\n",
    "    a = 1\n",
    "    #if c % 2 != 0:\n",
    "    # a : odd\n",
    "    while(a**2<c):\n",
    "        b = (c-a**2)**0.5\n",
    "        # b 是否可以開根號\n",
    "        if str(b).split('.')[1]=='0' and len(str(b).split('.')[1])==1: \n",
    "            return True\n",
    "        a += 2\n",
    "    \n",
    "    # a : even\n",
    "    a = 2\n",
    "    while(a**2<c):\n",
    "        b = (c-a**2)**0.5\n",
    "        # b 是否可以開根號\n",
    "        if str(b).split('.')[1]=='0' and len(str(b).split('.')[1])==1: \n",
    "            return True\n",
    "        a += 2\n",
    "    \n",
    "    return False\n",
    "\n",
    "judgeSquareSum(c)"
   ]
  },
  {
   "cell_type": "code",
   "execution_count": null,
   "metadata": {},
   "outputs": [],
   "source": [
    "#not mycode\n",
    "from math import sqrt\n",
    "\n",
    "def judgeSquareSum1(c: int) -> bool:\n",
    "    for a in range(int(sqrt(c)) + 1):  # Iterate through all possible values of `a`\n",
    "        b = sqrt(c - a * a)  # Compute `b` as the square root of `c - a^2`\n",
    "        if b == int(b):  # Check if `b` is an integer\n",
    "            return True  # If `b` is an integer, return true\n",
    "    return False  # If no such pair `(a, b)` is found, return false\n",
    "\n",
    "def judgeSquareSum2(c: int) -> bool:\n",
    "    left = 0  # Left pointer starts at 0\n",
    "    right = int(c**0.5)  # Right pointer starts at the integer square root of c\n",
    "    \n",
    "    while left <= right:\n",
    "        curr_sum = left * left + right * right  # Calculate sum of squares of the two pointers\n",
    "        if curr_sum == c:\n",
    "            return True  # If sum equals c, return true\n",
    "        elif curr_sum < c:\n",
    "            left += 1  # If sum is less than c, move left pointer right\n",
    "        else:\n",
    "            right -= 1  # If sum is greater than c, move right pointer left\n",
    "    \n",
    "    return False  # If no such pair is found, return false"
   ]
  }
 ],
 "metadata": {
  "kernelspec": {
   "display_name": "Python 3",
   "language": "python",
   "name": "python3"
  },
  "language_info": {
   "codemirror_mode": {
    "name": "ipython",
    "version": 3
   },
   "file_extension": ".py",
   "mimetype": "text/x-python",
   "name": "python",
   "nbconvert_exporter": "python",
   "pygments_lexer": "ipython3",
   "version": "3.7.9"
  }
 },
 "nbformat": 4,
 "nbformat_minor": 2
}
