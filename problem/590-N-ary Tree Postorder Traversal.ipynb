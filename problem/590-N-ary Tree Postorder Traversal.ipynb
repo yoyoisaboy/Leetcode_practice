{
 "cells": [
  {
   "cell_type": "markdown",
   "metadata": {},
   "source": [
    "# 590. N-ary Tree Postorder Traversal\n",
    "https://leetcode.com/problems/n-ary-tree-postorder-traversal/description/?envType=daily-question&envId=2024-08-26"
   ]
  },
  {
   "cell_type": "code",
   "execution_count": 2,
   "metadata": {},
   "outputs": [
    {
     "name": "stdout",
     "output_type": "stream",
     "text": [
      "[5, 6, 3, 2, 4, 1]\n"
     ]
    }
   ],
   "source": [
    "from typing  import List\n",
    "# Definition for a Node.\n",
    "class Node:\n",
    "    def __init__(self, val=None, children=None):\n",
    "        self.val = val\n",
    "        self.children = children \n",
    "\n",
    "class Solution:\n",
    "    def postorder(self, root: 'Node') -> List[int]:\n",
    "        result = []\n",
    "        def traverse(node):\n",
    "            if node:\n",
    "                for child in node.children:\n",
    "                    traverse(child)\n",
    "                result.append(node.val)\n",
    "        \n",
    "        traverse(root)\n",
    "        return result\n",
    "\n",
    "\n",
    "#root = [1,None,3,2,4,None,5,6]\n",
    "node5 = Node(5)\n",
    "node6 = Node(6)\n",
    "node3 = Node(3, [node5, node6])\n",
    "node2 = Node(2)\n",
    "node4 = Node(4)\n",
    "# Step 2: Create the root node and assign its children.\n",
    "root = Node(1, [node3, node2, node4])\n",
    "solution = Solution()\n",
    "result = solution.postorder(root)\n",
    "print(result)  # Output should be [5, 6, 3, 2, 4, 1]\n"
   ]
  },
  {
   "cell_type": "code",
   "execution_count": 3,
   "metadata": {},
   "outputs": [
    {
     "name": "stdout",
     "output_type": "stream",
     "text": [
      "[5, 6, 3, 2, 4, 1]\n"
     ]
    }
   ],
   "source": [
    "class Solution:\n",
    "    def postorder(self, root: 'Node') -> List[int]:\n",
    "        if not root:\n",
    "            return []\n",
    "\n",
    "        stack, result = [root], []\n",
    "        while stack:\n",
    "            node = stack.pop()\n",
    "            result.append(node.val)\n",
    "            stack.extend(node.children)\n",
    "        \n",
    "        return result[::-1]  \n",
    "solution = Solution()\n",
    "result = solution.postorder(root)\n",
    "print(result)  # Output should be [5, 6, 3, 2, 4, 1]"
   ]
  }
 ],
 "metadata": {
  "kernelspec": {
   "display_name": "Python 3",
   "language": "python",
   "name": "python3"
  },
  "language_info": {
   "codemirror_mode": {
    "name": "ipython",
    "version": 3
   },
   "file_extension": ".py",
   "mimetype": "text/x-python",
   "name": "python",
   "nbconvert_exporter": "python",
   "pygments_lexer": "ipython3",
   "version": "3.7.9"
  }
 },
 "nbformat": 4,
 "nbformat_minor": 2
}
