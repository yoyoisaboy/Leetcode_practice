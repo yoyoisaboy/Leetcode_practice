{
 "cells": [
  {
   "cell_type": "markdown",
   "metadata": {},
   "source": [
    "# 1382. Balance a Binary Search Tree\n",
    "https://leetcode.com/problems/balance-a-binary-search-tree/description/?envType=daily-question&envId=2024-06-26"
   ]
  },
  {
   "cell_type": "code",
   "execution_count": 2,
   "metadata": {},
   "outputs": [],
   "source": [
    "from typing import List"
   ]
  },
  {
   "cell_type": "code",
   "execution_count": 13,
   "metadata": {},
   "outputs": [],
   "source": [
    "# Definition for a binary tree node.\n",
    "class TreeNode:\n",
    "    def __init__(self, val=0, left=None, right=None):\n",
    "        self.val = val\n",
    "        self.left = left\n",
    "        self.right = right\n",
    "\n",
    "def balanceBST(root: TreeNode) -> TreeNode:\n",
    "    \n",
    "    def inorder_traversal(node: TreeNode)->List:\n",
    "        if node is None:\n",
    "            return []\n",
    "        return inorder_traversal(node.left)+[node.val]+inorder_traversal(node.right)\n",
    "    def sorted_array_to_bst(nums:list) -> TreeNode:\n",
    "        if not nums:\n",
    "            return None\n",
    "        mid = len(nums)//2\n",
    "        root = TreeNode(nums[mid])\n",
    "        root.left = sorted_array_to_bst(nums[:mid])\n",
    "        root.right = sorted_array_to_bst(nums[mid+1:])\n",
    "        return root\n",
    "    sorted_values = inorder_traversal(root)\n",
    "    return sorted_array_to_bst(sorted_values)\n",
    "\n",
    "def level_order_traversal(root):\n",
    "    if not root:\n",
    "        return []\n",
    "    queue = [root]\n",
    "    result = []\n",
    "    while queue:\n",
    "        node = queue.pop(0)\n",
    "        if node:\n",
    "            result.append(node.val)\n",
    "            queue.append(node.left)\n",
    "            queue.append(node.right)\n",
    "        else:\n",
    "            result.append(None)\n",
    "    while result and result[-1] is None:\n",
    "       \n",
    "        result.pop()\n",
    "    return result"
   ]
  },
  {
   "cell_type": "code",
   "execution_count": 14,
   "metadata": {},
   "outputs": [
    {
     "name": "stdout",
     "output_type": "stream",
     "text": [
      "[10000, 2500, 7500, 12500, 5000, 15000, 17500]\n"
     ]
    }
   ],
   "source": [
    "# 範例使用：\n",
    "# 構建示例中的 BST [10000,5000,15000,2500,7500,12500,17500]\n",
    "root = TreeNode(10000)\n",
    "root.left = TreeNode(5000)\n",
    "root.right = TreeNode(15000)\n",
    "root.left.left = TreeNode(2500)\n",
    "root.right.right = TreeNode(7500)\n",
    "root.left.left.left = TreeNode(12500)\n",
    "root.right.right.right = TreeNode(17500)\n",
    "\n",
    "# 將 BST 轉換為平衡 BST\n",
    "balanced_root = balanceBST(root)\n",
    "print(level_order_traversal(balanced_root))  "
   ]
  },
  {
   "cell_type": "markdown",
   "metadata": {},
   "source": [
    "要將一個二元搜尋樹（BST）轉換成一個平衡的二元搜尋樹，我們可以採用以下步驟：\n",
    "\n",
    "1. 中序遍歷：首先對原始的 BST 進行中序遍歷，得到所有節點值的有序數組。\n",
    "2. 構建平衡的 BST：利用這個有序數組，以中間元素作為根節點，遞歸地構建左右子樹，從而得到一個平衡的 BST。\n",
    "這個方法的核心是通過中序遍歷確保節點值的順序性，並且通過遞歸構建平衡的 BST 保證每個子樹的深度差不超過 1。\n",
    "\n",
    "## 實現\n",
    "以下是將 BST 轉換為平衡 BST 的 Python 代碼："
   ]
  },
  {
   "cell_type": "code",
   "execution_count": 4,
   "metadata": {},
   "outputs": [
    {
     "name": "stdout",
     "output_type": "stream",
     "text": [
      "sorted: [12500, 2500, 5000, 10000, 15000, 7500, 17500]\n",
      "[10000, 2500, 7500, 12500, 5000, 15000, 17500]\n"
     ]
    }
   ],
   "source": [
    "class TreeNode:\n",
    "    def __init__(self, val=0, left=None, right=None):\n",
    "        self.val = val\n",
    "        self.left = left\n",
    "        self.right = right\n",
    "\n",
    "def balanceBST(root: TreeNode) -> TreeNode:\n",
    "    def inorder_traversal(node: TreeNode) -> list:\n",
    "        if not node:\n",
    "            return []\n",
    "        return inorder_traversal(node.left) + [node.val] + inorder_traversal(node.right)\n",
    "    \n",
    "    def sorted_array_to_bst(nums: list) -> TreeNode:\n",
    "        if not nums:\n",
    "            return None\n",
    "        mid = len(nums) // 2\n",
    "        root = TreeNode(nums[mid])\n",
    "        root.left = sorted_array_to_bst(nums[:mid])\n",
    "        root.right = sorted_array_to_bst(nums[mid + 1:])\n",
    "        return root\n",
    "    \n",
    "    sorted_values = inorder_traversal(root)\n",
    "    print(\"sorted:\",sorted_values)\n",
    "    return sorted_array_to_bst(sorted_values)\n",
    "\n",
    "# 範例使用：\n",
    "# 構建示例中的 BST [10000,5000,15000,2500,7500,12500,17500]\n",
    "root = TreeNode(10000)\n",
    "root.left = TreeNode(5000)\n",
    "root.right = TreeNode(15000)\n",
    "root.left.left = TreeNode(2500)\n",
    "root.right.right = TreeNode(7500)\n",
    "root.left.left.left = TreeNode(12500)\n",
    "root.right.right.right = TreeNode(17500)\n",
    "\n",
    "# 將 BST 轉換為平衡 BST\n",
    "balanced_root = balanceBST(root)\n",
    "\n",
    "# 幫助函數，使用層序遍歷輸出樹以驗證結果\n",
    "def level_order_traversal(root):\n",
    "    if not root:\n",
    "        return []\n",
    "    queue = [root]\n",
    "    result = []\n",
    "    while queue:\n",
    "        node = queue.pop(0)\n",
    "        if node:\n",
    "            result.append(node.val)\n",
    "            queue.append(node.left)\n",
    "            queue.append(node.right)\n",
    "        else:\n",
    "            result.append(None)\n",
    "    # 移除尾部的 None 值以獲得更乾淨的輸出\n",
    "    while result and result[-1] is None:\n",
    "        result.pop()\n",
    "    return result\n",
    "\n",
    "print(level_order_traversal(balanced_root))  \n",
    "# input : [10000,5000,15000,2500,7500,12500,17500]"
   ]
  },
  {
   "cell_type": "markdown",
   "metadata": {},
   "source": [
    "## 代碼解釋\n",
    "1. TreeNode 類：定義樹節點的結構。\n",
    "2. balanceBST 函數：將 BST 轉換為平衡 BST 的主函數。\n",
    "inorder_traversal 函數：對原始 BST 進行中序遍歷，返回節點值的有序數組。\n",
    "sorted_array_to_bst 函數：將有序數組轉換為平衡的 BST。\n",
    "3. level_order_traversal 函數：以層序遍歷方式輸出樹，以驗證結果。\n",
    "\n",
    "這種方法確保我們以正確的方式將 BST 轉換為平衡的 BST，滿足所提供的約束和要求。"
   ]
  },
  {
   "cell_type": "markdown",
   "metadata": {},
   "source": [
    "#test\n",
    "[1,null,2,null,3,null,4]\n",
    "[1,null,2,null,3,null,4,null,null]\n",
    "[10000,5000,15000,2500,7500,12500,17500]\n",
    "[1]\n",
    "[10,5,null,2,null,1]\n",
    "[4,2,6,1,3,null,7]\n",
    "[4,2,6,1,3,5,7]\n",
    "[4,3,null,2,null,1]"
   ]
  }
 ],
 "metadata": {
  "kernelspec": {
   "display_name": "Python 3",
   "language": "python",
   "name": "python3"
  },
  "language_info": {
   "codemirror_mode": {
    "name": "ipython",
    "version": 3
   },
   "file_extension": ".py",
   "mimetype": "text/x-python",
   "name": "python",
   "nbconvert_exporter": "python",
   "pygments_lexer": "ipython3",
   "version": "3.7.9"
  }
 },
 "nbformat": 4,
 "nbformat_minor": 2
}
