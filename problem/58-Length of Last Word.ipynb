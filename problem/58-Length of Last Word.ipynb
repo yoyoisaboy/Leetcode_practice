{
 "cells": [
  {
   "cell_type": "markdown",
   "metadata": {},
   "source": [
    "# 58. Length of Last Word\n",
    "https://leetcode.com/problems/length-of-last-word/description/"
   ]
  },
  {
   "cell_type": "code",
   "execution_count": 2,
   "metadata": {},
   "outputs": [],
   "source": [
    "def lengthOfLastWord(s: str) -> int:\n",
    "    length = 0\n",
    "    i = len(s) - 1\n",
    "    while i >= 0 and s[i] == ' ':\n",
    "        i -= 1\n",
    "    while i >= 0 and s[i] != ' ':\n",
    "        length += 1\n",
    "        i -= 1\n",
    "    return length"
   ]
  },
  {
   "cell_type": "code",
   "execution_count": 5,
   "metadata": {},
   "outputs": [
    {
     "name": "stdout",
     "output_type": "stream",
     "text": [
      "5\n",
      "4\n",
      "6\n"
     ]
    }
   ],
   "source": [
    "s_map = [ \"Hello World\",\"   fly me   to   the moon  \",\"luffy is still joyboy\"]\n",
    "for input in s_map:\n",
    "    print( lengthOfLastWord(input) )"
   ]
  },
  {
   "cell_type": "code",
   "execution_count": null,
   "metadata": {},
   "outputs": [],
   "source": []
  }
 ],
 "metadata": {
  "kernelspec": {
   "display_name": "Python 3",
   "language": "python",
   "name": "python3"
  },
  "language_info": {
   "codemirror_mode": {
    "name": "ipython",
    "version": 3
   },
   "file_extension": ".py",
   "mimetype": "text/x-python",
   "name": "python",
   "nbconvert_exporter": "python",
   "pygments_lexer": "ipython3",
   "version": "3.7.9"
  }
 },
 "nbformat": 4,
 "nbformat_minor": 2
}
