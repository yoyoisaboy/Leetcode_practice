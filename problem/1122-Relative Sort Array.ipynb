{
 "cells": [
  {
   "cell_type": "markdown",
   "metadata": {},
   "source": [
    "# 1122. Relative Sort Array\n",
    "https://leetcode.com/problems/relative-sort-array/description/?envType=daily-question&envId=2024-06-11"
   ]
  },
  {
   "cell_type": "code",
   "execution_count": 79,
   "metadata": {},
   "outputs": [],
   "source": [
    "from typing import List\n",
    "\n",
    "arr1 = [2,3,1,3,2,4,6,7,9,2,19]\n",
    "arr2 = [2,1,4,3,9,6]\n",
    "\n",
    "#Output: [2,2,2,1,4,3,3,9,6,7,19]"
   ]
  },
  {
   "cell_type": "code",
   "execution_count": 80,
   "metadata": {},
   "outputs": [],
   "source": [
    "def relativeSortArray(arr1: List[int], arr2: List[int]) -> List[int]:\n",
    "    result_map = arr2.copy() \n",
    "    for i2 in arr2: # remove same element from arr1 \n",
    "        arr1.remove(i2)\n",
    "    \n",
    "    s_arr1 = sorted(arr1) # Sort arr1 and use a copy to avoid elements not found.\n",
    "    s_arr1_copy = s_arr1.copy() #removed list\n",
    "\n",
    "    for si1 in s_arr1:\n",
    "        if si1 in arr2:\n",
    "            result_map.insert(result_map.index(si1), si1 )\n",
    "            s_arr1_copy.remove(si1)\n",
    "\n",
    "    result_map.extend(s_arr1_copy)\n",
    "    return result_map"
   ]
  },
  {
   "cell_type": "code",
   "execution_count": 81,
   "metadata": {},
   "outputs": [
    {
     "data": {
      "text/plain": [
       "[2, 2, 2, 1, 4, 3, 3, 9, 6, 7, 19]"
      ]
     },
     "execution_count": 81,
     "metadata": {},
     "output_type": "execute_result"
    }
   ],
   "source": [
    "relativeSortArray(arr1,arr2)"
   ]
  },
  {
   "cell_type": "code",
   "execution_count": 82,
   "metadata": {},
   "outputs": [
    {
     "data": {
      "text/plain": [
       "[22, 28, 8, 6, 17, 44]"
      ]
     },
     "execution_count": 82,
     "metadata": {},
     "output_type": "execute_result"
    }
   ],
   "source": [
    "arr1 = [28,6,22,8,44,17]\n",
    "arr2 = [22,28,8,6]\n",
    "#Output: [22,28,8,6,17,44]\n",
    "relativeSortArray(arr1,arr2)"
   ]
  },
  {
   "cell_type": "code",
   "execution_count": null,
   "metadata": {},
   "outputs": [],
   "source": []
  }
 ],
 "metadata": {
  "kernelspec": {
   "display_name": "Python 3",
   "language": "python",
   "name": "python3"
  },
  "language_info": {
   "codemirror_mode": {
    "name": "ipython",
    "version": 3
   },
   "file_extension": ".py",
   "mimetype": "text/x-python",
   "name": "python",
   "nbconvert_exporter": "python",
   "pygments_lexer": "ipython3",
   "version": "3.7.9"
  }
 },
 "nbformat": 4,
 "nbformat_minor": 2
}
