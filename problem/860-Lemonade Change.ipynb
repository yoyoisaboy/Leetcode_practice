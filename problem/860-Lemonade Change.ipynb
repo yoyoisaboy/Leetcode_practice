{
 "cells": [
  {
   "cell_type": "markdown",
   "metadata": {},
   "source": [
    "# 860. Lemonade Change\n",
    "https://leetcode.com/problems/lemonade-change/description/?envType=daily-question&envId=2024-08-15"
   ]
  },
  {
   "cell_type": "code",
   "execution_count": 27,
   "metadata": {},
   "outputs": [],
   "source": [
    "from typing import List\n",
    "\n",
    "def lemonadeChange(bills: List[int]) -> bool:\n",
    "    dollar_dict = {5:0,10:0}\n",
    "    \n",
    "    for b in bills:\n",
    "        if b == 5:\n",
    "            dollar_dict[5]+=1\n",
    "        elif b == 10:\n",
    "            dollar_dict[5]-=1\n",
    "            dollar_dict[10]+=1\n",
    "            if dollar_dict[5]<0:\n",
    "                return False\n",
    "        else:\n",
    "\n",
    "            if dollar_dict[10]>0 and dollar_dict[5]>0:\n",
    "                dollar_dict[5]-=1\n",
    "                dollar_dict[10]-=1\n",
    "            elif dollar_dict[10] == 0 and dollar_dict[5]>2:\n",
    "                dollar_dict[5]-=3\n",
    "            else:\n",
    "                return False\n",
    "\n",
    "    return True"
   ]
  },
  {
   "cell_type": "code",
   "execution_count": 28,
   "metadata": {},
   "outputs": [
    {
     "name": "stdout",
     "output_type": "stream",
     "text": [
      "{5: 1, 10: 1}\n",
      "{5: 10, 10: 1}\n",
      "{5: 10, 10: 0}\n",
      "{5: 8, 10: 0}\n"
     ]
    },
    {
     "data": {
      "text/plain": [
       "True"
      ]
     },
     "execution_count": 28,
     "metadata": {},
     "output_type": "execute_result"
    }
   ],
   "source": [
    "bills = [5,5,10,20,5,5,5,5,5,5,5,5,5,10,5,5,20,5,20,5]\n",
    "lemonadeChange(bills)"
   ]
  },
  {
   "cell_type": "code",
   "execution_count": 29,
   "metadata": {},
   "outputs": [
    {
     "name": "stdout",
     "output_type": "stream",
     "text": [
      "{5: 2, 10: 1}\n",
      "{5: 1, 10: 0}\n"
     ]
    },
    {
     "data": {
      "text/plain": [
       "True"
      ]
     },
     "execution_count": 29,
     "metadata": {},
     "output_type": "execute_result"
    }
   ],
   "source": [
    "bills = [5,5,5,10,20]\n",
    "lemonadeChange(bills)"
   ]
  },
  {
   "cell_type": "code",
   "execution_count": 30,
   "metadata": {},
   "outputs": [
    {
     "name": "stdout",
     "output_type": "stream",
     "text": [
      "{5: 0, 10: 2}\n"
     ]
    },
    {
     "data": {
      "text/plain": [
       "False"
      ]
     },
     "execution_count": 30,
     "metadata": {},
     "output_type": "execute_result"
    }
   ],
   "source": [
    "bills = [5,5,10,10,20]\n",
    "lemonadeChange(bills)"
   ]
  },
  {
   "cell_type": "code",
   "execution_count": 31,
   "metadata": {},
   "outputs": [
    {
     "name": "stdout",
     "output_type": "stream",
     "text": [
      "{5: 4, 10: 0}\n",
      "{5: 1, 10: 0}\n"
     ]
    },
    {
     "data": {
      "text/plain": [
       "False"
      ]
     },
     "execution_count": 31,
     "metadata": {},
     "output_type": "execute_result"
    }
   ],
   "source": [
    "bills = [5,5,5,5,20,20,5,5,5,5]\n",
    "lemonadeChange(bills)"
   ]
  }
 ],
 "metadata": {
  "kernelspec": {
   "display_name": "Python 3",
   "language": "python",
   "name": "python3"
  },
  "language_info": {
   "codemirror_mode": {
    "name": "ipython",
    "version": 3
   },
   "file_extension": ".py",
   "mimetype": "text/x-python",
   "name": "python",
   "nbconvert_exporter": "python",
   "pygments_lexer": "ipython3",
   "version": "3.7.9"
  }
 },
 "nbformat": 4,
 "nbformat_minor": 2
}
