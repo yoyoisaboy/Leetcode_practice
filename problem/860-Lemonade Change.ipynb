{
 "cells": [
  {
   "cell_type": "markdown",
   "metadata": {},
   "source": [
    "# 860. Lemonade Change\n",
    "https://leetcode.com/problems/lemonade-change/description/?envType=daily-question&envId=2024-08-15"
   ]
  },
  {
   "cell_type": "code",
   "execution_count": null,
   "metadata": {},
   "outputs": [],
   "source": [
    "from typing import List\n",
    "\n",
    "def lemonadeChange(bills: List[int]) -> bool:\n",
    "    dollar_dict = {5:0,10:0}\n",
    "    bills.sort()\n",
    "    for b in bills:\n",
    "        if b == 5:\n",
    "            dollar_dict[5]+=1\n",
    "        elif b == 10:\n",
    "            dollar_dict[5]-=1\n",
    "            dollar_dict[10]+=1\n",
    "            if dollar_dict[5]<0:\n",
    "                return False\n",
    "        else:\n",
    "            if dollar_dict[10]>0 and dollar_dict[5]>0:\n",
    "                dollar_dict[5]-=1\n",
    "                dollar_dict[10]-=1\n",
    "            elif dollar_dict[10] <0 and dollar_dict[5]>2:\n",
    "                dollar_dict[5]-=3\n",
    "            else:\n",
    "                return False\n",
    "    return True"
   ]
  },
  {
   "cell_type": "code",
   "execution_count": 5,
   "metadata": {},
   "outputs": [
    {
     "data": {
      "text/plain": [
       "0"
      ]
     },
     "execution_count": 5,
     "metadata": {},
     "output_type": "execute_result"
    }
   ],
   "source": [
    "dollar_dict = {5:0,10:0,20:0}\n",
    "dollar_dict[5]"
   ]
  },
  {
   "cell_type": "code",
   "execution_count": null,
   "metadata": {},
   "outputs": [],
   "source": []
  }
 ],
 "metadata": {
  "kernelspec": {
   "display_name": "Python 3",
   "language": "python",
   "name": "python3"
  },
  "language_info": {
   "codemirror_mode": {
    "name": "ipython",
    "version": 3
   },
   "file_extension": ".py",
   "mimetype": "text/x-python",
   "name": "python",
   "nbconvert_exporter": "python",
   "pygments_lexer": "ipython3",
   "version": "3.7.9"
  }
 },
 "nbformat": 4,
 "nbformat_minor": 2
}
