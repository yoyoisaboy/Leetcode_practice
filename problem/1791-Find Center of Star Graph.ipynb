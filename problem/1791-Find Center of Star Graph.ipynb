{
 "cells": [
  {
   "cell_type": "markdown",
   "metadata": {},
   "source": [
    "# 1791. Find Center of Star Graph\n",
    "https://leetcode.com/problems/find-center-of-star-graph/description/?envType=daily-question&envId=2024-06-27"
   ]
  },
  {
   "cell_type": "code",
   "execution_count": 38,
   "metadata": {},
   "outputs": [],
   "source": [
    "from typing import List\n",
    "edges = [[1,2],[2,3],[4,2]]\n",
    "#Output: 2"
   ]
  },
  {
   "cell_type": "code",
   "execution_count": 42,
   "metadata": {},
   "outputs": [
    {
     "data": {
      "text/plain": [
       "2"
      ]
     },
     "execution_count": 42,
     "metadata": {},
     "output_type": "execute_result"
    }
   ],
   "source": [
    "def findCenter(edges: List[List[int]]) -> int:\n",
    "    extend_edgesa=[i for item in edges for i in item]\n",
    "    edges_dist = dict({})\n",
    "    for edges in extend_edgesa:\n",
    "        if edges_dist.get(edges)==None:\n",
    "            edges_dist[edges]=1\n",
    "        else:\n",
    "            edges_dist[edges] = edges_dist[edges]+1\n",
    "            \n",
    "            if edges_dist[edges] >= len(edges_dist) //2:\n",
    "                break\n",
    "    #max(edges_dist,key=edges_dist.get)\n",
    "    return list(filter(lambda t: t[1] == max(edges_dist.values()), edges_dist.items()))[0][0]\n",
    "findCenter(edges) "
   ]
  },
  {
   "cell_type": "markdown",
   "metadata": {},
   "source": [
    "要找出給定星形圖的中心節點，我們可以利用星形圖的特性：中心節點是唯一連接所有其他節點的節點。因此，中心節點會出現在所有邊中的至少兩個位置上。\n",
    "\n",
    "我們可以通過檢查前兩條邊來確定中心節點，因為這兩條邊必定會包含中心節點。\n",
    "\n",
    "## 解法\n",
    "以下是解決問題的 Python 代碼："
   ]
  },
  {
   "cell_type": "code",
   "execution_count": 43,
   "metadata": {},
   "outputs": [
    {
     "name": "stdout",
     "output_type": "stream",
     "text": [
      "2\n",
      "1\n"
     ]
    }
   ],
   "source": [
    "def findCenter(edges):\n",
    "    # 檢查前兩條邊\n",
    "    u1, v1 = edges[0]\n",
    "    u2, v2 = edges[1]\n",
    "    \n",
    "    # 判斷中心節點\n",
    "    if u1 == u2 or u1 == v2:\n",
    "        return u1\n",
    "    return v1\n",
    "\n",
    "# 範例使用\n",
    "edges1 = [[1, 2], [2, 3], [4, 2]]\n",
    "edges2 = [[1, 2], [5, 1], [1, 3], [1, 4]]\n",
    "\n",
    "print(findCenter(edges1))  # 預期輸出: 2\n",
    "print(findCenter(edges2))  # 預期輸出: 1\n"
   ]
  },
  {
   "cell_type": "markdown",
   "metadata": {},
   "source": [
    "## 代碼解釋\n",
    "1. findCenter 函數：\n",
    "    * 提取前兩條邊的節點（u1, v1 和 u2, v2）。\n",
    "    * 檢查 u1 是否與 u2 或 v2 相等，如果相等，則 u1 是中心節點。\n",
    "    * 否則，v1 是中心節點。\n",
    "這種方法的時間複雜度是 O(1)，因為我們只需要檢查前兩條邊。這在所有情況下都是有效的，因為星形圖的特性保證了中心節點必定存在於前兩條邊中。"
   ]
  }
 ],
 "metadata": {
  "kernelspec": {
   "display_name": "Python 3",
   "language": "python",
   "name": "python3"
  },
  "language_info": {
   "codemirror_mode": {
    "name": "ipython",
    "version": 3
   },
   "file_extension": ".py",
   "mimetype": "text/x-python",
   "name": "python",
   "nbconvert_exporter": "python",
   "pygments_lexer": "ipython3",
   "version": "3.7.9"
  }
 },
 "nbformat": 4,
 "nbformat_minor": 2
}
