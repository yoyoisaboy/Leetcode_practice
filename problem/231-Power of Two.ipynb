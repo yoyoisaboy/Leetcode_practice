{
 "cells": [
  {
   "cell_type": "markdown",
   "metadata": {},
   "source": [
    "# 231. Power of Two\n",
    "https://leetcode.com/problems/power-of-two/description/\n",
    "\n",
    "* the binary form of every pow(2, n) - 1 likes 0b11..1\n",
    "    * 1 - 1 = 0 = 0b0        =>  1 & 0 = 0b1    & 0b0    = 0\n",
    "    * 2 - 1 = 1 = 0b1        =>  2 & 1 = 0b10   & 0b1    = 0\n",
    "    * 4 - 1 = 3 = 0b11       =>  4 & 3 = 0b100  & 0b11   = 0\n",
    "    * 8 - 1 = 7 = 0b111      =>  8 & 7 = 0b1000 & 0b111  = 0\n",
    "* so we can find pow(2, n) & (pow(2, n) - 1) == 0 \n",
    "    * for example, num = 4 = 0b100\n",
    "    * 4 - 1 = 3 = 0b11\n",
    "    * 4 & 3 = 0b100 & 0b11 = 0\n",
    "* We need to expain that if n is not a power of two then n & n - 1 != 0\n",
    "    * If m is not a power of two, then the binary form of m contains more than one 1, that is 0b1x..x10..0, x represents 0 or 1\n",
    "        * so m - 1 = 0b1x..x10..0 - 1 = 0b1x..x01..1, that is the first 1 in m is still in the binary form of m - 1, so that m & (m - 1) = 0b1x..x0..0 > 0\n",
    "        * for example, m = 6 = 0b110\n",
    "        * 6 - 1 = 5 = 0b101\n",
    "        * 6 & 5 = 4 = 0b100 > 0\n",
    "* More generally, for any number n > 0\n",
    "    * n & n - 1 removes the last 1 in the binary form of n\n",
    "    * if and only if n is a power of two, there is only one 1 in the binary form of n"
   ]
  },
  {
   "cell_type": "code",
   "execution_count": 1,
   "metadata": {},
   "outputs": [],
   "source": [
    "def isPowerOfTwo(n):\n",
    "    return n and not (n & n - 1)"
   ]
  },
  {
   "cell_type": "code",
   "execution_count": 14,
   "metadata": {},
   "outputs": [
    {
     "data": {
      "text/plain": [
       "False"
      ]
     },
     "execution_count": 14,
     "metadata": {},
     "output_type": "execute_result"
    }
   ],
   "source": [
    "isPowerOfTwo(1)"
   ]
  },
  {
   "cell_type": "code",
   "execution_count": 3,
   "metadata": {},
   "outputs": [
    {
     "data": {
      "text/plain": [
       "True"
      ]
     },
     "execution_count": 3,
     "metadata": {},
     "output_type": "execute_result"
    }
   ],
   "source": [
    "isPowerOfTwo(16)"
   ]
  },
  {
   "cell_type": "code",
   "execution_count": 4,
   "metadata": {},
   "outputs": [
    {
     "data": {
      "text/plain": [
       "False"
      ]
     },
     "execution_count": 4,
     "metadata": {},
     "output_type": "execute_result"
    }
   ],
   "source": [
    "isPowerOfTwo(3)"
   ]
  }
 ],
 "metadata": {
  "kernelspec": {
   "display_name": "Python 3",
   "language": "python",
   "name": "python3"
  },
  "language_info": {
   "codemirror_mode": {
    "name": "ipython",
    "version": 3
   },
   "file_extension": ".py",
   "mimetype": "text/x-python",
   "name": "python",
   "nbconvert_exporter": "python",
   "pygments_lexer": "ipython3",
   "version": "3.7.9"
  }
 },
 "nbformat": 4,
 "nbformat_minor": 2
}
