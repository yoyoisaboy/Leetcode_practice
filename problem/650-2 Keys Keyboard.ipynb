{
 "cells": [
  {
   "cell_type": "markdown",
   "metadata": {},
   "source": [
    "# 650. 2 Keys Keyboard\n",
    "https://leetcode.com/problems/2-keys-keyboard/description/?envType=daily-question&envId=2024-08-19"
   ]
  },
  {
   "cell_type": "code",
   "execution_count": 34,
   "metadata": {},
   "outputs": [],
   "source": [
    "\n",
    "def minSteps(n: int) -> int:\n",
    "    if n == 1:\n",
    "        return 0\n",
    "    def prime(n):\n",
    "        check = 0\n",
    "        for i in range(2,n):\n",
    "            if (n % i) == 0:\n",
    "                check = 1 \n",
    "                break\n",
    "        if check == 0:\n",
    "            return True\n",
    "        return False\n",
    "    if prime(n):\n",
    "        return n\n",
    "\n",
    "    def isPowerBy2(n):\n",
    "        return n > 0 and (n & n - 1) == 0\n",
    "    \n",
    "    if isPowerBy2(n):\n",
    "        k = 0\n",
    "        while(n!=1):\n",
    "            n = n // 2\n",
    "            k +=1\n",
    "        return 2*k\n",
    "    \n",
    "    temp_list = []\n",
    "    dict_map = [2,3,5,7,11,13,17,19,23,29,31]\n",
    "    def check(n,i):\n",
    "         \n",
    "        if i == len(dict_map):\n",
    "            if n!=1 and prime(n):\n",
    "                temp_list.append(n)\n",
    "            print(temp_list)   \n",
    "            return sum(temp_list)\n",
    "        if n % dict_map[i] == 0:\n",
    "            temp_list.append(dict_map[i])\n",
    "            n = n // dict_map[i]\n",
    "            return check(n,i)\n",
    "        else:\n",
    "            return check(n,i+1)\n",
    "    \n",
    "    return check(n,0)\n",
    "            "
   ]
  },
  {
   "cell_type": "code",
   "execution_count": 35,
   "metadata": {},
   "outputs": [
    {
     "name": "stdout",
     "output_type": "stream",
     "text": [
      "[3, 23]\n"
     ]
    },
    {
     "data": {
      "text/plain": [
       "26"
      ]
     },
     "execution_count": 35,
     "metadata": {},
     "output_type": "execute_result"
    }
   ],
   "source": [
    "minSteps(69)"
   ]
  },
  {
   "cell_type": "code",
   "execution_count": 36,
   "metadata": {},
   "outputs": [
    {
     "data": {
      "text/plain": [
       "26"
      ]
     },
     "execution_count": 36,
     "metadata": {},
     "output_type": "execute_result"
    }
   ],
   "source": [
    "# GPT Dynamic Programming\n",
    "def minSteps(n: int) -> int:\n",
    "    # 初始化動態規劃表\n",
    "    dp = [0] * (n + 1)\n",
    "    \n",
    "    # 從2到n開始計算\n",
    "    for i in range(2, n + 1):\n",
    "        dp[i] = i  # 最壞情況下（每次都粘貼一個字符），需要 i 次操作\n",
    "        for j in range(1, i // 2 + 1):\n",
    "            if i % j == 0:\n",
    "                dp[i] = min(dp[i], dp[j] + i // j)\n",
    "    \n",
    "    return dp[n]\n",
    "minSteps(69)"
   ]
  },
  {
   "cell_type": "markdown",
   "metadata": {},
   "source": [
    "### 解題過程\n",
    "首先，我們需要建立一個長度為 69 + 1 = 70 的動態規劃表 dp，用來儲存每一個字符數量從 1 到 69 的最小操作次數。\n",
    "\n",
    "* 初始化\n",
    "    * dp[1] = 0，因為我們只需要一個 'A'，不需要進行任何操作。\n",
    "* 填寫 DP 表\n",
    "我們從 i = 2 開始，逐步填寫 dp[i] 的值。對於每一個 i，我們要找到能夠生成 i 個 'A' 的所有可能方式，並計算最小的操作次數。\n",
    "\n",
    "### 具體步驟\n",
    "* i = 69\n",
    "    * dp[69] 初始化為 69，即最壞情況下，我們可以使用 69 次操作達到目標（每次都只粘貼一個 'A'）。\n",
    "\n",
    "    * 我們要找 69 的所有因子 j，使得 69 % j == 0，並計算出操作次數 dp[j] + 69 // j。其中：\n",
    "\n",
    "        * 如果 j = 1，69 // 1 = 69，操作次數為 dp[1] + 69 = 0 + 69 = 69。\n",
    "        * 如果 j = 3，69 // 3 = 23，操作次數為 dp[3] + 23。因為 dp[3] = 3（用 3 次操作得到 3 個 'A'），所以總操作次數為 3 + 23 = 26。\n",
    "        * 如果 j = 23，69 // 23 = 3，操作次數為 dp[23] + 3。因為 dp[23] 是先前計算出的結果，假設 dp[23] 是某個較小的值（因為 23 是質數），操作次數約略為 dp[23] + 3。\n",
    "    * 在所有這些選項中，dp[69] 最小值為 26，因為使用 23 和 3 的因子組合所需的操作次數最少。\n",
    "\n",
    "### 最終結果\n",
    "最終，當我們完成所有步驟後，dp[69] = 26，表示我們需要至少 26 次操作來在螢幕上獲得 69 個 'A'。\n",
    "\n",
    "### 具體操作步驟\n",
    "假設我們已經得到了 dp[23] 是最佳解，那麼達到 69 個 'A' 的具體操作是：\n",
    "\n",
    "1. 得到 23 個 'A'：這步驟包含 dp[23] 步。\n",
    "2. 複製 23 個 'A'。\n",
    "3. 粘貼 3 次：將 23 個 'A' 粘貼兩次共得到 69 個 'A'。\n",
    "因此，整個操作過程所需步驟為 dp[23] + 1 + 2 = 26。\n",
    "\n",
    "這樣，我們就得到了最少操作次數來生成 69 個 'A'。"
   ]
  }
 ],
 "metadata": {
  "kernelspec": {
   "display_name": "Python 3",
   "language": "python",
   "name": "python3"
  },
  "language_info": {
   "codemirror_mode": {
    "name": "ipython",
    "version": 3
   },
   "file_extension": ".py",
   "mimetype": "text/x-python",
   "name": "python",
   "nbconvert_exporter": "python",
   "pygments_lexer": "ipython3",
   "version": "3.7.9"
  }
 },
 "nbformat": 4,
 "nbformat_minor": 2
}
