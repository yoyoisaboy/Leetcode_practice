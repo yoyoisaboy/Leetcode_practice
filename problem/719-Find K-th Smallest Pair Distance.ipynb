{
 "cells": [
  {
   "cell_type": "markdown",
   "metadata": {},
   "source": [
    "# 719. Find K-th Smallest Pair Distance\n",
    "https://leetcode.com/problems/find-k-th-smallest-pair-distance/description/?envType=daily-question&envId=2024-08-14"
   ]
  },
  {
   "cell_type": "code",
   "execution_count": 13,
   "metadata": {},
   "outputs": [
    {
     "data": {
      "text/plain": [
       "100"
      ]
     },
     "execution_count": 13,
     "metadata": {},
     "output_type": "execute_result"
    }
   ],
   "source": [
    "from typing import List\n",
    "\n",
    "# bucket Sort : Time Limit Exceeded\n",
    "def smallestDistancePair(nums: List[int], k: int) -> int:\n",
    "    max_val = max(nums)\n",
    "    min_val = min(nums)\n",
    "\n",
    "    bucket_count = max_val - min_val +1\n",
    "    bucket_map = [0]*bucket_count\n",
    "\n",
    "    for i in range(len(nums)):\n",
    "        for j in range(i+1,len(nums)):\n",
    "            distance = abs(nums[j]-nums[i])\n",
    "            bucket_map[distance] += 1\n",
    "\n",
    "    for i in range(len(bucket_map)):\n",
    "        k -= bucket_map[i]\n",
    "        if k <= 0:\n",
    "            return i\n",
    "    return -1\n",
    "nums = [1, 100, 200, 300, 400, 500, 600, 700, 800, 900, 1000, 1100, 1200, 1300, 1400, 1500, 1600, 1700, 1800, 1900]\n",
    "k = 3\n",
    "smallestDistancePair(nums,k)"
   ]
  },
  {
   "cell_type": "code",
   "execution_count": 14,
   "metadata": {},
   "outputs": [
    {
     "name": "stdout",
     "output_type": "stream",
     "text": [
      "19\n"
     ]
    },
    {
     "data": {
      "text/plain": [
       "100"
      ]
     },
     "execution_count": 14,
     "metadata": {},
     "output_type": "execute_result"
    }
   ],
   "source": [
    "#binary tree + sliding window\n",
    "\n",
    "def smallestDistancePair(nums: List[int], k: int) -> int:\n",
    "    nums.sort()\n",
    "    left,right = 0,nums[-1]-nums[0]\n",
    "\n",
    "    while left < right:\n",
    "        mid = (left+right)//2\n",
    "        count = 0\n",
    "        j = 0\n",
    "        for i in range(len(nums)):\n",
    "            while j < len(nums) and nums[j]-nums[i] <= mid:\n",
    "                j += 1\n",
    "            count += j - i - 1\n",
    "\n",
    "        if count >= k:\n",
    "            right = mid\n",
    "        else:\n",
    "            left = mid + 1\n",
    "    \n",
    "    return left\n",
    "\n",
    "nums = [1, 100, 200, 300, 400, 500, 600, 700, 800, 900, 1000, 1100, 1200, 1300, 1400, 1500, 1600, 1700, 1800, 1900]\n",
    "k = 3\n",
    "smallestDistancePair(nums,k)"
   ]
  },
  {
   "cell_type": "markdown",
   "metadata": {},
   "source": [
    "這個算法確實與典型的二元搜尋略有不同，主要因為它結合了數量統計與二元搜尋來尋找特定數值。讓我們更詳細地說明這個過程，並解釋這些微妙的不同之處。\n",
    "\n",
    "### 標準的二元搜尋\n",
    "在標準的二元搜尋中，我們通常針對已排序的數列進行搜尋。每次我們在中間分割範圍並檢查中點值，如果目標值比中點值小，我們移動到左邊範圍，反之則移動到右邊範圍。最後，我們找到或確認目標值的位置。\n",
    "\n",
    "### 本題中的二元搜尋變體\n",
    "在這道題中，我們不是直接搜尋數列中的一個具體值，而是在搜尋所有數對之間的“距離”。具體地說，我們想要找到第 `k` 小的距離對。\n",
    "\n",
    "1. **搜尋範圍**：我們的搜尋範圍是所有數對之間的可能距離範圍，而不是數列中的值。這些距離從最小的 `0`（當兩個數相等時）到最大可能的距離（排序後數列的最大值減去最小值）。\n",
    "\n",
    "2. **中點計算**：每次我們計算的中點 `mid` 代表當前猜測的距離。我們將計算數對之間的距離是否小於或等於 `mid` 的數量，這是用來判斷我們是否找到了第 `k` 小的距離。\n",
    "\n",
    "3. **計數方式**：在計算 `count` 時，對於每個 `nums[i]`，我們找到最遠的 `nums[j]`，使得 `nums[j] - nums[i] <= mid`。這裡我們使用的是一種滑動窗口技術來計算 `count`，而不是簡單地比較值。\n",
    "\n",
    "4. **範圍調整**：我們根據 `count` 的結果來調整 `left` 和 `right`。如果 `count` 大於或等於 `k`，說明可能第 `k` 小的距離是 `mid` 或更小，所以我們縮小右邊界；反之，說明第 `k` 小的距離更大，因此我們縮小左邊界。\n",
    "\n",
    "### 為什麼使用 `left` 作為結果\n",
    "最終，當 `left` 和 `right` 收斂時，我們找到了精確的距離值，這就是第 `k` 小的距離。這是因為每次循環都在縮小範圍，保證了我們沒有漏掉任何可能的答案。\n",
    "\n",
    "總結來說，這種變體的二元搜尋不再是直接搜尋一個目標值，而是搜尋滿足條件的數對距離，這使得我們可以在數對的空間中有效地查找第 `k` 小的距離對。"
   ]
  },
  {
   "cell_type": "code",
   "execution_count": null,
   "metadata": {},
   "outputs": [],
   "source": []
  }
 ],
 "metadata": {
  "kernelspec": {
   "display_name": "Python 3",
   "language": "python",
   "name": "python3"
  },
  "language_info": {
   "codemirror_mode": {
    "name": "ipython",
    "version": 3
   },
   "file_extension": ".py",
   "mimetype": "text/x-python",
   "name": "python",
   "nbconvert_exporter": "python",
   "pygments_lexer": "ipython3",
   "version": "3.7.9"
  }
 },
 "nbformat": 4,
 "nbformat_minor": 2
}
