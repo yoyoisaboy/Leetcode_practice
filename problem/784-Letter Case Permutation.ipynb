{
 "cells": [
  {
   "cell_type": "markdown",
   "metadata": {},
   "source": [
    "# 784. Letter Case Permutation\n",
    "https://leetcode.com/problems/letter-case-permutation/description/"
   ]
  },
  {
   "cell_type": "code",
   "execution_count": 1,
   "metadata": {},
   "outputs": [],
   "source": [
    "def letterCasePermutation(S):\n",
    "    res = ['']\n",
    "    for ch in S:\n",
    "        if ch.isalpha():\n",
    "            res = [i+j for i in res for j in [ch.upper(), ch.lower()]]\n",
    "        else:\n",
    "            res = [i+ch for i in res]\n",
    "    return res"
   ]
  },
  {
   "cell_type": "code",
   "execution_count": 2,
   "metadata": {},
   "outputs": [
    {
     "data": {
      "text/plain": [
       "['A1B2', 'A1b2', 'a1B2', 'a1b2']"
      ]
     },
     "execution_count": 2,
     "metadata": {},
     "output_type": "execute_result"
    }
   ],
   "source": [
    "s = \"a1b2\"\n",
    "letterCasePermutation(s)"
   ]
  },
  {
   "cell_type": "code",
   "execution_count": 5,
   "metadata": {},
   "outputs": [],
   "source": [
    "from typing import List\n",
    "def letterCasePermutation(s: str) -> List[str]:\n",
    "        math_map = [str(i) for i in range(10)]\n",
    "        temp_arr = []\n",
    "        if s[0] not in math_map:\n",
    "            temp_arr.append(s[0].upper())\n",
    "            temp_arr.append(s[0].lower())\n",
    "        else:\n",
    "            temp_arr.append(s[0])\n",
    "        arr = temp_arr.copy()\n",
    "        for char_ in s[1:]:\n",
    "            if char_ not in math_map:\n",
    "                for i in temp_arr:\n",
    "                    for j in [char_.upper(),char_.lower()]:\n",
    "                        arr.append(i+j)     \n",
    "            else:\n",
    "                for i in range(len(arr)):\n",
    "                    arr[i] = arr[i]+char_\n",
    "            temp_arr = arr.copy()\n",
    "        return [str_ for str_ in arr if len(str_)==len(s)]"
   ]
  },
  {
   "cell_type": "code",
   "execution_count": 6,
   "metadata": {},
   "outputs": [
    {
     "data": {
      "text/plain": [
       "['A1B2', 'A1b2', 'a1B2', 'a1b2']"
      ]
     },
     "execution_count": 6,
     "metadata": {},
     "output_type": "execute_result"
    }
   ],
   "source": [
    "s = \"a1b2\"\n",
    "letterCasePermutation(s)"
   ]
  },
  {
   "cell_type": "code",
   "execution_count": null,
   "metadata": {},
   "outputs": [],
   "source": []
  }
 ],
 "metadata": {
  "kernelspec": {
   "display_name": "Python 3",
   "language": "python",
   "name": "python3"
  },
  "language_info": {
   "codemirror_mode": {
    "name": "ipython",
    "version": 3
   },
   "file_extension": ".py",
   "mimetype": "text/x-python",
   "name": "python",
   "nbconvert_exporter": "python",
   "pygments_lexer": "ipython3",
   "version": "3.7.9"
  }
 },
 "nbformat": 4,
 "nbformat_minor": 2
}
