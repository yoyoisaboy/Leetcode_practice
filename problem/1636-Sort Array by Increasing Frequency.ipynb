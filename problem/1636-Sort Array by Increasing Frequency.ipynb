{
 "cells": [
  {
   "cell_type": "markdown",
   "metadata": {},
   "source": [
    "# 1636. Sort Array by Increasing Frequency\n",
    "https://leetcode.com/problems/sort-array-by-increasing-frequency/description/?envType=daily-question&envId=2024-07-23"
   ]
  },
  {
   "cell_type": "code",
   "execution_count": 216,
   "metadata": {},
   "outputs": [],
   "source": [
    "from typing import List\n"
   ]
  },
  {
   "cell_type": "code",
   "execution_count": 217,
   "metadata": {},
   "outputs": [
    {
     "data": {
      "text/plain": [
       "[5, 3, 0, -1, 7, 7, -8, -8, -8]"
      ]
     },
     "execution_count": 217,
     "metadata": {},
     "output_type": "execute_result"
    }
   ],
   "source": [
    "\n",
    "nums = [-8,7,-1,3,5,7,-8,-8,0]\n",
    "#[5,3,0,-1,7,7,-8,-8,-8]\n",
    "def frequencySort( nums: List[int]) -> List[int]:\n",
    "    dict_df = dict()\n",
    "    for i in nums: # 創字典\n",
    "        if i not in dict_df:\n",
    "            dict_df[i] = 1\n",
    "        else:\n",
    "            dict_df[i] +=1\n",
    "\n",
    "    sortedDict = sorted(dict_df.items(), key=lambda x:x[1]) #按照數量排序\n",
    "\n",
    "    ans_list = []\n",
    "    check_same = sortedDict[0][1] # 初始數量\n",
    "    sort_by_key = []\n",
    "\n",
    "    for key,value in sortedDict:\n",
    "        \n",
    "        if check_same!=value: #假如數量不同做key排序\n",
    "            if len(sort_by_key) > 0:\n",
    "                ans_list.extend( sorted(sort_by_key, key=lambda x:x[0],reverse=True) )\n",
    "                sort_by_key=[]\n",
    "            else:\n",
    "                ans_list.append((key,value))\n",
    "        \n",
    "        sort_by_key.append((key,value))\n",
    "        check_same = value\n",
    "\n",
    "    if len(sort_by_key)>0: # 取得新的排序dict，塞值\n",
    "        ans_list.extend( sorted(sort_by_key, key=lambda x:x[0],reverse=True) )\n",
    "    ans = []\n",
    "    for key,val in ans_list:\n",
    "        ans.extend([key]*val )\n",
    "    return ans\n",
    "frequencySort(nums)\n"
   ]
  },
  {
   "cell_type": "code",
   "execution_count": 218,
   "metadata": {},
   "outputs": [
    {
     "data": {
      "text/plain": [
       "[3, 1, 1, 2, 2, 2]"
      ]
     },
     "execution_count": 218,
     "metadata": {},
     "output_type": "execute_result"
    }
   ],
   "source": [
    "nums = [1,1,2,2,2,3]\n",
    "#[3,1,1,2,2,2]\n",
    "frequencySort(nums)"
   ]
  },
  {
   "cell_type": "code",
   "execution_count": 219,
   "metadata": {},
   "outputs": [
    {
     "data": {
      "text/plain": [
       "[1, 0, 5, 5]"
      ]
     },
     "execution_count": 219,
     "metadata": {},
     "output_type": "execute_result"
    }
   ],
   "source": [
    "nums = [1,5,0,5]\n",
    "#[1,0,5,5]\n",
    "\n",
    "frequencySort(nums)"
   ]
  },
  {
   "cell_type": "code",
   "execution_count": 220,
   "metadata": {},
   "outputs": [
    {
     "data": {
      "text/plain": [
       "[5, 3, 0, -1, 7, 7, -8, -8, -8]"
      ]
     },
     "execution_count": 220,
     "metadata": {},
     "output_type": "execute_result"
    }
   ],
   "source": [
    "nums = [-8,7,-1,3,5,7,-8,-8,0]\n",
    "#[5,3,0,-1,7,7,-8,-8,-8]\n",
    "frequencySort(nums)"
   ]
  },
  {
   "cell_type": "code",
   "execution_count": 221,
   "metadata": {},
   "outputs": [
    {
     "data": {
      "text/plain": [
       "[5, -1, 4, 4, -6, -6, 1, 1, 1]"
      ]
     },
     "execution_count": 221,
     "metadata": {},
     "output_type": "execute_result"
    }
   ],
   "source": [
    "nums = [-1,1,-6,4,5,-6,1,4,1]\n",
    "#[5,-1,4,4,-6,-6,1,1,1]\n",
    "frequencySort(nums)"
   ]
  },
  {
   "cell_type": "code",
   "execution_count": 245,
   "metadata": {},
   "outputs": [
    {
     "data": {
      "text/plain": [
       "[5, 3, 0, -1, 7, 7, -8, -8, -8]"
      ]
     },
     "execution_count": 245,
     "metadata": {},
     "output_type": "execute_result"
    }
   ],
   "source": [
    "nums = [-8,7,-1,3,5,7,-8,-8,0]\n",
    "#[5,3,0,-1,7,7,-8,-8,-8]\n",
    "def frequencySort( nums: List[int]) -> List[int]:\n",
    "    dict_df = {}\n",
    "    for i in nums:\n",
    "        if i not in dict_df:\n",
    "            dict_df[i] = 1\n",
    "        else:\n",
    "            dict_df[i] +=1\n",
    "\n",
    "    sortedDict = sorted(nums, key=lambda x:(dict_df[x],-x)) #自定義排序規則 key = lambda, ()優先權從左到右,小到大排序，反過來加-號\n",
    "    return sortedDict\n",
    "\n",
    "frequencySort(nums)"
   ]
  },
  {
   "cell_type": "code",
   "execution_count": null,
   "metadata": {},
   "outputs": [],
   "source": []
  }
 ],
 "metadata": {
  "kernelspec": {
   "display_name": "Python 3",
   "language": "python",
   "name": "python3"
  },
  "language_info": {
   "codemirror_mode": {
    "name": "ipython",
    "version": 3
   },
   "file_extension": ".py",
   "mimetype": "text/x-python",
   "name": "python",
   "nbconvert_exporter": "python",
   "pygments_lexer": "ipython3",
   "version": "3.7.9"
  }
 },
 "nbformat": 4,
 "nbformat_minor": 2
}
