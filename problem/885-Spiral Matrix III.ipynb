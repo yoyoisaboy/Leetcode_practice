{
 "cells": [
  {
   "cell_type": "markdown",
   "metadata": {},
   "source": [
    "# 885. Spiral Matrix III\n",
    "https://leetcode.com/problems/spiral-matrix-iii/description/?envType=daily-question&envId=2024-08-08"
   ]
  },
  {
   "cell_type": "code",
   "execution_count": 11,
   "metadata": {},
   "outputs": [
    {
     "name": "stdout",
     "output_type": "stream",
     "text": [
      "outside: [0, 6]\n",
      "outside: [1, 6]\n",
      "outside: [2, 6]\n",
      "outside: [3, 6]\n",
      "outside: [-1, 2]\n",
      "outside: [-1, 3]\n",
      "outside: [-1, 4]\n",
      "outside: [-1, 5]\n",
      "outside: [-1, 6]\n",
      "outside: [-1, 7]\n",
      "outside: [0, 7]\n",
      "outside: [1, 7]\n",
      "outside: [2, 7]\n",
      "outside: [3, 7]\n",
      "outside: [4, 7]\n",
      "outside: [4, 6]\n",
      "outside: [4, 5]\n",
      "outside: [4, 4]\n",
      "outside: [4, 3]\n",
      "outside: [4, 2]\n",
      "outside: [4, 1]\n",
      "outside: [-1, 1]\n",
      "outside: [-2, 1]\n",
      "outside: [-2, 2]\n",
      "outside: [-2, 3]\n",
      "outside: [-2, 4]\n",
      "outside: [-2, 5]\n",
      "outside: [-2, 6]\n",
      "outside: [-2, 7]\n",
      "outside: [-2, 8]\n",
      "outside: [-1, 8]\n",
      "outside: [0, 8]\n",
      "outside: [1, 8]\n",
      "outside: [2, 8]\n",
      "outside: [3, 8]\n",
      "outside: [4, 8]\n",
      "outside: [5, 8]\n",
      "outside: [5, 7]\n",
      "outside: [5, 6]\n",
      "outside: [5, 5]\n",
      "outside: [5, 4]\n",
      "outside: [5, 3]\n",
      "outside: [5, 2]\n",
      "outside: [5, 1]\n",
      "outside: [5, 0]\n",
      "outside: [4, 0]\n"
     ]
    },
    {
     "data": {
      "text/plain": [
       "[[1, 4],\n",
       " [1, 5],\n",
       " [2, 5],\n",
       " [2, 4],\n",
       " [2, 3],\n",
       " [1, 3],\n",
       " [0, 3],\n",
       " [0, 4],\n",
       " [0, 5],\n",
       " [3, 5],\n",
       " [3, 4],\n",
       " [3, 3],\n",
       " [3, 2],\n",
       " [2, 2],\n",
       " [1, 2],\n",
       " [0, 2],\n",
       " [3, 1],\n",
       " [2, 1],\n",
       " [1, 1],\n",
       " [0, 1],\n",
       " [3, 0],\n",
       " [2, 0],\n",
       " [1, 0],\n",
       " [0, 0]]"
      ]
     },
     "execution_count": 11,
     "metadata": {},
     "output_type": "execute_result"
    }
   ],
   "source": [
    "from typing import List\n",
    "\n",
    "def spiralOrder(rows: int, cols: int, rStart: int, cStart: int) -> List[List[int]]:\n",
    "    ans_list = []\n",
    "    c=cStart\n",
    "    r=rStart\n",
    "    directions = [(0,1),(1,0),(0,-1),(-1,0)] #Right,Down,Left,Up\n",
    "    dir_index = 0\n",
    "    change_direction = 0\n",
    "    steps = 0\n",
    "    goal = rows*cols\n",
    "\n",
    "    while len(ans_list) < goal:\n",
    "        if 0 <= r < rows and 0 <= c < cols:\n",
    "            ans_list.append([r,c])\n",
    "        #else:\n",
    "        #    print(\"outside:\",[r,c])\n",
    "        #[1,1,2,2,3,3,4,4....], so //2 +1\n",
    "        if steps == change_direction // 2 + 1:\n",
    "            dir_index = (dir_index+1)%4 # one step which dir, %4 sliding window direction\n",
    "            steps = 0\n",
    "            change_direction += 1\n",
    "        r += directions[dir_index][0]\n",
    "        c += directions[dir_index][1]\n",
    "        steps += 1\n",
    "        \n",
    "    return ans_list\n",
    "\n",
    "rows = 4\n",
    "cols = 6\n",
    "rStart = 1\n",
    "cStart = 4\n",
    "spiralOrder(rows,cols,rStart,cStart)"
   ]
  },
  {
   "cell_type": "code",
   "execution_count": null,
   "metadata": {},
   "outputs": [],
   "source": []
  }
 ],
 "metadata": {
  "kernelspec": {
   "display_name": "Python 3",
   "language": "python",
   "name": "python3"
  },
  "language_info": {
   "codemirror_mode": {
    "name": "ipython",
    "version": 3
   },
   "file_extension": ".py",
   "mimetype": "text/x-python",
   "name": "python",
   "nbconvert_exporter": "python",
   "pygments_lexer": "ipython3",
   "version": "3.7.9"
  }
 },
 "nbformat": 4,
 "nbformat_minor": 2
}
