{
 "cells": [
  {
   "cell_type": "markdown",
   "metadata": {},
   "source": [
    "# 703. Kth Largest Element in a Stream\n",
    "https://leetcode.com/problems/kth-largest-element-in-a-stream/description/?envType=daily-question&envId=2024-08-12"
   ]
  },
  {
   "cell_type": "code",
   "execution_count": 1,
   "metadata": {},
   "outputs": [
    {
     "name": "stdout",
     "output_type": "stream",
     "text": [
      "4\n",
      "5\n",
      "5\n",
      "8\n",
      "8\n"
     ]
    }
   ],
   "source": [
    "from typing import List\n",
    "import heapq\n",
    "\n",
    "class KthLargest:\n",
    "    \n",
    "    def __init__(self, k: int, nums: List[int]):\n",
    "        self.min_heapq = []\n",
    "        self.k = k\n",
    "        for num in nums:\n",
    "            heapq.heappush(self.min_heapq,num)\n",
    "            if len(self.min_heapq) > self.k:\n",
    "                heapq.heappop(self.min_heapq)\n",
    "\n",
    "    def add(self, val: int) -> int:\n",
    "        heapq.heappush(self.min_heapq,val)\n",
    "        if len(self.min_heapq) > self.k:\n",
    "            heapq.heappop(self.min_heapq)\n",
    "        \n",
    "        return self.min_heapq[0]\n",
    "    \n",
    "kthLargest = KthLargest(3, [4, 5, 8, 2])\n",
    "print(kthLargest.add(3))   # return 4\n",
    "print(kthLargest.add(5))   # return 5\n",
    "print(kthLargest.add(10))  # return 5\n",
    "print(kthLargest.add(9))   # return 8\n",
    "print(kthLargest.add(4))   # return 8"
   ]
  }
 ],
 "metadata": {
  "kernelspec": {
   "display_name": "Python 3",
   "language": "python",
   "name": "python3"
  },
  "language_info": {
   "codemirror_mode": {
    "name": "ipython",
    "version": 3
   },
   "file_extension": ".py",
   "mimetype": "text/x-python",
   "name": "python",
   "nbconvert_exporter": "python",
   "pygments_lexer": "ipython3",
   "version": "3.7.9"
  }
 },
 "nbformat": 4,
 "nbformat_minor": 2
}
