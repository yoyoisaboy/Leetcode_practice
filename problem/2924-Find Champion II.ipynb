{
 "cells": [
  {
   "cell_type": "markdown",
   "metadata": {},
   "source": [
    "# 2924. Find Champion II\n",
    "\n",
    "https://leetcode.com/problems/find-champion-ii/?envType=daily-question&envId=2024-11-27"
   ]
  },
  {
   "cell_type": "code",
   "execution_count": 2,
   "metadata": {},
   "outputs": [
    {
     "data": {
      "text/plain": [
       "-1"
      ]
     },
     "execution_count": 2,
     "metadata": {},
     "output_type": "execute_result"
    }
   ],
   "source": [
    "from typing import List\n",
    "n = 4\n",
    "edges = [[0,2],[1,3],[1,2]]\n",
    "\n",
    "def findChampion(n: int, edges: List[List[int]]) -> int:\n",
    "    # 初始化入度數組\n",
    "    in_degree = [0] * n\n",
    "    \n",
    "    # 計算每個節點的入度\n",
    "    for u, v in edges:\n",
    "        in_degree[v] += 1\n",
    "    \n",
    "    # 找到所有入度為 0 的節點\n",
    "    champions = [i for i in range(n) if in_degree[i] == 0]\n",
    "    \n",
    "    # 檢查是否有唯一的冠軍\n",
    "    if len(champions) == 1:\n",
    "        return champions[0]  # 唯一冠軍\n",
    "    else:\n",
    "        return -1  # 無法確定唯一冠軍\n",
    "    \n",
    "findChampion(n,edges)"
   ]
  },
  {
   "cell_type": "code",
   "execution_count": null,
   "metadata": {},
   "outputs": [],
   "source": []
  }
 ],
 "metadata": {
  "kernelspec": {
   "display_name": "Python 3",
   "language": "python",
   "name": "python3"
  },
  "language_info": {
   "codemirror_mode": {
    "name": "ipython",
    "version": 3
   },
   "file_extension": ".py",
   "mimetype": "text/x-python",
   "name": "python",
   "nbconvert_exporter": "python",
   "pygments_lexer": "ipython3",
   "version": "3.7.9"
  }
 },
 "nbformat": 4,
 "nbformat_minor": 2
}
