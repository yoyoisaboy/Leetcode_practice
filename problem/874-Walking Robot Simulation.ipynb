{
 "cells": [
  {
   "cell_type": "markdown",
   "metadata": {},
   "source": [
    "# 874. Walking Robot Simulation\n",
    "https://leetcode.com/problems/walking-robot-simulation/description/?envType=daily-question&envId=2024-09-04"
   ]
  },
  {
   "cell_type": "code",
   "execution_count": 5,
   "metadata": {},
   "outputs": [
    {
     "name": "stdout",
     "output_type": "stream",
     "text": [
      "0 4\n",
      "1 4\n",
      "1 4\n",
      "1 8\n",
      "65 1 8\n"
     ]
    }
   ],
   "source": [
    "commands = [4,-1,4,-2,4]\n",
    "obstacles = [[2,4]]\n",
    "\n",
    "x,y = 0,commands[0]\n",
    "degree = 0\n",
    "direction = 0\n",
    "\n",
    "for c in commands[1:]:\n",
    "    if c == -1:\n",
    "        direction = -1\n",
    "        degree += 90\n",
    "        if degree >= 360: degree-=360\n",
    "    elif c == -2:\n",
    "        direction = -2\n",
    "        degree -= 90\n",
    "        if degree <= -360: degree+=360\n",
    "    else:\n",
    "        if direction == -1:\n",
    "            if degree == 90 or degree == -270: \n",
    "                for _ in range(c):\n",
    "                    x += 1\n",
    "                    if [x,y] in obstacles:\n",
    "                        x -=1\n",
    "                        break\n",
    "            if degree == -90 or degree == 270:\n",
    "                for _ in range(c):\n",
    "                    x -= 1\n",
    "                    if [x,y] in obstacles:\n",
    "                        x += 1\n",
    "                        break\n",
    "        else: # -2\n",
    "            if degree == 0: \n",
    "                for _ in range(c):\n",
    "                    y += 1\n",
    "                    if [x,y] in obstacles:\n",
    "                        y -= 1\n",
    "                        break\n",
    "            if degree == 180 or degree==-180: \n",
    "                for _ in range(c):\n",
    "                    y -= 1\n",
    "                    if [x,y] in obstacles:\n",
    "                        y += 1\n",
    "                        break\n",
    "\n",
    "print(pow(x,2)+pow(y,2),x,y)"
   ]
  },
  {
   "cell_type": "code",
   "execution_count": null,
   "metadata": {},
   "outputs": [],
   "source": []
  }
 ],
 "metadata": {
  "kernelspec": {
   "display_name": "Python 3",
   "language": "python",
   "name": "python3"
  },
  "language_info": {
   "codemirror_mode": {
    "name": "ipython",
    "version": 3
   },
   "file_extension": ".py",
   "mimetype": "text/x-python",
   "name": "python",
   "nbconvert_exporter": "python",
   "pygments_lexer": "ipython3",
   "version": "3.7.9"
  }
 },
 "nbformat": 4,
 "nbformat_minor": 2
}
