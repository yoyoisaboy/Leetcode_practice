{
 "cells": [
  {
   "cell_type": "markdown",
   "metadata": {},
   "source": [
    "# 1334. Find the City With the Smallest Number of Neighbors at a Threshold Distance\n",
    "https://leetcode.com/problems/find-the-city-with-the-smallest-number-of-neighbors-at-a-threshold-distance/description/?envType=daily-question&envId=2024-07-26"
   ]
  },
  {
   "cell_type": "code",
   "execution_count": 7,
   "metadata": {},
   "outputs": [],
   "source": [
    "from typing import List\n",
    "from collections import defaultdict\n",
    "import heapq"
   ]
  },
  {
   "cell_type": "code",
   "execution_count": 35,
   "metadata": {},
   "outputs": [],
   "source": [
    "def findTheCity(n: int, edges: List[List[int]], distanceThreshold: int) -> int:\n",
    "    graph = defaultdict(list)\n",
    "    #建連接表\n",
    "    for city1,city2,distance in edges:\n",
    "        graph[city1].append((city2,distance))\n",
    "        graph[city2].append((city1,distance))\n",
    "    print(graph)\n",
    "    #計算每個點當起點的最短路徑\n",
    "    def dijkstra(start):\n",
    "        distances = [float('Inf')]*n\n",
    "        distances[start] = 0\n",
    "        min_heap = [(0,start)]\n",
    "        while min_heap:\n",
    "            current_distance, current_node = heapq.heappop(min_heap)\n",
    "            print( start,\" to \",current_node,\" need \",current_distance,min_heap)\n",
    "            if current_distance > distances[current_node]:\n",
    "                continue\n",
    "            for neighbor, weight in graph[current_node]:\n",
    "                distance = current_distance+weight\n",
    "                if distance < distances[neighbor]:\n",
    "                    distances[neighbor] = distance\n",
    "                    heapq.heappush(min_heap,(distance,neighbor))\n",
    "        return distances\n",
    "\n",
    "    min_count = float('Inf')\n",
    "    result_city = -1\n",
    "\n",
    "    for i in range(n):\n",
    "        print(\"{} start: \".format(i))\n",
    "        distances = dijkstra(i)\n",
    "        print(distances)\n",
    "        count = sum(d <= distanceThreshold for d in distances)\n",
    "        if count < min_count or (count == min_count and i > result_city):\n",
    "            min_count = count\n",
    "            result_city = i\n",
    "\n",
    "    return result_city"
   ]
  },
  {
   "cell_type": "code",
   "execution_count": 36,
   "metadata": {},
   "outputs": [
    {
     "name": "stdout",
     "output_type": "stream",
     "text": [
      "defaultdict(<class 'list'>, {0: [(1, 3)], 1: [(0, 3), (2, 1), (3, 4)], 2: [(1, 1), (3, 1)], 3: [(1, 4), (2, 1)]})\n",
      "0 start: \n",
      "0  to  0  need  0 []\n",
      "0  to  1  need  3 []\n",
      "0  to  2  need  4 [(7, 3)]\n",
      "0  to  3  need  5 [(7, 3)]\n",
      "0  to  3  need  7 []\n",
      "[0, 3, 4, 5]\n",
      "1 start: \n",
      "1  to  1  need  0 []\n",
      "1  to  2  need  1 [(3, 0), (4, 3)]\n",
      "1  to  3  need  2 [(3, 0), (4, 3)]\n",
      "1  to  0  need  3 [(4, 3)]\n",
      "1  to  3  need  4 []\n",
      "[3, 0, 1, 2]\n",
      "2 start: \n",
      "2  to  2  need  0 []\n",
      "2  to  1  need  1 [(1, 3)]\n",
      "2  to  3  need  1 [(4, 0)]\n",
      "2  to  0  need  4 []\n",
      "[4, 1, 0, 1]\n",
      "3 start: \n",
      "3  to  3  need  0 []\n",
      "3  to  2  need  1 [(4, 1)]\n",
      "3  to  1  need  2 [(4, 1)]\n",
      "3  to  1  need  4 [(5, 0)]\n",
      "3  to  0  need  5 []\n",
      "[5, 2, 1, 0]\n"
     ]
    },
    {
     "data": {
      "text/plain": [
       "3"
      ]
     },
     "execution_count": 36,
     "metadata": {},
     "output_type": "execute_result"
    }
   ],
   "source": [
    "n = 4\n",
    "edges = [[0,1,3],[1,2,1],[1,3,4],[2,3,1]]\n",
    "distanceThreshold = 4\n",
    "#Output: 3\n",
    "findTheCity(n, edges, distanceThreshold)"
   ]
  },
  {
   "cell_type": "markdown",
   "metadata": {},
   "source": [
    "## 解釋\n",
    "* 構建鄰接表：我們首先根據給定的邊構建圖的鄰接表。\n",
    "* Dijkstra 算法：定義一個 dijkstra 函數，用於計算從給定起點出發到所有其他城市的最短距離。這個函數使用優先級隊列 (最小堆) 來高效地找到最短路徑。\n",
    "* 運行 Dijkstra 算法：對每個城市運行 Dijkstra 算法，計算其到所有其他城市的最短距離，並統計在距離閾值 distanceThreshold 內的城市數目。\n",
    "* 找到結果城市：選擇可到達城市數目最少的城市作為結果。如果有多個這樣的城市，返回編號最大的那一個。\n",
    "\n",
    "這個算法的時間複雜度是 O(n * (E + V log V))，其中 E 是邊的數量，V 是頂點的數量。在給定的約束條件下是可行的。\n",
    "\n",
    "## 流程\n",
    "n = 4\n",
    "\n",
    "edges = [[0, 1, 3], [1, 2, 1], [1, 3, 4], [2, 3, 1]]\n",
    "\n",
    "distanceThreshold = 4\n",
    "### 流程圖\n",
    "假設我們從節點 0 開始運行 Dijkstra 算法。這裡是算法的每一步操作。\n",
    "\n",
    "1. 初始化距離和優先級隊列：\n",
    "    * distances = [0, inf, inf, inf]\n",
    "    * min_heap = [(0, 0)]（距離為 0 的節點 0）\n",
    "2. 從優先級隊列中彈出節點 0，並更新其鄰居的距離：\n",
    "    * 節點 1：距離為 3\n",
    "    * distances = [0, 3, inf, inf]\n",
    "    * min_heap = [(3, 1)]\n",
    "3. 從優先級隊列中彈出節點 1，並更新其鄰居的距離：\n",
    "    * 節點 2：距離為 4（3 + 1）\n",
    "    * 節點 3：距離為 7（3 + 4）\n",
    "    * distances = [0, 3, 4, 7]\n",
    "    * min_heap = [(4, 2), (7, 3)]\n",
    "4. 從優先級隊列中彈出節點 2，並更新其鄰居的距離：\n",
    "    * 節點 3：距離為 5（4 + 1，比之前的 7 小，更新距離）\n",
    "    * distances = [0, 3, 4, 5]\n",
    "    * min_heap = [(5, 3), (7, 3)]\n",
    "5. 從優先級隊列中彈出節點 3：\n",
    "    * 沒有新的更新\n",
    "    * distances = [0, 3, 4, 5]\n",
    "    * min_heap = [(7, 3)]\n",
    "6. 最後一步，從優先級隊列中彈出節點 3：\n",
    "    * 沒有新的更新\n",
    "    * distances = [0, 3, 4, 5]\n",
    "    * min_heap = []（隊列已空）"
   ]
  },
  {
   "cell_type": "code",
   "execution_count": 17,
   "metadata": {},
   "outputs": [],
   "source": [
    "#Floyd-Warshall \n",
    "def findTheCity(n, edges, distanceThreshold):\n",
    "    # 初始化距離矩陣\n",
    "    dist = [[float('inf')] * n for _ in range(n)]\n",
    "    for i in range(n):\n",
    "        dist[i][i] = 0\n",
    "\n",
    "    # 填充距離矩陣\n",
    "    for u, v, w in edges:\n",
    "        dist[u][v] = w\n",
    "        dist[v][u] = w\n",
    "\n",
    "    # Floyd-Warshall 算法\n",
    "    for k in range(n):\n",
    "        for i in range(n):\n",
    "            for j in range(n):\n",
    "                if dist[i][j] > dist[i][k] + dist[k][j]:\n",
    "                    dist[i][j] = dist[i][k] + dist[k][j]\n",
    "\n",
    "    # 計算每個城市可到達的城市數目\n",
    "    min_count = float('inf')\n",
    "    result_city = -1\n",
    "    for i in range(n):\n",
    "        count = sum(dist[i][j] <= distanceThreshold for j in range(n))\n",
    "        if count < min_count or (count == min_count and i > result_city):\n",
    "            min_count = count\n",
    "            result_city = i\n",
    "\n",
    "    return result_city"
   ]
  },
  {
   "cell_type": "code",
   "execution_count": 18,
   "metadata": {},
   "outputs": [
    {
     "name": "stdout",
     "output_type": "stream",
     "text": [
      "3\n",
      "4\n",
      "4\n",
      "3\n"
     ]
    },
    {
     "data": {
      "text/plain": [
       "3"
      ]
     },
     "execution_count": 18,
     "metadata": {},
     "output_type": "execute_result"
    }
   ],
   "source": [
    "n = 4\n",
    "edges = [[0,1,3],[1,2,1],[1,3,4],[2,3,1]]\n",
    "distanceThreshold = 4\n",
    "#Output: 3\n",
    "findTheCity(n, edges, distanceThreshold)"
   ]
  },
  {
   "cell_type": "markdown",
   "metadata": {},
   "source": [
    "## 解釋\n",
    "* 初始化距離矩陣：我們首先初始化一個 n x n 的距離矩陣 dist，所有元素初始值為無限大 (float('inf'))，表示初始時每個城市之間的距離是無限遠。對於每個城市到自身的距離為 0。\n",
    "* 填充距離矩陣：根據輸入的邊來更新距離矩陣，將直接相連的城市之間的距離設置為邊的權重。\n",
    "* Floyd-Warshall 算法：這是一個三重循環，通過每個中間點 k 來更新每對城市 i 和 j 之間的最短距離。\n",
    "* 計算每個城市可到達的城市數目：計算每個城市在給定的距離閾值 distanceThreshold 下可到達的城市數目，並返回可到達城市數目最少的城市。如果有多個這樣的城市，返回編號最大的那一個。\n",
    "\n",
    "這個算法的時間複雜度是 O(n^3)，在給定的約束條件下 (n <= 100) 是可行的。\n",
    "\n",
    "## 流程\n",
    "初始距離矩陣：\n",
    "\n",
    "首先，初始化距離矩陣 dist，如果兩個節點之間有邊，則設置為邊的權重，否則設置為無限大（INF）。同時，對角線設置為 0（從自己到自己距離為 0）。\n",
    "\n",
    "|  0   | 1  |2  |3  |\n",
    "|  ----  | ----  |  ----  | ----  |\n",
    "| 0  | 3 |INF  | INF |\n",
    "| 3  | 0 |1  | 4 |\n",
    "| INF  | 1 |0  | 1 |\n",
    "| INF  | INF |1  | 0 |\n",
    "\n",
    "1. 初始化距離矩陣：將距離矩陣 dist 初始化為節點之間的直接距離。\n",
    "2. 迭代所有中間節點 k：\n",
    "    * 迭代所有起點 i：\n",
    "        * 迭代所有終點 j：\n",
    "            * 如果通過中間節點 k 從 i 到 j 的距離小於直接從 i 到 j 的距離，則更新 dist[i][j] = dist[i][k] + dist[k][j]。\n",
    "\n",
    "第一輪迭代（k = 0）\n",
    "\n",
    "|  0   | 1  |2  |3  |\n",
    "|  ----  | ----  |  ----  | ----  |\n",
    "| 0  | 3 |INF  | INF |\n",
    "| 3  | 0 |1  | 4 |\n",
    "| INF  | 1 |0  | 1 |\n",
    "| INF  | INF |1  | 0 |\n",
    "\n",
    "第二輪迭代（k = 1）\n",
    "\n",
    "更新：dist[0][2] = dist[0][1] + dist[1][2] = 3 + 1 = 4\n",
    "\n",
    "更新：dist[0][3] = dist[0][1] + dist[1][3] = 3 + 4 = 7\n",
    "\n",
    "更新：dist[2][0] = dist[2][1] + dist[1][0] = 1 + 3 = 4\n",
    "|  0   | 1  |2  |3  |\n",
    "|  ----  | ----  |  ----  | ----  |\n",
    "| 0  | 3 |4  | 7 |\n",
    "| 3  | 0 |1  | 4 |\n",
    "| 4  | 1 |0  | 1 |\n",
    "| INF  | INF |1  | 0 |\n",
    "\n",
    "第三輪迭代（k = 2）\n",
    "更新：dist[3][0] = dist[3][2] + dist[2][0] = 1 + 4 = 5\n",
    "\n",
    "更新：dist[3][1] = dist[3][2] + dist[2][1] = 1 + 1 = 2\n",
    "\n",
    "|  0   | 1  |2  |3  |\n",
    "|  ----  | ----  |  ----  | ----  |\n",
    "| 0  | 3 |4  | 5 |\n",
    "| 3  | 0 |1  | 4 |\n",
    "| 4  | 1 |0  | 1 |\n",
    "| 5  | 2 |1  | 0 |\n",
    "\n",
    "第四輪迭代（k = 3）\n",
    "\n",
    "沒有新的更新\n",
    "\n",
    "|  0   | 1  |2  |3  |\n",
    "|  ----  | ----  |  ----  | ----  |\n",
    "| 0  | 3 |4  | 5 |\n",
    "| 3  | 0 |1  | 4 |\n",
    "| 4  | 1 |0  | 1 |\n",
    "| 5  | 2 |1  | 0 |\n"
   ]
  },
  {
   "cell_type": "markdown",
   "metadata": {},
   "source": []
  }
 ],
 "metadata": {
  "kernelspec": {
   "display_name": "Python 3",
   "language": "python",
   "name": "python3"
  },
  "language_info": {
   "codemirror_mode": {
    "name": "ipython",
    "version": 3
   },
   "file_extension": ".py",
   "mimetype": "text/x-python",
   "name": "python",
   "nbconvert_exporter": "python",
   "pygments_lexer": "ipython3",
   "version": "3.7.9"
  }
 },
 "nbformat": 4,
 "nbformat_minor": 2
}
