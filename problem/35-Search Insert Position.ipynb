{
 "cells": [
  {
   "cell_type": "markdown",
   "metadata": {},
   "source": [
    "# 35. Search Insert Position\n",
    "https://leetcode.com/problems/search-insert-position/"
   ]
  },
  {
   "cell_type": "code",
   "execution_count": null,
   "metadata": {},
   "outputs": [],
   "source": [
    "from typing import List\n",
    "nums = [1,3,5,6]\n",
    "target = 5\n",
    "#Output: 2"
   ]
  },
  {
   "cell_type": "code",
   "execution_count": null,
   "metadata": {},
   "outputs": [],
   "source": [
    "#binary search\n",
    "def searchInsert(nums: List[int], target: int) -> int:\n",
    "    left_loc = 0\n",
    "    right_loc = len(nums)-1\n",
    "    while(left_loc<=right_loc):\n",
    "        mid = (right_loc+left_loc)//2\n",
    "        if target > nums[mid]:\n",
    "            left_loc = mid+1\n",
    "        elif target < nums[mid]:\n",
    "            right_loc = mid-1\n",
    "        else:\n",
    "            return mid\n",
    "    return left_loc"
   ]
  },
  {
   "cell_type": "code",
   "execution_count": null,
   "metadata": {},
   "outputs": [],
   "source": [
    "searchInsert(nums,target)"
   ]
  }
 ],
 "metadata": {
  "language_info": {
   "name": "python"
  }
 },
 "nbformat": 4,
 "nbformat_minor": 2
}
