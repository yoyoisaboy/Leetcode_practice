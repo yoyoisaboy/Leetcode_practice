{
 "cells": [
  {
   "cell_type": "code",
   "execution_count": 5,
   "metadata": {},
   "outputs": [
    {
     "data": {
      "text/plain": [
       "'a'"
      ]
     },
     "execution_count": 5,
     "metadata": {},
     "output_type": "execute_result"
    }
   ],
   "source": [
    "from typing import List\n",
    "\n",
    "def kthDistinct(arr: List[str], k: int) -> str:\n",
    "    ans_list = []\n",
    "    for ele in arr:\n",
    "        count = arr.count(ele)\n",
    "        if count ==1:\n",
    "            ans_list.append(ele)\n",
    "    if k-1 <= len(ans_list) and len(ans_list) > 0:\n",
    "        return ans_list[k-1]\n",
    "    return \"\"\n",
    "\n",
    "arr = [\"d\",\"b\",\"c\",\"b\",\"c\",\"a\"]\n",
    "k = 2\n",
    "#Output: \"a\"\n",
    "kthDistinct(arr,k)"
   ]
  },
  {
   "cell_type": "code",
   "execution_count": null,
   "metadata": {},
   "outputs": [],
   "source": []
  }
 ],
 "metadata": {
  "kernelspec": {
   "display_name": "Python 3",
   "language": "python",
   "name": "python3"
  },
  "language_info": {
   "codemirror_mode": {
    "name": "ipython",
    "version": 3
   },
   "file_extension": ".py",
   "mimetype": "text/x-python",
   "name": "python",
   "nbconvert_exporter": "python",
   "pygments_lexer": "ipython3",
   "version": "3.7.9"
  }
 },
 "nbformat": 4,
 "nbformat_minor": 2
}
