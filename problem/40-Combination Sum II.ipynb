{
 "cells": [
  {
   "cell_type": "markdown",
   "metadata": {},
   "source": [
    "# 40. Combination Sum II\n",
    "https://leetcode.com/problems/combination-sum-ii/description/?envType=daily-question&envId=2024-08-13\n"
   ]
  },
  {
   "cell_type": "code",
   "execution_count": 31,
   "metadata": {},
   "outputs": [
    {
     "data": {
      "text/plain": [
       "[[1, 1, 6], [1, 2, 5], [1, 7], [2, 6]]"
      ]
     },
     "execution_count": 31,
     "metadata": {},
     "output_type": "execute_result"
    }
   ],
   "source": [
    "from typing import List\n",
    "\n",
    "def combinationSum2(candidates: List[int], target: int) -> List[List[int]]:\n",
    "    sorted_candidates = sorted(candidates)\n",
    "    ans = []\n",
    "    def match_number(start,temp_arr,target):\n",
    "        if target ==0:\n",
    "            ans.append(temp_arr)\n",
    "            return\n",
    "        if target < 0:\n",
    "            return\n",
    "        for i in range(start,len(sorted_candidates)):\n",
    "            if i > start and sorted_candidates[i]==sorted_candidates[i-1]:\n",
    "                 continue\n",
    "            match_number(i+1,temp_arr+[sorted_candidates[i]],target-sorted_candidates[i])\n",
    "    \n",
    "    match_number(0,[],target)\n",
    "    return ans\n",
    "\n",
    "candidates = [10,1,2,7,6,1,5]\n",
    "target = 8\n",
    "'''\n",
    "Output: \n",
    "[\n",
    "[1,1,6],\n",
    "[1,2,5],\n",
    "[1,7],\n",
    "[2,6]\n",
    "]\n",
    "'''\n",
    "combinationSum2(candidates,target)"
   ]
  },
  {
   "cell_type": "code",
   "execution_count": 32,
   "metadata": {},
   "outputs": [
    {
     "name": "stdout",
     "output_type": "stream",
     "text": [
      "Initial dp: [{()}, set(), set(), set(), set(), set(), set(), set(), set()]\n",
      "\n",
      "Processing number: 1\n",
      "  Target sum (t): 8\n",
      "  Target sum (t): 7\n",
      "  Target sum (t): 6\n",
      "  Target sum (t): 5\n",
      "  Target sum (t): 4\n",
      "  Target sum (t): 3\n",
      "  Target sum (t): 2\n",
      "  Target sum (t): 1\n",
      "    Adding combination (1,) to dp[1]\n",
      "dp after processing 1: [{()}, {(1,)}, set(), set(), set(), set(), set(), set(), set()]\n",
      "\n",
      "Processing number: 1\n",
      "  Target sum (t): 8\n",
      "  Target sum (t): 7\n",
      "  Target sum (t): 6\n",
      "  Target sum (t): 5\n",
      "  Target sum (t): 4\n",
      "  Target sum (t): 3\n",
      "  Target sum (t): 2\n",
      "    Adding combination (1, 1) to dp[2]\n",
      "  Target sum (t): 1\n",
      "    Adding combination (1,) to dp[1]\n",
      "dp after processing 1: [{()}, {(1,)}, {(1, 1)}, set(), set(), set(), set(), set(), set()]\n",
      "\n",
      "Processing number: 2\n",
      "  Target sum (t): 8\n",
      "  Target sum (t): 7\n",
      "  Target sum (t): 6\n",
      "  Target sum (t): 5\n",
      "  Target sum (t): 4\n",
      "    Adding combination (1, 1, 2) to dp[4]\n",
      "  Target sum (t): 3\n",
      "    Adding combination (1, 2) to dp[3]\n",
      "  Target sum (t): 2\n",
      "    Adding combination (2,) to dp[2]\n",
      "dp after processing 2: [{()}, {(1,)}, {(2,), (1, 1)}, {(1, 2)}, {(1, 1, 2)}, set(), set(), set(), set()]\n",
      "\n",
      "Processing number: 5\n",
      "  Target sum (t): 8\n",
      "    Adding combination (1, 2, 5) to dp[8]\n",
      "  Target sum (t): 7\n",
      "    Adding combination (2, 5) to dp[7]\n",
      "    Adding combination (1, 1, 5) to dp[7]\n",
      "  Target sum (t): 6\n",
      "    Adding combination (1, 5) to dp[6]\n",
      "  Target sum (t): 5\n",
      "    Adding combination (5,) to dp[5]\n",
      "dp after processing 5: [{()}, {(1,)}, {(2,), (1, 1)}, {(1, 2)}, {(1, 1, 2)}, {(5,)}, {(1, 5)}, {(2, 5), (1, 1, 5)}, {(1, 2, 5)}]\n",
      "\n",
      "Processing number: 6\n",
      "  Target sum (t): 8\n",
      "    Adding combination (2, 6) to dp[8]\n",
      "    Adding combination (1, 1, 6) to dp[8]\n",
      "  Target sum (t): 7\n",
      "    Adding combination (1, 6) to dp[7]\n",
      "  Target sum (t): 6\n",
      "    Adding combination (6,) to dp[6]\n",
      "dp after processing 6: [{()}, {(1,)}, {(2,), (1, 1)}, {(1, 2)}, {(1, 1, 2)}, {(5,)}, {(1, 5), (6,)}, {(2, 5), (1, 6), (1, 1, 5)}, {(1, 1, 6), (2, 6), (1, 2, 5)}]\n",
      "\n",
      "Processing number: 7\n",
      "  Target sum (t): 8\n",
      "    Adding combination (1, 7) to dp[8]\n",
      "  Target sum (t): 7\n",
      "    Adding combination (7,) to dp[7]\n",
      "dp after processing 7: [{()}, {(1,)}, {(2,), (1, 1)}, {(1, 2)}, {(1, 1, 2)}, {(5,)}, {(1, 5), (6,)}, {(7,), (2, 5), (1, 6), (1, 1, 5)}, {(1, 1, 6), (2, 6), (1, 2, 5), (1, 7)}]\n",
      "\n",
      "Processing number: 10\n",
      "dp after processing 10: [{()}, {(1,)}, {(2,), (1, 1)}, {(1, 2)}, {(1, 1, 2)}, {(5,)}, {(1, 5), (6,)}, {(7,), (2, 5), (1, 6), (1, 1, 5)}, {(1, 1, 6), (2, 6), (1, 2, 5), (1, 7)}]\n",
      "\n",
      "Final combinations: [[1, 1, 6], [2, 6], [1, 2, 5], [1, 7]]\n"
     ]
    },
    {
     "data": {
      "text/plain": [
       "[[1, 1, 6], [2, 6], [1, 2, 5], [1, 7]]"
      ]
     },
     "execution_count": 32,
     "metadata": {},
     "output_type": "execute_result"
    }
   ],
   "source": [
    "from typing import List\n",
    "\n",
    "def combinationSum2(candidates: List[int], target: int) -> List[List[int]]:\n",
    "    candidates.sort()\n",
    "    dp = [set() for _ in range(target + 1)]\n",
    "    dp[0].add(tuple())\n",
    "\n",
    "    print(f\"Initial dp: {dp}\\n\")\n",
    "\n",
    "    for num in candidates:\n",
    "        print(f\"Processing number: {num}\")\n",
    "        for t in range(target, num - 1, -1):\n",
    "            print(f\"  Target sum (t): {t}\")\n",
    "            for comb in dp[t - num]:\n",
    "                new_comb = comb + (num,)\n",
    "                dp[t].add(new_comb)\n",
    "                print(f\"    Adding combination {new_comb} to dp[{t}]\")\n",
    "        print(f\"dp after processing {num}: {dp}\\n\")\n",
    "\n",
    "    result = [list(comb) for comb in dp[target]]\n",
    "    print(f\"Final combinations: {result}\")\n",
    "    return result\n",
    "\n",
    "# Example usage:\n",
    "candidates1 = [10,1,2,7,6,1,5]\n",
    "target1 = 8\n",
    "combinationSum2(candidates1, target1)\n"
   ]
  },
  {
   "cell_type": "markdown",
   "metadata": {},
   "source": [
    "# 分解步驟\n",
    "* 定義狀態：\n",
    "    定義一個二維數組 dp[i][j]，其中 i 表示前 i 個元素，j 表示目標和為 j 時的所有組合。\n",
    "\n",
    "    dp[i][j] 存儲的是可以由前 i 個元素構成和為 j 的所有組合列表。\n",
    "* 初始化狀態：\n",
    "\n",
    "    當目標和為 0 時，唯一的組合是空組合，即 dp[0][0] = [[]]。\n",
    "    當沒有可用的元素時，不可能構成任何非零和，因此對其他 j > 0 的情況，dp[0][j] 初始化為空列表。\n",
    "* 狀態轉移：\n",
    "\n",
    "    遍歷每個元素 candidates[i]，然後對每個可能的目標和 j：\n",
    "    如果當前目標和 j 大於或等於 candidates[i]，那麼可以將 candidates[i] 添加到所有和為 j - candidates[i] 的組合中，構成和為 j 的新組合。\n",
    "* 去除重複：\n",
    "\n",
    "    在動態規劃過程中，我們需要小心處理重複元素。通過對 candidates 進行排序，並在狀態轉移過程中避免重複使用相同的元素，可以有效去除重複組合。\n",
    "* 返回結果：\n",
    "\n",
    "    最終，我們返回 dp[n][target]，其中 n 是候選數組的長度，這樣可以得到所有和為目標值的組合。"
   ]
  },
  {
   "cell_type": "markdown",
   "metadata": {},
   "source": [
    "# 程式碼解釋\n",
    "*  排序：\n",
    "    首先對 candidates 進行排序，以便在動態規劃過程中更容易處理重複元素。\n",
    "\n",
    "* 定義 dp：\n",
    "    dp[t] 是一個集合，存儲所有可能的和為 t 的組合。我們使用集合來確保組合的唯一性。\n",
    "\n",
    "* 狀態轉移：\n",
    "    對於每一個候選元素 num，我們從目標值 target 向下遍歷 t，確保每個元素只使用一次。然後，將當前元素 num 添加到之前的組合中以構成新的組合。\n",
    "\n",
    "* 去除重複：\n",
    "    使用集合 set 結構來自動去除重複的組合。\n",
    "\n",
    "* 返回結果：\n",
    "    最終返回 dp[target] 中的所有組合，並將它們從 tuple 轉換為 list 格式。"
   ]
  },
  {
   "cell_type": "markdown",
   "metadata": {},
   "source": []
  }
 ],
 "metadata": {
  "kernelspec": {
   "display_name": "Python 3",
   "language": "python",
   "name": "python3"
  },
  "language_info": {
   "codemirror_mode": {
    "name": "ipython",
    "version": 3
   },
   "file_extension": ".py",
   "mimetype": "text/x-python",
   "name": "python",
   "nbconvert_exporter": "python",
   "pygments_lexer": "ipython3",
   "version": "3.7.9"
  }
 },
 "nbformat": 4,
 "nbformat_minor": 2
}
