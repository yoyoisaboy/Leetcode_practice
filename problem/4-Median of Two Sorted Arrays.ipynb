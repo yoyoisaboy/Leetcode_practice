{
 "cells": [
  {
   "cell_type": "markdown",
   "metadata": {},
   "source": [
    "# 4. Median of Two Sorted Arrays\n",
    "https://leetcode.com/problems/median-of-two-sorted-arrays/description/"
   ]
  },
  {
   "cell_type": "code",
   "execution_count": 1,
   "metadata": {},
   "outputs": [
    {
     "data": {
      "text/plain": [
       "2.0"
      ]
     },
     "execution_count": 1,
     "metadata": {},
     "output_type": "execute_result"
    }
   ],
   "source": [
    "from typing import List\n",
    "\n",
    "def findMedianSortedArrays(nums1: List[int], nums2: List[int]) -> float:\n",
    "    new_nums = nums1+nums2\n",
    "    new_nums.sort()\n",
    "\n",
    "    size = len(new_nums)\n",
    "    if size % 2 == 1 : #even\n",
    "        return float(new_nums[size//2])\n",
    "    else:\n",
    "        # odd\n",
    "        left = new_nums[size//2-1]\n",
    "        right = new_nums[size//2]\n",
    "        return (float(left)+float(right))/2.0\n",
    "\n",
    "\n",
    "nums1 = [1,3]\n",
    "nums2 = [2]\n",
    "findMedianSortedArrays(nums1,nums2)\n",
    "\n",
    "#O((n + m) * log(n + m)) (不符合題目要求"
   ]
  },
  {
   "cell_type": "code",
   "execution_count": 3,
   "metadata": {},
   "outputs": [
    {
     "data": {
      "text/plain": [
       "4"
      ]
     },
     "execution_count": 3,
     "metadata": {},
     "output_type": "execute_result"
    }
   ],
   "source": [
    "#GPT\n",
    "\n",
    "class Solution:\n",
    "    def findMedianSortedArrays(self, nums1: List[int], nums2: List[int]) -> float:\n",
    "        n = len(nums1)\n",
    "        m = len(nums2)\n",
    "        if n > m:\n",
    "            return self.findMedianSortedArrays(nums2, nums1)\n",
    "        low = 0\n",
    "        high = n\n",
    "        left = (n + m + 1) // 2\n",
    "        while low <= high:\n",
    "            mid1 = (low + high) // 2\n",
    "            mid2 = left - mid1\n",
    "            l1 = float('-inf') if mid1 == 0 else nums1[mid1 - 1]\n",
    "            l2 = float('-inf') if mid2 == 0 else nums2[mid2 - 1]\n",
    "            r1 = float('inf') if mid1 == n else nums1[mid1]\n",
    "            r2 = float('inf') if mid2 == m else nums2[mid2]\n",
    "            if l1 <= r2 and l2 <= r1:\n",
    "                if (n + m) % 2 == 1:\n",
    "                    return max(l1, l2)\n",
    "                else:\n",
    "                    return (max(l1, l2) + min(r1, r2)) / 2.0\n",
    "            elif l1 > r2:\n",
    "                high = mid1 - 1\n",
    "            else:\n",
    "                low = mid1 + 1\n",
    "        return 0\n",
    "nums1 = [1,2,4]\n",
    "nums2 = [3,5,6,7]\n",
    "findMedianSortedArrays(nums1,nums2) \n"
   ]
  },
  {
   "cell_type": "markdown",
   "metadata": {},
   "source": [
    "# Median of Two Sorted Arrays - Example Explanation\n",
    "\n",
    "## Problem\n",
    "Given two sorted arrays `nums1` and `nums2` of size `m` and `n` respectively, find the median of the two sorted arrays.\n",
    "\n",
    "### Example\n",
    "- **Input:** `nums1 = [1, 2, 4]`, `nums2 = [3, 5, 6, 7]`\n",
    "- **Output:** `4`\n",
    "\n",
    "## Step-by-Step Explanation\n",
    "\n",
    "### 1. Initialization\n",
    "首先，確保 `nums1` 是較短的數組。由於 `nums1` 的長度 3 小於 `nums2` 的長度 4，因此不需要交換它們。\n",
    "\n",
    "```python\n",
    "n = len(nums1) = 3\n",
    "m = len(nums2) = 4\n",
    "low = 0\n",
    "high = n = 3\n",
    "left = (n + m + 1) // 2 = (3 + 4 + 1) // 2 = 4\n",
    "```\n",
    "\n",
    "### 2. First Iteration\n",
    "```python\n",
    "mid1 = (low + high) // 2 = (0 + 3) // 2 = 1\n",
    "mid2 = left - mid1 = 4 - 1 = 3\n",
    "```\n",
    "* mid1 = 1 表示在 nums1 中取前 1 個元素 [1]，對應的左邊元素 l1 是 nums1[0] = 1。\n",
    "* mid2 = 3 表示在 nums2 中取前 3 個元素 [3, 5, 6]，對應的左邊元素 l2 是 nums2[2] = 6。\n",
    "```python\n",
    "l1 = nums1[mid1 - 1] = nums1[0] = 1\n",
    "l2 = nums2[mid2 - 1] = nums2[2] = 6\n",
    "r1 = nums1[mid1] = nums1[1] = 2\n",
    "r2 = nums2[mid2] = nums2[3] = 7\n",
    "```\n",
    "檢查條件 l1 <= r2 和 l2 <= r1：\n",
    "* l1 = 1 和 r2 = 7，1 <= 7 是真。\n",
    "* l2 = 6 和 r1 = 2，6 <= 2 是假。\n",
    "由於 l2 > r1，我們需要增加 mid1，因此更新 low。\n",
    "```python\n",
    "low = mid1 + 1 = 1 + 1 = 2\n",
    "```\n",
    "### 3. Second Iteration\n",
    "```python\n",
    "mid1 = (low + high) // 2 = (2 + 3) // 2 = 2\n",
    "mid2 = left - mid1 = 4 - 2 = 2\n",
    "```\n",
    "* mid1 = 2 表示在 nums1 中取前 2 個元素 [1, 2]，對應的左邊元素 l1 是 nums1[1] = 2。\n",
    "* mid2 = 2 表示在 nums2 中取前 2 個元素 [3, 5]，對應的左邊元素 l2 是 nums2[1] = 5。\n",
    "```python\n",
    "l1 = nums1[mid1 - 1] = nums1[1] = 2\n",
    "l2 = nums2[mid2 - 1] = nums2[1] = 5\n",
    "r1 = nums1[mid1] = nums1[2] = 4\n",
    "r2 = nums2[mid2] = nums2[2] = 6\n",
    "```\n",
    "再次檢查條件 l1 <= r2 和 l2 <= r1：\n",
    "* l1 = 2 和 r2 = 6，2 <= 6 是真。\n",
    "* l2 = 5 和 r1 = 4，5 <= 4 是假。\n",
    "這次 l2 > r1，表示我們仍然需要增加 mid1，更新 low。\n",
    "```python\n",
    "low = mid1 + 1 = 2 + 1 = 3\n",
    "```\n",
    "### 4. Third Iteration\n",
    "```python\n",
    "mid1 = (low + high) // 2 = (3 + 3) // 2 = 3\n",
    "mid2 = left - mid1 = 4 - 3 = 1\n",
    "```\n",
    "* mid1 = 3 表示在 nums1 中取前 3 個元素 [1, 2, 4]，對應的左邊元素 l1 是 nums1[2] = 4。\n",
    "* mid2 = 1 表示在 nums2 中取前 1 個元素 [3]，對應的左邊元素 l2 是 nums2[0] = 3。\n",
    "```python\n",
    "l1 = nums1[mid1 - 1] = nums1[2] = 4\n",
    "l2 = nums2[mid2 - 1] = nums2[0] = 3\n",
    "r1 = float('inf') if mid1 == n else nums1[mid1]  # Since mid1 == 3 (n), r1 = float('inf')\n",
    "r2 = nums2[mid2] = nums2[1] = 5\n",
    "```\n",
    "檢查條件 l1 <= r2 和 l2 <= r1：\n",
    "* l1 = 4 和 r2 = 5，4 <= 5 是真。\n",
    "* l2 = 3 和 r1 = inf，3 <= inf 是真。\n",
    "兩個條件都成立，因此我們找到了正確的切分點。現在判斷總長度的奇偶性：\n",
    "\n",
    "* 如果 (n + m) % 2 == 1 (奇數)，返回 max(l1, l2)。\n",
    "* 否則返回 (max(l1, l2) + min(r1, r2)) / 2.0。\n",
    "在此例中 (3 + 4) % 2 = 1，返回 max(4, 3) = 4。\n",
    "\n",
    "### 5. Final Result\n",
    "因為總長度為 7，奇數，因此最終返回的結果是 4.0。"
   ]
  }
 ],
 "metadata": {
  "kernelspec": {
   "display_name": "Python 3",
   "language": "python",
   "name": "python3"
  },
  "language_info": {
   "codemirror_mode": {
    "name": "ipython",
    "version": 3
   },
   "file_extension": ".py",
   "mimetype": "text/x-python",
   "name": "python",
   "nbconvert_exporter": "python",
   "pygments_lexer": "ipython3",
   "version": "3.7.9"
  }
 },
 "nbformat": 4,
 "nbformat_minor": 2
}
