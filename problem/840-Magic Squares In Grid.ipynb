{
 "cells": [
  {
   "cell_type": "markdown",
   "metadata": {},
   "source": [
    "# 840. Magic Squares In Grid\n",
    "https://leetcode.com/problems/magic-squares-in-grid/description/?envType=daily-question&envId=2024-08-09"
   ]
  },
  {
   "cell_type": "code",
   "execution_count": 75,
   "metadata": {},
   "outputs": [
    {
     "name": "stdout",
     "output_type": "stream",
     "text": [
      "8 1 6\n",
      "3 5 7\n",
      "4 9 2\n",
      "<----------------->\n",
      "6 1 8\n",
      "7 5 3\n",
      "2 9 4\n",
      "<----------------->\n",
      "2 9 4\n",
      "7 5 3\n",
      "6 1 8\n",
      "<----------------->\n"
     ]
    },
    {
     "data": {
      "text/plain": [
       "3"
      ]
     },
     "execution_count": 75,
     "metadata": {},
     "output_type": "execute_result"
    }
   ],
   "source": [
    "from typing import List\n",
    "\n",
    "grid = [[9,9,5,1,9,5,5,7,2,5],[9,1,8,3,4,6,7,2,8,9],[4,1,1,5,9,1,5,9,6,4],[5,5,6,7,2,8,3,4,0,6],[1,9,1,8,3,1,4,2,9,4],[2,8,6,4,2,7,3,2,7,6],[9,2,5,0,7,8,2,9,5,1],[2,1,4,4,7,6,2,4,3,8],[1,2,5,3,0,5,10,8,5,2],[6,9,6,8,8,4,3,6,0,9]]\n",
    "#Output: 1\n",
    "\n",
    "def numMagicSquaresInside(grid: List[List[int]]) -> int:\n",
    "    w = len(grid[0])\n",
    "    h = len(grid)\n",
    "    ans = 0\n",
    "    if w < 2 or h < 2:\n",
    "        return ans\n",
    "\n",
    "    def check_row(x,y):\n",
    "        \n",
    "        if grid[x-1][y-1]+grid[x][y-1]+grid[x+1][y-1]==15:\n",
    "            if grid[x-1][y]+grid[x][y]+grid[x+1][y]==15:\n",
    "                if grid[x-1][y+1]+grid[x][y+1]+grid[x+1][y+1]==15:\n",
    "                    return True\n",
    "        return False\n",
    "    def check_col(x,y):\n",
    "        if grid[x-1][y-1]+grid[x-1][y]+grid[x-1][y+1]==15:\n",
    "            if grid[x][y-1]+grid[x][y]+grid[x][y+1]==15:\n",
    "                if grid[x+1][y-1]+grid[x+1][y]+grid[x+1][y+1]==15:\n",
    "                    return True\n",
    "        return False\n",
    "    def check_slash(x,y): # \\\n",
    "        if grid[x-1][y-1]+grid[x][y]+grid[x+1][y+1]==15:\n",
    "            return True\n",
    "        return False\n",
    "    def check_Backslash(x,y): # /\n",
    "        if grid[x+1][y-1]+grid[x][y]+grid[x-1][y+1]==15:\n",
    "            return True\n",
    "        return False\n",
    "    def check_range(x,y):\n",
    "        grid_list = [grid[x-1][y-1],grid[x][y-1],grid[x+1][y-1],\n",
    "                     grid[x-1][y],grid[x][y],grid[x+1][y],\n",
    "                     grid[x-1][y+1],grid[x][y+1],grid[x+1][y+1]]\n",
    "        temp = []\n",
    "        for ele in grid_list:\n",
    "            if 0 < ele < 10 and ele not in temp:\n",
    "                temp.append(ele)\n",
    "            else:\n",
    "                return False\n",
    "        return True\n",
    "\n",
    "    for x in range(1,h-1):\n",
    "        for y in range(1,w-1):\n",
    "            \n",
    "            if check_range(x,y) and check_row(x,y) and check_col(x,y) and check_slash(x,y) and check_Backslash(x,y):\n",
    "                print(grid[x-1][y-1],grid[x][y-1],grid[x+1][y-1])\n",
    "                print(grid[x-1][y],grid[x][y],grid[x+1][y])\n",
    "                print(grid[x-1][y+1],grid[x][y+1],grid[x+1][y+1])\n",
    "                print(\"<----------------->\")\n",
    "                ans += 1\n",
    "\n",
    "    return ans                        \n",
    "         \n",
    "numMagicSquaresInside(grid)"
   ]
  },
  {
   "cell_type": "code",
   "execution_count": 73,
   "metadata": {},
   "outputs": [
    {
     "data": {
      "text/plain": [
       "[[9, 9, 5, 1, 9, 5, 5, 7, 2, 5],\n",
       " [9, 1, 8, 3, 4, 6, 7, 2, 8, 9],\n",
       " [4, 1, 1, 5, 9, 1, 5, 9, 6, 4],\n",
       " [5, 5, 6, 7, 2, 8, 3, 4, 0, 6],\n",
       " [1, 9, 1, 8, 3, 1, 4, 2, 9, 4],\n",
       " [2, 8, 6, 4, 2, 7, 3, 2, 7, 6],\n",
       " [9, 2, 5, 0, 7, 8, 2, 9, 5, 1],\n",
       " [2, 1, 4, 4, 7, 6, 2, 4, 3, 8],\n",
       " [1, 2, 5, 3, 0, 5, 10, 8, 5, 2],\n",
       " [6, 9, 6, 8, 8, 4, 3, 6, 0, 9]]"
      ]
     },
     "execution_count": 73,
     "metadata": {},
     "output_type": "execute_result"
    }
   ],
   "source": [
    "grid"
   ]
  },
  {
   "cell_type": "code",
   "execution_count": 74,
   "metadata": {},
   "outputs": [
    {
     "data": {
      "text/plain": [
       "1"
      ]
     },
     "execution_count": 74,
     "metadata": {},
     "output_type": "execute_result"
    }
   ],
   "source": [
    "grid = [[4,3,8,4],[9,5,1,9],[2,7,6,2]]\n",
    "numMagicSquaresInside(grid)"
   ]
  },
  {
   "cell_type": "code",
   "execution_count": 53,
   "metadata": {},
   "outputs": [
    {
     "name": "stdout",
     "output_type": "stream",
     "text": [
      "[4, 3, 8, 4]\n",
      "[9, 5, 1, 9]\n",
      "[2, 7, 6, 2]\n"
     ]
    }
   ],
   "source": [
    "for i in grid:\n",
    "    print(i)"
   ]
  },
  {
   "cell_type": "code",
   "execution_count": null,
   "metadata": {},
   "outputs": [],
   "source": [
    "# GPT\n",
    "def numMagicSquaresInside(grid):\n",
    "    def isMagic(i, j):\n",
    "        # 获取3x3的子网格\n",
    "        s = [grid[i+x][j+y] for x in range(3) for y in range(3)]\n",
    "        # 魔方阵中只能包含1到9之间的数字，且不重复\n",
    "        if sorted(s) != list(range(1, 10)):\n",
    "            return False\n",
    "        # 检查行、列和对角线的和\n",
    "        return (s[0] + s[1] + s[2] == s[3] + s[4] + s[5] == \n",
    "                s[6] + s[7] + s[8] == s[0] + s[3] + s[6] ==\n",
    "                s[1] + s[4] + s[7] == s[2] + s[5] + s[8] ==\n",
    "                s[0] + s[4] + s[8] == s[2] + s[4] + s[6] == 15)\n",
    "\n",
    "    rows, cols = len(grid), len(grid[0])\n",
    "    count = 0\n",
    "\n",
    "    for i in range(rows - 2):\n",
    "        for j in range(cols - 2):\n",
    "            if grid[i+1][j+1] == 5 and isMagic(i, j): # 中心一定是5\n",
    "                count += 1\n",
    "    \n",
    "    return count\n",
    "\n",
    "# 示例测试\n",
    "grid1 = [[4,3,8,4],[9,5,1,9],[2,7,6,2]]\n",
    "grid2 = [[8]]\n",
    "\n",
    "print(numMagicSquaresInside(grid1))  # 输出: 1\n",
    "print(numMagicSquaresInside(grid2))  # 输出: 0\n"
   ]
  },
  {
   "cell_type": "code",
   "execution_count": null,
   "metadata": {},
   "outputs": [],
   "source": []
  }
 ],
 "metadata": {
  "kernelspec": {
   "display_name": "Python 3",
   "language": "python",
   "name": "python3"
  },
  "language_info": {
   "codemirror_mode": {
    "name": "ipython",
    "version": 3
   },
   "file_extension": ".py",
   "mimetype": "text/x-python",
   "name": "python",
   "nbconvert_exporter": "python",
   "pygments_lexer": "ipython3",
   "version": "3.7.9"
  }
 },
 "nbformat": 4,
 "nbformat_minor": 2
}
