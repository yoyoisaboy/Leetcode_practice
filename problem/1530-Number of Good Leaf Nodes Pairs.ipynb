{
 "cells": [
  {
   "cell_type": "markdown",
   "metadata": {},
   "source": [
    "# 1530. Number of Good Leaf Nodes Pairs\n",
    "https://leetcode.com/problems/number-of-good-leaf-nodes-pairs/description/?envType=daily-question&envId=2024-07-18"
   ]
  },
  {
   "cell_type": "code",
   "execution_count": 32,
   "metadata": {},
   "outputs": [
    {
     "name": "stdout",
     "output_type": "stream",
     "text": [
      "[1, 2, 3, None, 4]\n",
      "['LR', 'R']\n",
      "3\n"
     ]
    },
    {
     "data": {
      "text/plain": [
       "1"
      ]
     },
     "execution_count": 32,
     "metadata": {},
     "output_type": "execute_result"
    }
   ],
   "source": [
    "# Definition for a binary tree node.\n",
    "class TreeNode:\n",
    "    def __init__(self, val=0, left=None, right=None):\n",
    "        self.val = val\n",
    "        self.left = left\n",
    "        self.right = right\n",
    "\n",
    "def level_order_traversal(root):\n",
    "    if not root:\n",
    "        return []\n",
    "    queue = [root]\n",
    "    result = []\n",
    "    while queue:\n",
    "        node = queue.pop(0)\n",
    "        if node:\n",
    "            result.append(node.val)\n",
    "            queue.append(node.left)\n",
    "            queue.append(node.right)\n",
    "        else:\n",
    "            result.append(None)\n",
    "    # To remove the trailing None values for cleaner output\n",
    "    while result and result[-1] is None:\n",
    "        result.pop()\n",
    "    return result\n",
    "\n",
    "def countPairs( root: TreeNode, distance: int) -> int:\n",
    "    # 記錄所有子路徑\n",
    "    def run_Node(node,path=\"\")-> str:\n",
    "        if node is None:\n",
    "            return False\n",
    "        if node.left is None and node.right is None:\n",
    "            subnode.append(node.val)\n",
    "            subnode_path.append(path)\n",
    "            path = \"\"\n",
    "        path+=\"L\"\n",
    "        if run_Node(node.left,path):\n",
    "            return True\n",
    "        path=path[:-1] #把L弄掉\n",
    "        path+=\"R\"\n",
    "        if run_Node(node.right,path):\n",
    "            return True\n",
    "        path=path[:-1] #把R弄掉\n",
    "        return False\n",
    "    \n",
    "    subnode = []\n",
    "    subnode_path = []    \n",
    "    run_Node(root)\n",
    "    #print(subnode_path)\n",
    "    loc = 0\n",
    "    ans_min = 0\n",
    "    while loc < len(subnode_path):\n",
    "        compare_subnode = subnode_path[loc]\n",
    "        for sub_node in subnode_path[loc+1:]:\n",
    "            steps = 0\n",
    "            #1 不同邊 L R\n",
    "            if compare_subnode[0] != sub_node[0]:\n",
    "                #print(min(len(compare_subnode),len(sub_node)),abs(len(compare_subnode)-len(sub_node)))\n",
    "                steps += ( min(len(compare_subnode),len(sub_node))*2 + abs(len(compare_subnode)-len(sub_node)) )\n",
    "            else:\n",
    "                depth = 0\n",
    "                i = min(len(compare_subnode),len(sub_node))\n",
    "                while(depth<i and compare_subnode[depth]==sub_node[depth]): #改變根節點\n",
    "                    depth+=1\n",
    "                steps += ( min(len(compare_subnode)-depth,len(sub_node)-depth)*2 + abs(len(compare_subnode)-len(sub_node)) )    \n",
    "            #print(steps)\n",
    "            if steps <= distance:\n",
    "                ans_min += 1\n",
    "        loc+=1\n",
    "\n",
    "    #print(subnode)\n",
    "    #print(subnode_path)\n",
    "    return ans_min\n",
    "\n",
    "#root = [1,2,3,null,4]\n",
    "\n",
    "distance = 3\n",
    "root = TreeNode(1)\n",
    "root.left = TreeNode(2)\n",
    "root.right = TreeNode(3)\n",
    "root.left.right = TreeNode(4)\n",
    "print(level_order_traversal(root))\n",
    "countPairs(root,distance)"
   ]
  },
  {
   "cell_type": "code",
   "execution_count": 33,
   "metadata": {},
   "outputs": [
    {
     "name": "stdout",
     "output_type": "stream",
     "text": [
      "[1, 2, 3, 4, 5, 6, 7]\n",
      "['LL', 'LR', 'RL', 'RR']\n",
      "2\n",
      "4\n",
      "4\n",
      "4\n",
      "4\n",
      "2\n"
     ]
    },
    {
     "data": {
      "text/plain": [
       "2"
      ]
     },
     "execution_count": 33,
     "metadata": {},
     "output_type": "execute_result"
    }
   ],
   "source": [
    "#root = [1,2,3,4,5,6,7]\n",
    "distance = 3\n",
    "root = TreeNode(1)\n",
    "root.left = TreeNode(2)\n",
    "root.right = TreeNode(3)\n",
    "root.left.left = TreeNode(4)\n",
    "root.left.right = TreeNode(5)\n",
    "root.right.left = TreeNode(6)\n",
    "root.right.right = TreeNode(7)\n",
    "print(level_order_traversal(root))\n",
    "countPairs(root,distance)"
   ]
  },
  {
   "cell_type": "code",
   "execution_count": null,
   "metadata": {},
   "outputs": [],
   "source": []
  }
 ],
 "metadata": {
  "kernelspec": {
   "display_name": "Python 3",
   "language": "python",
   "name": "python3"
  },
  "language_info": {
   "codemirror_mode": {
    "name": "ipython",
    "version": 3
   },
   "file_extension": ".py",
   "mimetype": "text/x-python",
   "name": "python",
   "nbconvert_exporter": "python",
   "pygments_lexer": "ipython3",
   "version": "3.7.9"
  }
 },
 "nbformat": 4,
 "nbformat_minor": 2
}
