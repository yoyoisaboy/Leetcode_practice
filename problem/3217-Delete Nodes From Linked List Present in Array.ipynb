{
 "cells": [
  {
   "cell_type": "markdown",
   "metadata": {},
   "source": [
    "# 3217. Delete Nodes From Linked List Present in Array\n",
    "https://leetcode.com/problems/delete-nodes-from-linked-list-present-in-array/description/?envType=daily-question&envId=2024-09-06"
   ]
  },
  {
   "cell_type": "code",
   "execution_count": 2,
   "metadata": {},
   "outputs": [
    {
     "data": {
      "text/plain": [
       "4-->5"
      ]
     },
     "execution_count": 2,
     "metadata": {},
     "output_type": "execute_result"
    }
   ],
   "source": [
    "#ListNode\n",
    "# Definition for singly-linked list.\n",
    "class ListNode:\n",
    "    def __init__(self, val=0, next=None):\n",
    "        self.val = val\n",
    "        self.next = next\n",
    "    def __repr__(self): #print ans = func result\n",
    "        return f\"{self.val}-->{self.next}\" if self.next else f\"{self.val}\"\n",
    "\n",
    "nums = [1,2,3]\n",
    "head = [1,2,3,4,5]\n",
    "\n",
    "link = ListNode(head[0])\n",
    "pointer = link\n",
    "for ele in head[1:]: #塞值\n",
    "    pointer.next = ListNode(ele)\n",
    "    pointer = pointer.next\n",
    "\n",
    "def modifiedList(nums, head):\n",
    "    link = ListNode() #only have \"0\" ListNode\n",
    "\n",
    "    pointer = link\n",
    "    nums_s = set(nums)\n",
    "    while head:\n",
    "        if head.val not in nums_s:\n",
    "            pointer.next = head\n",
    "            pointer = pointer.next\n",
    "        head = head.next\n",
    "    pointer.next = None\n",
    "    return link.next\n",
    "\n",
    "modifiedList(nums,link)"
   ]
  },
  {
   "cell_type": "code",
   "execution_count": 3,
   "metadata": {},
   "outputs": [
    {
     "name": "stdout",
     "output_type": "stream",
     "text": [
      "4 -> 5 -> None\n"
     ]
    }
   ],
   "source": [
    "class ListNode:\n",
    "    def __init__(self, val=0, next=None):\n",
    "        self.val = val\n",
    "        self.next = next\n",
    "\n",
    "def removeElements(head, nums):\n",
    "    # 将 nums 转换为集合，便于快速查找\n",
    "    num_set = set(nums)\n",
    "    \n",
    "    # 使用虚拟头节点，以便处理头节点的删除\n",
    "    dummy = ListNode(0)\n",
    "    dummy.next = head\n",
    "    current = dummy\n",
    "    \n",
    "    # 遍历链表\n",
    "    while current.next:\n",
    "        if current.next.val in num_set:\n",
    "            # 跳过当前节点\n",
    "            current.next = current.next.next\n",
    "        else:\n",
    "            # 继续遍历\n",
    "            current = current.next\n",
    "            \n",
    "    return dummy.next\n",
    "\n",
    "# 示例用法\n",
    "def print_linked_list(head):\n",
    "    while head:\n",
    "        print(head.val, end=\" -> \")\n",
    "        head = head.next\n",
    "    print(\"None\")\n",
    "\n",
    "# 构造链表: [1,2,3,4,5]\n",
    "head = ListNode(1, ListNode(2, ListNode(3, ListNode(4, ListNode(5)))))\n",
    "nums = [1, 2, 3]\n",
    "new_head = removeElements(head, nums)\n",
    "print_linked_list(new_head)  # 输出: 4 -> 5 -> None\n"
   ]
  }
 ],
 "metadata": {
  "kernelspec": {
   "display_name": "Python 3",
   "language": "python",
   "name": "python3"
  },
  "language_info": {
   "codemirror_mode": {
    "name": "ipython",
    "version": 3
   },
   "file_extension": ".py",
   "mimetype": "text/x-python",
   "name": "python",
   "nbconvert_exporter": "python",
   "pygments_lexer": "ipython3",
   "version": "3.7.9"
  }
 },
 "nbformat": 4,
 "nbformat_minor": 2
}
