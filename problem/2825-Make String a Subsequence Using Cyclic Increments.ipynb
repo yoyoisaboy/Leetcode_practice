{
 "cells": [
  {
   "cell_type": "markdown",
   "metadata": {},
   "source": [
    "# 2825. Make String a Subsequence Using Cyclic Increments\n",
    "https://leetcode.com/problems/make-string-a-subsequence-using-cyclic-increments/description/?envType=daily-question&envId=2024-12-04"
   ]
  },
  {
   "cell_type": "code",
   "execution_count": 2,
   "metadata": {},
   "outputs": [
    {
     "data": {
      "text/plain": [
       "True"
      ]
     },
     "execution_count": 2,
     "metadata": {},
     "output_type": "execute_result"
    }
   ],
   "source": [
    "str1 = \"nbksekflejzgzhusd\"\n",
    "str2 = \"osellfjzgais\"\n",
    "\n",
    "\n",
    "def canMakeSubsequence(str1: str, str2: str) -> bool:\n",
    "    j = 0\n",
    "    for char in str2:\n",
    "        while j < len(str1):\n",
    "            if (ord(char)-ord(str1[j])) % 26 in (0,1):\n",
    "                j += 1\n",
    "                break\n",
    "            j += 1\n",
    "        else:\n",
    "            return False\n",
    "    return True \n",
    "\n",
    "canMakeSubsequence(str1, str2)"
   ]
  }
 ],
 "metadata": {
  "kernelspec": {
   "display_name": "Python 3",
   "language": "python",
   "name": "python3"
  },
  "language_info": {
   "codemirror_mode": {
    "name": "ipython",
    "version": 3
   },
   "file_extension": ".py",
   "mimetype": "text/x-python",
   "name": "python",
   "nbconvert_exporter": "python",
   "pygments_lexer": "ipython3",
   "version": "3.7.9"
  }
 },
 "nbformat": 4,
 "nbformat_minor": 2
}
