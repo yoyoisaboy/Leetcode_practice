{
 "cells": [
  {
   "cell_type": "markdown",
   "metadata": {},
   "source": [
    "# 2191. Sort the Jumbled Numbers\n",
    "https://leetcode.com/problems/sort-the-jumbled-numbers/description/?envType=daily-question&envId=2024-07-24"
   ]
  },
  {
   "cell_type": "code",
   "execution_count": 2,
   "metadata": {},
   "outputs": [],
   "source": [
    "from typing import List"
   ]
  },
  {
   "cell_type": "code",
   "execution_count": 20,
   "metadata": {},
   "outputs": [
    {
     "data": {
      "text/plain": [
       "[338, 38, 991]"
      ]
     },
     "execution_count": 20,
     "metadata": {},
     "output_type": "execute_result"
    }
   ],
   "source": [
    "def sortJumbled(mapping: List[int], nums: List[int]) -> List[int]:\n",
    "    sort_list= []\n",
    "    for num in nums:\n",
    "        temp_str = \"\"\n",
    "        for i in str(num):\n",
    "            map_j = mapping[int(i)]\n",
    "            temp_str+=str(map_j)\n",
    "\n",
    "        sort_list.append(  (int(temp_str),num)  )\n",
    "\n",
    "\n",
    "    sort_list = sorted(sort_list,key=lambda x:x[0])\n",
    "    ans = [value for key,value in sort_list]\n",
    "    return ans\n",
    "\n",
    "mapping = [8,9,4,0,2,1,3,5,7,6]\n",
    "nums = [991,338,38]\n",
    "#Output: [338,38,991]\n",
    "sortJumbled(mapping,nums)"
   ]
  },
  {
   "cell_type": "code",
   "execution_count": 19,
   "metadata": {},
   "outputs": [
    {
     "data": {
      "text/plain": [
       "[338, 38, 991]"
      ]
     },
     "execution_count": 19,
     "metadata": {},
     "output_type": "execute_result"
    }
   ],
   "source": [
    "sort_list= []\n",
    "for num in nums:\n",
    "    temp_str = \"\"\n",
    "    for i in str(num):\n",
    "        map_j = mapping[int(i)]\n",
    "        temp_str+=str(map_j)\n",
    "\n",
    "    sort_list.append(  (int(temp_str),num)  )\n",
    "\n",
    "\n",
    "sort_list = sorted(sort_list,key=lambda x:x[0])\n",
    "ans = [value for key,value in sort_list]\n",
    "ans"
   ]
  },
  {
   "cell_type": "code",
   "execution_count": 21,
   "metadata": {},
   "outputs": [
    {
     "data": {
      "text/plain": [
       "[123, 456, 789]"
      ]
     },
     "execution_count": 21,
     "metadata": {},
     "output_type": "execute_result"
    }
   ],
   "source": [
    "mapping = [0,1,2,3,4,5,6,7,8,9]\n",
    "nums = [789,456,123]\n",
    "# Output: [123,456,789]\n",
    "sortJumbled(mapping,nums)"
   ]
  },
  {
   "cell_type": "code",
   "execution_count": null,
   "metadata": {},
   "outputs": [],
   "source": [
    "# not my code \n",
    "\n",
    "def sortJumbled(mapping: List[int], nums: List[int]) -> List[int]:\n",
    "    def convert(x):\n",
    "        if x==0: return mapping[0]\n",
    "        z=0\n",
    "        pow10=1\n",
    "        while x>0:\n",
    "            q, r=divmod(x, 10)\n",
    "            z+=mapping[r]*pow10\n",
    "            x=q\n",
    "            pow10*=10\n",
    "        return z\n",
    "    n=len(nums)\n",
    "    mapNum=[]\n",
    "    for i, x in enumerate(nums):\n",
    "        mapNum.append([convert(x), i, x])\n",
    "    mapNum.sort()\n",
    "    for i in range(n):\n",
    "        nums[i]=mapNum[i][2]\n",
    "    return nums\n",
    "    \n",
    "    "
   ]
  }
 ],
 "metadata": {
  "kernelspec": {
   "display_name": "Python 3",
   "language": "python",
   "name": "python3"
  },
  "language_info": {
   "codemirror_mode": {
    "name": "ipython",
    "version": 3
   },
   "file_extension": ".py",
   "mimetype": "text/x-python",
   "name": "python",
   "nbconvert_exporter": "python",
   "pygments_lexer": "ipython3",
   "version": "3.7.9"
  }
 },
 "nbformat": 4,
 "nbformat_minor": 2
}
