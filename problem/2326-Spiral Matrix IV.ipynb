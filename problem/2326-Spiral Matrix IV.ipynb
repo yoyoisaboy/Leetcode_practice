{
 "cells": [
  {
   "cell_type": "markdown",
   "metadata": {},
   "source": [
    "# 2326. Spiral Matrix IV\n",
    "https://leetcode.com/problems/spiral-matrix-iv/description/?envType=daily-question&envId=2024-09-09"
   ]
  },
  {
   "cell_type": "code",
   "execution_count": 4,
   "metadata": {},
   "outputs": [
    {
     "name": "stdout",
     "output_type": "stream",
     "text": [
      "input link =  3-->0-->2-->6-->8-->1-->7-->9-->4-->2-->5-->5-->0\n"
     ]
    }
   ],
   "source": [
    "#ListNode\n",
    "# Definition for singly-linked list.\n",
    "class ListNode:\n",
    "    def __init__(self, val=0, next=None):\n",
    "        self.val = val\n",
    "        self.next = next\n",
    "    def __repr__(self): #print ans = func result\n",
    "        return f\"{self.val}-->{self.next}\" if self.next else f\"{self.val}\"\n",
    "    \n",
    "m = 3\n",
    "n = 5\n",
    "head = [3,0,2,6,8,1,7,9,4,2,5,5,0]\n",
    "\n",
    "\n",
    "link = ListNode(head[0])\n",
    "pointer = link\n",
    "for ele in head[1:]: #塞值\n",
    "    pointer.next = ListNode(ele)\n",
    "    pointer = pointer.next\n",
    "print(\"input link = \",link)\n"
   ]
  },
  {
   "cell_type": "code",
   "execution_count": 52,
   "metadata": {},
   "outputs": [
    {
     "name": "stdout",
     "output_type": "stream",
     "text": [
      "[1, 0] 0 5 0 4 8\n",
      "[0, -1] 3 4 2 4 7\n",
      "[-1, 0] 2 -1 2 0 5\n",
      "[0, 1] 0 0 1 0 5\n",
      "[[3, 0, 2, 6, 8], [5, 0, -1, -1, 1], [5, 2, 4, 9, 7]]\n"
     ]
    }
   ],
   "source": [
    "from typing import Optional,List\n",
    "def spiralMatrix(m: int, n: int, head: Optional[ListNode]) -> List[List[int]]:\n",
    "    direction = [[0,1],[1,0],[0,-1],[-1,0]]\n",
    "    dir_loc = 0\n",
    "    matrix = [[-1]*n for _ in range(m)]\n",
    "    x = 0\n",
    "    y=0\n",
    "    while head:\n",
    "        matrix[x][y] = head.val\n",
    "        next_x = x+direction[dir_loc][0]\n",
    "        next_y = y+direction[dir_loc][1]\n",
    "\n",
    "        if 0 <= next_x < m and 0 <= next_y < n and matrix[next_x][next_y]==-1:\n",
    "            x,y = next_x,next_y\n",
    "        else:\n",
    "            dir_loc = (dir_loc+1)%4\n",
    "            print(direction[dir_loc],next_x,next_y,x,y,head.val)\n",
    "            x = x+direction[dir_loc][0]\n",
    "            y = y+direction[dir_loc][1]\n",
    "        head = head.next\n",
    "    return matrix\n",
    "print(spiralMatrix(m,n,link))"
   ]
  },
  {
   "cell_type": "code",
   "execution_count": null,
   "metadata": {},
   "outputs": [],
   "source": []
  }
 ],
 "metadata": {
  "kernelspec": {
   "display_name": "Python 3",
   "language": "python",
   "name": "python3"
  },
  "language_info": {
   "codemirror_mode": {
    "name": "ipython",
    "version": 3
   },
   "file_extension": ".py",
   "mimetype": "text/x-python",
   "name": "python",
   "nbconvert_exporter": "python",
   "pygments_lexer": "ipython3",
   "version": "3.7.9"
  }
 },
 "nbformat": 4,
 "nbformat_minor": 2
}
