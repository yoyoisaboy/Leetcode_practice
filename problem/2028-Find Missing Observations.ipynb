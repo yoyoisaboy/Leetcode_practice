{
 "cells": [
  {
   "cell_type": "markdown",
   "metadata": {},
   "source": [
    "# 2028. Find Missing Observations\n",
    "https://leetcode.com/problems/find-missing-observations/description/?envType=daily-question&envId=2024-09-05"
   ]
  },
  {
   "cell_type": "code",
   "execution_count": null,
   "metadata": {},
   "outputs": [],
   "source": [
    "from typing import List\n",
    "rolls = [1, 1, 1, 1]\n",
    "mean = 6\n",
    "n = 1\n",
    "'''\n",
    "rolls = [1,5,6]\n",
    "mean = 3\n",
    "n = 4\n",
    "'''\n",
    "def missingRolls(rolls: List[int], mean: int, n: int) -> List[int]:\n",
    "    sum_num = (len(rolls)+n)*mean\n",
    "    m_sum = sum_num - sum(rolls)\n",
    "    ans = []\n",
    "    temp = m_sum//n\n",
    "    if temp > 6 or temp < 1:\n",
    "        return [] \n",
    "    while len(ans) != n:\n",
    "        ans.append(temp)\n",
    "        m_sum -= temp\n",
    "\n",
    "    if m_sum >0:\n",
    "        for i in range(len(ans)):\n",
    "            temp = ans[i]\n",
    "            if temp != 6:   \n",
    "                cut = 6 - temp\n",
    "                if m_sum - cut < 0:\n",
    "                    ans[i] += m_sum\n",
    "                    m_sum = 0\n",
    "                else:\n",
    "                    m_sum -= cut\n",
    "                    ans[i] = 6 \n",
    "            if m_sum == 0:\n",
    "                break\n",
    "\n",
    "    if m_sum != 0:\n",
    "        return []\n",
    "    \n",
    "    return ans\n",
    "missingRolls(rolls,mean,n)"
   ]
  },
  {
   "cell_type": "markdown",
   "metadata": {},
   "source": [
    "我們需要根據給定的骰子觀測值rolls、平均值mean以及缺失的觀測值數量n，推斷出可能的缺失觀測值。透過以下步驟來解決這個問題：\n",
    "## 解題思路：\n",
    "1. 總和計算：已知所有n + m個骰子的平均值是mean，因此可以計算總的目標和為 total_sum = (n + m) * mean。\n",
    "2. 缺失值總和：已知已經觀測到的m個骰子的和是sum(rolls)，因此缺少的n個骰子的總和為： \n",
    "    \n",
    "    𝑚 𝑖 𝑠 𝑠 𝑖 𝑛 𝑔 𝑠 𝑢 𝑚 = 𝑡 𝑜 𝑡 𝑎 𝑙 𝑠 𝑢 𝑚 − 𝑠 𝑢 𝑚 ( 𝑟 𝑜 𝑙 𝑙 𝑠 )\n",
    "\n",
    "3. 判斷是否可行：缺少的骰子值必須在每個數值都在1到6之間。因此，缺少的骰子總和missing_sum必須滿足： 𝑛 ≤ 𝑚 𝑖 𝑠 𝑠 𝑖 𝑛 𝑔 𝑠 𝑢 𝑚 ≤ 6 × 𝑛 如果不符合這個條件，就無法得到符合要求的骰子觀測值，並傳回空數組。\n",
    "4. 產生缺少的觀測值：我們可以透過貪心的方式產生缺少的骰子值，優先將每個骰子的值盡可能接近6，直到總和達到missing_sum。"
   ]
  },
  {
   "cell_type": "code",
   "execution_count": null,
   "metadata": {},
   "outputs": [],
   "source": [
    "# GPT\n",
    "def missingRolls(rolls, mean, n):\n",
    "    # 计算总和\n",
    "    m = len(rolls)\n",
    "    total_sum = (n + m) * mean\n",
    "    current_sum = sum(rolls)\n",
    "    \n",
    "    # 计算缺失的观测值的总和\n",
    "    missing_sum = total_sum - current_sum\n",
    "    \n",
    "    # 检查是否存在有效解\n",
    "    if missing_sum < n or missing_sum > 6 * n:\n",
    "        return []\n",
    "    \n",
    "    # 贪心地分配骰子值\n",
    "    res = [1] * n  # 初始化所有骰子值为1\n",
    "    missing_sum -= n  # 我们已经分配了n个1，剩下的总和需要填充\n",
    "    \n",
    "    for i in range(n):\n",
    "        # 将每个骰子尽可能往6靠拢\n",
    "        add_value = min(5, missing_sum)\n",
    "        res[i] += add_value\n",
    "        missing_sum -= add_value\n",
    "        \n",
    "        if missing_sum == 0:\n",
    "            break\n",
    "    \n",
    "    return res\n",
    "\n",
    "# 示例用法\n",
    "print(missingRolls([3, 2, 4, 3], 4, 2))  # 输出: [6, 6]\n",
    "print(missingRolls([1, 5, 6], 3, 4))     # 输出: [2, 3, 2, 2]\n",
    "print(missingRolls([1, 2, 3, 4], 6, 4))  # 输出: []\n"
   ]
  }
 ],
 "metadata": {
  "language_info": {
   "name": "python"
  }
 },
 "nbformat": 4,
 "nbformat_minor": 2
}
