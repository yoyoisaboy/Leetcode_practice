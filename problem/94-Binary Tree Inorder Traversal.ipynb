{
 "cells": [
  {
   "cell_type": "markdown",
   "metadata": {},
   "source": [
    "# 94. Binary Tree Inorder Traversal\n",
    "https://leetcode.com/problems/binary-tree-inorder-traversal/description/"
   ]
  },
  {
   "cell_type": "code",
   "execution_count": 29,
   "metadata": {},
   "outputs": [],
   "source": [
    "from typing import List,Optional"
   ]
  },
  {
   "cell_type": "code",
   "execution_count": 30,
   "metadata": {},
   "outputs": [],
   "source": [
    "# Definition for a binary tree node.\n",
    "class TreeNode:\n",
    "  def __init__(self, val=0, left=None, right=None):\n",
    "      self.val = val\n",
    "      self.left = left\n",
    "      self.right = right\n",
    "  def insert(self, ele,check_LR):\n",
    "    if self.val:\n",
    "      if check_LR==0: #left\n",
    "        if self.left is None:\n",
    "          self.left = TreeNode(ele)\n",
    "        else:\n",
    "          self.left.insert(ele,check_LR)\n",
    "      else : #right\n",
    "        if self.right is None:\n",
    "          self.right = TreeNode(ele)\n",
    "        else:\n",
    "          self.right.insert(ele)\n",
    "    else:\n",
    "        self.val = ele\n",
    "  def PostorderTraversal(self,root):\n",
    "    res = []\n",
    "    if root:\n",
    "      res = self.PostorderTraversal(root.left)\n",
    "      res = res + self.PostorderTraversal(root.right)\n",
    "      res.append(root.val)\n",
    "    return res\n",
    "  def PreorderTraversal(self,root):\n",
    "    res = []\n",
    "    if root:\n",
    "      res.append(root.val)\n",
    "      res = res + self.PreorderTraversal(root.left)\n",
    "      res = res + self.PreorderTraversal(root.right)\n",
    "    return res\n",
    "  def inorderTraversal(self,root):\n",
    "    res = []\n",
    "    if root:\n",
    "      res = self.inorderTraversal(root.left)\n",
    "      res.append(root.val)\n",
    "      res = res + self.inorderTraversal(root.right)\n",
    "    return res\n",
    "  def PrintTree(self):\n",
    "\n",
    "    if self.left:\n",
    "        self.left.PrintTree()\n",
    "    print( self.val),\n",
    "    if self.right:\n",
    "        self.right.PrintTree()"
   ]
  },
  {
   "cell_type": "code",
   "execution_count": 34,
   "metadata": {},
   "outputs": [
    {
     "data": {
      "text/plain": [
       "[1, 3, 2]"
      ]
     },
     "execution_count": 34,
     "metadata": {},
     "output_type": "execute_result"
    }
   ],
   "source": [
    "input = [1,None,2,3]\n",
    "tree = TreeNode()\n",
    "temp = 0\n",
    "for ele in input:\n",
    "  if ele != None:\n",
    "    tree.insert(ele,temp)\n",
    "    temp=0\n",
    "  else:\n",
    "    temp=1\n",
    "tree.PreorderTraversal(tree) "
   ]
  },
  {
   "cell_type": "code",
   "execution_count": 33,
   "metadata": {},
   "outputs": [
    {
     "name": "stdout",
     "output_type": "stream",
     "text": [
      "3\n",
      "1\n",
      "2\n"
     ]
    }
   ],
   "source": [
    "tree.PrintTree()"
   ]
  }
 ],
 "metadata": {
  "interpreter": {
   "hash": "7a32eb4390f9bb72514d0e71928e792c838e00872818ae6da76cc4e20d75f488"
  },
  "kernelspec": {
   "display_name": "Python 3.7.9 64-bit",
   "language": "python",
   "name": "python3"
  },
  "language_info": {
   "codemirror_mode": {
    "name": "ipython",
    "version": 3
   },
   "file_extension": ".py",
   "mimetype": "text/x-python",
   "name": "python",
   "nbconvert_exporter": "python",
   "pygments_lexer": "ipython3",
   "version": "3.7.9"
  },
  "orig_nbformat": 4
 },
 "nbformat": 4,
 "nbformat_minor": 2
}
