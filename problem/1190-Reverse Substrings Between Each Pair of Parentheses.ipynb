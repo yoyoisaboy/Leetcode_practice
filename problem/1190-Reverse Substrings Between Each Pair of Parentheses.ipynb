{
 "cells": [
  {
   "cell_type": "markdown",
   "metadata": {},
   "source": [
    "# 1190. Reverse Substrings Between Each Pair of Parentheses\n",
    "https://leetcode.com/problems/reverse-substrings-between-each-pair-of-parentheses/description/?envType=daily-question&envId=2024-07-11"
   ]
  },
  {
   "cell_type": "code",
   "execution_count": 32,
   "metadata": {},
   "outputs": [],
   "source": [
    "\n",
    "s = \"(abc(def(ghi(jkl)mno)pqr)stu(vwx)yz)\"\n"
   ]
  },
  {
   "cell_type": "code",
   "execution_count": 43,
   "metadata": {},
   "outputs": [
    {
     "data": {
      "text/plain": [
       "'zyvwxutsdefonmjklihgpqrcba'"
      ]
     },
     "execution_count": 43,
     "metadata": {},
     "output_type": "execute_result"
    }
   ],
   "source": [
    "# stack\n",
    "def reverseParentheses(s: str) -> str:\n",
    "    loc_list = []\n",
    "    stack_list = []\n",
    "    for loc in range(len(s)):\n",
    "        if s[loc]==\"(\":\n",
    "            stack_list.append(\"(\")\n",
    "            loc_list.append(loc+1) # +\"(\"\n",
    "        elif s[loc]==\")\":\n",
    "            s =  s[:loc_list[-1]]+ s[loc_list[-1]:loc][::-1]+s[loc:]\n",
    "            stack_list.pop()\n",
    "            loc_list.pop()\n",
    "    import re\n",
    "    s = re.sub(\"\\(|\\)\", \"\", s)\n",
    "    return s\n",
    "reverseParentheses(s)\n",
    "#\"zyvwxutsdefonmjklihgpqrcba\""
   ]
  },
  {
   "cell_type": "code",
   "execution_count": 44,
   "metadata": {},
   "outputs": [
    {
     "data": {
      "text/plain": [
       "'zyvwxutsdefonmjklihgpqrcba'"
      ]
     },
     "execution_count": 44,
     "metadata": {},
     "output_type": "execute_result"
    }
   ],
   "source": [
    "# faster upon\n",
    "def reverseParentheses(s: str) -> str:\n",
    "    loc_list = []\n",
    "    stack_list = []\n",
    "    for loc in range(len(s)):\n",
    "        if s[loc]==\"(\":\n",
    "            loc_list.append(len(stack_list))\n",
    "        elif s[loc]==\")\":\n",
    "            left_loc = loc_list.pop()\n",
    "            stack_list[left_loc:] = stack_list[left_loc:][::-1]\n",
    "        else:\n",
    "            stack_list.append(s[loc])\n",
    "            \n",
    "    return \"\".join(stack_list)\n",
    "reverseParentheses(s)"
   ]
  },
  {
   "cell_type": "code",
   "execution_count": 52,
   "metadata": {},
   "outputs": [
    {
     "data": {
      "text/plain": [
       "'zyvwxutsdefonmjklihgpqrcba'"
      ]
     },
     "execution_count": 52,
     "metadata": {},
     "output_type": "execute_result"
    }
   ],
   "source": [
    "# Recursion\n",
    "def reverseParentheses(s: str) -> str:\n",
    "    def reverse_inner(s,start):\n",
    "        result = []\n",
    "        loc = start\n",
    "        while loc < len(s):\n",
    "            if s[loc]==\"(\":\n",
    "                inner_str,loc = reverse_inner(s,loc+1)\n",
    "                result.extend(inner_str[::-1])\n",
    "            elif s[loc] == \")\":\n",
    "                 # 返回括號內反轉後的結果以及當前的位置\n",
    "                return result, loc\n",
    "            else:\n",
    "                result.append(s[loc])\n",
    "            loc += 1\n",
    "        return result, loc\n",
    "    result,_ = reverse_inner(s,0)\n",
    "    return ''.join(result)\n",
    "\n",
    "reverseParentheses(s)        "
   ]
  },
  {
   "cell_type": "code",
   "execution_count": null,
   "metadata": {},
   "outputs": [],
   "source": []
  }
 ],
 "metadata": {
  "kernelspec": {
   "display_name": "Python 3",
   "language": "python",
   "name": "python3"
  },
  "language_info": {
   "codemirror_mode": {
    "name": "ipython",
    "version": 3
   },
   "file_extension": ".py",
   "mimetype": "text/x-python",
   "name": "python",
   "nbconvert_exporter": "python",
   "pygments_lexer": "ipython3",
   "version": "3.7.9"
  }
 },
 "nbformat": 4,
 "nbformat_minor": 2
}
