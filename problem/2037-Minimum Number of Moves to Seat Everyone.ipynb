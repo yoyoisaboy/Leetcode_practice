{
 "cells": [
  {
   "cell_type": "markdown",
   "metadata": {},
   "source": [
    "# 2037. Minimum Number of Moves to Seat Everyone\n",
    "https://leetcode.com/problems/minimum-number-of-moves-to-seat-everyone/description/?envType=daily-question&envId=2024-06-13"
   ]
  },
  {
   "cell_type": "code",
   "execution_count": 9,
   "metadata": {},
   "outputs": [],
   "source": [
    "from typing import List\n",
    "seats = [4,1,5,9]\n",
    "students = [1,3,2,6]\n",
    "#7"
   ]
  },
  {
   "cell_type": "code",
   "execution_count": 10,
   "metadata": {},
   "outputs": [],
   "source": [
    "def minMovesToSeat(seats: List[int], students: List[int]) -> int:\n",
    "    \n",
    "    seats = sorted(seats)\n",
    "    students = sorted(students)\n",
    "\n",
    "    ans = 0\n",
    "    for i in range(len(seats)):\n",
    "        if seats[i]>students[i]:\n",
    "            ans += (seats[i]-students[i])\n",
    "        else:\n",
    "            ans += (students[i]-seats[i])\n",
    "    return ans\n"
   ]
  },
  {
   "cell_type": "code",
   "execution_count": 11,
   "metadata": {},
   "outputs": [
    {
     "data": {
      "text/plain": [
       "7"
      ]
     },
     "execution_count": 11,
     "metadata": {},
     "output_type": "execute_result"
    }
   ],
   "source": [
    "minMovesToSeat(seats,students)"
   ]
  },
  {
   "cell_type": "code",
   "execution_count": 12,
   "metadata": {},
   "outputs": [
    {
     "data": {
      "text/plain": [
       "4"
      ]
     },
     "execution_count": 12,
     "metadata": {},
     "output_type": "execute_result"
    }
   ],
   "source": [
    "seats = [2,2,6,6]\n",
    "students = [1,3,2,6]\n",
    "#4\n",
    "minMovesToSeat(seats,students)"
   ]
  },
  {
   "cell_type": "code",
   "execution_count": 13,
   "metadata": {},
   "outputs": [
    {
     "data": {
      "text/plain": [
       "4"
      ]
     },
     "execution_count": 13,
     "metadata": {},
     "output_type": "execute_result"
    }
   ],
   "source": [
    "seats = [3,1,5]\n",
    "students = [2,7,4]\n",
    "#4\n",
    "minMovesToSeat(seats,students)"
   ]
  },
  {
   "cell_type": "code",
   "execution_count": null,
   "metadata": {},
   "outputs": [],
   "source": [
    "#not mycode\n",
    "def minMovesToSeat(seats: List[int], students: List[int]) -> int:\n",
    "    # Find the maximum position in the arrays\n",
    "    max_position = max(max(seats), max(students))\n",
    "\n",
    "    # Stores difference between number of seats and students at each position\n",
    "    differences = [0] * (max_position)\n",
    "\n",
    "    # Count the available seats at each position\n",
    "    for position in seats:\n",
    "        differences[position - 1] += 1\n",
    "\n",
    "    # Remove a seat for each student at that position\n",
    "    for position in students:\n",
    "        differences[position - 1] -= 1\n",
    "\n",
    "    # Caculate the number of moves needed to seat the students\n",
    "    moves = 0\n",
    "    unmatched = 0\n",
    "    for difference in differences:\n",
    "        moves += abs(unmatched)\n",
    "        unmatched += difference\n",
    "\n",
    "    return moves"
   ]
  },
  {
   "cell_type": "code",
   "execution_count": 14,
   "metadata": {},
   "outputs": [
    {
     "data": {
      "text/plain": [
       "[0, 0, 0, 0, 0, 0, 0, 0, 0, 0]"
      ]
     },
     "execution_count": 14,
     "metadata": {},
     "output_type": "execute_result"
    }
   ],
   "source": [
    "[0] * 10"
   ]
  },
  {
   "cell_type": "code",
   "execution_count": null,
   "metadata": {},
   "outputs": [],
   "source": []
  }
 ],
 "metadata": {
  "kernelspec": {
   "display_name": "Python 3",
   "language": "python",
   "name": "python3"
  },
  "language_info": {
   "codemirror_mode": {
    "name": "ipython",
    "version": 3
   },
   "file_extension": ".py",
   "mimetype": "text/x-python",
   "name": "python",
   "nbconvert_exporter": "python",
   "pygments_lexer": "ipython3",
   "version": "3.7.9"
  }
 },
 "nbformat": 4,
 "nbformat_minor": 2
}
