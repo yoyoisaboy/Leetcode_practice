{
 "cells": [
  {
   "cell_type": "markdown",
   "metadata": {},
   "source": [
    "# 1823. Find the Winner of the Circular Game\n",
    "https://leetcode.com/problems/find-the-winner-of-the-circular-game/description/?envType=daily-question&envId=2024-07-08"
   ]
  },
  {
   "cell_type": "code",
   "execution_count": 135,
   "metadata": {},
   "outputs": [
    {
     "data": {
      "text/plain": [
       "1"
      ]
     },
     "execution_count": 135,
     "metadata": {},
     "output_type": "execute_result"
    }
   ],
   "source": [
    "n = 6\n",
    "k = 5\n",
    "circle_list = [i for i in range(1,n+1)]\n",
    "\n",
    "loc = k-1\n",
    "while(len(circle_list)!=1):\n",
    "    if loc >= len(circle_list):\n",
    "        loc = loc%len(circle_list)\n",
    "    #print(circle_list,loc)\n",
    "    circle_list.remove(circle_list[loc])\n",
    "    loc += (k-1) # remove 1 element\n",
    "circle_list[0]"
   ]
  },
  {
   "cell_type": "markdown",
   "metadata": {},
   "source": [
    "# Simulation with List"
   ]
  },
  {
   "cell_type": "code",
   "execution_count": null,
   "metadata": {},
   "outputs": [],
   "source": [
    "def findTheWinner(n: int, k: int) -> int:\n",
    "    circle_list = [i for i in range(1,n+1)]\n",
    "\n",
    "    loc = 0\n",
    "    while(len(circle_list)!=1):\n",
    "        rm_loc = (loc+k-1)%len(circle_list)\n",
    "        circle_list.pop(rm_loc)\n",
    "        loc = rm_loc\n",
    "    return circle_list[0]"
   ]
  },
  {
   "cell_type": "markdown",
   "metadata": {},
   "source": [
    "# Simulation with Queue"
   ]
  },
  {
   "cell_type": "code",
   "execution_count": null,
   "metadata": {},
   "outputs": [],
   "source": [
    "def findTheWinner(self, n: int, k: int) -> int:\n",
    "    from collections import deque\n",
    "    # Initialize deque with n friends\n",
    "    circle = deque(range(1, n + 1))\n",
    "\n",
    "    # Perform eliminations while more than 1 player remains\n",
    "    while len(circle) > 1:\n",
    "        # Process the first k-1 friends without eliminating them\n",
    "        for _ in range(k - 1):\n",
    "            circle.append(circle.popleft())\n",
    "        # Eliminate the k-th friend\n",
    "        circle.popleft()\n",
    "\n",
    "    return circle[0]"
   ]
  },
  {
   "cell_type": "code",
   "execution_count": 140,
   "metadata": {},
   "outputs": [
    {
     "name": "stdout",
     "output_type": "stream",
     "text": [
      "deque([1, 2, 3, 4, 5])\n"
     ]
    },
    {
     "data": {
      "text/plain": [
       "deque([2, 3, 4, 5])"
      ]
     },
     "execution_count": 140,
     "metadata": {},
     "output_type": "execute_result"
    }
   ],
   "source": [
    "from collections import deque\n",
    "circle = deque(range(1, 5 + 1))\n",
    "print(circle)\n",
    "for _ in range(6-1):\n",
    "    circle.append(circle.popleft())\n",
    "circle.popleft()\n",
    "circle"
   ]
  },
  {
   "cell_type": "markdown",
   "metadata": {},
   "source": [
    "# Recursion\n",
    "f ( n ,k )=( f ( n-1 ,k )+k )\n",
    "\n",
    "f ( 1 ,k )=0"
   ]
  },
  {
   "cell_type": "code",
   "execution_count": 142,
   "metadata": {},
   "outputs": [],
   "source": [
    "def findTheWinner(n: int, k: int) -> int:\n",
    "    return winnerHelper(n, k) + 1\n",
    "\n",
    "def winnerHelper(n: int, k: int) -> int:\n",
    "    if n == 1:\n",
    "        return 0\n",
    "    return (winnerHelper(n - 1, k) + k) % n"
   ]
  },
  {
   "cell_type": "code",
   "execution_count": 143,
   "metadata": {},
   "outputs": [
    {
     "data": {
      "text/plain": [
       "4"
      ]
     },
     "execution_count": 143,
     "metadata": {},
     "output_type": "execute_result"
    }
   ],
   "source": [
    "\n",
    "findTheWinner(5,6)"
   ]
  },
  {
   "cell_type": "markdown",
   "metadata": {},
   "source": [
    "# Iterative"
   ]
  },
  {
   "cell_type": "code",
   "execution_count": null,
   "metadata": {},
   "outputs": [],
   "source": [
    "def findTheWinner(n: int, k: int) -> int:\n",
    "    ans = 0\n",
    "    for i in range(2, n + 1):\n",
    "        ans = (ans + k) % i\n",
    "    # add 1 to convert back to 1 indexing\n",
    "    return ans + 1"
   ]
  },
  {
   "cell_type": "code",
   "execution_count": null,
   "metadata": {},
   "outputs": [],
   "source": []
  },
  {
   "cell_type": "markdown",
   "metadata": {},
   "source": [
    "https://en.wikipedia.org/wiki/Josephus_problem"
   ]
  },
  {
   "cell_type": "markdown",
   "metadata": {},
   "source": []
  }
 ],
 "metadata": {
  "kernelspec": {
   "display_name": "Python 3",
   "language": "python",
   "name": "python3"
  },
  "language_info": {
   "codemirror_mode": {
    "name": "ipython",
    "version": 3
   },
   "file_extension": ".py",
   "mimetype": "text/x-python",
   "name": "python",
   "nbconvert_exporter": "python",
   "pygments_lexer": "ipython3",
   "version": "3.7.9"
  }
 },
 "nbformat": 4,
 "nbformat_minor": 2
}
