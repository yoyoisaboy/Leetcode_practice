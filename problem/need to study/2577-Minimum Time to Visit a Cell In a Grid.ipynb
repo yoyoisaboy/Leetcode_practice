{
 "cells": [
  {
   "cell_type": "markdown",
   "metadata": {},
   "source": [
    "# 2577. Minimum Time to Visit a Cell In a Grid\n",
    "https://leetcode.com/problems/minimum-time-to-visit-a-cell-in-a-grid/description/?envType=daily-question&envId=2024-11-29"
   ]
  },
  {
   "cell_type": "code",
   "execution_count": null,
   "metadata": {},
   "outputs": [
    {
     "data": {
      "text/plain": [
       "7"
      ]
     },
     "execution_count": 13,
     "metadata": {},
     "output_type": "execute_result"
    }
   ],
   "source": [
    "from typing import List\n",
    "\n",
    "\n",
    "def minimumTime( grid: List[List[int]]) -> int:\n",
    "    import heapq\n",
    "    m,n = len(grid),len(grid[0])\n",
    "    if grid[0][1] > 1 and grid[1][0] > 1:\n",
    "        return -1\n",
    "\n",
    "    directions = [(0,1),(1,0),(0,-1),(-1,0)]\n",
    "    pq = [(0,0,0)] # (time,x,y)\n",
    "    visited = set()\n",
    "\n",
    "    while pq:\n",
    "        time, x, y = heapq.heappop(pq)\n",
    "        if (x,y) == (m-1,n-1): #end\n",
    "            return time\n",
    "        if (x,y)  in visited:\n",
    "            continue\n",
    "        visited.add((x,y))\n",
    "\n",
    "        for dx,dy in directions:\n",
    "            nx,ny = x+dx,y+dy\n",
    "            if 0 <= nx < m and 0 <= ny < n and (nx,ny) not in visited:\n",
    "                wait_time = max(0,(grid[nx][ny]-time)%2==0) #even:0 odd: 1\n",
    "                next_time = max(time+1,grid[nx][ny]+wait_time) #plus time\n",
    "                heapq.heappush(pq,(next_time,nx,ny))\n",
    "    return -1\n",
    "\n",
    "grid = [[0,1,3,2],[5,1,2,5],[4,3,8,6]]\n",
    "minimumTime(grid)"
   ]
  },
  {
   "cell_type": "code",
   "execution_count": null,
   "metadata": {},
   "outputs": [],
   "source": []
  },
  {
   "cell_type": "code",
   "execution_count": null,
   "metadata": {},
   "outputs": [],
   "source": []
  }
 ],
 "metadata": {
  "kernelspec": {
   "display_name": "Python 3",
   "language": "python",
   "name": "python3"
  },
  "language_info": {
   "codemirror_mode": {
    "name": "ipython",
    "version": 3
   },
   "file_extension": ".py",
   "mimetype": "text/x-python",
   "name": "python",
   "nbconvert_exporter": "python",
   "pygments_lexer": "ipython3",
   "version": "3.7.9"
  }
 },
 "nbformat": 4,
 "nbformat_minor": 2
}
