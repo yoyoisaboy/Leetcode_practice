{
 "cells": [
  {
   "cell_type": "markdown",
   "metadata": {},
   "source": [
    "# 94. Binary Tree Inorder Traversal\n",
    "https://leetcode.com/problems/binary-tree-inorder-traversal/description/"
   ]
  },
  {
   "cell_type": "code",
   "execution_count": 29,
   "metadata": {},
   "outputs": [],
   "source": [
    "from typing import List,Optional"
   ]
  },
  {
   "cell_type": "code",
   "execution_count": 30,
   "metadata": {},
   "outputs": [],
   "source": []
  },
  {
   "cell_type": "code",
   "execution_count": 34,
   "metadata": {},
   "outputs": [
    {
     "data": {
      "text/plain": [
       "[1, 3, 2]"
      ]
     },
     "execution_count": 34,
     "metadata": {},
     "output_type": "execute_result"
    }
   ],
   "source": [
    "input = [1,None,2,3]\n",
    "tree = TreeNode()\n",
    "temp = 0\n",
    "for ele in input:\n",
    "  if ele != None:\n",
    "    tree.insert(ele,temp)\n",
    "    temp=0\n",
    "  else:\n",
    "    temp=1\n",
    "tree.PreorderTraversal(tree) "
   ]
  },
  {
   "cell_type": "code",
   "execution_count": 33,
   "metadata": {},
   "outputs": [
    {
     "name": "stdout",
     "output_type": "stream",
     "text": [
      "3\n",
      "1\n",
      "2\n"
     ]
    }
   ],
   "source": [
    "tree.PrintTree()"
   ]
  },
  {
   "cell_type": "code",
   "execution_count": null,
   "metadata": {},
   "outputs": [],
   "source": []
  },
  {
   "cell_type": "markdown",
   "metadata": {},
   "source": [
    "# GPT\n",
    "要將一個二元搜尋樹（BST）轉換成一個大於樹（Greater Tree），使每個節點的值變成原本的值加上 BST 中所有大於原本值的節點值的總和，我們可以使用反向中序遍歷。在 BST 中，中序遍歷會按升序訪問節點。通過反向中序遍歷（右子樹、根節點、左子樹），我們可以累積到目前為止訪問過的所有節點的總和，並相應地更新每個節點的值。\n",
    "\n",
    "## 步驟\n",
    "1. 反向中序遍歷：按照右子樹、根節點、左子樹的順序遍歷 BST。\n",
    "2. 累積和更新：維護一個累計總和的變量，表示到目前為止訪問過的節點值的總和。當我們訪問每個節點時，將其值更新為當前的總和，然後將該節點的原始值加入總和中。\n",
    "## 實現\n",
    "以下是將 BST 轉換為大於樹的 Python 代碼："
   ]
  },
  {
   "cell_type": "code",
   "execution_count": 3,
   "metadata": {},
   "outputs": [
    {
     "name": "stdout",
     "output_type": "stream",
     "text": [
      "input tree:  [4, 1, 6, 0, 2, 5, 7, None, None, None, 3, None, None, None, 8]\n",
      "bstToGst:  [30, 36, 21, 36, 35, 26, 15, None, None, None, 33, None, None, None, 8]\n"
     ]
    }
   ],
   "source": [
    "class TreeNode:\n",
    "    def __init__(self, val=0, left=None, right=None):\n",
    "        self.val = val\n",
    "        self.left = left\n",
    "        self.right = right\n",
    "\n",
    "def bstToGst(root: TreeNode) -> TreeNode:\n",
    "    def reverse_inorder_traversal(node: TreeNode):\n",
    "        nonlocal total # 區域變數\n",
    "        if not node:\n",
    "            return\n",
    "        \n",
    "        # Traverse the right subtree first\n",
    "        reverse_inorder_traversal(node.right)\n",
    "        \n",
    "        # Update the current node's value\n",
    "        total += node.val\n",
    "        node.val = total\n",
    "        \n",
    "        # Traverse the left subtree\n",
    "        reverse_inorder_traversal(node.left)\n",
    "    \n",
    "    total = 0\n",
    "    reverse_inorder_traversal(root)\n",
    "    return root\n",
    "\n",
    "# Helper function to print the tree in level order to verify the result\n",
    "def level_order_traversal(root):\n",
    "    if not root:\n",
    "        return []\n",
    "    queue = [root]\n",
    "    result = []\n",
    "    while queue:\n",
    "        node = queue.pop(0)\n",
    "        if node:\n",
    "            result.append(node.val)\n",
    "            queue.append(node.left)\n",
    "            queue.append(node.right)\n",
    "        else:\n",
    "            result.append(None)\n",
    "    # To remove the trailing None values for cleaner output\n",
    "    while result and result[-1] is None:\n",
    "        result.pop()\n",
    "    return result\n",
    "\n",
    "# Example usage:\n",
    "# Constructing the BST from the example [4,1,6,0,2,5,7,null,null,null,3,null,null,null,8]\n",
    "root = TreeNode(4)\n",
    "root.left = TreeNode(1)\n",
    "root.right = TreeNode(6)\n",
    "root.left.left = TreeNode(0)\n",
    "root.left.right = TreeNode(2)\n",
    "root.left.right.right = TreeNode(3)\n",
    "root.right.left = TreeNode(5)\n",
    "root.right.right = TreeNode(7)\n",
    "root.right.right.right = TreeNode(8)\n",
    "print(\"input tree: \",level_order_traversal(root))\n",
    "# Convert the BST to Greater Tree\n",
    "bstToGst(root)\n",
    "\n",
    "# Output the tree in level order to verify the result\n",
    "print(\"bstToGst: \",level_order_traversal(root))  # Expected output: [30,36,21,36,35,26,15,null,null,null,33,null,null,null,8]\n"
   ]
  },
  {
   "cell_type": "markdown",
   "metadata": {},
   "source": [
    "代碼解釋\n",
    "1. TreeNode 類：定義樹節點的結構。\n",
    "2. bstToGst 函數：使用輔助函數 reverse_inorder_traversal 進行反向中序遍歷並更新節點值。\n",
    "3. reverse_inorder_traversal 函數：以反向中序遍歷樹，並使用累計總和更新每個節點的值。\n",
    "4. level_order_traversal 函數：以層序遍歷方式輸出樹，以驗證結果。\n",
    "\n",
    "這種方法確保我們以正確的方式將 BST 轉換為大於樹，滿足所提供的約束和要求。"
   ]
  }
 ],
 "metadata": {
  "interpreter": {
   "hash": "7a32eb4390f9bb72514d0e71928e792c838e00872818ae6da76cc4e20d75f488"
  },
  "kernelspec": {
   "display_name": "Python 3.7.9 64-bit",
   "language": "python",
   "name": "python3"
  },
  "language_info": {
   "codemirror_mode": {
    "name": "ipython",
    "version": 3
   },
   "file_extension": ".py",
   "mimetype": "text/x-python",
   "name": "python",
   "nbconvert_exporter": "python",
   "pygments_lexer": "ipython3",
   "version": "3.7.9"
  },
  "orig_nbformat": 4
 },
 "nbformat": 4,
 "nbformat_minor": 2
}
