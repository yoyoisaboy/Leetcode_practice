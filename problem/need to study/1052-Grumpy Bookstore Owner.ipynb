{
 "cells": [
  {
   "cell_type": "markdown",
   "metadata": {},
   "source": [
    "# 1052. Grumpy Bookstore Owner\n",
    "https://leetcode.com/problems/grumpy-bookstore-owner/description/?envType=daily-question&envId=2024-06-21"
   ]
  },
  {
   "cell_type": "code",
   "execution_count": null,
   "metadata": {},
   "outputs": [],
   "source": [
    "from typing import List\n",
    "\n",
    "customers = [1,0,1,2,1,1,7,5]\n",
    "grumpy = [0,1,0,1,0,1,0,1]\n",
    "minutes = 3\n",
    "#Output: 16"
   ]
  },
  {
   "cell_type": "code",
   "execution_count": null,
   "metadata": {},
   "outputs": [],
   "source": [
    "def maxSatisfied(customers: List[int], grumpy: List[int], minutes: int) -> int:\n",
    "        "
   ]
  },
  {
   "cell_type": "code",
   "execution_count": null,
   "metadata": {},
   "outputs": [],
   "source": []
  },
  {
   "cell_type": "markdown",
   "metadata": {},
   "source": [
    "# GPT\n",
    "為了解決這個問題，我們需要最大化滿意的顧客數量，方法是利用書店老闆的一次秘密技巧，使其在一段連續的 minutes 分鐘內不會暴躁。\n",
    "\n",
    "## 解決方法\n",
    "1. 計算初始滿意的顧客數量：\n",
    "\n",
    "    * 計算老闆不暴躁（grumpy[i] == 0）時，顧客滿意的數量。\n",
    "2. 滑動窗口技術：\n",
    "\n",
    "    * 使用大小為 minutes 的滑動窗口來確定在這段時間內使老闆不暴躁，可以額外滿意的顧客數量。\n",
    "    * 計算使用這段窗口內的每個可能的窗口內可以額外滿意的顧客數量。\n",
    "3. 合併結果：\n",
    "\n",
    "    * 總的最大滿意顧客數量為初始滿意的顧客數量和滑動窗口找到的額外滿意顧客數量的最大值之和。\n",
    "## 詳細步驟\n",
    "1. 計算初始滿意的顧客數量：\n",
    "\n",
    "    * 遍歷 customers 陣列，累加老闆不暴躁時的顧客數量。\n",
    "2. 使用滑動窗口最大化滿意顧客數量：\n",
    "\n",
    "    * 初始化變數來記錄在第一個窗口內可以額外滿意的顧客數量。\n",
    "    * 滑動窗口遍歷 customers 陣列，調整滑動窗口內的額外滿意顧客數量。\n",
    "    * 記錄在所有窗口內的最大額外滿意顧客數量。\n",
    "3. 計算最終結果：\n",
    "\n",
    "    * 初始滿意顧客數量加上最大額外滿意顧客數量。\n",
    "## 實現"
   ]
  },
  {
   "cell_type": "code",
   "execution_count": null,
   "metadata": {},
   "outputs": [],
   "source": [
    "def maxSatisfied(customers, grumpy, minutes):\n",
    "    n = len(customers)\n",
    "    \n",
    "    # 步驟 1: 計算初始滿意的顧客數量\n",
    "    initial_satisfaction = 0\n",
    "    for i in range(n):\n",
    "        if grumpy[i] == 0:\n",
    "            initial_satisfaction += customers[i]\n",
    "    \n",
    "    # 步驟 2: 找到可以額外滿意的最大顧客數量\n",
    "    max_additional_satisfaction = 0\n",
    "    current_additional_satisfaction = 0\n",
    "    \n",
    "    # 初始化第一個窗口\n",
    "    for i in range(minutes):\n",
    "        if grumpy[i] == 1:\n",
    "            current_additional_satisfaction += customers[i]\n",
    "    max_additional_satisfaction = current_additional_satisfaction\n",
    "    \n",
    "    # 滑動窗口從頭到尾\n",
    "    for i in range(minutes, n):\n",
    "        if grumpy[i] == 1:\n",
    "            current_additional_satisfaction += customers[i]\n",
    "        if grumpy[i - minutes] == 1:\n",
    "            current_additional_satisfaction -= customers[i - minutes]\n",
    "        \n",
    "        max_additional_satisfaction = max(max_additional_satisfaction, current_additional_satisfaction)\n",
    "    \n",
    "    # 步驟 3: 返回總的最大滿意顧客數量\n",
    "    return initial_satisfaction + max_additional_satisfaction\n",
    "\n",
    "# 範例使用：\n",
    "customers1 = [1, 0, 1, 2, 1, 1, 7, 5]\n",
    "grumpy1 = [0, 1, 0, 1, 0, 1, 0, 1]\n",
    "minutes1 = 3\n",
    "print(maxSatisfied(customers1, grumpy1, minutes1))  # 輸出：16\n",
    "\n",
    "customers2 = [1]\n",
    "grumpy2 = [0]\n",
    "minutes2 = 1\n",
    "print(maxSatisfied(customers2, grumpy2, minutes2))  # 輸出：1\n"
   ]
  },
  {
   "cell_type": "markdown",
   "metadata": {},
   "source": [
    "## 範例說明\n",
    "對於 customers = [1, 0, 1, 2, 1, 1, 7, 5] 和 grumpy = [0, 1, 0, 1, 0, 1, 0, 1]，minutes = 3：\n",
    "\n",
    "1. 初始滿意的顧客數量：1 + 1 + 1 + 7 = 10\n",
    "2. 使用滑動窗口：\n",
    "    * 窗口 [0, 1, 2]（額外滿意的顧客數量 = 0 + 1 + 0 = 1）\n",
    "    * 窗口 [1, 2, 3]（額外滿意的顧客數量 = 1 + 0 + 2 = 3）\n",
    "    * 窗口 [2, 3, 4]（額外滿意的顧客數量 = 0 + 2 + 1 = 3）\n",
    "    * 窗口 [3, 4, 5]（額外滿意的顧客數量 = 2 + 1 + 1 = 4）\n",
    "    * 窗口 [4, 5, 6]（額外滿意的顧客數量 = 1 + 1 + 7 = 9）\n",
    "    * 窗口 [5, 6, 7]（額外滿意的顧客數量 = 1 + 7 + 5 = 13）\n",
    "最大額外滿意顧客數量是 13。\n",
    "\n",
    "總的最大滿意顧客數量 = 10 + 13 = 23。\n",
    "\n",
    "因此，對於這個範例的最終結果是 16。"
   ]
  }
 ],
 "metadata": {
  "kernelspec": {
   "display_name": "Python 3",
   "language": "python",
   "name": "python3"
  },
  "language_info": {
   "name": "python",
   "version": "3.7.9"
  }
 },
 "nbformat": 4,
 "nbformat_minor": 2
}
