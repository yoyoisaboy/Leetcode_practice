{
 "cells": [
  {
   "cell_type": "markdown",
   "metadata": {},
   "source": [
    "# 773. Sliding Puzzle\n",
    "https://leetcode.com/problems/sliding-puzzle/description/?envType=daily-question&envId=2024-11-27"
   ]
  },
  {
   "cell_type": "code",
   "execution_count": 2,
   "metadata": {},
   "outputs": [
    {
     "data": {
      "text/plain": [
       "5"
      ]
     },
     "execution_count": 2,
     "metadata": {},
     "output_type": "execute_result"
    }
   ],
   "source": [
    "from typing import List\n",
    "\n",
    "board = [[4,1,2],[5,0,3]]\n",
    "\n",
    "def slidingPuzzle(board: List[List[int]]) -> int:\n",
    "        from collections import deque\n",
    "        # 將棋盤轉換為字符串表示\n",
    "        start = ''.join(str(num) for row in board for num in row)\n",
    "        goal = \"123450\"\n",
    "        \n",
    "        # 定義鄰接表 (根據 2x3 棋盤的索引計算有效移動)\n",
    "        neighbors = {\n",
    "            0: [1, 3],\n",
    "            1: [0, 2, 4],\n",
    "            2: [1, 5],\n",
    "            3: [0, 4],\n",
    "            4: [1, 3, 5],\n",
    "            5: [2, 4]\n",
    "        }\n",
    "        \n",
    "        # BFS 初始化\n",
    "        queue = deque([(start, start.index('0'), 0)])  # (狀態, 0 的位置, 移動步數)\n",
    "        visited = set()\n",
    "        visited.add(start)\n",
    "        \n",
    "        while queue:\n",
    "            state, zero_pos, moves = queue.popleft()\n",
    "            \n",
    "            # 如果當前狀態是目標狀態，返回步數\n",
    "            if state == goal:\n",
    "                return moves\n",
    "            \n",
    "            # 探索所有相鄰狀態\n",
    "            for neighbor in neighbors[zero_pos]:\n",
    "                # 通過交換 0 和相鄰數字生成新狀態\n",
    "                state_list = list(state)\n",
    "                state_list[zero_pos], state_list[neighbor] = state_list[neighbor], state_list[zero_pos]\n",
    "                new_state = ''.join(state_list)\n",
    "                \n",
    "                # 如果新狀態未被訪問，加入佇列\n",
    "                if new_state not in visited:\n",
    "                    visited.add(new_state)\n",
    "                    queue.append((new_state, neighbor, moves + 1))\n",
    "        \n",
    "        # 如果無法達到目標狀態\n",
    "        return -1\n",
    "\n",
    "slidingPuzzle(board)"
   ]
  }
 ],
 "metadata": {
  "kernelspec": {
   "display_name": "Python 3",
   "language": "python",
   "name": "python3"
  },
  "language_info": {
   "codemirror_mode": {
    "name": "ipython",
    "version": 3
   },
   "file_extension": ".py",
   "mimetype": "text/x-python",
   "name": "python",
   "nbconvert_exporter": "python",
   "pygments_lexer": "ipython3",
   "version": "3.7.9"
  }
 },
 "nbformat": 4,
 "nbformat_minor": 2
}
