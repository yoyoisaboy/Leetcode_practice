{
 "cells": [
  {
   "cell_type": "markdown",
   "metadata": {},
   "source": [
    "# 1140. Stone Game II\n",
    "https://leetcode.com/problems/stone-game-ii/description/?envType=daily-question&envId=2024-08-20"
   ]
  },
  {
   "cell_type": "code",
   "execution_count": 4,
   "metadata": {},
   "outputs": [
    {
     "data": {
      "text/plain": [
       "10"
      ]
     },
     "execution_count": 4,
     "metadata": {},
     "output_type": "execute_result"
    }
   ],
   "source": [
    "from typing import List\n",
    "\n",
    "\n",
    "def stoneGameII(piles):\n",
    "\n",
    "piles = [2,7,9,4,4]\n",
    "stoneGameII(piles)"
   ]
  },
  {
   "cell_type": "code",
   "execution_count": 11,
   "metadata": {},
   "outputs": [
    {
     "name": "stdout",
     "output_type": "stream",
     "text": [
      "1 1\n",
      "2 1\n",
      "3 1\n",
      "4 1\n",
      "5 1\n",
      "6 1\n",
      "6 2\n",
      "5 2\n",
      "6 2\n",
      "4 2\n",
      "5 2\n",
      "6 2\n",
      "3 2\n",
      "4 2\n",
      "5 2\n",
      "6 3\n",
      "2 2\n",
      "3 2\n",
      "4 2\n",
      "5 3\n",
      "6 3\n",
      "6 4\n"
     ]
    },
    {
     "data": {
      "text/plain": [
       "104"
      ]
     },
     "execution_count": 11,
     "metadata": {},
     "output_type": "execute_result"
    }
   ],
   "source": [
    "piles = [1, 2, 3, 4, 5, 100]\n",
    "n = len(piles)  \n",
    "sums = [0] * (n + 1)\n",
    "for i in range(n - 1, -1, -1):\n",
    "    sums[i] = sums[i + 1] + piles[i]\n",
    "dp = [[0] * (n + 1) for _ in range(n)]\n",
    "\n",
    "def maxStones(currentPileIndex, maxPilesAliceCanTake):\n",
    "    if currentPileIndex >= n:\n",
    "        return 0\n",
    "    if dp[currentPileIndex][maxPilesAliceCanTake] > 0:\n",
    "        return dp[currentPileIndex][maxPilesAliceCanTake]\n",
    "    \n",
    "    max_take = 0\n",
    "    for pilesTaken in range(1, 2 * maxPilesAliceCanTake + 1):\n",
    "        if currentPileIndex + pilesTaken <= n:\n",
    "            max_take = max(max_take, sums[currentPileIndex] - maxStones(currentPileIndex + pilesTaken, max(maxPilesAliceCanTake, pilesTaken)))\n",
    "    dp[currentPileIndex][maxPilesAliceCanTake] = max_take\n",
    "    return dp[currentPileIndex][maxPilesAliceCanTake]\n",
    "\n",
    "maxStones(0, 1)"
   ]
  },
  {
   "cell_type": "code",
   "execution_count": 6,
   "metadata": {},
   "outputs": [
    {
     "data": {
      "text/plain": [
       "[[0, 104, 0, 0, 0, 0, 0],\n",
       " [0, 11, 0, 0, 0, 0, 0],\n",
       " [0, 103, 112, 0, 0, 0, 0],\n",
       " [0, 9, 109, 0, 0, 0, 0],\n",
       " [0, 105, 105, 0, 0, 0, 0],\n",
       " [0, 100, 100, 100, 0, 0, 0]]"
      ]
     },
     "execution_count": 6,
     "metadata": {},
     "output_type": "execute_result"
    }
   ],
   "source": [
    "# GPT\n",
    "\n",
    "from typing import List\n",
    "\n",
    "# Dynamic Programming\n",
    "def stoneGameII(piles):\n",
    "    n = len(piles)\n",
    "    \n",
    "    # Sums array to store the cumulative sum from the end to start\n",
    "    sums = [0] * (n + 1)\n",
    "    for i in range(n - 1, -1, -1):\n",
    "        sums[i] = sums[i + 1] + piles[i]\n",
    "\n",
    "    # DP array\n",
    "    dp = [[0] * (n + 1) for _ in range(n)]\n",
    "    \n",
    "    # Function to calculate the max stones Alice can get\n",
    "    def maxStones(currentPileIndex, maxPilesAliceCanTake):\n",
    "        if currentPileIndex >= n:\n",
    "            return 0\n",
    "        if dp[currentPileIndex][maxPilesAliceCanTake] > 0:\n",
    "            return dp[currentPileIndex][maxPilesAliceCanTake]\n",
    "        \n",
    "        max_take = 0\n",
    "        for pilesTaken in range(1, 2 * maxPilesAliceCanTake + 1):\n",
    "            if currentPileIndex + pilesTaken <= n:\n",
    "                max_take = max(max_take, sums[currentPileIndex] - maxStones(currentPileIndex + pilesTaken, max(maxPilesAliceCanTake, pilesTaken)))\n",
    "        dp[currentPileIndex][maxPilesAliceCanTake] = max_take\n",
    "        return dp[currentPileIndex][maxPilesAliceCanTake]\n",
    "    \n",
    "    return maxStones(0, 1)\n",
    "\n",
    "piles = [2,7,9,4,4]\n",
    "stoneGameII(piles)"
   ]
  }
 ],
 "metadata": {
  "kernelspec": {
   "display_name": "Python 3",
   "language": "python",
   "name": "python3"
  },
  "language_info": {
   "codemirror_mode": {
    "name": "ipython",
    "version": 3
   },
   "file_extension": ".py",
   "mimetype": "text/x-python",
   "name": "python",
   "nbconvert_exporter": "python",
   "pygments_lexer": "ipython3",
   "version": "3.7.9"
  }
 },
 "nbformat": 4,
 "nbformat_minor": 2
}
