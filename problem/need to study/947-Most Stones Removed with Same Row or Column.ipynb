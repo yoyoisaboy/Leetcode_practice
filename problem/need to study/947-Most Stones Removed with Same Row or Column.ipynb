{
 "cells": [
  {
   "cell_type": "markdown",
   "metadata": {},
   "source": [
    "# 947. Most Stones Removed with Same Row or Column\n",
    "https://leetcode.com/problems/most-stones-removed-with-same-row-or-column/description/?envType=daily-question&envId=2024-08-29"
   ]
  },
  {
   "cell_type": "code",
   "execution_count": 8,
   "metadata": {},
   "outputs": [
    {
     "name": "stdout",
     "output_type": "stream",
     "text": [
      "defaultdict(<class 'list'>, {0: [0, 1], 1: [0, 2], 2: [1, 2]}) defaultdict(<class 'list'>, {0: [0, 1], 1: [0, 2], 2: [1, 2]})\n",
      "{(0, 1), (1, 2), (0, 0), (2, 1), (2, 2), (1, 0)} 1\n"
     ]
    },
    {
     "data": {
      "text/plain": [
       "5"
      ]
     },
     "execution_count": 8,
     "metadata": {},
     "output_type": "execute_result"
    }
   ],
   "source": [
    "# DFS\n",
    "from collections import defaultdict\n",
    "\n",
    "def removeStones(stones):\n",
    "    def dfs(x, y):\n",
    "        visited.add((x, y))\n",
    "        for next_y in rows[x]:\n",
    "            if (x, next_y) not in visited:\n",
    "                dfs(x, next_y)\n",
    "        for next_x in cols[y]:\n",
    "            if (next_x, y) not in visited:\n",
    "                dfs(next_x, y)\n",
    "\n",
    "    \n",
    "    rows = defaultdict(list)\n",
    "    cols = defaultdict(list)\n",
    "    \n",
    "    for x, y in stones:\n",
    "        rows[x].append(y)\n",
    "        cols[y].append(x)\n",
    "\n",
    "    print(rows,cols)\n",
    "    visited = set()\n",
    "    num_of_islands = 0\n",
    "    \n",
    "    for x, y in stones:\n",
    "        if (x, y) not in visited:\n",
    "            dfs(x, y)\n",
    "            num_of_islands += 1\n",
    "    print(visited,num_of_islands)\n",
    "    return len(stones) - num_of_islands\n",
    "\n",
    "stones1 = [[0,0],[0,1],[1,0],[1,2],[2,1],[2,2]]\n",
    "removeStones(stones1)"
   ]
  },
  {
   "cell_type": "markdown",
   "metadata": {},
   "source": [
    "這個問題可以透過將石頭視為一個圖中的節點來解決，其中每個石頭與其他石頭連接在同一行或同一列上。解決的關鍵在於找到圖中的連通分量的數量，並計算可以移除的石頭數量，這相當於圖中節點數減去連通分量的數量。 \n",
    "\n",
    "## 問題分析 \n",
    "1. 圖的表示：我們將每塊石頭看作圖中的一個節點。如果兩塊石頭在同一行或同一列上，那麼它們之間有一條邊連接。這意味著石頭可以透過共享行或列與其他石頭形成連通分量。 \n",
    "2. 計算可移除的石頭數：如果一組石頭構成一個連通分量，則最多可以移除 component_size - 1 塊石頭（因為最終只剩下其中一塊）。總共可以移除的石頭數就是所有連通分量中可以移除的石頭數的總和。 \n",
    "3. 使用並查集 (Union-Find)：這是解決此類連通分量問題的有效方法。"
   ]
  },
  {
   "cell_type": "code",
   "execution_count": null,
   "metadata": {},
   "outputs": [],
   "source": [
    "# GPT : Union-Find\n",
    "class UnionFind:\n",
    "    def __init__(self):\n",
    "        self.parent = {}\n",
    "        self.rank = {}\n",
    "\n",
    "    def find(self, x):\n",
    "        if self.parent[x] != x:\n",
    "            self.parent[x] = self.find(self.parent[x])\n",
    "        return self.parent[x]\n",
    "\n",
    "    def union(self, x, y):\n",
    "        rootX = self.find(x)\n",
    "        rootY = self.find(y)\n",
    "        \n",
    "        if rootX != rootY:\n",
    "            if self.rank[rootX] > self.rank[rootY]:\n",
    "                self.parent[rootY] = rootX\n",
    "            elif self.rank[rootX] < self.rank[rootY]:\n",
    "                self.parent[rootX] = rootY\n",
    "            else:\n",
    "                self.parent[rootY] = rootX\n",
    "                self.rank[rootX] += 1\n",
    "\n",
    "    def add(self, x):\n",
    "        if x not in self.parent:\n",
    "            self.parent[x] = x\n",
    "            self.rank[x] = 0\n",
    "\n",
    "def removeStones(stones):\n",
    "    uf = UnionFind()\n",
    "\n",
    "    for x, y in stones:\n",
    "        uf.add(x)\n",
    "        uf.add(~y)  # 使用 ~y 将 y 映射到一个独特的整数表示，避免冲突\n",
    "        uf.union(x, ~y)\n",
    "\n",
    "    # 统计不同的连通分量数量\n",
    "    unique_roots = len({uf.find(x) for x, y in stones} | {uf.find(~y) for x, y in stones})\n",
    "    \n",
    "    return len(stones) - unique_roots\n",
    "\n",
    "# 示例输入\n",
    "stones1 = [[0,0],[0,1],[1,0],[1,2],[2,1],[2,2]]\n",
    "print(removeStones(stones1))  # 输出：5\n",
    "\n",
    "stones2 = [[0,0],[0,2],[1,1],[2,0],[2,2]]\n",
    "print(removeStones(stones2))  # 输出：3\n",
    "\n",
    "stones3 = [[0,0]]\n",
    "print(removeStones(stones3))  # 输出：0\n"
   ]
  },
  {
   "cell_type": "markdown",
   "metadata": {},
   "source": [
    "## 解釋 \n",
    "1. UnionFind 資料結構：UnionFind 透過 parent 陣列追蹤每個節點的父節點，透過 rank 陣列追蹤樹的高度以實現路徑壓縮優化。\n",
    "2. 新增與合併節點：在 removeStones 函數中，我們首先將所有的石頭座標 (x, y) 加入並查集中，並將行與列座標連接在一起。這是透過將列座標 y 映射為負數 ~y 來實現的，以避免與行座標衝突。 \n",
    "3. 計算獨立連通分量數：最終我們透過 find 函數確定所有節點的根，並計算出不同的根的數量，即連通分量的數量。可以移除的石頭數量等於 len(stones) - 連通分量數。 \n",
    "## 複雜度分析 \n",
    "* 時間複雜度：O(n)，其中 n 是石頭的數量。因為並查集的每個操作的平均時間複雜度為 O(1)。 \n",
    "* 空間複雜度：O(n)，需要儲存每個節點的父節點和秩資訊。"
   ]
  }
 ],
 "metadata": {
  "kernelspec": {
   "display_name": "Python 3",
   "language": "python",
   "name": "python3"
  },
  "language_info": {
   "codemirror_mode": {
    "name": "ipython",
    "version": 3
   },
   "file_extension": ".py",
   "mimetype": "text/x-python",
   "name": "python",
   "nbconvert_exporter": "python",
   "pygments_lexer": "ipython3",
   "version": "3.7.9"
  }
 },
 "nbformat": 4,
 "nbformat_minor": 2
}
