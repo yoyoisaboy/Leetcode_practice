{
 "cells": [
  {
   "cell_type": "markdown",
   "metadata": {},
   "source": [
    "# 2196. Create Binary Tree From Descriptions\n",
    "https://leetcode.com/problems/create-binary-tree-from-descriptions/description/?envType=daily-question&envId=2024-07-15"
   ]
  },
  {
   "cell_type": "code",
   "execution_count": 12,
   "metadata": {},
   "outputs": [],
   "source": [
    "from typing import List,Optional\n",
    "# Definition for a binary tree node.\n",
    "class TreeNode:\n",
    "    def __init__(self, val=0, left=None, right=None):\n",
    "        self.val = val\n",
    "        self.left = left\n",
    "        self.right = right\n",
    "def level_order_traversal(root):\n",
    "    if not root:\n",
    "        return []\n",
    "    queue = [root]\n",
    "    result = []\n",
    "    while queue:\n",
    "        node = queue.pop(0)\n",
    "        if node:\n",
    "            result.append(node.val)\n",
    "            queue.append(node.left)\n",
    "            queue.append(node.right)\n",
    "        else:\n",
    "            result.append(None)\n",
    "    while result and result[-1] is None:\n",
    "    \n",
    "        result.pop()\n",
    "    return result\n",
    "\n",
    "def createBinaryTree(descriptions: List[List[int]]) -> Optional[TreeNode]:\n",
    "    #找root\n",
    "    dir_list = []\n",
    "    parent_list = []\n",
    "    child_list = []\n",
    "    who_is_root = 0\n",
    "    for node1,node2,dir in descriptions:\n",
    "        dir_list.append(dir)\n",
    "        parent_list.append(node1)\n",
    "        child_list.append(node2)\n",
    "    \n",
    "    for node in set(parent_list):\n",
    "        if child_list.count(node)==0:\n",
    "            who_is_root = node\n",
    "            break\n",
    "    root = TreeNode(who_is_root)\n",
    "    \n",
    "    def build_tree(root,parent,child,dir):\n",
    "        if descriptions:\n",
    "            return root\n",
    "        if dir == 1:\n",
    "            root.left = child\n",
    "            descriptions.remove([parent,child,dir])\n",
    "            return build_tree(root,root.left )\n",
    "        else:\n",
    "            root.right = child \n",
    "            descriptions.remove([parent,child,dir])\n",
    "            return build_tree(root,root.right )\n",
    "        \n",
    "\n",
    "    return "
   ]
  },
  {
   "cell_type": "code",
   "execution_count": 13,
   "metadata": {},
   "outputs": [
    {
     "name": "stdout",
     "output_type": "stream",
     "text": [
      "[50, 20, 80, 15, 17, 19]\n"
     ]
    }
   ],
   "source": [
    "descriptions = [[20,15,1],[20,17,0],[50,20,1],[50,80,0],[80,19,1]]\n",
    "\n",
    "level_order_traversal(createBinaryTree(descriptions))"
   ]
  },
  {
   "cell_type": "code",
   "execution_count": 19,
   "metadata": {},
   "outputs": [
    {
     "data": {
      "text/plain": [
       "0"
      ]
     },
     "execution_count": 19,
     "metadata": {},
     "output_type": "execute_result"
    }
   ],
   "source": [
    "descriptions = [[20,15,1],[20,17,0],[50,20,1],[50,80,0],[80,19,1]]\n",
    "#找root\n",
    "dir_list = []\n",
    "parent_list = []\n",
    "child_list = []\n",
    "who_is_root = 0\n",
    "for node1,node2,dir in descriptions:\n",
    "    dir_list.append(dir)\n",
    "    parent_list.append(node1)\n",
    "    child_list.append(node2)\n",
    "for node in set(parent_list):\n",
    "    if child_list.count(node)==0:\n",
    "        who_is_root = node\n",
    "        break\n",
    "descriptions.index([20,15,1])"
   ]
  },
  {
   "cell_type": "code",
   "execution_count": 21,
   "metadata": {},
   "outputs": [],
   "source": [
    "descriptions.remove([20,15,1])"
   ]
  },
  {
   "cell_type": "code",
   "execution_count": null,
   "metadata": {},
   "outputs": [],
   "source": []
  }
 ],
 "metadata": {
  "kernelspec": {
   "display_name": "Python 3",
   "language": "python",
   "name": "python3"
  },
  "language_info": {
   "codemirror_mode": {
    "name": "ipython",
    "version": 3
   },
   "file_extension": ".py",
   "mimetype": "text/x-python",
   "name": "python",
   "nbconvert_exporter": "python",
   "pygments_lexer": "ipython3",
   "version": "3.7.9"
  }
 },
 "nbformat": 4,
 "nbformat_minor": 2
}
