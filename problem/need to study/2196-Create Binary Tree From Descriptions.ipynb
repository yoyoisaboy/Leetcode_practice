{
 "cells": [
  {
   "cell_type": "markdown",
   "metadata": {},
   "source": [
    "# 2196. Create Binary Tree From Descriptions\n",
    "https://leetcode.com/problems/create-binary-tree-from-descriptions/description/?envType=daily-question&envId=2024-07-15"
   ]
  },
  {
   "cell_type": "code",
   "execution_count": 27,
   "metadata": {},
   "outputs": [],
   "source": [
    "from typing import List,Optional\n",
    "# Definition for a binary tree node.\n",
    "class TreeNode:\n",
    "    def __init__(self, val=0, left=None, right=None):\n",
    "        self.val = val\n",
    "        self.left = left\n",
    "        self.right = right\n",
    "def level_order_traversal(root):\n",
    "    if not root:\n",
    "        return []\n",
    "    queue = [root]\n",
    "    result = []\n",
    "    while queue:\n",
    "        node = queue.pop(0)\n",
    "        if node:\n",
    "            result.append(node.val)\n",
    "            queue.append(node.left)\n",
    "            queue.append(node.right)\n",
    "        else:\n",
    "            result.append(None)\n",
    "    while result and result[-1] is None:\n",
    "    \n",
    "        result.pop()\n",
    "    return result\n",
    "\n",
    "def createBinaryTree(descriptions: List[List[int]]) -> Optional[TreeNode]:\n",
    "    #找root\n",
    "    dir_list = []\n",
    "    parent_list = []\n",
    "    child_list = []\n",
    "    who_is_root = 0\n",
    "    for node1,node2,dir in descriptions:\n",
    "        dir_list.append(dir)\n",
    "        parent_list.append(node1)\n",
    "        child_list.append(node2)\n",
    "    #找最初的根結點\n",
    "    for node in set(parent_list):\n",
    "        if child_list.count(node)==0:\n",
    "            who_is_root = node\n",
    "            break\n",
    "    #基底根節點\n",
    "    root = TreeNode(who_is_root)\n",
    "    \n",
    "    \n",
    "    \n",
    "    \n",
    "\n",
    "\n",
    "    return root"
   ]
  },
  {
   "cell_type": "code",
   "execution_count": 28,
   "metadata": {},
   "outputs": [
    {
     "name": "stdout",
     "output_type": "stream",
     "text": [
      "[20, 20, 50, 50, 80]\n",
      "[20, 20, -1, 50, 80]\n",
      "[20, 20, -1, -1, 80]\n",
      "[20, 20, -1, -1, -1]\n"
     ]
    },
    {
     "ename": "ValueError",
     "evalue": "19 is not in list",
     "output_type": "error",
     "traceback": [
      "\u001b[1;31m---------------------------------------------------------------------------\u001b[0m",
      "\u001b[1;31mValueError\u001b[0m                                Traceback (most recent call last)",
      "\u001b[1;32m<ipython-input-28-95bd9c08fe75>\u001b[0m in \u001b[0;36m<module>\u001b[1;34m\u001b[0m\n\u001b[0;32m      1\u001b[0m \u001b[0mdescriptions\u001b[0m \u001b[1;33m=\u001b[0m \u001b[1;33m[\u001b[0m\u001b[1;33m[\u001b[0m\u001b[1;36m20\u001b[0m\u001b[1;33m,\u001b[0m\u001b[1;36m15\u001b[0m\u001b[1;33m,\u001b[0m\u001b[1;36m1\u001b[0m\u001b[1;33m]\u001b[0m\u001b[1;33m,\u001b[0m\u001b[1;33m[\u001b[0m\u001b[1;36m20\u001b[0m\u001b[1;33m,\u001b[0m\u001b[1;36m17\u001b[0m\u001b[1;33m,\u001b[0m\u001b[1;36m0\u001b[0m\u001b[1;33m]\u001b[0m\u001b[1;33m,\u001b[0m\u001b[1;33m[\u001b[0m\u001b[1;36m50\u001b[0m\u001b[1;33m,\u001b[0m\u001b[1;36m20\u001b[0m\u001b[1;33m,\u001b[0m\u001b[1;36m1\u001b[0m\u001b[1;33m]\u001b[0m\u001b[1;33m,\u001b[0m\u001b[1;33m[\u001b[0m\u001b[1;36m50\u001b[0m\u001b[1;33m,\u001b[0m\u001b[1;36m80\u001b[0m\u001b[1;33m,\u001b[0m\u001b[1;36m0\u001b[0m\u001b[1;33m]\u001b[0m\u001b[1;33m,\u001b[0m\u001b[1;33m[\u001b[0m\u001b[1;36m80\u001b[0m\u001b[1;33m,\u001b[0m\u001b[1;36m19\u001b[0m\u001b[1;33m,\u001b[0m\u001b[1;36m1\u001b[0m\u001b[1;33m]\u001b[0m\u001b[1;33m]\u001b[0m\u001b[1;33m\u001b[0m\u001b[1;33m\u001b[0m\u001b[0m\n\u001b[0;32m      2\u001b[0m \u001b[1;33m\u001b[0m\u001b[0m\n\u001b[1;32m----> 3\u001b[1;33m \u001b[0mlevel_order_traversal\u001b[0m\u001b[1;33m(\u001b[0m\u001b[0mcreateBinaryTree\u001b[0m\u001b[1;33m(\u001b[0m\u001b[0mdescriptions\u001b[0m\u001b[1;33m)\u001b[0m\u001b[1;33m)\u001b[0m\u001b[1;33m\u001b[0m\u001b[1;33m\u001b[0m\u001b[0m\n\u001b[0m",
      "\u001b[1;32m<ipython-input-27-e3cb4f36a15a>\u001b[0m in \u001b[0;36mcreateBinaryTree\u001b[1;34m(descriptions)\u001b[0m\n\u001b[0;32m     43\u001b[0m     \u001b[1;32mwhile\u001b[0m\u001b[1;33m(\u001b[0m\u001b[0mparent_list\u001b[0m\u001b[1;33m.\u001b[0m\u001b[0mcount\u001b[0m\u001b[1;33m(\u001b[0m\u001b[1;33m-\u001b[0m\u001b[1;36m1\u001b[0m\u001b[1;33m)\u001b[0m\u001b[1;33m!=\u001b[0m\u001b[0mlen\u001b[0m\u001b[1;33m(\u001b[0m\u001b[0mparent_list\u001b[0m\u001b[1;33m)\u001b[0m\u001b[1;33m)\u001b[0m\u001b[1;33m:\u001b[0m\u001b[1;33m\u001b[0m\u001b[1;33m\u001b[0m\u001b[0m\n\u001b[0;32m     44\u001b[0m         \u001b[0mprint\u001b[0m\u001b[1;33m(\u001b[0m\u001b[0mparent_list\u001b[0m\u001b[1;33m)\u001b[0m\u001b[1;33m\u001b[0m\u001b[1;33m\u001b[0m\u001b[0m\n\u001b[1;32m---> 45\u001b[1;33m         \u001b[0mloc\u001b[0m \u001b[1;33m=\u001b[0m \u001b[0mparent_list\u001b[0m\u001b[1;33m.\u001b[0m\u001b[0mindex\u001b[0m\u001b[1;33m(\u001b[0m\u001b[0mwho_is_root\u001b[0m\u001b[1;33m)\u001b[0m\u001b[1;33m\u001b[0m\u001b[1;33m\u001b[0m\u001b[0m\n\u001b[0m\u001b[0;32m     46\u001b[0m         \u001b[1;32mif\u001b[0m \u001b[0mdir_list\u001b[0m\u001b[1;33m[\u001b[0m\u001b[0mloc\u001b[0m\u001b[1;33m]\u001b[0m\u001b[1;33m==\u001b[0m\u001b[1;34m'1'\u001b[0m\u001b[1;33m:\u001b[0m \u001b[1;31m#left\u001b[0m\u001b[1;33m\u001b[0m\u001b[1;33m\u001b[0m\u001b[0m\n\u001b[0;32m     47\u001b[0m             \u001b[0mroot\u001b[0m\u001b[1;33m.\u001b[0m\u001b[0mleft\u001b[0m \u001b[1;33m=\u001b[0m \u001b[0mTreeNode\u001b[0m\u001b[1;33m(\u001b[0m\u001b[0mchild_list\u001b[0m\u001b[1;33m[\u001b[0m\u001b[0mloc\u001b[0m\u001b[1;33m]\u001b[0m\u001b[1;33m)\u001b[0m\u001b[1;33m\u001b[0m\u001b[1;33m\u001b[0m\u001b[0m\n",
      "\u001b[1;31mValueError\u001b[0m: 19 is not in list"
     ]
    }
   ],
   "source": [
    "descriptions = [[20,15,1],[20,17,0],[50,20,1],[50,80,0],[80,19,1]]\n",
    "\n",
    "level_order_traversal(createBinaryTree(descriptions))"
   ]
  },
  {
   "cell_type": "code",
   "execution_count": 24,
   "metadata": {},
   "outputs": [
    {
     "data": {
      "text/plain": [
       "0"
      ]
     },
     "execution_count": 24,
     "metadata": {},
     "output_type": "execute_result"
    }
   ],
   "source": [
    "descriptions = [[20,15,1],[20,17,0],[50,20,1],[50,80,0],[80,19,1]]\n",
    "#找root\n",
    "dir_list = []\n",
    "parent_list = []\n",
    "child_list = []\n",
    "who_is_root = 0\n",
    "for node1,node2,dir in descriptions:\n",
    "    dir_list.append(dir)\n",
    "    parent_list.append(node1)\n",
    "    child_list.append(node2)\n",
    "for node in set(parent_list):\n",
    "    if child_list.count(node)==0:\n",
    "        who_is_root = node\n",
    "        break\n",
    "descriptions.index([20,15,1])"
   ]
  },
  {
   "cell_type": "code",
   "execution_count": 13,
   "metadata": {},
   "outputs": [
    {
     "ename": "SyntaxError",
     "evalue": "invalid syntax (<ipython-input-13-4ab9db6f1944>, line 1)",
     "output_type": "error",
     "traceback": [
      "\u001b[1;36m  File \u001b[1;32m\"<ipython-input-13-4ab9db6f1944>\"\u001b[1;36m, line \u001b[1;32m1\u001b[0m\n\u001b[1;33m    descriptions[[1:2]]\u001b[0m\n\u001b[1;37m                   ^\u001b[0m\n\u001b[1;31mSyntaxError\u001b[0m\u001b[1;31m:\u001b[0m invalid syntax\n"
     ]
    }
   ],
   "source": []
  },
  {
   "cell_type": "code",
   "execution_count": null,
   "metadata": {},
   "outputs": [],
   "source": [
    "    \n",
    "    # while(parent_list.count(-1)!=len(parent_list)):\n",
    "        \n",
    "    #     loc = parent_list.index(who_is_root)\n",
    "    #     if dir_list[loc]=='1': #left\n",
    "    #         root.left = TreeNode(child_list[loc])\n",
    "    #         root = root.left\n",
    "            \n",
    "    #     else: #right\n",
    "    #         root.right  = TreeNode(child_list[loc])\n",
    "    #         root = root.right\n",
    "    #     parent_list[loc] = -1\n",
    "    #     if parent_list.count(who_is_root)==0:\n",
    "    #         who_is_root = child_list[loc]\n",
    "        "
   ]
  },
  {
   "cell_type": "markdown",
   "metadata": {},
   "source": [
    "# GPT\n"
   ]
  },
  {
   "cell_type": "code",
   "execution_count": null,
   "metadata": {},
   "outputs": [],
   "source": [
    "class TreeNode:\n",
    "    def __init__(self, val=0, left=None, right=None):\n",
    "        self.val = val\n",
    "        self.left = left\n",
    "        self.right = right\n",
    "\n",
    "def build_tree(descriptions):\n",
    "    nodes = {}\n",
    "    children = set()\n",
    "\n",
    "    # 创建所有节点并记录所有子节点\n",
    "    for parent, child, isLeft in descriptions:\n",
    "        if parent not in nodes:\n",
    "            nodes[parent] = TreeNode(parent)\n",
    "        if child not in nodes:\n",
    "            nodes[child] = TreeNode(child)\n",
    "        if isLeft:\n",
    "            nodes[parent].left = nodes[child]\n",
    "        else:\n",
    "            nodes[parent].right = nodes[child]\n",
    "        children.add(child)\n",
    "\n",
    "    # 找到根节点（根节点不在 children 集合中）\n",
    "    root = None\n",
    "    for node in nodes:\n",
    "        if node not in children:\n",
    "            root = nodes[node]\n",
    "            break\n",
    "\n",
    "    return root\n",
    "\n",
    "def print_tree(root):\n",
    "    if root is None:\n",
    "        return None\n",
    "    result = []\n",
    "    def dfs(node):\n",
    "        if node is None:\n",
    "            result.append(None)\n",
    "            return\n",
    "        result.append(node.val)\n",
    "        dfs(node.left)\n",
    "        dfs(node.right)\n",
    "    dfs(root)\n",
    "    return result\n",
    "\n",
    "# 示例 1\n",
    "descriptions1 = [[20, 15, 1], [20, 17, 0], [50, 20, 1], [50, 80, 0], [80, 19, 1]]\n",
    "root1 = build_tree(descriptions1)\n",
    "print(print_tree(root1))  # 输出: [50, 20, 80, 15, 17, 19]\n",
    "\n",
    "# 示例 2\n",
    "descriptions2 = [[1, 2, 1], [2, 3, 0], [3, 4, 1]]\n",
    "root2 = build_tree(descriptions2)\n",
    "print(print_tree(root2))  # 输出: [1, 2, None, None, 3, 4]\n"
   ]
  },
  {
   "cell_type": "code",
   "execution_count": 36,
   "metadata": {},
   "outputs": [
    {
     "data": {
      "text/plain": [
       "True"
      ]
     },
     "execution_count": 36,
     "metadata": {},
     "output_type": "execute_result"
    }
   ],
   "source": [
    "a = {1:2,2:3}\n",
    "3 not in a"
   ]
  },
  {
   "cell_type": "code",
   "execution_count": null,
   "metadata": {},
   "outputs": [],
   "source": []
  }
 ],
 "metadata": {
  "kernelspec": {
   "display_name": "Python 3",
   "language": "python",
   "name": "python3"
  },
  "language_info": {
   "codemirror_mode": {
    "name": "ipython",
    "version": 3
   },
   "file_extension": ".py",
   "mimetype": "text/x-python",
   "name": "python",
   "nbconvert_exporter": "python",
   "pygments_lexer": "ipython3",
   "version": "3.7.9"
  }
 },
 "nbformat": 4,
 "nbformat_minor": 2
}
