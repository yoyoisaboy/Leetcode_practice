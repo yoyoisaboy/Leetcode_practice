{
 "cells": [
  {
   "cell_type": "markdown",
   "metadata": {},
   "source": [
    "# 2337. Move Pieces to Obtain a String\n",
    "https://leetcode.com/problems/move-pieces-to-obtain-a-string/description/?envType=daily-question&envId=2024-12-05"
   ]
  },
  {
   "cell_type": "code",
   "execution_count": 1,
   "metadata": {},
   "outputs": [
    {
     "data": {
      "text/plain": [
       "True"
      ]
     },
     "execution_count": 1,
     "metadata": {},
     "output_type": "execute_result"
    }
   ],
   "source": [
    "start = \"RR__L\"\n",
    "target = \"_R_RL\"\n",
    "\n",
    "\n",
    "def canChange(start: str, target: str) -> bool:\n",
    "    # 移除所有 '_'，確認字母順序是否一致\n",
    "    if start.replace('_', '') != target.replace('_', ''):\n",
    "        return False\n",
    "    \n",
    "    n = len(start)\n",
    "    i, j = 0, 0  # 雙指針分別指向 start 和 target\n",
    "\n",
    "    while i < n and j < n:\n",
    "        # 跳過 '_'，因為它不影響字符移動\n",
    "        while i < n and start[i] == '_':\n",
    "            i += 1\n",
    "        while j < n and target[j] == '_':\n",
    "            j += 1\n",
    "\n",
    "        # 如果 i 或 j 已經到達末尾，跳出\n",
    "        if i == n or j == n:\n",
    "            break\n",
    "\n",
    "        # 比對字符\n",
    "        if start[i] != target[j]:\n",
    "            return False\n",
    "\n",
    "        # 確認移動方向合法性\n",
    "        if start[i] == 'L' and i < j:  # 'L' 無法向右移動\n",
    "            return False\n",
    "        if start[i] == 'R' and i > j:  # 'R' 無法向左移動\n",
    "            return False\n",
    "\n",
    "        # 移動指針\n",
    "        i += 1\n",
    "        j += 1\n",
    "\n",
    "    return True\n",
    "\n",
    "canChange(start,target)"
   ]
  },
  {
   "cell_type": "markdown",
   "metadata": {},
   "source": [
    "## 核心邏輯\n",
    "1. 移除 _ 比對字符順序： 如果 start 和 target 的字母順序（移除 _ 後）不一致，則無法轉換。\n",
    "2. 雙指針遍歷： 同步檢查 start 和 target，跳過 _。\n",
    "3. 合法性檢查：\n",
    "* L 只能向左移動，所以 i >= j；\n",
    "* R 只能向右移動，所以 i <= j。"
   ]
  }
 ],
 "metadata": {
  "kernelspec": {
   "display_name": "Python 3",
   "language": "python",
   "name": "python3"
  },
  "language_info": {
   "codemirror_mode": {
    "name": "ipython",
    "version": 3
   },
   "file_extension": ".py",
   "mimetype": "text/x-python",
   "name": "python",
   "nbconvert_exporter": "python",
   "pygments_lexer": "ipython3",
   "version": "3.7.9"
  }
 },
 "nbformat": 4,
 "nbformat_minor": 2
}
