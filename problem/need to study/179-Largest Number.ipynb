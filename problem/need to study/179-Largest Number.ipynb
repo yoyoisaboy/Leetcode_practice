{
 "cells": [
  {
   "cell_type": "markdown",
   "metadata": {},
   "source": [
    "# 179. Largest Number\n",
    "https://leetcode.com/problems/largest-number/description/?envType=daily-question&envId=2024-09-18"
   ]
  },
  {
   "cell_type": "code",
   "execution_count": null,
   "metadata": {},
   "outputs": [],
   "source": [
    "from typing import List\n",
    "from functools import cmp_to_key\n",
    "# https://gairuo.com/p/python-cmp-to-key\n",
    "\n",
    "def largestNumber(nums):\n",
    "    # 自定義\n",
    "    def compare(x, y):\n",
    "        print(x,y,x + y , y + x)\n",
    "        if x + y > y + x:\n",
    "            return -1\n",
    "        elif x + y < y + x:\n",
    "            return 1\n",
    "        else:\n",
    "            return 0\n",
    "\n",
    "    # 轉字串\n",
    "    nums_str = list(map(str, nums))\n",
    "\n",
    "    nums_str.sort(key=cmp_to_key(compare))\n",
    "    \n",
    "    result = ''.join(nums_str)\n",
    "    # 如果结果是以'0'開頭，返回'0'\n",
    "    return '0' if result[0] == '0' else result\n",
    "\n",
    "nums2 = [3, 30, 34, 5, 9]\n",
    "print(largestNumber(nums2))  "
   ]
  },
  {
   "cell_type": "code",
   "execution_count": 12,
   "metadata": {},
   "outputs": [
    {
     "data": {
      "text/plain": [
       "[3, 5, 9, 30, 34]"
      ]
     },
     "execution_count": 12,
     "metadata": {},
     "output_type": "execute_result"
    }
   ],
   "source": [
    "# 自定義\n",
    "def compare(right, left):\n",
    "\n",
    "    if right  > left :\n",
    "        return 1\n",
    "    elif right < left:\n",
    "        return -1\n",
    "    else:\n",
    "        return 0\n",
    "\n",
    "nums2 = [3, 30, 34, 5, 9]\n",
    "nums2.sort(key=cmp_to_key(compare))\n",
    "nums2"
   ]
  },
  {
   "cell_type": "code",
   "execution_count": 9,
   "metadata": {},
   "outputs": [
    {
     "data": {
      "text/plain": [
       "[3, 5, 9, 30, 34]"
      ]
     },
     "execution_count": 9,
     "metadata": {},
     "output_type": "execute_result"
    }
   ],
   "source": [
    "nums2 = [3, 30, 34, 5, 9]\n",
    "nums2.sort()\n",
    "nums2"
   ]
  },
  {
   "cell_type": "code",
   "execution_count": null,
   "metadata": {},
   "outputs": [],
   "source": [
    "# GPT\n",
    "\n",
    "def largestNumber(nums: List[int]) -> str:\n",
    "    # 將整數轉換為字符串\n",
    "    nums_str = list(map(str, nums))\n",
    "    \n",
    "    # 自定義排序函數\n",
    "    def custom_sort(x):\n",
    "        return x * 10  # 重複字符串，以確保長度一致\n",
    "\n",
    "    # 排序\n",
    "    nums_str.sort(key=custom_sort, reverse=True)\n",
    "    \n",
    "    # 連接排序後的字符串\n",
    "    largest_num = ''.join(nums_str)\n",
    "    \n",
    "    # 處理前導零的情況\n",
    "    return largest_num if largest_num[0] != '0' else '0'"
   ]
  },
  {
   "cell_type": "code",
   "execution_count": null,
   "metadata": {},
   "outputs": [],
   "source": [
    "\"3333333333\" > \"30303030303030303030\""
   ]
  }
 ],
 "metadata": {
  "kernelspec": {
   "display_name": "Python 3",
   "language": "python",
   "name": "python3"
  },
  "language_info": {
   "codemirror_mode": {
    "name": "ipython",
    "version": 3
   },
   "file_extension": ".py",
   "mimetype": "text/x-python",
   "name": "python",
   "nbconvert_exporter": "python",
   "pygments_lexer": "ipython3",
   "version": "3.7.9"
  }
 },
 "nbformat": 4,
 "nbformat_minor": 2
}
