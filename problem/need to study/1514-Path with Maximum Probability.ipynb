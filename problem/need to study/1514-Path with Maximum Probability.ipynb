{
 "cells": [
  {
   "cell_type": "markdown",
   "metadata": {},
   "source": [
    "# 1514. Path with Maximum Probability\n",
    "https://leetcode.com/problems/path-with-maximum-probability/description/?envType=daily-question&envId=2024-08-27"
   ]
  },
  {
   "cell_type": "code",
   "execution_count": 2,
   "metadata": {},
   "outputs": [],
   "source": [
    "from typing import List\n",
    "\n"
   ]
  },
  {
   "cell_type": "code",
   "execution_count": 4,
   "metadata": {},
   "outputs": [
    {
     "name": "stdout",
     "output_type": "stream",
     "text": [
      "defaultdict(<class 'list'>, {0: [(1, 0.5), (2, 0.2)], 1: [(0, 0.5), (2, 0.5)], 2: [(1, 0.5), (0, 0.2)]})\n",
      "{0: 1, 1: 0.5, 2: 0.25} [(-0.2, 2)]\n",
      "0.25\n"
     ]
    }
   ],
   "source": [
    "# GPT\n",
    "import heapq\n",
    "from collections import defaultdict\n",
    "\n",
    "def maxProbability(n: int, edges: List[List[int]], succProb: List[float], start_node: int, end_node: int) -> float:\n",
    "    graph = defaultdict(list)\n",
    "    \n",
    "    # 建立图的邻接表\n",
    "    for (a, b), prob in zip(edges, succProb):\n",
    "        graph[a].append((b, prob))\n",
    "        graph[b].append((a, prob))\n",
    "    print(graph)\n",
    "    # 使用 max-heap 存储概率，并从 start_node 开始遍历\n",
    "    max_heap = [(-1.0, start_node)]\n",
    "    probabilities = {i: 0 for i in range(n)}\n",
    "    probabilities[start_node] = 1\n",
    "    \n",
    "    while max_heap:\n",
    "        curr_prob, node = heapq.heappop(max_heap)\n",
    "        curr_prob = -curr_prob\n",
    "        \n",
    "        # 如果已经到达目标节点\n",
    "        if node == end_node:\n",
    "            print(probabilities,max_heap)\n",
    "            return curr_prob\n",
    "        \n",
    "        # 遍历当前节点的邻接节点\n",
    "        for neighbor, prob in graph[node]:\n",
    "            new_prob = curr_prob * prob\n",
    "            # 如果新概率大于当前记录的概率，更新并加入堆\n",
    "            if new_prob > probabilities[neighbor]:\n",
    "                probabilities[neighbor] = new_prob\n",
    "                heapq.heappush(max_heap, (-new_prob, neighbor))\n",
    "    \n",
    "    return 0.0\n",
    "\n",
    "# 输入\n",
    "n = 3\n",
    "edges = [[0, 1], [1, 2], [0, 2]]\n",
    "succProb = [0.5, 0.5, 0.2]\n",
    "start_node = 0\n",
    "end_node = 2\n",
    "\n",
    "# 输出\n",
    "result = maxProbability(n, edges, succProb, start_node, end_node)\n",
    "print(result)  # 应输出 0.25"
   ]
  },
  {
   "cell_type": "code",
   "execution_count": null,
   "metadata": {},
   "outputs": [],
   "source": []
  }
 ],
 "metadata": {
  "kernelspec": {
   "display_name": "Python 3",
   "language": "python",
   "name": "python3"
  },
  "language_info": {
   "codemirror_mode": {
    "name": "ipython",
    "version": 3
   },
   "file_extension": ".py",
   "mimetype": "text/x-python",
   "name": "python",
   "nbconvert_exporter": "python",
   "pygments_lexer": "ipython3",
   "version": "3.7.9"
  }
 },
 "nbformat": 4,
 "nbformat_minor": 2
}
