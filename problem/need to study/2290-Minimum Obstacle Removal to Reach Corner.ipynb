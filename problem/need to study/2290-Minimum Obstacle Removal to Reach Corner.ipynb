{
 "cells": [
  {
   "cell_type": "markdown",
   "metadata": {},
   "source": [
    "# 2290. Minimum Obstacle Removal to Reach Corner\n",
    "https://leetcode.com/problems/minimum-obstacle-removal-to-reach-corner/description/?envType=daily-question&envId=2024-11-28"
   ]
  },
  {
   "cell_type": "code",
   "execution_count": null,
   "metadata": {},
   "outputs": [
    {
     "name": "stdout",
     "output_type": "stream",
     "text": [
      "deque([])\n",
      "deque([(0, 1)])\n",
      "deque([(1, 0)])\n",
      "deque([(1, 0), (0, 2)])\n",
      "deque([(1, 0), (0, 2), (1, 1)])\n",
      "deque([(0, 2), (1, 1)])\n",
      "deque([(0, 2), (1, 1)])\n",
      "deque([(0, 2), (1, 1), (2, 0)])\n",
      "deque([(1, 1), (2, 0)])\n",
      "deque([(1, 2), (1, 1), (2, 0)])\n",
      "deque([(1, 1), (2, 0)])\n",
      "deque([(2, 2), (1, 1), (2, 0)])\n",
      "deque([(2, 2), (1, 1), (2, 0)])\n",
      "deque([(1, 1), (2, 0)])\n",
      "deque([(1, 1), (2, 0), (2, 1)])\n",
      "deque([(2, 0), (2, 1)])\n",
      "deque([(2, 0), (2, 1)])\n",
      "deque([(2, 0), (2, 1)])\n",
      "deque([(2, 0), (2, 1)])\n",
      "deque([(2, 1)])\n",
      "deque([(2, 1)])\n",
      "deque([])\n",
      "deque([])\n",
      "deque([])\n"
     ]
    },
    {
     "data": {
      "text/plain": [
       "2"
      ]
     },
     "execution_count": 13,
     "metadata": {},
     "output_type": "execute_result"
    }
   ],
   "source": [
    "from typing import List\n",
    "\n",
    "\n",
    "grid = [[0,1,1],[1,1,0],[1,1,0]]\n",
    "\n",
    "def minimumObstacles( grid: List[List[int]]) -> int:\n",
    "    from collections import deque\n",
    "\n",
    "    m,n = len(grid), len(grid[0])\n",
    "    directions = [(0,1),(1,0),(0,-1),(-1,0)] #move direction up down left right\n",
    "    dist = [[float('inf')] * n for _ in range(m)] #initial distance\n",
    "    dist[0][0] = 0\n",
    "\n",
    "    dq = deque([(0,0)]) #starting value\n",
    "    while dq:\n",
    "        x, y = dq.popleft()\n",
    "        \n",
    "        for dx,dy in directions:\n",
    "            nx,ny = x+dx,y+dy\n",
    "            if 0 <= nx < m and 0 <= ny < n: # in range\n",
    "                new_dist = dist[x][y]+grid[nx][ny]\n",
    "                if new_dist < dist[nx][ny]:\n",
    "                    dist[nx][ny] = new_dist\n",
    "                    if grid[nx][ny] == 0:\n",
    "                        dq.appendleft((nx,ny)) #is road add left deque\n",
    "                    else:\n",
    "                        dq.append((nx,ny)) #is wall add right deque\n",
    "    \n",
    "    return dist[m-1][n-1]\n",
    "\n",
    "minimumObstacles(grid)"
   ]
  },
  {
   "cell_type": "markdown",
   "metadata": {},
   "source": [
    "這題可以用 0-1 BFS 來解決，它是一種適用於帶有權重為0和1的圖的最短路徑演算法。對於每個節點，權重0的邊會加入到隊列的前面，權重 1 的邊會加入到隊列的後面。\n",
    "\n",
    "## 解題思路\n",
    "1. 使用雙端隊列（Deque）:\n",
    "我們用雙端隊列來追蹤下一步需要拜訪的節點。\n",
    "如果遇到一個需要移除障礙物的節點，將它加入到隊列尾部；否則加入到隊列的頭部。\n",
    "\n",
    "2. 儲存狀態:\n",
    "使用一個 2D 陣列 dist 記錄每個節點需要移除的最小障礙物數。\n",
    "\n",
    "3. BFS 遍歷:\n",
    "從左上角開始，嘗試用最小的移除障礙物次數到達右下角。\n",
    "\n",
    "4. 返回結果:\n",
    "當到達右下角時，返回對應的 dist 值。"
   ]
  },
  {
   "cell_type": "code",
   "execution_count": null,
   "metadata": {},
   "outputs": [],
   "source": []
  }
 ],
 "metadata": {
  "kernelspec": {
   "display_name": "Python 3",
   "language": "python",
   "name": "python3"
  },
  "language_info": {
   "codemirror_mode": {
    "name": "ipython",
    "version": 3
   },
   "file_extension": ".py",
   "mimetype": "text/x-python",
   "name": "python",
   "nbconvert_exporter": "python",
   "pygments_lexer": "ipython3",
   "version": "3.7.9"
  }
 },
 "nbformat": 4,
 "nbformat_minor": 2
}
