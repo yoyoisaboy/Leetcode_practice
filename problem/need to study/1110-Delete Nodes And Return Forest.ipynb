{
 "cells": [
  {
   "cell_type": "markdown",
   "metadata": {},
   "source": [
    "# 1110. Delete Nodes And Return Forest\n",
    "https://leetcode.com/problems/delete-nodes-and-return-forest/description/?envType=daily-question&envId=2024-07-17"
   ]
  },
  {
   "cell_type": "code",
   "execution_count": 114,
   "metadata": {},
   "outputs": [
    {
     "name": "stdout",
     "output_type": "stream",
     "text": [
      "[1, None, 2, 3, None, 4]\n",
      "[1, None, 2, 3]\n"
     ]
    }
   ],
   "source": [
    "#用list存每棵list樹，在轉tree樹\n",
    "from typing import Optional,List\n",
    "# Definition for a binary tree node.\n",
    "class TreeNode:\n",
    "    def __init__(self, val=0, left=None, right=None):\n",
    "        self.val = val\n",
    "        self.left = left\n",
    "        self.right = right\n",
    "def print_tree(root):\n",
    "    if not root:\n",
    "        return []\n",
    "    queue = [root]\n",
    "    result = []\n",
    "    while queue:\n",
    "        node = queue.pop(0)\n",
    "        if node:\n",
    "            result.append(node.val)\n",
    "            queue.append(node.left)\n",
    "            queue.append(node.right)\n",
    "        else:\n",
    "            result.append(None)\n",
    "    while result and result[-1] is None:\n",
    "    \n",
    "        result.pop()\n",
    "    return result\n",
    "# list to tree\n",
    "def to_binary_tree(items):\n",
    "    if not items:\n",
    "        return None\n",
    "\n",
    "    it = iter(items)\n",
    "    root = TreeNode(next(it))\n",
    "    q = [root]\n",
    "    for node in q:\n",
    "        val = next(it, None)\n",
    "        if val is not None:\n",
    "            node.left = TreeNode(val)\n",
    "            q.append(node.left)\n",
    "        val = next(it, None)\n",
    "        if val is not None:\n",
    "            node.right = TreeNode(val)\n",
    "            q.append(node.right)\n",
    "    return root\n",
    "\n",
    "def delNodes(root: Optional[TreeNode], to_delete: List[int]) -> List[TreeNode]:\n",
    "    \n",
    "    ans_tree_list = [] # 放最後樹的結果\n",
    "    def level_order_traversal(root,to_delete):\n",
    "        if not root:\n",
    "            return \n",
    "        queue = [root]\n",
    "        result = []\n",
    "        while queue:\n",
    "            node = queue.pop(0)\n",
    "            if node and node.val not in to_delete: #不是刪除對象\n",
    "                result.append(node.val)\n",
    "                queue.append(node.left)\n",
    "                queue.append(node.right)\n",
    "            else:\n",
    "                if node and node.val in to_delete: #不為None，且出現要刪掉的節點\n",
    "                    to_delete.remove(node.val)\n",
    "                    left_subtree = level_order_traversal(node.left,to_delete) # 確認刪除的節點是否還有左子樹\n",
    "                    if left_subtree and left_subtree not in ans_tree_list  : # 不為[]，避免重複算(這裡可能要改進)\n",
    "                        ans_tree_list.append( node.left )\n",
    "                    right_subtree = level_order_traversal(node.right,to_delete) # 確認刪除的節點是否還有右子樹\n",
    "                    if right_subtree and right_subtree not in ans_tree_list   : \n",
    "                        ans_tree_list.append( node.right )\n",
    "                result.append(None)\n",
    "\n",
    "        while result and result[-1] is None: # 確認result有東西，且拿掉右邊多餘的None\n",
    "            result.pop()\n",
    "        if result:                          \n",
    "            ans_tree_list.append(result) \n",
    " \n",
    "    level_order_traversal(root,to_delete)\n",
    "    \n",
    "    ans = []\n",
    "    for subtree in ans_tree_list: # list to tree\n",
    "        ans.append(to_binary_tree(subtree))\n",
    "    return ans\n",
    "\n",
    "#root = [1,null,2,3,null,4]\n",
    "to_delete = [4]\n",
    "\n",
    "root = TreeNode(1)\n",
    "\n",
    "root.right = TreeNode(2)\n",
    "root.right.left = TreeNode(3)\n",
    "\n",
    "root.right.left.left = TreeNode(4)\n",
    "\n",
    "print(print_tree(root))\n",
    "ans = delNodes(root,to_delete)\n",
    "for subtree in ans:\n",
    "    print(print_tree(subtree))\n",
    "\n",
    "    "
   ]
  },
  {
   "cell_type": "code",
   "execution_count": 111,
   "metadata": {},
   "outputs": [
    {
     "name": "stdout",
     "output_type": "stream",
     "text": [
      "[1, 2, 3, 4, 5, 6, 7]\n",
      "[6]\n",
      "[7]\n",
      "[1, 2, None, 4]\n"
     ]
    }
   ],
   "source": [
    "#root = [1,2,3,4,5,6,7]\n",
    "to_delete = [3,5]\n",
    "\n",
    "root = TreeNode(1)\n",
    "root.left = TreeNode(2)\n",
    "root.right = TreeNode(3)\n",
    "root.left.left = TreeNode(4)\n",
    "root.left.right = TreeNode(5)\n",
    "root.right.left = TreeNode(6)\n",
    "root.right.right = TreeNode(7)\n",
    "print(print_tree(root))\n",
    "ans = delNodes(root,to_delete)\n",
    "for subtree in ans:\n",
    "    print(print_tree(subtree))"
   ]
  },
  {
   "cell_type": "code",
   "execution_count": 112,
   "metadata": {},
   "outputs": [
    {
     "name": "stdout",
     "output_type": "stream",
     "text": [
      "[1, 2, 4, None, 3]\n",
      "[1, 2, 4]\n"
     ]
    }
   ],
   "source": [
    "#root = [1,2,4,null,3]\n",
    "to_delete = [3]\n",
    "\n",
    "root = TreeNode(1)\n",
    "root.left = TreeNode(2)\n",
    "root.right = TreeNode(4)\n",
    "root.left.right = TreeNode(3)\n",
    "\n",
    "print(print_tree(root))\n",
    "ans = delNodes(root,to_delete)\n",
    "for subtree in ans:\n",
    "    print(print_tree(subtree))"
   ]
  },
  {
   "cell_type": "code",
   "execution_count": null,
   "metadata": {},
   "outputs": [],
   "source": []
  },
  {
   "cell_type": "markdown",
   "metadata": {},
   "source": [
    "# GPT : DFS\n",
    "如果某個節點被刪除，我們需要將它的子節點加入到新的森林中"
   ]
  },
  {
   "cell_type": "code",
   "execution_count": 116,
   "metadata": {},
   "outputs": [
    {
     "name": "stdout",
     "output_type": "stream",
     "text": [
      "[1, 2, None, 4]\n",
      "[6]\n",
      "[7]\n"
     ]
    }
   ],
   "source": [
    "from typing import List, Optional\n",
    "\n",
    "class TreeNode:\n",
    "    def __init__(self, val=0, left=None, right=None):\n",
    "        self.val = val\n",
    "        self.left = left\n",
    "        self.right = right\n",
    "\n",
    "def delNodes(root: Optional[TreeNode], to_delete: List[int]) -> List[TreeNode]:\n",
    "    to_delete_set = set(to_delete)\n",
    "    forest = []\n",
    "\n",
    "    def dfs(node, is_root):\n",
    "        if not node:\n",
    "            return None\n",
    "        root_deleted = node.val in to_delete_set\n",
    "        if is_root and not root_deleted:\n",
    "            forest.append(node)\n",
    "        node.left = dfs(node.left, root_deleted)\n",
    "        node.right = dfs(node.right, root_deleted)\n",
    "        return None if root_deleted else node\n",
    "\n",
    "    dfs(root, True)\n",
    "    return forest\n",
    "\n",
    "# Helper function to print the forest\n",
    "def print_forest(forest: List[TreeNode]):\n",
    "    def bfs(node):\n",
    "        if not node:\n",
    "            return []\n",
    "        queue = [node]\n",
    "        result = []\n",
    "        while queue:\n",
    "            current = queue.pop(0)\n",
    "            if current:\n",
    "                result.append(current.val)\n",
    "                queue.append(current.left)\n",
    "                queue.append(current.right)\n",
    "            else:\n",
    "                result.append(None)\n",
    "        # Remove trailing None values\n",
    "        while result and result[-1] is None:\n",
    "            result.pop()\n",
    "        return result\n",
    "\n",
    "    for tree in forest:\n",
    "        print(bfs(tree))\n",
    "\n",
    "# 測試\n",
    "root = TreeNode(1)\n",
    "root.left = TreeNode(2)\n",
    "root.right = TreeNode(3)\n",
    "root.left.left = TreeNode(4)\n",
    "root.left.right = TreeNode(5)\n",
    "root.right.left = TreeNode(6)\n",
    "root.right.right = TreeNode(7)\n",
    "to_delete = [3, 5]\n",
    "\n",
    "forest = delNodes(root, to_delete)\n",
    "print_forest(forest)  # Expected Output: [[1,2,null,4],[6],[7]]"
   ]
  },
  {
   "cell_type": "markdown",
   "metadata": {},
   "source": [
    "### 方法說明\n",
    "1. 建立刪除集合：將to_delete轉換為集合，這樣在檢查某個節點是否需要刪除時，時間複雜度為O(1)。\n",
    "2. DFS遍歷樹：使用遞迴的DFS方法來遍歷每個節點。如果當前節點是根節點並且不需要刪除，則將它加入森林中。\n",
    "3. 處理子節點：遞迴地處理左子節點和右子節點。如果當前節點需要刪除，則其子節點將成為新的根節點，從而加入到森林中。\n",
    "4. 返回森林：最終返回森林中所有樹的根節點。\n",
    "\n",
    "這個方法確保了我們能夠高效地遍歷整棵樹，同時將指定的節點刪除並更新森林。"
   ]
  },
  {
   "cell_type": "markdown",
   "metadata": {},
   "source": []
  }
 ],
 "metadata": {
  "kernelspec": {
   "display_name": "Python 3",
   "language": "python",
   "name": "python3"
  },
  "language_info": {
   "codemirror_mode": {
    "name": "ipython",
    "version": 3
   },
   "file_extension": ".py",
   "mimetype": "text/x-python",
   "name": "python",
   "nbconvert_exporter": "python",
   "pygments_lexer": "ipython3",
   "version": "3.7.9"
  }
 },
 "nbformat": 4,
 "nbformat_minor": 2
}
