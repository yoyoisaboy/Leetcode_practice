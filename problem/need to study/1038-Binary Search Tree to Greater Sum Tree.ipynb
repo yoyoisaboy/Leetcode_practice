{
 "cells": [
  {
   "cell_type": "markdown",
   "metadata": {},
   "source": [
    "# 1038. Binary Search Tree to Greater Sum Tree\n",
    "https://leetcode.com/problems/binary-search-tree-to-greater-sum-tree/description/?envType=daily-question&envId=2024-06-25"
   ]
  },
  {
   "cell_type": "code",
   "execution_count": null,
   "metadata": {},
   "outputs": [],
   "source": []
  },
  {
   "cell_type": "code",
   "execution_count": null,
   "metadata": {},
   "outputs": [],
   "source": []
  },
  {
   "cell_type": "code",
   "execution_count": null,
   "metadata": {},
   "outputs": [],
   "source": []
  },
  {
   "cell_type": "markdown",
   "metadata": {},
   "source": [
    "# GPT\n",
    "要將一個二元搜尋樹（BST）轉換成一個大於樹（Greater Tree），使每個節點的值變成原本的值加上 BST 中所有大於原本值的節點值的總和，我們可以使用反向中序遍歷。在 BST 中，中序遍歷會按升序訪問節點。通過反向中序遍歷（右子樹、根節點、左子樹），我們可以累積到目前為止訪問過的所有節點的總和，並相應地更新每個節點的值。\n",
    "\n",
    "## 步驟\n",
    "1. 反向中序遍歷：按照右子樹、根節點、左子樹的順序遍歷 BST。\n",
    "2. 累積和更新：維護一個累計總和的變量，表示到目前為止訪問過的節點值的總和。當我們訪問每個節點時，將其值更新為當前的總和，然後將該節點的原始值加入總和中。\n",
    "## 實現\n",
    "以下是將 BST 轉換為大於樹的 Python 代碼："
   ]
  },
  {
   "cell_type": "code",
   "execution_count": null,
   "metadata": {},
   "outputs": [],
   "source": [
    "class TreeNode:\n",
    "    def __init__(self, val=0, left=None, right=None):\n",
    "        self.val = val\n",
    "        self.left = left\n",
    "        self.right = right\n",
    "\n",
    "def bstToGst(root: TreeNode) -> TreeNode:\n",
    "    def reverse_inorder_traversal(node: TreeNode):\n",
    "        nonlocal total\n",
    "        if not node:\n",
    "            return\n",
    "        \n",
    "        # 先遍歷右子樹\n",
    "        reverse_inorder_traversal(node.right)\n",
    "        \n",
    "        # 更新當前節點的值\n",
    "        total += node.val\n",
    "        node.val = total\n",
    "        \n",
    "        # 再遍歷左子樹\n",
    "        reverse_inorder_traversal(node.left)\n",
    "    \n",
    "    total = 0\n",
    "    reverse_inorder_traversal(root)\n",
    "    return root\n",
    "\n",
    "# 幫助函數，用於層序遍歷輸出樹以驗證結果\n",
    "def level_order_traversal(root):\n",
    "    if not root:\n",
    "        return []\n",
    "    queue = [root]\n",
    "    result = []\n",
    "    while queue:\n",
    "        node = queue.pop(0)\n",
    "        if node:\n",
    "            result.append(node.val)\n",
    "            queue.append(node.left)\n",
    "            queue.append(node.right)\n",
    "        else:\n",
    "            result.append(None)\n",
    "    # 移除尾部的 None 值以獲得更乾淨的輸出\n",
    "    while result and result[-1] is None:\n",
    "        result.pop()\n",
    "    return result\n",
    "\n",
    "# 範例使用：\n",
    "# 構建示例中的 BST [4,1,6,0,2,5,7,null,null,null,3,null,null,null,8]\n",
    "root = TreeNode(4)\n",
    "root.left = TreeNode(1)\n",
    "root.right = TreeNode(6)\n",
    "root.left.left = TreeNode(0)\n",
    "root.left.right = TreeNode(2)\n",
    "root.left.right.right = TreeNode(3)\n",
    "root.right.left = TreeNode(5)\n",
    "root.right.right = TreeNode(7)\n",
    "root.right.right.right = TreeNode(8)\n",
    "\n",
    "# 將 BST 轉換為大於樹\n",
    "bstToGst(root)\n",
    "\n",
    "# 層序遍歷輸出樹以驗證結果\n",
    "print(level_order_traversal(root))  # 預期輸出：[30,36,21,36,35,26,15,null,null,null,33,null,null,null,8]\n"
   ]
  },
  {
   "cell_type": "markdown",
   "metadata": {},
   "source": [
    "## 代碼解釋\n",
    "1. TreeNode 類：定義樹節點的結構。\n",
    "2. bstToGst 函數：使用輔助函數 reverse_inorder_traversal 進行反向中序遍歷並更新節點值。\n",
    "3. reverse_inorder_traversal 函數：以反向中序遍歷樹，並使用累計總和更新每個節點的值。\n",
    "4. evel_order_traversal 函數：以層序遍歷方式輸出樹，以驗證結果。\n",
    "\n",
    "這種方法確保我們以正確的方式將 BST 轉換為大於樹，滿足所提供的約束和要求。"
   ]
  }
 ],
 "metadata": {
  "kernelspec": {
   "display_name": "Python 3",
   "language": "python",
   "name": "python3"
  },
  "language_info": {
   "codemirror_mode": {
    "name": "ipython",
    "version": 3
   },
   "file_extension": ".py",
   "mimetype": "text/x-python",
   "name": "python",
   "nbconvert_exporter": "python",
   "pygments_lexer": "ipython3",
   "version": "3.7.9"
  }
 },
 "nbformat": 4,
 "nbformat_minor": 2
}
