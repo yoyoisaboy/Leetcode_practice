{
 "cells": [
  {
   "cell_type": "markdown",
   "metadata": {},
   "source": [
    "# 1038. Binary Search Tree to Greater Sum Tree\n",
    "https://leetcode.com/problems/binary-search-tree-to-greater-sum-tree/description/?envType=daily-question&envId=2024-06-25"
   ]
  },
  {
   "cell_type": "code",
   "execution_count": null,
   "metadata": {},
   "outputs": [],
   "source": []
  },
  {
   "cell_type": "code",
   "execution_count": null,
   "metadata": {},
   "outputs": [],
   "source": [
    "# Definition for a binary tree node.\n",
    "class TreeNode:\n",
    "  def __init__(self, val=0, left=None, right=None):\n",
    "      self.val = val\n",
    "      self.left = left\n",
    "      self.right = right\n",
    "  def insert(self, ele,check_LR):\n",
    "    if self.val:\n",
    "      if check_LR==0: #left\n",
    "        if self.left is None:\n",
    "          self.left = TreeNode(ele)\n",
    "        else:\n",
    "          self.left.insert(ele,check_LR)\n",
    "      else : #right\n",
    "        if self.right is None:\n",
    "          self.right = TreeNode(ele)\n",
    "        else:\n",
    "          self.right.insert(ele)\n",
    "    else:\n",
    "        self.val = ele\n",
    "  def PrintTree(self):\n",
    "\n",
    "    if self.left:\n",
    "        self.left.PrintTree()\n",
    "    print( self.val),\n",
    "    if self.right:\n",
    "        self.right.PrintTree()\n",
    "\n",
    "  \n",
    "\n"
   ]
  },
  {
   "cell_type": "code",
   "execution_count": null,
   "metadata": {},
   "outputs": [],
   "source": [
    "input = [1,None,2,3]\n",
    "tree = TreeNode()\n",
    "temp = 0\n",
    "for ele in input:\n",
    "  if ele != None:\n",
    "    tree.insert(ele,temp)\n",
    "    temp=0\n",
    "  else:\n",
    "    temp=1\n",
    "tree.bstToGst(tree) "
   ]
  }
 ],
 "metadata": {
  "kernelspec": {
   "display_name": "Python 3",
   "language": "python",
   "name": "python3"
  },
  "language_info": {
   "name": "python",
   "version": "3.7.9"
  }
 },
 "nbformat": 4,
 "nbformat_minor": 2
}
