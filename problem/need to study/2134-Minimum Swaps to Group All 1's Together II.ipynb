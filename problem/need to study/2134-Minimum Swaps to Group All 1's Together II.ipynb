{
 "cells": [
  {
   "cell_type": "markdown",
   "metadata": {},
   "source": [
    "# 2134. Minimum Swaps to Group All 1's Together II\n",
    "https://leetcode.com/problems/minimum-swaps-to-group-all-1s-together-ii/description/?envType=daily-question&envId=2024-08-02"
   ]
  },
  {
   "cell_type": "code",
   "execution_count": 1,
   "metadata": {},
   "outputs": [
    {
     "data": {
      "text/plain": [
       "1"
      ]
     },
     "execution_count": 1,
     "metadata": {},
     "output_type": "execute_result"
    }
   ],
   "source": [
    "from typing import List\n",
    "\n",
    "def minSwaps(nums: List[int]) -> int:\n",
    "    totalOnes = sum(nums)\n",
    "    if totalOnes == 0:\n",
    "        return 0  \n",
    "    n = len(nums)\n",
    "\n",
    "    currentZeros = sum(1 for i in range(totalOnes) if nums[i] == 0)\n",
    "    minSwaps = currentZeros\n",
    "    \n",
    "    for i in range(totalOnes, n + totalOnes):\n",
    "        if nums[i % n] == 0:\n",
    "            currentZeros += 1\n",
    "        if nums[(i - totalOnes) % n] == 0:\n",
    "            currentZeros -= 1\n",
    "        minSwaps = min(minSwaps, currentZeros)\n",
    "    \n",
    "    return minSwaps\n",
    "\n",
    "nums = [0,1,0,1,1,0,0]\n",
    "#Output: 1\n",
    "minSwaps(nums)"
   ]
  }
 ],
 "metadata": {
  "kernelspec": {
   "display_name": "Python 3",
   "language": "python",
   "name": "python3"
  },
  "language_info": {
   "codemirror_mode": {
    "name": "ipython",
    "version": 3
   },
   "file_extension": ".py",
   "mimetype": "text/x-python",
   "name": "python",
   "nbconvert_exporter": "python",
   "pygments_lexer": "ipython3",
   "version": "3.7.9"
  }
 },
 "nbformat": 4,
 "nbformat_minor": 2
}
