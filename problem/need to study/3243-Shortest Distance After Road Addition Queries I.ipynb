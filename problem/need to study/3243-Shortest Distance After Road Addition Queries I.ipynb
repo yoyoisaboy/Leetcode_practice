{
 "cells": [
  {
   "cell_type": "markdown",
   "metadata": {},
   "source": [
    "# 3243. Shortest Distance After Road Addition Queries I\n",
    "https://leetcode.com/problems/shortest-distance-after-road-addition-queries-i/description/?envType=daily-question&envId=2024-11-27"
   ]
  },
  {
   "cell_type": "code",
   "execution_count": 1,
   "metadata": {},
   "outputs": [
    {
     "data": {
      "text/plain": [
       "[8, 8]"
      ]
     },
     "execution_count": 1,
     "metadata": {},
     "output_type": "execute_result"
    }
   ],
   "source": [
    "n = 14\n",
    "queries = [[0,6],[4,12]]\n",
    "\n",
    "road = dict()\n",
    "ans = []\n",
    "for num in range(n):\n",
    "    if num == n-1:\n",
    "        road[num] = []\n",
    "    else:\n",
    "        road[num] = [num+1]\n",
    "\n",
    "for q in queries:\n",
    "    if len(road[q[0]]) >0:\n",
    "        if q[1] > road[q[0]][0]:\n",
    "            road[q[0]][0] = q[1]\n",
    "    \n",
    "    start = 0\n",
    "    step = 0\n",
    "    while start!=n-1:\n",
    "        next_step = road[start][0]\n",
    "        \n",
    "        step +=1\n",
    "        start = next_step\n",
    "    ans.append(step)\n",
    "ans"
   ]
  },
  {
   "cell_type": "code",
   "execution_count": 2,
   "metadata": {},
   "outputs": [
    {
     "data": {
      "text/plain": [
       "[8, 6]"
      ]
     },
     "execution_count": 2,
     "metadata": {},
     "output_type": "execute_result"
    }
   ],
   "source": [
    "import heapq\n",
    "from collections import defaultdict\n",
    "\n",
    "def shortestPathQueries(n, queries):\n",
    "    # 初始化鄰接表\n",
    "    graph = defaultdict(list)\n",
    "    for i in range(n - 1):\n",
    "        graph[i].append((i + 1, 1))  # 預設的道路距離為 1\n",
    "    \n",
    "    def dijkstra():\n",
    "        # 初始化距離陣列和優先隊列\n",
    "        dist = [float('inf')] * n\n",
    "        dist[0] = 0\n",
    "        pq = [(0, 0)]  # 優先隊列存放 (距離, 節點)\n",
    "        \n",
    "        while pq:\n",
    "            d, node = heapq.heappop(pq)\n",
    "            if d > dist[node]:\n",
    "                continue  # 如果已經有更短的距離，跳過\n",
    "            \n",
    "            # 更新相鄰節點的距離\n",
    "            for neighbor, weight in graph[node]:\n",
    "                new_dist = d + weight\n",
    "                if new_dist < dist[neighbor]:\n",
    "                    dist[neighbor] = new_dist\n",
    "                    heapq.heappush(pq, (new_dist, neighbor))\n",
    "        \n",
    "        return dist[n - 1]\n",
    "    \n",
    "    # 處理查詢\n",
    "    answer = []\n",
    "    for u, v in queries:\n",
    "        graph[u].append((v, 1))  # 新增邊\n",
    "        answer.append(dijkstra())  # 計算當前最短路徑\n",
    "    \n",
    "    return answer\n",
    "shortestPathQueries(n,queries)"
   ]
  },
  {
   "cell_type": "code",
   "execution_count": 5,
   "metadata": {},
   "outputs": [
    {
     "name": "stdout",
     "output_type": "stream",
     "text": [
      "deque([(0, 0)])\n",
      "deque([(1, 1), (6, 1)])\n",
      "deque([(6, 1), (2, 2)])\n",
      "deque([(2, 2), (7, 2)])\n",
      "deque([(7, 2), (3, 3)])\n",
      "deque([(3, 3), (8, 3)])\n",
      "deque([(8, 3), (4, 4)])\n",
      "deque([(4, 4), (9, 4)])\n",
      "deque([(9, 4), (5, 5)])\n",
      "deque([(5, 5), (10, 5)])\n",
      "deque([(10, 5)])\n",
      "deque([(11, 6)])\n",
      "deque([(12, 7)])\n",
      "deque([(13, 8)])\n",
      "deque([(0, 0)])\n",
      "deque([(1, 1), (6, 1)])\n",
      "deque([(6, 1), (2, 2)])\n",
      "deque([(2, 2), (7, 2)])\n",
      "deque([(7, 2), (3, 3)])\n",
      "deque([(3, 3), (8, 3)])\n",
      "deque([(8, 3), (4, 4)])\n",
      "deque([(4, 4), (9, 4)])\n",
      "deque([(9, 4), (5, 5), (12, 5)])\n",
      "deque([(5, 5), (12, 5), (10, 5)])\n",
      "deque([(12, 5), (10, 5)])\n",
      "deque([(10, 5), (13, 6)])\n",
      "deque([(13, 6), (11, 6)])\n"
     ]
    },
    {
     "data": {
      "text/plain": [
       "[8, 6]"
      ]
     },
     "execution_count": 5,
     "metadata": {},
     "output_type": "execute_result"
    }
   ],
   "source": [
    "from collections import defaultdict, deque\n",
    "\n",
    "# 初始化路徑字典和答案列表\n",
    "road = defaultdict(list)\n",
    "ans = []\n",
    "\n",
    "# 初始化基礎道路\n",
    "for num in range(n - 1):\n",
    "    road[num].append(num + 1)\n",
    "\n",
    "# 查詢處理\n",
    "for q in queries:\n",
    "    # 新增道路\n",
    "    road[q[0]].append(q[1])\n",
    "    \n",
    "    # 使用 BFS 計算最短路徑\n",
    "    queue = deque([(0, 0)])  # (當前城市, 已經走的步數)\n",
    "    visited = set()\n",
    "    found = False\n",
    "\n",
    "    while queue:\n",
    "        print(queue)\n",
    "        current, steps = queue.popleft()\n",
    "        if current == n - 1:\n",
    "            ans.append(steps)\n",
    "            found = True\n",
    "            break\n",
    "        if current in visited:\n",
    "            continue\n",
    "        visited.add(current)\n",
    "        \n",
    "        for neighbor in road[current]:\n",
    "            if neighbor not in visited:\n",
    "                queue.append((neighbor, steps + 1))\n",
    "        \n",
    "    if not found:\n",
    "        ans.append(-1)  # 如果 BFS 無法找到路徑\n",
    "ans"
   ]
  }
 ],
 "metadata": {
  "kernelspec": {
   "display_name": "Python 3",
   "language": "python",
   "name": "python3"
  },
  "language_info": {
   "codemirror_mode": {
    "name": "ipython",
    "version": 3
   },
   "file_extension": ".py",
   "mimetype": "text/x-python",
   "name": "python",
   "nbconvert_exporter": "python",
   "pygments_lexer": "ipython3",
   "version": "3.7.9"
  }
 },
 "nbformat": 4,
 "nbformat_minor": 2
}
