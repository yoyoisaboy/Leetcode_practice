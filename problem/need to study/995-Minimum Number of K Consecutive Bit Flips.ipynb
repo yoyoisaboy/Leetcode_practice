{
 "cells": [
  {
   "cell_type": "markdown",
   "metadata": {},
   "source": [
    "# 995. Minimum Number of K Consecutive Bit Flips\n",
    "https://leetcode.com/problems/minimum-number-of-k-consecutive-bit-flips/?envType=daily-question&envId=2024-06-24"
   ]
  },
  {
   "cell_type": "code",
   "execution_count": 1,
   "metadata": {},
   "outputs": [],
   "source": [
    "from typing import List\n",
    "\n",
    "nums = [0,1,0]\n",
    "k = 1\n",
    "#Output: 2"
   ]
  },
  {
   "cell_type": "code",
   "execution_count": null,
   "metadata": {},
   "outputs": [],
   "source": []
  },
  {
   "cell_type": "code",
   "execution_count": null,
   "metadata": {},
   "outputs": [],
   "source": []
  },
  {
   "cell_type": "markdown",
   "metadata": {},
   "source": [
    "為了解決這個問題，我們需要找到最小的 k 位翻轉次數，以便將二進制數組 nums 中的所有 0 變為 1。如果無法做到，則返回 -1。\n",
    "\n",
    "## 解決方法\n",
    "我們可以使用貪婪算法結合滑動窗口來追踪翻轉次數。以下是詳細解釋和實現：\n",
    "\n",
    "## 解釋\n",
    "1. 初始觀察：\n",
    "\n",
    "    * 每次翻轉操作會影響連續的 k 個元素，將子數組內的所有 0 翻轉為 1，所有 1 翻轉為 0。\n",
    "    * 為了實現目標，我們需要通過最少的翻轉次數，使數組中的每個位置都變為 1。\n",
    "2. 使用貪婪方法和滑動窗口：\n",
    "\n",
    "    * 我們遍歷數組，並決定是否需要在當前位置進行翻轉。\n",
    "    * 我們使用一個計數器來記錄已經應用的翻轉次數。\n",
    "    * 使用一個輔助數組 flip 標記每次翻轉操作的開始位置，並跟蹤每次翻轉的影響。\n",
    "3. 詳細步驟：\n",
    "\n",
    "    * 當我們遍歷每個元素時：\n",
    "        * 我們根據影響當前位置的翻轉次數，檢查當前位置是否需要翻轉。\n",
    "        * 如果需要且可能翻轉（即剩餘元素不少於 k 個），我們翻轉從當前位置開始的子數組。\n",
    "        * 如果翻轉不可能（即剩餘元素少於 k 個），返回 -1，表示無法使所有元素變為 1。\n",
    "    * 最後，返回所需的總翻轉次數。\n",
    "## 實現\n",
    "以下是 Python 的實現："
   ]
  },
  {
   "cell_type": "code",
   "execution_count": 15,
   "metadata": {},
   "outputs": [
    {
     "name": "stdout",
     "output_type": "stream",
     "text": [
      "flipped  0 1 1\n",
      "flip  [1, 0, 0]\n",
      "flipped  0 2 1\n",
      "flip  [1, 0, 0]\n",
      "2\n",
      "flipped  0 2 2\n",
      "flip  [0, 0, 0]\n",
      "-1\n",
      "flipped  0 3 3\n",
      "flip  [1, 0, 0, 0, 0, 0, 0, 0]\n",
      "flipped  0 4 3\n",
      "flip  [1, 0, 0, 0, 0, 0, 0, 0]\n",
      "flipped  1 5 3\n",
      "flip  [1, 0, 0, 0, 1, 0, 0, 0]\n",
      "flipped  0 6 3\n",
      "flip  [1, 0, 0, 0, 1, 1, 0, 0]\n",
      "flipped  1 7 3\n",
      "flip  [1, 0, 0, 0, 1, 1, 0, 0]\n",
      "3\n"
     ]
    }
   ],
   "source": [
    "def minKBitFlips(nums: List[int], k: int) -> int:\n",
    "    n = len(nums)\n",
    "    flip = [0] * n\n",
    "    flipped = 0\n",
    "    result = 0\n",
    "    for i in range(n):\n",
    "        if i >= k:\n",
    "            flipped ^= flip[i - k] # a ^ b = xor(a, b) -> 不同=1、相同=0\n",
    "            print(\"flipped \",flipped,i,k)\n",
    "            print(\"flip \",flip)\n",
    "        \n",
    "        if nums[i] == flipped:\n",
    "            if i + k > n:\n",
    "                return -1\n",
    "            flip[i] = 1\n",
    "            flipped ^= 1\n",
    "            result += 1\n",
    "    return result\n",
    "\n",
    "# 範例使用：\n",
    "nums1 = [0, 1, 0]\n",
    "k1 = 1\n",
    "print(minKBitFlips(nums1, k1))  # 輸出：2\n",
    "\n",
    "nums2 = [1, 1, 0]\n",
    "k2 = 2\n",
    "print(minKBitFlips(nums2, k2))  # 輸出：-1\n",
    "\n",
    "nums3 = [0, 0, 0, 1, 0, 1, 1, 0]\n",
    "k3 = 3\n",
    "print(minKBitFlips(nums3, k3))  # 輸出：3"
   ]
  },
  {
   "cell_type": "markdown",
   "metadata": {},
   "source": [
    "## 代碼解釋\n",
    "1. 初始化：\n",
    "\n",
    "    * flip 陣列用於跟蹤翻轉開始的位置。\n",
    "    * flipped 用於維護當前狀態（是否已翻轉）。\n",
    "    * result 用於計算翻轉次數。\n",
    "2. 遍歷每個元素：\n",
    "\n",
    "    * 如果 i >= k，通過 flip[i - k] 更新 flipped，以考慮之前翻轉的結束影響。\n",
    "    * 如果當前元素需要翻轉（nums[i] == flipped）：\n",
    "        * 檢查是否有足夠的元素進行翻轉（i + k > n），如果沒有，返回 -1。\n",
    "        * 標記在 flip[i] 開始翻轉。\n",
    "        * 通過 flipped 更新新的翻轉。\n",
    "        * 增加結果中的翻轉計數。\n",
    "3. 處理完所有元素後返回結果計數。\n",
    "\n",
    "這種方法確保我們以最小的翻轉次數達到目標，並通過單次遍歷數組和高效的滑動窗口技術保持 O(n) 的時間複雜度。"
   ]
  },
  {
   "cell_type": "code",
   "execution_count": 10,
   "metadata": {},
   "outputs": [
    {
     "data": {
      "text/plain": [
       "0"
      ]
     },
     "execution_count": 10,
     "metadata": {},
     "output_type": "execute_result"
    }
   ],
   "source": [
    "0 ^ 0"
   ]
  },
  {
   "cell_type": "code",
   "execution_count": null,
   "metadata": {},
   "outputs": [],
   "source": []
  }
 ],
 "metadata": {
  "kernelspec": {
   "display_name": "Python 3",
   "language": "python",
   "name": "python3"
  },
  "language_info": {
   "codemirror_mode": {
    "name": "ipython",
    "version": 3
   },
   "file_extension": ".py",
   "mimetype": "text/x-python",
   "name": "python",
   "nbconvert_exporter": "python",
   "pygments_lexer": "ipython3",
   "version": "3.7.9"
  }
 },
 "nbformat": 4,
 "nbformat_minor": 2
}
