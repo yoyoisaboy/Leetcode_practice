{
 "cells": [
  {
   "cell_type": "markdown",
   "metadata": {},
   "source": [
    "# 241. Different Ways to Add Parentheses\n",
    "https://leetcode.com/problems/different-ways-to-add-parentheses/description/?envType=daily-question&envId=2024-09-19"
   ]
  },
  {
   "cell_type": "code",
   "execution_count": 2,
   "metadata": {},
   "outputs": [],
   "source": [
    "from typing import List\n"
   ]
  },
  {
   "cell_type": "code",
   "execution_count": 2,
   "metadata": {},
   "outputs": [
    {
     "data": {
      "text/plain": [
       "[2, 0]"
      ]
     },
     "execution_count": 2,
     "metadata": {},
     "output_type": "execute_result"
    }
   ],
   "source": [
    "# office ans\n",
    "def diffWaysToCompute(expression: str) :\n",
    "    result = []\n",
    "    if len(expression) == 0:\n",
    "        return result\n",
    "    \n",
    "    if len(expression) == 1:\n",
    "        return [int(expression)]\n",
    "    \n",
    "    if len(expression) == 2 and expression[0].isdigit():\n",
    "        return [int(expression)]\n",
    "    \n",
    "    for i, current_char in enumerate(expression):\n",
    "\n",
    "        if current_char.isdigit():\n",
    "            continue\n",
    "\n",
    "        left_result = diffWaysToCompute(expression[:i])\n",
    "        right_result = diffWaysToCompute(expression[i+1:])\n",
    "\n",
    "        for left_value in left_result:\n",
    "            for right_value in right_result:\n",
    "                if current_char == \"+\":\n",
    "                    result.append(left_value+right_value)\n",
    "                elif current_char == \"-\":\n",
    "                    result.append(left_value-right_value)\n",
    "                elif current_char == \"*\":\n",
    "                    result.append(left_value*right_value)\n",
    "    return result                \n",
    "expression = \"2-1-1\"\n",
    "diffWaysToCompute(expression)"
   ]
  },
  {
   "cell_type": "code",
   "execution_count": 3,
   "metadata": {},
   "outputs": [
    {
     "name": "stdout",
     "output_type": "stream",
     "text": [
      "[-34, -10, -14, -10, 10]\n"
     ]
    }
   ],
   "source": [
    "def diffWaysToCompute(expression: str) -> List[int]:\n",
    "    # 用来缓存中间结果\n",
    "    memo = {}\n",
    "\n",
    "    # 递归函数\n",
    "    def compute(expression):\n",
    "        # 如果结果已经计算过，直接返回\n",
    "        if expression in memo:\n",
    "            return memo[expression]\n",
    "\n",
    "        res = []\n",
    "        # 遍历表达式中的每个字符\n",
    "        for i in range(len(expression)):\n",
    "            if expression[i] in \"+-*\":  # 遇到操作符\n",
    "                # 递归计算左边部分和右边部分的结果\n",
    "                left = compute(expression[:i])\n",
    "                right = compute(expression[i+1:])\n",
    "                # 根据操作符组合左右两边的结果\n",
    "                for l in left:\n",
    "                    for r in right:\n",
    "                        if expression[i] == '+':\n",
    "                            res.append(l + r)\n",
    "                        elif expression[i] == '-':\n",
    "                            res.append(l - r)\n",
    "                        elif expression[i] == '*':\n",
    "                            res.append(l * r)\n",
    "        # 如果表达式中没有操作符，则它只是一个数字\n",
    "        if not res:\n",
    "            res.append(int(expression))\n",
    "\n",
    "        # 记忆化存储结果\n",
    "        memo[expression] = res\n",
    "        return res\n",
    "\n",
    "    # 调用递归函数\n",
    "    return compute(expression)\n",
    "\n",
    "\n",
    "expression2 = \"2*3-4*5\"\n",
    "print(diffWaysToCompute(expression2)) "
   ]
  }
 ],
 "metadata": {
  "kernelspec": {
   "display_name": "Python 3",
   "language": "python",
   "name": "python3"
  },
  "language_info": {
   "codemirror_mode": {
    "name": "ipython",
    "version": 3
   },
   "file_extension": ".py",
   "mimetype": "text/x-python",
   "name": "python",
   "nbconvert_exporter": "python",
   "pygments_lexer": "ipython3",
   "version": "3.7.9"
  }
 },
 "nbformat": 4,
 "nbformat_minor": 2
}
