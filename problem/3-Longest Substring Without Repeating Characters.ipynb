{
 "cells": [
  {
   "cell_type": "markdown",
   "metadata": {},
   "source": [
    "# 3. Longest Substring Without Repeating Characters\n",
    "https://leetcode.com/problems/longest-substring-without-repeating-characters/description/"
   ]
  },
  {
   "cell_type": "code",
   "execution_count": 1,
   "metadata": {},
   "outputs": [],
   "source": [
    "s = \"abcabcbb\""
   ]
  },
  {
   "cell_type": "code",
   "execution_count": 2,
   "metadata": {},
   "outputs": [],
   "source": [
    "def lengthOfLongestSubstring(s: str) -> int:\n",
    "    char_set = set()        # no same element\n",
    "    start = max_ans = 0     # record max value\n",
    "\n",
    "    for loc in range(len(s)):\n",
    "\n",
    "        while s[loc] in char_set:       # check same element\n",
    "            char_set.remove(s[start])     # remove topleft element\n",
    "            start += 1                  # rshit loc, check again\n",
    "    \n",
    "        char_set.add(s[loc])\n",
    "        max_ans = max(max_ans,loc-start+1)\n",
    "    return max_ans"
   ]
  },
  {
   "cell_type": "code",
   "execution_count": 3,
   "metadata": {},
   "outputs": [
    {
     "data": {
      "text/plain": [
       "3"
      ]
     },
     "execution_count": 3,
     "metadata": {},
     "output_type": "execute_result"
    }
   ],
   "source": [
    "lengthOfLongestSubstring(s)"
   ]
  },
  {
   "cell_type": "code",
   "execution_count": 4,
   "metadata": {},
   "outputs": [],
   "source": [
    "#not mycode\n",
    "def lengthOfLongestSubstring(s: str) -> int:\n",
    "    char_set = set()\n",
    "    left_p = 0\n",
    "    longest = 0\n",
    "\n",
    "    for right_p in range(len(s)):\n",
    "        while s[right_p] in char_set: #重複去除，用sliding方式\n",
    "            char_set.remove(s[left_p])\n",
    "            left_p += 1\n",
    "        char_set.add(s[right_p]) #非重複放入\n",
    "        longest = max(longest, right_p - left_p + 1) ##紀錄最大長度\n",
    "\n",
    "    return longest"
   ]
  },
  {
   "cell_type": "code",
   "execution_count": 5,
   "metadata": {},
   "outputs": [
    {
     "data": {
      "text/plain": [
       "3"
      ]
     },
     "execution_count": 5,
     "metadata": {},
     "output_type": "execute_result"
    }
   ],
   "source": [
    "lengthOfLongestSubstring(s)"
   ]
  },
  {
   "cell_type": "code",
   "execution_count": null,
   "metadata": {},
   "outputs": [],
   "source": []
  }
 ],
 "metadata": {
  "kernelspec": {
   "display_name": "Python 3",
   "language": "python",
   "name": "python3"
  },
  "language_info": {
   "codemirror_mode": {
    "name": "ipython",
    "version": 3
   },
   "file_extension": ".py",
   "mimetype": "text/x-python",
   "name": "python",
   "nbconvert_exporter": "python",
   "pygments_lexer": "ipython3",
   "version": "3.7.9"
  }
 },
 "nbformat": 4,
 "nbformat_minor": 2
}
