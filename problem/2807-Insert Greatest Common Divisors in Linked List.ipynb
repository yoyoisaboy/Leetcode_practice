{
 "cells": [
  {
   "cell_type": "markdown",
   "metadata": {},
   "source": [
    "# 2807. Insert Greatest Common Divisors in Linked List\n",
    "https://leetcode.com/problems/insert-greatest-common-divisors-in-linked-list/description/?envType=daily-question&envId=2024-09-10"
   ]
  },
  {
   "cell_type": "code",
   "execution_count": 2,
   "metadata": {},
   "outputs": [
    {
     "name": "stdout",
     "output_type": "stream",
     "text": [
      "input link =  18-->6-->10-->3\n",
      "18-->6-->6-->2-->10-->1-->3\n"
     ]
    }
   ],
   "source": [
    "from typing import Optional\n",
    "\n",
    "import math\n",
    "class ListNode:\n",
    "    def __init__(self, val=0, next=None):\n",
    "        self.val = val\n",
    "        self.next = next\n",
    "    def __repr__(self): #print ans = func result\n",
    "        return f\"{self.val}-->{self.next}\" if self.next else f\"{self.val}\"\n",
    "    \n",
    "\n",
    "def insertGreatestCommonDivisors( head: Optional[ListNode]) -> Optional[ListNode]:\n",
    "    current = head\n",
    "\n",
    "    while current and current.next:\n",
    "\n",
    "        gcd_value = math.gcd(current.val,current.next.val)\n",
    "\n",
    "        new_node = ListNode(gcd_value)\n",
    "\n",
    "        new_node.next = current.next\n",
    "        current.next = new_node\n",
    "\n",
    "        current = new_node.next\n",
    "\n",
    "    return head\n",
    "\n",
    "head = [18, 6, 10, 3]\n",
    "link = ListNode(head[0])\n",
    "pointer = link\n",
    "for ele in head[1:]: #塞值\n",
    "    pointer.next = ListNode(ele)\n",
    "    pointer = pointer.next\n",
    "print(\"input link = \",link)\n",
    "print(insertGreatestCommonDivisors(link))"
   ]
  }
 ],
 "metadata": {
  "kernelspec": {
   "display_name": "Python 3",
   "language": "python",
   "name": "python3"
  },
  "language_info": {
   "codemirror_mode": {
    "name": "ipython",
    "version": 3
   },
   "file_extension": ".py",
   "mimetype": "text/x-python",
   "name": "python",
   "nbconvert_exporter": "python",
   "pygments_lexer": "ipython3",
   "version": "3.7.9"
  }
 },
 "nbformat": 4,
 "nbformat_minor": 2
}
