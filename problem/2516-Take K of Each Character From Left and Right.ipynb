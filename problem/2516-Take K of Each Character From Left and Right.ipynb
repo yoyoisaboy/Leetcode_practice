{
 "cells": [
  {
   "cell_type": "markdown",
   "metadata": {},
   "source": [
    "# 2516. Take K of Each Character From Left and Right\n",
    "https://leetcode.com/problems/take-k-of-each-character-from-left-and-right/description/?envType=daily-question&envId=2024-11-20"
   ]
  },
  {
   "cell_type": "code",
   "execution_count": null,
   "metadata": {},
   "outputs": [
    {
     "name": "stdout",
     "output_type": "stream",
     "text": [
      "[6, 1, 2] 0 2\n",
      "[7, 1, 2] 1 2\n",
      "[8, 1, 2] 2 2\n",
      "[4, 2, 1] 3 7\n",
      "[5, 2, 1] 4 7\n",
      "[6, 2, 1] 5 7\n",
      "[7, 2, 1] 6 7\n",
      "[8, 2, 1] 7 7\n",
      "[6, 1, 2] 8 10\n",
      "[7, 1, 2] 9 10\n",
      "[8, 1, 2] 10 10\n",
      "[8, 2, 1] 11 11\n"
     ]
    },
    {
     "data": {
      "text/plain": [
       "8"
      ]
     },
     "execution_count": 5,
     "metadata": {},
     "output_type": "execute_result"
    }
   ],
   "source": [
    "s = \"aabaaaacaabc\"\n",
    "k = 2\n",
    "\n",
    "\n",
    "def takeCharacters(s: str, k: int) -> int:\n",
    "    \n",
    "    count_list = [0,0,0]\n",
    "    for char in s:\n",
    "        count_list[ord(char)-ord('a')]+=1\n",
    "\n",
    "    if min(count_list) < k:\n",
    "        return -1\n",
    "    #sliding window\n",
    "    res = float(\"inf\")\n",
    "    left = 0\n",
    "    for loc in range(len(s)):\n",
    "        count_list[ord(s[loc])-ord(\"a\")] -= 1\n",
    "\n",
    "        while min(count_list) < k:\n",
    "            #print(count_list,left,loc)\n",
    "            count_list[ord(s[left])-ord('a')]+=1\n",
    "            left+=1\n",
    "        res = min(res,len(s)-(loc-left+1))\n",
    "    return res\n",
    "\n",
    "takeCharacters(s,k)"
   ]
  },
  {
   "cell_type": "code",
   "execution_count": 13,
   "metadata": {},
   "outputs": [
    {
     "data": {
      "text/plain": [
       "8"
      ]
     },
     "execution_count": 13,
     "metadata": {},
     "output_type": "execute_result"
    }
   ],
   "source": [
    "def takeCharacters(s: str, k: int) -> int:\n",
    "    freq = [0] * 3\n",
    "    size = len(s)\n",
    "    \n",
    "    for char in s:\n",
    "        freq[ord(char) - ord('a')] += 1\n",
    "    \n",
    "    left = 0\n",
    "    right = 0\n",
    "    \n",
    "    if freq[0] < k or freq[1] < k or freq[2] < k:\n",
    "        return -1\n",
    "    \n",
    "    for right in range(size):\n",
    "        freq[ord(s[right]) - ord('a')] -= 1\n",
    "        \n",
    "        if freq[0] < k or freq[1] < k or freq[2] < k:\n",
    "            freq[ord(s[left]) - ord('a')] += 1\n",
    "            left += 1\n",
    "    \n",
    "    return size - (right - left + 1)\n",
    "takeCharacters(s,k)"
   ]
  },
  {
   "cell_type": "code",
   "execution_count": null,
   "metadata": {},
   "outputs": [],
   "source": []
  }
 ],
 "metadata": {
  "kernelspec": {
   "display_name": "Python 3",
   "language": "python",
   "name": "python3"
  },
  "language_info": {
   "codemirror_mode": {
    "name": "ipython",
    "version": 3
   },
   "file_extension": ".py",
   "mimetype": "text/x-python",
   "name": "python",
   "nbconvert_exporter": "python",
   "pygments_lexer": "ipython3",
   "version": "3.7.9"
  }
 },
 "nbformat": 4,
 "nbformat_minor": 2
}
