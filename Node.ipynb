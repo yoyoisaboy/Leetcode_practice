{
 "cells": [
  {
   "cell_type": "code",
   "execution_count": null,
   "metadata": {},
   "outputs": [],
   "source": [
    "#ListNode\n",
    "# Definition for singly-linked list.\n",
    "class ListNode:\n",
    "    def __init__(self, val=0, next=None):\n",
    "        self.val = val\n",
    "        self.next = next\n",
    "    def __repr__(self): #print ans = func result\n",
    "        return f\"{self.val}-->{self.next}\" if self.next else f\"{self.val}\"\n",
    "    "
   ]
  },
  {
   "cell_type": "code",
   "execution_count": null,
   "metadata": {},
   "outputs": [],
   "source": [
    "#TreeNode\n",
    "# Hashmap\n",
    "class TreeNode:\n",
    "    def __init__(self, val=0, left=None, right=None):\n",
    "        self.val = val\n",
    "        self.left = left\n",
    "        self.right = right\n",
    "def build_tree(descriptions):\n",
    "    nodes = {}\n",
    "    children = set()\n",
    "\n",
    "    # 创建所有节点并记录所有子节点\n",
    "    for parent, child, isLeft in descriptions:\n",
    "        if parent not in nodes:\n",
    "            nodes[parent] = TreeNode(parent)\n",
    "        if child not in nodes:\n",
    "            nodes[child] = TreeNode(child)\n",
    "        if isLeft:\n",
    "            nodes[parent].left = nodes[child]\n",
    "        else:\n",
    "            nodes[parent].right = nodes[child]\n",
    "        children.add(child)\n",
    "\n",
    "    # 找到根节点（根节点不在 children 集合中）\n",
    "    root = None\n",
    "    for node in nodes:\n",
    "        if node not in children:\n",
    "            root = nodes[node]\n",
    "            break\n",
    "    return root\n",
    "\n",
    "def level_order_traversal(root):\n",
    "    if not root:\n",
    "        return []\n",
    "    queue = [root]\n",
    "    result = []\n",
    "    while queue:\n",
    "        node = queue.pop(0)\n",
    "        if node:\n",
    "            result.append(node.val)\n",
    "            queue.append(node.left)\n",
    "            queue.append(node.right)\n",
    "        else:\n",
    "            result.append(None)\n",
    "    # To remove the trailing None values for cleaner output\n",
    "    while result and result[-1] is None:\n",
    "        result.pop()\n",
    "    return result"
   ]
  }
 ],
 "metadata": {
  "language_info": {
   "name": "python"
  }
 },
 "nbformat": 4,
 "nbformat_minor": 2
}
