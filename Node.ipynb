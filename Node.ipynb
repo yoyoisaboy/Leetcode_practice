{
 "cells": [
  {
   "cell_type": "code",
   "execution_count": 1,
   "metadata": {},
   "outputs": [],
   "source": [
    "#ListNode\n",
    "# Definition for singly-linked list.\n",
    "class ListNode:\n",
    "    def __init__(self, val=0, next=None):\n",
    "        self.val = val\n",
    "        self.next = next\n",
    "    def __repr__(self): #print ans = func result\n",
    "        return f\"{self.val}-->{self.next}\" if self.next else f\"{self.val}\"\n",
    "    \n"
   ]
  },
  {
   "cell_type": "code",
   "execution_count": 3,
   "metadata": {},
   "outputs": [
    {
     "ename": "NameError",
     "evalue": "name 'Optional' is not defined",
     "output_type": "error",
     "traceback": [
      "\u001b[1;31m---------------------------------------------------------------------------\u001b[0m",
      "\u001b[1;31mNameError\u001b[0m                                 Traceback (most recent call last)",
      "\u001b[1;32m~\\AppData\\Local\\Temp/ipykernel_2392/220423545.py\u001b[0m in \u001b[0;36m<module>\u001b[1;34m\u001b[0m\n\u001b[0;32m      2\u001b[0m \u001b[1;32mimport\u001b[0m \u001b[0mmath\u001b[0m\u001b[1;33m\u001b[0m\u001b[1;33m\u001b[0m\u001b[0m\n\u001b[0;32m      3\u001b[0m \u001b[0mhead\u001b[0m \u001b[1;33m=\u001b[0m \u001b[1;33m[\u001b[0m\u001b[1;36m18\u001b[0m\u001b[1;33m,\u001b[0m\u001b[1;36m6\u001b[0m\u001b[1;33m,\u001b[0m\u001b[1;36m10\u001b[0m\u001b[1;33m,\u001b[0m\u001b[1;36m3\u001b[0m\u001b[1;33m]\u001b[0m\u001b[1;33m\u001b[0m\u001b[1;33m\u001b[0m\u001b[0m\n\u001b[1;32m----> 4\u001b[1;33m \u001b[1;32mdef\u001b[0m \u001b[0minsertGreatestCommonDivisors\u001b[0m\u001b[1;33m(\u001b[0m\u001b[0mhead\u001b[0m\u001b[1;33m:\u001b[0m \u001b[0mOptional\u001b[0m\u001b[1;33m[\u001b[0m\u001b[0mListNode\u001b[0m\u001b[1;33m]\u001b[0m\u001b[1;33m)\u001b[0m \u001b[1;33m->\u001b[0m \u001b[0mOptional\u001b[0m\u001b[1;33m[\u001b[0m\u001b[0mListNode\u001b[0m\u001b[1;33m]\u001b[0m\u001b[1;33m:\u001b[0m\u001b[1;33m\u001b[0m\u001b[1;33m\u001b[0m\u001b[0m\n\u001b[0m\u001b[0;32m      5\u001b[0m     \u001b[0mcurrent\u001b[0m \u001b[1;33m=\u001b[0m \u001b[0mhead\u001b[0m\u001b[1;33m\u001b[0m\u001b[1;33m\u001b[0m\u001b[0m\n\u001b[0;32m      6\u001b[0m \u001b[1;33m\u001b[0m\u001b[0m\n",
      "\u001b[1;31mNameError\u001b[0m: name 'Optional' is not defined"
     ]
    }
   ],
   "source": [
    "#ListNode Insert node #2807\n",
    "import math\n",
    "head = [18,6,10,3]\n",
    "def insertGreatestCommonDivisors(head: Optional[ListNode]) -> Optional[ListNode]:\n",
    "    current = head\n",
    "\n",
    "    while current and current.next:\n",
    "\n",
    "        gcd_value = math.gcd(current.val,current.next.val)\n",
    "\n",
    "        new_node = ListNode(gcd_value)\n",
    "\n",
    "        new_node.next = current.next\n",
    "        current.next = new_node\n",
    "\n",
    "        current = new_node.next\n",
    "\n",
    "    return head"
   ]
  },
  {
   "cell_type": "code",
   "execution_count": null,
   "metadata": {},
   "outputs": [],
   "source": [
    "#TreeNode\n",
    "# Hashmap\n",
    "class TreeNode:\n",
    "    def __init__(self, val=0, left=None, right=None):\n",
    "        self.val = val\n",
    "        self.left = left\n",
    "        self.right = right\n",
    "\n"
   ]
  },
  {
   "cell_type": "code",
   "execution_count": null,
   "metadata": {},
   "outputs": [],
   "source": [
    "def build_tree(descriptions):\n",
    "    nodes = {}\n",
    "    children = set()\n",
    "    # 创建所有节点并记录所有子节点\n",
    "    for parent, child, isLeft in descriptions:\n",
    "        if parent not in nodes:\n",
    "            nodes[parent] = TreeNode(parent)\n",
    "        if child not in nodes:\n",
    "            nodes[child] = TreeNode(child)\n",
    "        if isLeft:\n",
    "            nodes[parent].left = nodes[child]\n",
    "        else:\n",
    "            nodes[parent].right = nodes[child]\n",
    "        children.add(child)\n",
    "\n",
    "    # 找到根节点（根节点不在 children 集合中）\n",
    "    root = None\n",
    "    for node in nodes:\n",
    "        if node not in children:\n",
    "            root = nodes[node]\n",
    "            break\n",
    "    return root"
   ]
  },
  {
   "cell_type": "code",
   "execution_count": null,
   "metadata": {},
   "outputs": [],
   "source": [
    "#print tree\n",
    "def level_order_traversal(root):\n",
    "    if not root:\n",
    "        return []\n",
    "    queue = [root]\n",
    "    result = []\n",
    "    while queue:\n",
    "        node = queue.pop(0)\n",
    "        if node:\n",
    "            result.append(node.val)\n",
    "            queue.append(node.left)\n",
    "            queue.append(node.right)\n",
    "        else:\n",
    "            result.append(None)\n",
    "    # To remove the trailing None values for cleaner output\n",
    "    while result and result[-1] is None:\n",
    "        result.pop()\n",
    "    return result"
   ]
  },
  {
   "cell_type": "code",
   "execution_count": null,
   "metadata": {},
   "outputs": [],
   "source": [
    "# begin root to node, record path\n",
    "def run_Node(node,number,direction):\n",
    "        if node is None:\n",
    "            return False\n",
    "        if node.val == number:\n",
    "            return True\n",
    "        direction.append(\"L\")\n",
    "        if run_Node(node.left,number,direction ):\n",
    "            return True\n",
    "        direction.pop() #把L弄掉\n",
    "        direction.append(\"R\")\n",
    "        if run_Node(node.right,number,direction):\n",
    "            return True\n",
    "        direction.pop() #把R弄掉\n",
    "        return False"
   ]
  },
  {
   "cell_type": "code",
   "execution_count": 5,
   "metadata": {},
   "outputs": [
    {
     "name": "stdout",
     "output_type": "stream",
     "text": [
      "59.0\n"
     ]
    }
   ],
   "source": [
    "# Dijkstra 找最小路徑\n",
    "import heapq\n",
    "from collections import defaultdict\n",
    "from typing import List\n",
    "\n",
    "def minProbability(n: int, edges: List[List[int]], succProb: List[float], start_node: int, end_node: int) -> float:\n",
    "    graph = {i: [] for i in range(n)}\n",
    "    for i, (u, v) in enumerate(edges):\n",
    "        prob = succProb[i]\n",
    "        graph[u].append((v, prob))\n",
    "        graph[v].append((u, prob))\n",
    "    \n",
    "    # Min-heap priority queue: store (probability, node)\n",
    "    min_heap = [(1.0, start_node)]\n",
    "    min_prob = {i: float('inf') for i in range(n)}\n",
    "    min_prob[start_node] = 1.0\n",
    "    \n",
    "    while min_heap:\n",
    "        curr_prob, node = heapq.heappop(min_heap)\n",
    "        \n",
    "        if node == end_node:\n",
    "            return curr_prob\n",
    "        \n",
    "        for neighbor, prob in graph[node]:\n",
    "            #new_prob = curr_prob * prob\n",
    "            new_prob = curr_prob + prob\n",
    "            if new_prob < min_prob[neighbor]:\n",
    "                min_prob[neighbor] = new_prob\n",
    "                heapq.heappush(min_heap, (new_prob, neighbor))\n",
    "    \n",
    "    return -1\n",
    "\n",
    "# 示例用法\n",
    "n = 15\n",
    "edges = [[0, 1], [0, 2], [1, 3], [2, 4], [3, 5], [4, 5], [5, 6], [6, 7], [7, 8], [8, 9], [9, 10], [10, 11], [11, 12], [12, 13], [13, 14]]\n",
    "succProb = [4, 5, 6, 7, 3, 9, 2, 1, 8, 9, 7, 6, 5, 4, 3]\n",
    "start_node = 0\n",
    "end_node = 14\n",
    "print(minProbability(n, edges, succProb, start_node, end_node))\n"
   ]
  },
  {
   "cell_type": "code",
   "execution_count": 3,
   "metadata": {},
   "outputs": [
    {
     "name": "stdout",
     "output_type": "stream",
     "text": [
      "0.00011430719999999999\n"
     ]
    }
   ],
   "source": [
    "# Dijkstra 找最大路徑\n",
    "import heapq\n",
    "from typing import List\n",
    "\n",
    "def maxProbability(n: int, edges: List[List[int]], succProb: List[float], start_node: int, end_node: int) -> float:\n",
    "    graph = {i: [] for i in range(n)}\n",
    "    for i, (u, v) in enumerate(edges):\n",
    "        prob = succProb[i]\n",
    "        graph[u].append((v, prob))\n",
    "        graph[v].append((u, prob))\n",
    "    \n",
    "    # Max-heap priority queue: store (-probability, node)\n",
    "    max_heap = [(-1.0, start_node)]\n",
    "    max_prob = {i: 0 for i in range(n)}\n",
    "    max_prob[start_node] = 1\n",
    "    \n",
    "    while max_heap:\n",
    "        curr_prob, node = heapq.heappop(max_heap)\n",
    "        curr_prob = -curr_prob\n",
    "        \n",
    "        if node == end_node:\n",
    "            return curr_prob\n",
    "        \n",
    "        for neighbor, prob in graph[node]:\n",
    "            new_prob = curr_prob * prob\n",
    "            if new_prob > max_prob[neighbor]:\n",
    "                max_prob[neighbor] = new_prob\n",
    "                heapq.heappush(max_heap, (-new_prob, neighbor))\n",
    "    \n",
    "    return 0.0\n",
    "\n",
    "# 示例用法\n",
    "n = 15\n",
    "edges = [[0, 1], [0, 2], [1, 3], [2, 4], [3, 5], [4, 5], [5, 6], [6, 7], [7, 8], [8, 9], [9, 10], [10, 11], [11, 12], [12, 13], [13, 14]]\n",
    "succProb = [0.4, 0.5, 0.6, 0.7, 0.3, 0.9, 0.2, 0.1, 0.8, 0.9, 0.7, 0.6, 0.5, 0.4, 0.3]\n",
    "start_node = 0\n",
    "end_node = 14\n",
    "print(maxProbability(n, edges, succProb, start_node, end_node))\n",
    "\n"
   ]
  },
  {
   "cell_type": "code",
   "execution_count": 7,
   "metadata": {},
   "outputs": [
    {
     "name": "stdout",
     "output_type": "stream",
     "text": [
      "defaultdict(<class 'list'>, {6: [0, 4, 5], 1: [0], 4: [0], 2: [1], 3: [1], 5: [2, 3]})\n",
      "Shortest Path Count: 4\n",
      "All Shortest Paths: [[0, 1, 3, 5, 6], [0, 1, 2, 5, 6], [0, 4, 6], [0, 6]]\n"
     ]
    }
   ],
   "source": [
    "import heapq\n",
    "from collections import defaultdict, deque\n",
    "\n",
    "def find_shortest_paths(n, roads):\n",
    "    # 构建邻接表\n",
    "    graph = defaultdict(list)\n",
    "    for u, v, w in roads:\n",
    "        graph[u].append((v, w))\n",
    "        graph[v].append((u, w))\n",
    "    \n",
    "    start, end = 0, 6\n",
    "    \n",
    "    # 初始化\n",
    "    distances = [float('inf')] * n\n",
    "    distances[start] = 0\n",
    "    path_count = [0] * n\n",
    "    path_count[start] = 1\n",
    "    predecessors = defaultdict(list)  # 记录每个节点的前驱节点\n",
    "    min_heap = [(0, start)]  # (distance, node)\n",
    "    \n",
    "    while min_heap:\n",
    "        current_distance, u = heapq.heappop(min_heap)\n",
    "        if current_distance > distances[u]:\n",
    "            continue\n",
    "        \n",
    "        for v, weight in graph[u]:\n",
    "            distance = current_distance + weight\n",
    "            if distance < distances[v]:\n",
    "                distances[v] = distance\n",
    "                path_count[v] = path_count[u]\n",
    "                predecessors[v] = [u]  # 重置前驱节点\n",
    "                heapq.heappush(min_heap, (distance, v))\n",
    "            elif distance == distances[v]:\n",
    "                path_count[v] += path_count[u]\n",
    "                predecessors[v].append(u)  # 添加前驱节点\n",
    "    \n",
    "    # 记录所有最短路径经过的节点\n",
    "    def get_all_paths(end):\n",
    "        all_paths = []\n",
    "        stack = [(end, [end])]\n",
    "        while stack:\n",
    "            node, path = stack.pop()\n",
    "            if node == start:\n",
    "                all_paths.append(path[::-1])\n",
    "            else:\n",
    "                for pred in predecessors[node]:\n",
    "                    stack.append((pred, path + [pred]))\n",
    "        return all_paths\n",
    "    print(predecessors)\n",
    "    return path_count[end], get_all_paths(end)\n",
    "\n",
    "# 示例\n",
    "n = 7\n",
    "roads = [[0, 6, 7], [0, 1, 2], [1, 2, 3], [1, 3, 3], [6, 3, 3], [3, 5, 1], [6, 5, 1], [2, 5, 1], [0, 4, 5], [4, 6, 2]]\n",
    "shortest_path_count, all_paths = find_shortest_paths(n, roads)\n",
    "print(\"Shortest Path Count:\", shortest_path_count)\n",
    "print(\"All Shortest Paths:\", all_paths)\n"
   ]
  },
  {
   "cell_type": "code",
   "execution_count": 8,
   "metadata": {},
   "outputs": [
    {
     "name": "stdout",
     "output_type": "stream",
     "text": [
      "Distances from node 0: [0, 2, 5, 5, 5, 6, 7]\n"
     ]
    }
   ],
   "source": [
    "#  dijkstra_tree\n",
    "import heapq\n",
    "from collections import defaultdict\n",
    "\n",
    "def dijkstra_tree(n, edges, start_node):\n",
    "    # 构建邻接表\n",
    "    graph = defaultdict(list)\n",
    "    for u, v, w in edges:\n",
    "        graph[u].append((v, w))\n",
    "        graph[v].append((u, w))  # 因为是无向树\n",
    "\n",
    "    # 初始化\n",
    "    distances = [float('inf')] * n\n",
    "    distances[start_node] = 0\n",
    "    min_heap = [(0, start_node)]  # (distance, node)\n",
    "    \n",
    "    while min_heap:\n",
    "        current_distance, u = heapq.heappop(min_heap)\n",
    "        if current_distance > distances[u]:\n",
    "            continue\n",
    "        \n",
    "        for v, weight in graph[u]:\n",
    "            distance = current_distance + weight\n",
    "            if distance < distances[v]:\n",
    "                distances[v] = distance\n",
    "                heapq.heappush(min_heap, (distance, v))\n",
    "    \n",
    "    return distances\n",
    "\n",
    "# 示例\n",
    "n = 7\n",
    "edges = [[0, 6, 7], [0, 1, 2], [1, 2, 3], [1, 3, 3], [6, 3, 3], [3, 5, 1], [6, 5, 1], [2, 5, 1], [0, 4, 5], [4, 6, 2]]\n",
    "start_node = 0\n",
    "distances = dijkstra_tree(n, edges, start_node)\n",
    "print(\"Distances from node 0:\", distances)\n"
   ]
  },
  {
   "cell_type": "code",
   "execution_count": null,
   "metadata": {},
   "outputs": [],
   "source": [
    "#DFS\n",
    "\n",
    "def dfs(node, visited):\n",
    "    # 基本检查\n",
    "    if node is None or node in visited:\n",
    "        return\n",
    "\n",
    "    # 标记当前节点为已访问\n",
    "    visited.add(node)\n",
    "\n",
    "    # 处理当前节点（这里可以是任何操作，比如计数、收集结果等）\n",
    "    print(node)\n",
    "\n",
    "    # 递归访问相邻节点\n",
    "    for neighbor in get_neighbors(node):\n",
    "        dfs(neighbor, visited)\n",
    "\n",
    "# 调用 DFS，从某个起始节点开始\n",
    "visited = set()\n",
    "dfs(start_node, visited)\n"
   ]
  },
  {
   "cell_type": "code",
   "execution_count": null,
   "metadata": {},
   "outputs": [],
   "source": [
    "# BFS\n",
    "from collections import deque\n",
    "\n",
    "def bfs(start_node):\n",
    "    # 初始化队列和已访问集合\n",
    "    queue = deque([start_node])\n",
    "    visited = set([start_node])\n",
    "\n",
    "    while queue:\n",
    "        # 弹出队列的第一个元素\n",
    "        node = queue.popleft()\n",
    "\n",
    "        # 处理当前节点（这里可以是任何操作，比如计数、收集结果等）\n",
    "        print(node)\n",
    "\n",
    "        # 访问相邻节点\n",
    "        for neighbor in get_neighbors(node):\n",
    "            if neighbor not in visited:\n",
    "                visited.add(neighbor)\n",
    "                queue.append(neighbor)\n",
    "\n",
    "# 调用 BFS，从某个起始节点开始\n",
    "bfs(start_node)\n"
   ]
  },
  {
   "cell_type": "code",
   "execution_count": 102,
   "metadata": {},
   "outputs": [
    {
     "data": {
      "text/plain": [
       "[]"
      ]
     },
     "execution_count": 102,
     "metadata": {},
     "output_type": "execute_result"
    }
   ],
   "source": []
  },
  {
   "cell_type": "markdown",
   "metadata": {},
   "source": []
  },
  {
   "cell_type": "code",
   "execution_count": null,
   "metadata": {},
   "outputs": [],
   "source": [
    "# GPT\n",
    "\n",
    "def missingRolls(rolls, mean, n):\n",
    "    # 计算总和\n",
    "    m = len(rolls)\n",
    "    total_sum = (n + m) * mean\n",
    "    current_sum = sum(rolls)\n",
    "    \n",
    "    # 计算缺失的观测值的总和\n",
    "    missing_sum = total_sum - current_sum\n",
    "    \n",
    "    # 检查是否存在有效解\n",
    "    if missing_sum < n or missing_sum > 6 * n:\n",
    "        return []\n",
    "    \n",
    "    # 贪心地分配骰子值\n",
    "    res = [1] * n  # 初始化所有骰子值为1\n",
    "    missing_sum -= n  # 我们已经分配了n个1，剩下的总和需要填充\n",
    "    \n",
    "    for i in range(n):\n",
    "        # 将每个骰子尽可能往6靠拢\n",
    "        add_value = min(5, missing_sum)\n",
    "        res[i] += add_value\n",
    "        missing_sum -= add_value\n",
    "        \n",
    "        if missing_sum == 0:\n",
    "            break\n",
    "    \n",
    "    return res\n",
    "\n",
    "# 示例用法\n",
    "print(missingRolls([3, 2, 4, 3], 4, 2))  # 输出: [6, 6]\n",
    "print(missingRolls([1, 5, 6], 3, 4))     # 输出: [2, 3, 2, 2]\n",
    "print(missingRolls([1, 2, 3, 4], 6, 4))  # 输出: []\n"
   ]
  }
 ],
 "metadata": {
  "kernelspec": {
   "display_name": "Python 3",
   "language": "python",
   "name": "python3"
  },
  "language_info": {
   "codemirror_mode": {
    "name": "ipython",
    "version": 3
   },
   "file_extension": ".py",
   "mimetype": "text/x-python",
   "name": "python",
   "nbconvert_exporter": "python",
   "pygments_lexer": "ipython3",
   "version": "3.7.9"
  }
 },
 "nbformat": 4,
 "nbformat_minor": 2
}
